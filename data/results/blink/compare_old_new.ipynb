{
 "cells": [
  {
   "cell_type": "code",
   "execution_count": 77,
   "id": "b951f67b-2f31-4612-accd-ae722e9bf707",
   "metadata": {},
   "outputs": [],
   "source": [
    "import pandas as pd\n",
    "import numpy as np"
   ]
  },
  {
   "cell_type": "code",
   "execution_count": 86,
   "id": "76c85e91-70ef-474b-b96f-686e73b60e67",
   "metadata": {},
   "outputs": [],
   "source": [
    "old = pd.read_csv('blink_results_old.csv')\n",
    "new = pd.read_csv('blink_results_new.csv')"
   ]
  },
  {
   "cell_type": "code",
   "execution_count": 87,
   "id": "fcc238dd-0ad8-4b11-9090-16d8e822838a",
   "metadata": {},
   "outputs": [],
   "source": [
    "new_ids, new_counts = np.unique(new['doc_idx'], return_counts=True)\n",
    "count_new = {new_ids[i]: new_counts[i] for i in range(len(new_ids))}\n",
    "old_ids, old_counts = np.unique(old['doc_idx'], return_counts=True)\n",
    "count_old = {old_ids[i]: old_counts[i] for i in range(len(old_ids))}"
   ]
  },
  {
   "cell_type": "code",
   "execution_count": 88,
   "id": "b15602f1-c60d-4421-83b0-0a6ed2e5e17d",
   "metadata": {},
   "outputs": [],
   "source": [
    "sample = pd.read_csv('../../sampling/FAA_sample_100.csv')"
   ]
  },
  {
   "cell_type": "code",
   "execution_count": 89,
   "id": "f42332ac-6960-42e4-9f8d-b8f8fe26799a",
   "metadata": {},
   "outputs": [
    {
     "name": "stdout",
     "output_type": "stream",
     "text": [
      "Throw out 2600\n",
      "Throw out 1612\n"
     ]
    }
   ],
   "source": [
    "overlap = {}\n",
    "for doc_idx in sample['Unnamed: 0']:\n",
    "    if doc_idx in count_new and doc_idx not in count_old:\n",
    "        print(f\"New id {doc_idx}\")\n",
    "    elif doc_idx in count_old and doc_idx not in count_new:\n",
    "        print(f\"Throw out {doc_idx}\")\n",
    "    elif doc_idx in count_old and doc_idx in count_new:\n",
    "        overlap[doc_idx] = {'old':old[old['doc_idx'] == doc_idx].index, 'new':new[new['doc_idx'] == doc_idx].index}"
   ]
  },
  {
   "cell_type": "code",
   "execution_count": 90,
   "id": "e397e64c-02a5-4076-b7ee-22a4be188315",
   "metadata": {},
   "outputs": [
    {
     "name": "stdout",
     "output_type": "stream",
     "text": [
      "Discrepancy in 2685\n",
      "Discrepancy in 2334\n"
     ]
    }
   ],
   "source": [
    "for doc_idx in overlap:\n",
    "    if not list(old.loc[overlap[doc_idx]['old']]['mention']) == list(new.loc[overlap[doc_idx]['new']]['mention']):\n",
    "        print(f\"Discrepancy in {doc_idx}\")"
   ]
  },
  {
   "cell_type": "code",
   "execution_count": 91,
   "id": "309178d8-7cce-4397-b4ef-daee5a46b5aa",
   "metadata": {},
   "outputs": [
    {
     "data": {
      "text/plain": [
       "(1097    ray airport\n",
       " 1098           pilo\n",
       " Name: mention, dtype: object,\n",
       " 1050    ray airport\n",
       " Name: mention, dtype: object)"
      ]
     },
     "execution_count": 91,
     "metadata": {},
     "output_type": "execute_result"
    }
   ],
   "source": [
    "doc_idx = 2685\n",
    "old.loc[overlap[doc_idx]['old']]['mention'], new.loc[overlap[doc_idx]['new']]['mention']"
   ]
  },
  {
   "cell_type": "code",
   "execution_count": 76,
   "id": "f6d44acc-705b-4731-9613-f21761cdef42",
   "metadata": {},
   "outputs": [
    {
     "data": {
      "text/plain": [
       "(764    eastern standard\n",
       " 765              skyway\n",
       " Name: mention, dtype: object,\n",
       " 738    eastern standard\n",
       " 739      skyway airline\n",
       " Name: mention, dtype: object)"
      ]
     },
     "execution_count": 76,
     "metadata": {},
     "output_type": "execute_result"
    }
   ],
   "source": [
    "doc_idx = 2334\n",
    "old.loc[overlap[doc_idx]['old']]['mention'], new.loc[overlap[doc_idx]['new']]['mention']"
   ]
  },
  {
   "cell_type": "markdown",
   "id": "83fbf565-3da9-41f9-b04b-f51b5cf0526a",
   "metadata": {},
   "source": [
    "### Summary\n",
    "\n",
    "Changes between old and new versions include:\n",
    "- new version does not contain 2600 and 1612\n",
    "- On 2685, pilo is not longer recognized as an entity\n",
    "- On 2334, skyway is now skyway airline"
   ]
  },
  {
   "cell_type": "code",
   "execution_count": null,
   "id": "6d0f98b8-db86-46f3-9f9f-f0ba1dce3289",
   "metadata": {},
   "outputs": [],
   "source": []
  }
 ],
 "metadata": {
  "kernelspec": {
   "display_name": "Python 3 (ipykernel)",
   "language": "python",
   "name": "python3"
  },
  "language_info": {
   "codemirror_mode": {
    "name": "ipython",
    "version": 3
   },
   "file_extension": ".py",
   "mimetype": "text/x-python",
   "name": "python",
   "nbconvert_exporter": "python",
   "pygments_lexer": "ipython3",
   "version": "3.11.5"
  }
 },
 "nbformat": 4,
 "nbformat_minor": 5
}
