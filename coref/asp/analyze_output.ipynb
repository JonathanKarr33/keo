{
 "cells": [
  {
   "cell_type": "code",
   "execution_count": 1,
   "id": "87f99127-974b-497e-8f39-3de1ff8d35d8",
   "metadata": {},
   "outputs": [],
   "source": [
    "with open(\"./nohup.out\", \"r\") as f:\n",
    "    lines = f.readlines()"
   ]
  },
  {
   "cell_type": "code",
   "execution_count": 2,
   "id": "526a790f-f847-479f-8038-ec5547ab4d06",
   "metadata": {},
   "outputs": [],
   "source": [
    "num_to_meaning = {\"1\":\"input\", \"2\":\"predicted\", \"3\":\"gold\"}\n",
    "output = {\"input\":[], \"predicted\":[],\"gold\":[]}"
   ]
  },
  {
   "cell_type": "code",
   "execution_count": 3,
   "id": "655748dc-f02f-4a25-bb9b-a5f5a9ae3da2",
   "metadata": {},
   "outputs": [
    {
     "data": {
      "text/plain": [
       "114"
      ]
     },
     "execution_count": 3,
     "metadata": {},
     "output_type": "execute_result"
    }
   ],
   "source": [
    "len(\"01/26/2024 20:50:45 - INFO - /afs/crc.nd.edu/group/TAI/Users/kmealey2/git/2K-paper/coref/asp/ASP/util/runner.py - \")"
   ]
  },
  {
   "cell_type": "code",
   "execution_count": 4,
   "id": "a0ab3af6-905c-43e4-8926-48d83e0bfa37",
   "metadata": {},
   "outputs": [],
   "source": [
    "num = 1\n",
    "for line in lines:\n",
    "    if \"INFO - /afs/crc.nd.edu/group/TAI/Users/kmealey2/git/2K-paper/coref/asp/ASP/util/runner.py\" in line and \"[\" in line and \"]\" in line:\n",
    "        output[num_to_meaning[f\"{num}\"]].append(line[114:])\n",
    "        \n",
    "        # count up\n",
    "        if num == 3:\n",
    "            num = 1\n",
    "        else:\n",
    "            num = num + 1"
   ]
  },
  {
   "cell_type": "code",
   "execution_count": 5,
   "id": "f1e6f4d6-48cc-4bec-8556-3e6efef76a2c",
   "metadata": {},
   "outputs": [],
   "source": [
    "for predicted_coref in output[\"predicted\"]:\n",
    "    if predicted_coref != \"[]\\n\":\n",
    "        print(predicted_coref)"
   ]
  },
  {
   "cell_type": "code",
   "execution_count": 6,
   "id": "b3cfdaa1-5e3e-4b4e-8cbd-d1d2cb74c8c3",
   "metadata": {},
   "outputs": [
    {
     "name": "stdout",
     "output_type": "stream",
     "text": [
      "23 23 23\n"
     ]
    }
   ],
   "source": [
    "print(len(output[\"input\"]), len(output[\"predicted\"]), len(output[\"gold\"]))"
   ]
  },
  {
   "cell_type": "code",
   "execution_count": 11,
   "id": "0e40a95a-fed4-40a3-a691-dff99920a8be",
   "metadata": {},
   "outputs": [
    {
     "data": {
      "text/plain": [
       "['[]\\n',\n",
       " '[]\\n',\n",
       " '[]\\n',\n",
       " '[]\\n',\n",
       " '[]\\n',\n",
       " '[]\\n',\n",
       " '[]\\n',\n",
       " '[]\\n',\n",
       " '[]\\n',\n",
       " '[]\\n',\n",
       " '[]\\n',\n",
       " '[]\\n',\n",
       " '[]\\n',\n",
       " '[]\\n',\n",
       " '[]\\n',\n",
       " '[]\\n',\n",
       " '[]\\n',\n",
       " '[]\\n',\n",
       " '[]\\n',\n",
       " '[]\\n',\n",
       " '[]\\n',\n",
       " '[]\\n',\n",
       " '[]\\n']"
      ]
     },
     "execution_count": 11,
     "metadata": {},
     "output_type": "execute_result"
    }
   ],
   "source": [
    "output[\"predicted\"]"
   ]
  },
  {
   "cell_type": "code",
   "execution_count": null,
   "id": "90c28b4f-1164-4463-913b-0aaa288545f9",
   "metadata": {},
   "outputs": [],
   "source": []
  }
 ],
 "metadata": {
  "kernelspec": {
   "display_name": "Python 3 (ipykernel)",
   "language": "python",
   "name": "python3"
  },
  "language_info": {
   "codemirror_mode": {
    "name": "ipython",
    "version": 3
   },
   "file_extension": ".py",
   "mimetype": "text/x-python",
   "name": "python",
   "nbconvert_exporter": "python",
   "pygments_lexer": "ipython3",
   "version": "3.11.5"
  }
 },
 "nbformat": 4,
 "nbformat_minor": 5
}
