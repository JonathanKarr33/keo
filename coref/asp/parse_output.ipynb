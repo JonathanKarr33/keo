{
 "cells": [
  {
   "cell_type": "markdown",
   "id": "698df526-2291-4735-96ed-ef97f4e65902",
   "metadata": {},
   "source": [
    "### Parse ASP Output\n",
    "\n",
    "This notebook parses the output of the ASP's eval script, which is saved to eval.out, and saves a csv file with the appropriate coreferences"
   ]
  },
  {
   "cell_type": "code",
   "execution_count": 66,
   "id": "e94dffb2-069e-4e25-85bf-0146a8be56c9",
   "metadata": {},
   "outputs": [],
   "source": [
    "import ast\n",
    "import pandas as pd"
   ]
  },
  {
   "cell_type": "code",
   "execution_count": 108,
   "id": "8668f6e7-275f-480b-8e9f-627c24cdb9f6",
   "metadata": {},
   "outputs": [],
   "source": [
    "with open(\"ASP/eval_xl.out\") as f:\n",
    "#with open(\"eval.out\") as f:\n",
    "    lines = f.readlines()"
   ]
  },
  {
   "cell_type": "code",
   "execution_count": 109,
   "id": "e7157ba1-b892-4d88-97b1-ffd52eb9eb4b",
   "metadata": {},
   "outputs": [
    {
     "data": {
      "text/plain": [
       "'07/31/2024 16:04:30 - INFO - util.func - Running experiment: flant5_xl\\n'"
      ]
     },
     "execution_count": 109,
     "metadata": {},
     "output_type": "execute_result"
    }
   ],
   "source": [
    "lines[0] # example output"
   ]
  },
  {
   "cell_type": "markdown",
   "id": "8a44282f-1ad3-46b5-9064-c72373467488",
   "metadata": {},
   "source": [
    "**Collect relevant data from logger output lines**"
   ]
  },
  {
   "cell_type": "code",
   "execution_count": 110,
   "id": "b3646507-6edb-4fa2-8d4e-2400e3228751",
   "metadata": {},
   "outputs": [
    {
     "data": {
      "text/plain": [
       "115"
      ]
     },
     "execution_count": 110,
     "metadata": {},
     "output_type": "execute_result"
    }
   ],
   "source": [
    "# Get length of string which always precedes a meaningful logger output so that we can index to it\n",
    "len(\"01/26/2024 20:50:45 - INFO - /afs/crc.nd.edu/group/TAI/Users/kmealey2/git/2K-paper/coref/asp2/ASP/util/runner.py - \")"
   ]
  },
  {
   "cell_type": "code",
   "execution_count": 111,
   "id": "fedc0cfd-03ab-4423-8fb0-2e9ba4416d9b",
   "metadata": {},
   "outputs": [],
   "source": [
    "num_to_meaning = {\"0\":\"doc_key\",\"1\":\"input\", \"2\":\"predicted\", \"3\":\"gold\"}\n",
    "output = {\"doc_key\":[], \"input\":[], \"predicted\":[],\"gold\":[]}\n",
    "\n",
    "num = 0 # used to keep track of whether the logger output is doc_key, input, predicted, or gold. These always occur sequentially\n",
    "for line in lines:\n",
    "    if \"INFO - /afs/crc.nd.edu/group/TAI/Users/kmealey2/git/2K-paper/coref/asp/ASP/util/runner.py\" in line:\n",
    "        if \"[\" in line and \"]\" in line:\n",
    "            output[num_to_meaning[f\"{num}\"]].append(ast.literal_eval(line[114:].strip()))\n",
    "            \n",
    "            # count up\n",
    "            if num == 3:\n",
    "                num = 0\n",
    "            else:\n",
    "                num = num + 1\n",
    "        elif \"faa/\" in line:\n",
    "            output[num_to_meaning[f\"{num}\"]].append(line[114:].strip())\n",
    "\n",
    "            # count up\n",
    "            if num == 3:\n",
    "                num = 0\n",
    "            else:\n",
    "                num = num + 1"
   ]
  },
  {
   "cell_type": "markdown",
   "id": "1361ec33-23d6-48ea-a913-f44e7984a9da",
   "metadata": {},
   "source": [
    "**View data**"
   ]
  },
  {
   "cell_type": "code",
   "execution_count": 112,
   "id": "8af2c701-dec9-4534-9cd0-faefb39b6523",
   "metadata": {},
   "outputs": [
    {
     "name": "stdout",
     "output_type": "stream",
     "text": [
      "2748 2748 2748 2748\n"
     ]
    }
   ],
   "source": [
    "print(len(output[\"doc_key\"]), len(output[\"input\"]), len(output[\"predicted\"]), len(output[\"gold\"]))"
   ]
  },
  {
   "cell_type": "code",
   "execution_count": 113,
   "id": "1260f3a5-93b8-4f99-a502-3ce12835c4ba",
   "metadata": {},
   "outputs": [
    {
     "data": {
      "text/plain": [
       "[[],\n",
       " [],\n",
       " [((4, 7), (10, 10), (21, 21))],\n",
       " [],\n",
       " [((5, 5), (16, 16))],\n",
       " [],\n",
       " [],\n",
       " [],\n",
       " [],\n",
       " [],\n",
       " [],\n",
       " [],\n",
       " [],\n",
       " [],\n",
       " [],\n",
       " [],\n",
       " [],\n",
       " [],\n",
       " [],\n",
       " []]"
      ]
     },
     "execution_count": 113,
     "metadata": {},
     "output_type": "execute_result"
    }
   ],
   "source": [
    "output['predicted'][20:40]"
   ]
  },
  {
   "cell_type": "markdown",
   "id": "5290acc5-501c-4599-a431-c12a5874c8d8",
   "metadata": {},
   "source": [
    "**Change predicted coreferences from sets to lists**\\\n",
    "This will match the format expected by the eval script"
   ]
  },
  {
   "cell_type": "code",
   "execution_count": 114,
   "id": "7cf84988-7c8b-4903-b4ba-fd60cd446646",
   "metadata": {},
   "outputs": [],
   "source": [
    "corefs = output['predicted']"
   ]
  },
  {
   "cell_type": "code",
   "execution_count": 115,
   "id": "5a586601-7000-4329-a332-8d32399d11b9",
   "metadata": {},
   "outputs": [
    {
     "data": {
      "text/plain": [
       "[((4, 5), (30, 30))]"
      ]
     },
     "execution_count": 115,
     "metadata": {},
     "output_type": "execute_result"
    }
   ],
   "source": [
    "corefs[8] # example"
   ]
  },
  {
   "cell_type": "code",
   "execution_count": 116,
   "id": "7d993f42-f48c-448d-bf8c-1385d92e9325",
   "metadata": {},
   "outputs": [],
   "source": [
    "for i in range(len(corefs)):\n",
    "    for i_coref_chain, coref_chain in enumerate(corefs[i]):\n",
    "        corefs[i][i_coref_chain] = [[span[0], span[1]] for span in coref_chain]"
   ]
  },
  {
   "cell_type": "code",
   "execution_count": 117,
   "id": "ff7b1b51-fa30-42c2-9e9b-37d48052c706",
   "metadata": {},
   "outputs": [
    {
     "data": {
      "text/plain": [
       "[[[4, 5], [30, 30]]]"
      ]
     },
     "execution_count": 117,
     "metadata": {},
     "output_type": "execute_result"
    }
   ],
   "source": [
    "corefs[8] # example"
   ]
  },
  {
   "cell_type": "markdown",
   "id": "2b7b0863-ebc8-4dad-a75a-2d704ab57894",
   "metadata": {},
   "source": [
    "**Change predicted coreferences to a word index one smaller**\n",
    "\n",
    "If you check coref_gold, you'll note that the correct output for 19800217031649I is [[[6,9],[16,16]]], but asp reports [((7, 10), (17, 17))]. The \"plus one\" trend continues in many other documents. We assume that this is a quirk of the data processing step, and adjust it in the step below"
   ]
  },
  {
   "cell_type": "code",
   "execution_count": 118,
   "id": "510bc00e-984a-4d0d-95da-8a4ac44665c0",
   "metadata": {},
   "outputs": [
    {
     "data": {
      "text/plain": [
       "'faa/354_19800217031649I_0_0'"
      ]
     },
     "execution_count": 118,
     "metadata": {},
     "output_type": "execute_result"
    }
   ],
   "source": [
    "output[\"doc_key\"][984]"
   ]
  },
  {
   "cell_type": "code",
   "execution_count": 119,
   "id": "ae972409-e5e6-47d8-93f7-597ceaef0254",
   "metadata": {},
   "outputs": [
    {
     "data": {
      "text/plain": [
       "[[[7, 10], [17, 17]]]"
      ]
     },
     "execution_count": 119,
     "metadata": {},
     "output_type": "execute_result"
    }
   ],
   "source": [
    "output[\"predicted\"][984]"
   ]
  },
  {
   "cell_type": "code",
   "execution_count": 120,
   "id": "558cd088-978c-4147-864b-299c0095a3f7",
   "metadata": {},
   "outputs": [],
   "source": [
    "for i in range(len(corefs)):\n",
    "    for i_coref_chain, coref_chain in enumerate(corefs[i]):\n",
    "        corefs[i][i_coref_chain] = [[span[0] - 1, span[1] - 1] for span in coref_chain]"
   ]
  },
  {
   "cell_type": "code",
   "execution_count": 121,
   "id": "8b09c65d-6100-446f-808e-44900c9268eb",
   "metadata": {},
   "outputs": [
    {
     "data": {
      "text/plain": [
       "[[[3, 4], [29, 29]]]"
      ]
     },
     "execution_count": 121,
     "metadata": {},
     "output_type": "execute_result"
    }
   ],
   "source": [
    "corefs[8]"
   ]
  },
  {
   "cell_type": "markdown",
   "id": "9c14ff2a-a871-435c-b26a-a949da0a1b56",
   "metadata": {},
   "source": [
    "**Save data**"
   ]
  },
  {
   "cell_type": "code",
   "execution_count": 122,
   "id": "55c85fc4-d9e3-4f69-b935-9606228a8a5f",
   "metadata": {},
   "outputs": [],
   "source": [
    "# get original faa data:\n",
    "original_data = pd.read_csv('../../data/FAA_data/Maintenance_Text_data_nona.csv')"
   ]
  },
  {
   "cell_type": "code",
   "execution_count": 123,
   "id": "a1c0bf59-df82-431f-9cf1-f1e3b4f278d5",
   "metadata": {},
   "outputs": [],
   "source": [
    "# get predictions id-wise\n",
    "predictions = {output[\"doc_key\"][i].split('_')[1] : output[\"predicted\"][i] for i in range(len(output[\"predicted\"]))}"
   ]
  },
  {
   "cell_type": "code",
   "execution_count": 124,
   "id": "bec0ecc9-a08b-4517-9cca-2b2c74d92740",
   "metadata": {},
   "outputs": [
    {
     "data": {
      "text/html": [
       "<div>\n",
       "<style scoped>\n",
       "    .dataframe tbody tr th:only-of-type {\n",
       "        vertical-align: middle;\n",
       "    }\n",
       "\n",
       "    .dataframe tbody tr th {\n",
       "        vertical-align: top;\n",
       "    }\n",
       "\n",
       "    .dataframe thead th {\n",
       "        text-align: right;\n",
       "    }\n",
       "</style>\n",
       "<table border=\"1\" class=\"dataframe\">\n",
       "  <thead>\n",
       "    <tr style=\"text-align: right;\">\n",
       "      <th></th>\n",
       "      <th>c5_id</th>\n",
       "      <th>c119_input</th>\n",
       "      <th>input</th>\n",
       "      <th>corefs</th>\n",
       "    </tr>\n",
       "  </thead>\n",
       "  <tbody>\n",
       "    <tr>\n",
       "      <th>2318</th>\n",
       "      <td>19990213001379A</td>\n",
       "      <td>ACFT WAS TAXIING FOR TAKE OFF WHEN IT LOST CON...</td>\n",
       "      <td>[▁core, ference, ▁resolution, :, &lt;speaker&gt;, ▁s...</td>\n",
       "      <td>[[[0, 0], [7, 7]]]</td>\n",
       "    </tr>\n",
       "    <tr>\n",
       "      <th>2319</th>\n",
       "      <td>19990217015679I</td>\n",
       "      <td>(-5) A FLIGHT ATTENDANT OPENED AN OVERHEAD BIN...</td>\n",
       "      <td>[▁core, ference, ▁resolution, :, &lt;speaker&gt;, ▁s...</td>\n",
       "      <td>[[[7, 9], [15, 16]]]</td>\n",
       "    </tr>\n",
       "    <tr>\n",
       "      <th>2320</th>\n",
       "      <td>19990425003889A</td>\n",
       "      <td>PILOT REPORTED THAT THE ACFT ENGINE HAD QUIT A...</td>\n",
       "      <td>[▁core, ference, ▁resolution, :, &lt;speaker&gt;, ▁s...</td>\n",
       "      <td>[[[4, 4], [16, 17]]]</td>\n",
       "    </tr>\n",
       "    <tr>\n",
       "      <th>2321</th>\n",
       "      <td>19990506015529I</td>\n",
       "      <td>ON 5/6/99 AT APPROXIMATELY 1608C, DELTA 789 DE...</td>\n",
       "      <td>[▁core, ference, ▁resolution, :, &lt;speaker&gt;, ▁s...</td>\n",
       "      <td>[]</td>\n",
       "    </tr>\n",
       "    <tr>\n",
       "      <th>2322</th>\n",
       "      <td>19990816019439I</td>\n",
       "      <td>(-23)AFTER LANDING, TAXIED ON TAXIWAY PAPA WAS...</td>\n",
       "      <td>[▁core, ference, ▁resolution, :, &lt;speaker&gt;, ▁s...</td>\n",
       "      <td>[]</td>\n",
       "    </tr>\n",
       "    <tr>\n",
       "      <th>2323</th>\n",
       "      <td>19990904035409I</td>\n",
       "      <td>(-23) PILOT DEPARTED A PRIVATE RANCH FOR A FOU...</td>\n",
       "      <td>[▁core, ference, ▁resolution, :, &lt;speaker&gt;, ▁s...</td>\n",
       "      <td>[]</td>\n",
       "    </tr>\n",
       "    <tr>\n",
       "      <th>2324</th>\n",
       "      <td>19990909030819A</td>\n",
       "      <td>(-23) THIS AIRCRAFT EXPERIENCED AN ENGINE STOP...</td>\n",
       "      <td>[▁core, ference, ▁resolution, :, &lt;speaker&gt;, ▁s...</td>\n",
       "      <td>[]</td>\n",
       "    </tr>\n",
       "    <tr>\n",
       "      <th>2325</th>\n",
       "      <td>19990909031699I</td>\n",
       "      <td>(-23) NO NARRATIVE                            ...</td>\n",
       "      <td>[▁core, ference, ▁resolution, :, &lt;speaker&gt;, ▁s...</td>\n",
       "      <td>[]</td>\n",
       "    </tr>\n",
       "  </tbody>\n",
       "</table>\n",
       "</div>"
      ],
      "text/plain": [
       "                c5_id                                         c119_input  \\\n",
       "2318  19990213001379A  ACFT WAS TAXIING FOR TAKE OFF WHEN IT LOST CON...   \n",
       "2319  19990217015679I  (-5) A FLIGHT ATTENDANT OPENED AN OVERHEAD BIN...   \n",
       "2320  19990425003889A  PILOT REPORTED THAT THE ACFT ENGINE HAD QUIT A...   \n",
       "2321  19990506015529I  ON 5/6/99 AT APPROXIMATELY 1608C, DELTA 789 DE...   \n",
       "2322  19990816019439I  (-23)AFTER LANDING, TAXIED ON TAXIWAY PAPA WAS...   \n",
       "2323  19990904035409I  (-23) PILOT DEPARTED A PRIVATE RANCH FOR A FOU...   \n",
       "2324  19990909030819A  (-23) THIS AIRCRAFT EXPERIENCED AN ENGINE STOP...   \n",
       "2325  19990909031699I  (-23) NO NARRATIVE                            ...   \n",
       "\n",
       "                                                  input                corefs  \n",
       "2318  [▁core, ference, ▁resolution, :, <speaker>, ▁s...    [[[0, 0], [7, 7]]]  \n",
       "2319  [▁core, ference, ▁resolution, :, <speaker>, ▁s...  [[[7, 9], [15, 16]]]  \n",
       "2320  [▁core, ference, ▁resolution, :, <speaker>, ▁s...  [[[4, 4], [16, 17]]]  \n",
       "2321  [▁core, ference, ▁resolution, :, <speaker>, ▁s...                    []  \n",
       "2322  [▁core, ference, ▁resolution, :, <speaker>, ▁s...                    []  \n",
       "2323  [▁core, ference, ▁resolution, :, <speaker>, ▁s...                    []  \n",
       "2324  [▁core, ference, ▁resolution, :, <speaker>, ▁s...                    []  \n",
       "2325  [▁core, ference, ▁resolution, :, <speaker>, ▁s...                    []  "
      ]
     },
     "execution_count": 124,
     "metadata": {},
     "output_type": "execute_result"
    }
   ],
   "source": [
    "c5s = list(original_data['c5'])\n",
    "results_df = pd.DataFrame({'c5_id':c5s, 'c119_input':list(original_data['c119']), 'input':output[\"input\"], 'corefs':[predictions[c5] for c5 in c5s]})\n",
    "results_df.loc[2318:2325]"
   ]
  },
  {
   "cell_type": "code",
   "execution_count": 125,
   "id": "924e7d6b-266a-4597-985d-66d21aeb9383",
   "metadata": {},
   "outputs": [],
   "source": [
    "results_df.to_csv('../../data/results/asp/asp_xl.csv')"
   ]
  },
  {
   "cell_type": "code",
   "execution_count": null,
   "id": "f1087d66-79a5-4c90-8b51-9b9047efde58",
   "metadata": {},
   "outputs": [],
   "source": []
  }
 ],
 "metadata": {
  "kernelspec": {
   "display_name": "Python 3 (ipykernel)",
   "language": "python",
   "name": "python3"
  },
  "language_info": {
   "codemirror_mode": {
    "name": "ipython",
    "version": 3
   },
   "file_extension": ".py",
   "mimetype": "text/x-python",
   "name": "python",
   "nbconvert_exporter": "python",
   "pygments_lexer": "ipython3",
   "version": "3.11.5"
  }
 },
 "nbformat": 4,
 "nbformat_minor": 5
}
