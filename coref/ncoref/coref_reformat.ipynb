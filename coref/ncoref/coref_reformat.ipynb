{
 "cells": [
  {
   "cell_type": "markdown",
   "id": "2e240731-d57c-4101-acd9-1b764d74b386",
   "metadata": {},
   "source": [
    "### Coreference Reformat\n",
    "\n",
    "**** This notebook has a bug (likely in extract_chains) that causes errors, signified by negative numbers, in the output data. However, none of those errors occur in the data sampled for evaluation, so it is used for now*****\n",
    "\n",
    "In this notebook, we get the results outputted by coref_faa.py in the data/results folder, and add a column called corefs. This column follows the format expected by the cr_eval.py script in evaluations/quantitative, and so makes evaluation much simpler.\n",
    "\n",
    "The desired format is like so:\\\n",
    "\\[ coreference_chain, coreference_chain, ... ] where coreference_chain = \\[mention_span, mention_span, ...] and mention_span = \\[start_word_index, end_word_index]\\\n",
    "Such that the coreference chain for the sentence \"PILOT LANDED ON WHAT HE THOUGHT TO BE ONE FOOT HIGH GRASS. IT TURNED OUT TO BE THREE FEET HIGH. ACFT NOSED OVER.\":\\\n",
    "Which is: \\[\\[\"PILOT\", \"HE\"], \\[\"ONE FOOT HIGH GRASS\", \"IT\"]]\\\n",
    "Appears as: [[0,0],[4,4],[[8,11],[13,13]]]\\\n",
    "The word indices are based on the word tokenization used in data/FAA_data/faa.conll, which is the input data for ASP and s2e-coref. The word indices continue to increase throughout the whole doc/entry and do not reset at sentence starts"
   ]
  },
  {
   "cell_type": "code",
   "execution_count": 117,
   "id": "eea835c5-1ca7-4a8b-8315-42cba9509d17",
   "metadata": {},
   "outputs": [],
   "source": [
    "import pandas as pd\n",
    "import re"
   ]
  },
  {
   "cell_type": "code",
   "execution_count": 118,
   "id": "bdbb2a5d-1a9b-4294-8fa1-c76ed82243db",
   "metadata": {},
   "outputs": [
    {
     "data": {
      "text/html": [
       "<div>\n",
       "<style scoped>\n",
       "    .dataframe tbody tr th:only-of-type {\n",
       "        vertical-align: middle;\n",
       "    }\n",
       "\n",
       "    .dataframe tbody tr th {\n",
       "        vertical-align: top;\n",
       "    }\n",
       "\n",
       "    .dataframe thead th {\n",
       "        text-align: right;\n",
       "    }\n",
       "</style>\n",
       "<table border=\"1\" class=\"dataframe\">\n",
       "  <thead>\n",
       "    <tr style=\"text-align: right;\">\n",
       "      <th></th>\n",
       "      <th>c5</th>\n",
       "      <th>c119</th>\n",
       "      <th>c119_coref</th>\n",
       "      <th>c119_ner</th>\n",
       "      <th>c119_pos</th>\n",
       "      <th>c119_lemmatized</th>\n",
       "      <th>c119_dependency</th>\n",
       "      <th>c119_sentiment</th>\n",
       "    </tr>\n",
       "  </thead>\n",
       "  <tbody>\n",
       "    <tr>\n",
       "      <th>0</th>\n",
       "      <td>19750315005389A</td>\n",
       "      <td>TAILWHEEL COCKED RIGHT PRIOR TO TKOF.         ...</td>\n",
       "      <td>[]</td>\n",
       "      <td>[]</td>\n",
       "      <td>[('TAILWHEEL', 'PROPN'), ('COCKED', 'PROPN'), ...</td>\n",
       "      <td>['TAILWHEEL', 'COCKED', 'right', 'PRIOR', 'to'...</td>\n",
       "      <td>[('TAILWHEEL', 'compound', 'COCKED'), ('COCKED...</td>\n",
       "      <td>0.142857</td>\n",
       "    </tr>\n",
       "    <tr>\n",
       "      <th>1</th>\n",
       "      <td>19750419011349A</td>\n",
       "      <td>TOW PLANE BECAME AIRBORNE THEN SETTLED.STUDENT...</td>\n",
       "      <td>[]</td>\n",
       "      <td>[('TOW', 'ORG'), ('TOW', 'ORG'), ('TROUBLE &amp; R...</td>\n",
       "      <td>[('TOW', 'PROPN'), ('PLANE', 'NOUN'), ('BECAME...</td>\n",
       "      <td>['TOW', 'plane', 'become', 'AIRBORNE', 'then',...</td>\n",
       "      <td>[('TOW', 'compound', 'PLANE'), ('PLANE', 'ROOT...</td>\n",
       "      <td>-0.200000</td>\n",
       "    </tr>\n",
       "    <tr>\n",
       "      <th>2</th>\n",
       "      <td>19751029037799A</td>\n",
       "      <td>2ND ILS APCH,ACFT'S G/S INOP.LOM TUNED TO WRON...</td>\n",
       "      <td>[]</td>\n",
       "      <td>[('ILS APCH', 'ORG'), ('ACFT', 'ORG'), ('FREQ'...</td>\n",
       "      <td>[('2ND', 'NUM'), ('ILS', 'PROPN'), ('APCH', 'P...</td>\n",
       "      <td>['2nd', 'ILS', 'APCH', ',', 'ACFT', \"'s\", 'G',...</td>\n",
       "      <td>[('2ND', 'nummod', 'APCH'), ('ILS', 'compound'...</td>\n",
       "      <td>-0.250000</td>\n",
       "    </tr>\n",
       "    <tr>\n",
       "      <th>3</th>\n",
       "      <td>19751209037899A</td>\n",
       "      <td>PLT NOTED SOFT R BRAKE PEDAL DRG TAXI TO TKOF....</td>\n",
       "      <td>[]</td>\n",
       "      <td>[]</td>\n",
       "      <td>[('PLT', 'PROPN'), ('NOTED', 'PROPN'), ('SOFT'...</td>\n",
       "      <td>['PLT', 'NOTED', 'SOFT', 'r', 'BRAKE', 'PEDAL'...</td>\n",
       "      <td>[('PLT', 'nmod', 'R'), ('NOTED', 'advmod', 'R'...</td>\n",
       "      <td>0.127083</td>\n",
       "    </tr>\n",
       "    <tr>\n",
       "      <th>4</th>\n",
       "      <td>19750818025579A</td>\n",
       "      <td>TAXI OFF HARD SFC DUE TFC R MAIN GR BROKE THRO...</td>\n",
       "      <td>[]</td>\n",
       "      <td>[('MAIN', 'ORG'), ('WASHED', 'ORG')]</td>\n",
       "      <td>[('TAXI', 'VERB'), ('OFF', 'PART'), ('HARD', '...</td>\n",
       "      <td>['taxi', 'off', 'HARD', 'SFC', 'DUE', 'TFC', '...</td>\n",
       "      <td>[('TAXI', 'ROOT', 'TAXI'), ('OFF', 'prep', 'TA...</td>\n",
       "      <td>-0.083333</td>\n",
       "    </tr>\n",
       "  </tbody>\n",
       "</table>\n",
       "</div>"
      ],
      "text/plain": [
       "                c5                                               c119  \\\n",
       "0  19750315005389A  TAILWHEEL COCKED RIGHT PRIOR TO TKOF.         ...   \n",
       "1  19750419011349A  TOW PLANE BECAME AIRBORNE THEN SETTLED.STUDENT...   \n",
       "2  19751029037799A  2ND ILS APCH,ACFT'S G/S INOP.LOM TUNED TO WRON...   \n",
       "3  19751209037899A  PLT NOTED SOFT R BRAKE PEDAL DRG TAXI TO TKOF....   \n",
       "4  19750818025579A  TAXI OFF HARD SFC DUE TFC R MAIN GR BROKE THRO...   \n",
       "\n",
       "  c119_coref                                           c119_ner  \\\n",
       "0         []                                                 []   \n",
       "1         []  [('TOW', 'ORG'), ('TOW', 'ORG'), ('TROUBLE & R...   \n",
       "2         []  [('ILS APCH', 'ORG'), ('ACFT', 'ORG'), ('FREQ'...   \n",
       "3         []                                                 []   \n",
       "4         []               [('MAIN', 'ORG'), ('WASHED', 'ORG')]   \n",
       "\n",
       "                                            c119_pos  \\\n",
       "0  [('TAILWHEEL', 'PROPN'), ('COCKED', 'PROPN'), ...   \n",
       "1  [('TOW', 'PROPN'), ('PLANE', 'NOUN'), ('BECAME...   \n",
       "2  [('2ND', 'NUM'), ('ILS', 'PROPN'), ('APCH', 'P...   \n",
       "3  [('PLT', 'PROPN'), ('NOTED', 'PROPN'), ('SOFT'...   \n",
       "4  [('TAXI', 'VERB'), ('OFF', 'PART'), ('HARD', '...   \n",
       "\n",
       "                                     c119_lemmatized  \\\n",
       "0  ['TAILWHEEL', 'COCKED', 'right', 'PRIOR', 'to'...   \n",
       "1  ['TOW', 'plane', 'become', 'AIRBORNE', 'then',...   \n",
       "2  ['2nd', 'ILS', 'APCH', ',', 'ACFT', \"'s\", 'G',...   \n",
       "3  ['PLT', 'NOTED', 'SOFT', 'r', 'BRAKE', 'PEDAL'...   \n",
       "4  ['taxi', 'off', 'HARD', 'SFC', 'DUE', 'TFC', '...   \n",
       "\n",
       "                                     c119_dependency  c119_sentiment  \n",
       "0  [('TAILWHEEL', 'compound', 'COCKED'), ('COCKED...        0.142857  \n",
       "1  [('TOW', 'compound', 'PLANE'), ('PLANE', 'ROOT...       -0.200000  \n",
       "2  [('2ND', 'nummod', 'APCH'), ('ILS', 'compound'...       -0.250000  \n",
       "3  [('PLT', 'nmod', 'R'), ('NOTED', 'advmod', 'R'...        0.127083  \n",
       "4  [('TAXI', 'ROOT', 'TAXI'), ('OFF', 'prep', 'TA...       -0.083333  "
      ]
     },
     "execution_count": 118,
     "metadata": {},
     "output_type": "execute_result"
    }
   ],
   "source": [
    "result_df = pd.read_csv('../../tool_results/neuralcoref/FAA_DataModel_small_20240805145715.csv')\n",
    "result_df.head()"
   ]
  },
  {
   "cell_type": "markdown",
   "id": "bd95dde8-f5a3-4fb5-a35c-61089870c7e6",
   "metadata": {},
   "source": [
    "**Extract lists of coreferences from the string representation in column c119_coref**"
   ]
  },
  {
   "cell_type": "code",
   "execution_count": 105,
   "id": "7f116453-d0f8-4796-be53-09486558c4a6",
   "metadata": {},
   "outputs": [],
   "source": [
    "chain_p = re.compile(r'\\[([^\\[\\]]+: )?(\\[[^\\[\\]]+\\])?(, [^\\[\\]]+: )?(\\[[^\\[\\]]+\\])?(, [^\\[\\]]+: )?(\\[[^\\[\\]]+\\])?(, [^\\[\\]]+: )?(\\[[^\\[\\]]+\\])?\\]') # can capture up to 4 coreference chains\n",
    "coref_p = re.compile(r'\\[(.+)(, )(.+)(, )?(.+)?(, )?(.+)?(, )?(.+)?(, )?(.+)?\\]')\n",
    "\n",
    "def extract_chains(data_in):\n",
    "        \n",
    "    # Match coreference chains in c119_coref output\n",
    "    coref_chains = []\n",
    "    for match_group in re.match(chain_p, data_in).groups():\n",
    "        if match_group is not None and '[' in match_group:\n",
    "\n",
    "            # Match coreference mentions in coreference chain and store as list\n",
    "            coref_chain = [group for group in re.match(coref_p, match_group).groups() if group is not None and group != ', ']\n",
    "            coref_chains.append(coref_chain)\n",
    "\n",
    "    return coref_chains"
   ]
  },
  {
   "cell_type": "code",
   "execution_count": 106,
   "id": "106a4c9b-2938-4951-b099-23df672316c3",
   "metadata": {},
   "outputs": [
    {
     "data": {
      "text/plain": [
       "[[['THE ACFT ENGINE', 'THE ACFT']], [], [], [], [], [], [], [], [], []]"
      ]
     },
     "execution_count": 106,
     "metadata": {},
     "output_type": "execute_result"
    }
   ],
   "source": [
    "c119_coref_chains = []\n",
    "for i in range(len(result_df)):\n",
    "    coref_chains = extract_chains(result_df['c119_coref'].iat[i])\n",
    "    c119_coref_chains.append(coref_chains)\n",
    "c119_coref_chains[2320:2330] # sample output"
   ]
  },
  {
   "cell_type": "markdown",
   "id": "ad4c1446-138d-440a-a233-a3fac2c0159f",
   "metadata": {},
   "source": [
    "**Get FAA data in format {c5_id:{0: word0, 1: word1, ..., n: wordn}} using word tokenization from faa.conll**"
   ]
  },
  {
   "cell_type": "code",
   "execution_count": 107,
   "id": "2d8e1cea-2b39-4355-af5a-0308ab612c14",
   "metadata": {},
   "outputs": [],
   "source": [
    "faa = {}\n",
    "\n",
    "with open('../../OMIN_dataset/data/FAA_data/faa.conll') as f:\n",
    "    text = f.read()\n",
    "\n",
    "docs = text.split('#begin document ')\n",
    "\n",
    "for doc in docs:\n",
    "    if doc[:5] == '(faa/':\n",
    "        word_count = 0\n",
    "        c5_id = doc.split('_')[1][:15]\n",
    "        faa[c5_id] = {}\n",
    "        lines = doc.split('\\n')\n",
    "        for line in lines[1:]:\n",
    "            if 'faa' in line:\n",
    "                faa[c5_id][word_count] = line.split()[3].upper()\n",
    "                word_count = word_count + 1"
   ]
  },
  {
   "cell_type": "markdown",
   "id": "d0e7c19c-7356-40e6-8ce5-31da798fa7f9",
   "metadata": {},
   "source": [
    "**Get word indices for c119_coref col in result_df**"
   ]
  },
  {
   "cell_type": "code",
   "execution_count": 108,
   "id": "f6db64d0-7a1a-4d40-a066-47785245d8bb",
   "metadata": {},
   "outputs": [],
   "source": [
    "def get_spans(mentions, words):\n",
    "    ''' Input:\n",
    "    - mentions:['MENTION1','MENTION2',...]\n",
    "    - words: ['This','is','a','sentence','.','This','is','another','sentence','.'] (dict values)\n",
    "        Output: [[startidx_mention1, end_idxmention1], [startidx_mention2, end_idxmention2], ...]\n",
    "    '''\n",
    "\n",
    "    mention_spans = []\n",
    "\n",
    "    if \"'S\" in words.values():\n",
    "        idx = list(words.values()).index(\"'S\")\n",
    "        words[idx-1] = words[idx-1] + \"'S\"\n",
    "        del words[idx]\n",
    "\n",
    "    bookmark = -1\n",
    "    \n",
    "    for imention, mention in enumerate(mentions):\n",
    "\n",
    "        mention = mention.replace('(', ' ( ').replace(')',' ) ').replace('  ',' ')\n",
    "        mention = mention.replace(',',' , ').replace('  ',' ')\n",
    "\n",
    "        mention_span = [-1, -1] # if conditions below aren't met, [-1,-1 is returned]\n",
    "\n",
    "        tokens = list(words.values())\n",
    "        idxs = list(words.keys())\n",
    "        \n",
    "        start_indices = [i for i in range(len(tokens)) if tokens[i:i+len(mention.split())] == mention.split() and i > bookmark]\n",
    "\n",
    "        # If start_indices contains multiple idxs, get start_idx from front of list (first occurance) and save rest to repeat_mentions\n",
    "        # If start_indices contains just one idx, that is the start_idx\n",
    "        if len(start_indices) > 0:\n",
    "            start_idx = start_indices[0]\n",
    "            end_idx = start_idx + len(mention.split()) - 1\n",
    "            mention_span = [idxs[start_idx],idxs[end_idx]]\n",
    "\n",
    "            bookmark = end_idx\n",
    "\n",
    "        mention_spans.append(mention_span)\n",
    "\n",
    "    return mention_spans"
   ]
  },
  {
   "cell_type": "code",
   "execution_count": 109,
   "id": "2ec839c4-e655-4643-9257-c39cc5c61abd",
   "metadata": {},
   "outputs": [
    {
     "data": {
      "text/plain": [
       "[[0, 3], [5, 5]]"
      ]
     },
     "execution_count": 109,
     "metadata": {},
     "output_type": "execute_result"
    }
   ],
   "source": [
    "words = faa['19820725041999I']\n",
    "mentions = ['LOOSE COWLING ON TAKEOFF','COWLING']\n",
    "get_spans(mentions, words)"
   ]
  },
  {
   "cell_type": "code",
   "execution_count": 110,
   "id": "0fd3617b-e6e0-4e78-ae8e-e091ebad1b78",
   "metadata": {},
   "outputs": [
    {
     "data": {
      "text/plain": [
       "[[[[3, 5], [16, 17]]], [], [], [], [], [], [], [], [], []]"
      ]
     },
     "execution_count": 110,
     "metadata": {},
     "output_type": "execute_result"
    }
   ],
   "source": [
    "# Iterate through c119_coref_chains\n",
    "\n",
    "formatted = []\n",
    "\n",
    "for i in range(len(result_df)):\n",
    "\n",
    "    coref_chains = c119_coref_chains[i]\n",
    "\n",
    "    output_chains = []\n",
    "    for coref_chain in coref_chains:\n",
    "        \n",
    "            # Get spans of words of coref chain using get_spans\n",
    "            chain_spans = get_spans(coref_chain, faa[result_df['c5'][i]])\n",
    "\n",
    "            output_chains.append(chain_spans)\n",
    "\n",
    "    formatted.append(output_chains)\n",
    "\n",
    "formatted[2320:2330] # sample output"
   ]
  },
  {
   "cell_type": "markdown",
   "id": "d6f2cb92-99df-4974-b8c9-13103c6eb103",
   "metadata": {},
   "source": [
    "**Check for errors**"
   ]
  },
  {
   "cell_type": "code",
   "execution_count": 111,
   "id": "ebea7475-bd14-43b1-8451-d4fc36f1a739",
   "metadata": {
    "scrolled": true
   },
   "outputs": [],
   "source": [
    "errs = []\n",
    "for iresult, result in enumerate(formatted):\n",
    "    for chain in result:\n",
    "        if [-1,-1] in chain: # should also look for [-2, *]\n",
    "            errs.append(iresult)"
   ]
  },
  {
   "cell_type": "code",
   "execution_count": 112,
   "id": "30ef2812-0eff-4387-b7be-81e35cd7f2bd",
   "metadata": {},
   "outputs": [],
   "source": [
    "sample = pd.read_csv('../../OMIN_dataset/data/FAA_data/FAA_sample_100.csv')\n",
    "errs_to_check = []\n",
    "for err in errs:\n",
    "    if err in sample['Unnamed: 0']:\n",
    "        errs_to_check.append(err)"
   ]
  },
  {
   "cell_type": "code",
   "execution_count": 113,
   "id": "95c1e043-5c35-44d8-973d-836442ee90e0",
   "metadata": {},
   "outputs": [
    {
     "data": {
      "text/plain": [
       "[]"
      ]
     },
     "execution_count": 113,
     "metadata": {},
     "output_type": "execute_result"
    }
   ],
   "source": [
    "errs_to_check # No errors occur within the data sampled for evaluation"
   ]
  },
  {
   "cell_type": "markdown",
   "id": "f11b0b27-5e52-4680-ae2e-99fed3a5bee5",
   "metadata": {},
   "source": [
    "**Add formatted column to df**"
   ]
  },
  {
   "cell_type": "code",
   "execution_count": 114,
   "id": "b52aa597-c91c-4fc7-b973-9baa3a5f2ad2",
   "metadata": {},
   "outputs": [],
   "source": [
    "result_df['corefs'] = formatted"
   ]
  },
  {
   "cell_type": "code",
   "execution_count": 115,
   "id": "6f4a0a9d-7255-4afb-a3ba-a4a5be0b13da",
   "metadata": {},
   "outputs": [
    {
     "data": {
      "text/html": [
       "<div>\n",
       "<style scoped>\n",
       "    .dataframe tbody tr th:only-of-type {\n",
       "        vertical-align: middle;\n",
       "    }\n",
       "\n",
       "    .dataframe tbody tr th {\n",
       "        vertical-align: top;\n",
       "    }\n",
       "\n",
       "    .dataframe thead th {\n",
       "        text-align: right;\n",
       "    }\n",
       "</style>\n",
       "<table border=\"1\" class=\"dataframe\">\n",
       "  <thead>\n",
       "    <tr style=\"text-align: right;\">\n",
       "      <th></th>\n",
       "      <th>c5</th>\n",
       "      <th>c119</th>\n",
       "      <th>c119_coref</th>\n",
       "      <th>c119_ner</th>\n",
       "      <th>c119_pos</th>\n",
       "      <th>c119_lemmatized</th>\n",
       "      <th>c119_dependency</th>\n",
       "      <th>c119_sentiment</th>\n",
       "      <th>corefs</th>\n",
       "    </tr>\n",
       "  </thead>\n",
       "  <tbody>\n",
       "    <tr>\n",
       "      <th>2318</th>\n",
       "      <td>19990213001379A</td>\n",
       "      <td>ACFT WAS TAXIING FOR TAKE OFF WHEN IT LOST CON...</td>\n",
       "      <td>[]</td>\n",
       "      <td>[('ACFT', 'PERSON'), ('RAN INTO', 'ORG'), ('TR...</td>\n",
       "      <td>[('ACFT', 'PROPN'), ('WAS', 'VERB'), ('TAXIING...</td>\n",
       "      <td>['ACFT', 'be', 'taxi', 'for', 'take', 'off', '...</td>\n",
       "      <td>[('ACFT', 'nsubj', 'TAXIING'), ('WAS', 'auxpas...</td>\n",
       "      <td>-0.125</td>\n",
       "      <td>[]</td>\n",
       "    </tr>\n",
       "  </tbody>\n",
       "</table>\n",
       "</div>"
      ],
      "text/plain": [
       "                   c5                                               c119  \\\n",
       "2318  19990213001379A  ACFT WAS TAXIING FOR TAKE OFF WHEN IT LOST CON...   \n",
       "\n",
       "     c119_coref                                           c119_ner  \\\n",
       "2318         []  [('ACFT', 'PERSON'), ('RAN INTO', 'ORG'), ('TR...   \n",
       "\n",
       "                                               c119_pos  \\\n",
       "2318  [('ACFT', 'PROPN'), ('WAS', 'VERB'), ('TAXIING...   \n",
       "\n",
       "                                        c119_lemmatized  \\\n",
       "2318  ['ACFT', 'be', 'taxi', 'for', 'take', 'off', '...   \n",
       "\n",
       "                                        c119_dependency  c119_sentiment corefs  \n",
       "2318  [('ACFT', 'nsubj', 'TAXIING'), ('WAS', 'auxpas...          -0.125     []  "
      ]
     },
     "execution_count": 115,
     "metadata": {},
     "output_type": "execute_result"
    }
   ],
   "source": [
    "result_df[result_df['c5'] == '19990213001379A'] # sample output"
   ]
  },
  {
   "cell_type": "code",
   "execution_count": 116,
   "id": "7b1e48fb-674e-43e4-8adc-45d50407d964",
   "metadata": {},
   "outputs": [],
   "source": [
    "result_df.to_csv('../../tool_results/neuralcoref/neuralcoref_sm.csv', index=False)"
   ]
  },
  {
   "cell_type": "code",
   "execution_count": null,
   "id": "2ace5b33-dbf1-4540-9c98-9e5ebd4d0ce3",
   "metadata": {},
   "outputs": [],
   "source": []
  }
 ],
 "metadata": {
  "kernelspec": {
   "display_name": "Python 3 (ipykernel)",
   "language": "python",
   "name": "python3"
  },
  "language_info": {
   "codemirror_mode": {
    "name": "ipython",
    "version": 3
   },
   "file_extension": ".py",
   "mimetype": "text/x-python",
   "name": "python",
   "nbconvert_exporter": "python",
   "pygments_lexer": "ipython3",
   "version": "3.11.5"
  }
 },
 "nbformat": 4,
 "nbformat_minor": 5
}
