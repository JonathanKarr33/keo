{
 "cells": [
  {
   "cell_type": "markdown",
   "id": "2e240731-d57c-4101-acd9-1b764d74b386",
   "metadata": {},
   "source": [
    "### Coreference Reformat\n",
    "\n",
    "**** This notebook has a bug (likely in extract_chains) that causes errors, signified by negative numbers, in the output data. However, none of those errors occur in the data sampled for evaluation, so it is used for now*****\n",
    "\n",
    "In this notebook, we get the results outputted by coref_faa.py in the data/results folder, and add a column called corefs. This column follows the format expected by the cr_eval.py script in evaluations/automatic, and so makes evaluation much simpler.\n",
    "\n",
    "The desired format is like so:\\\n",
    "\\[ coreference_chain, coreference_chain, ... ] where coreference_chain = \\[mention_span, mention_span, ...] and mention_span = \\[start_word_index, end_word_index]\\\n",
    "Such that the coreference chain for the sentence \"PILOT LANDED ON WHAT HE THOUGHT TO BE ONE FOOT HIGH GRASS. IT TURNED OUT TO BE THREE FEET HIGH. ACFT NOSED OVER.\":\\\n",
    "Which is: \\[\\[\"PILOT\", \"HE\"], \\[\"ONE FOOT HIGH GRASS\", \"IT\"]]\\\n",
    "Appears as: [[0,0],[4,4],[[8,11],[13,13]]]\\\n",
    "The word indices are based on the word tokenization used in data/FAA_data/faa.conll, which is the input data for ASP and s2e-coref. The word indices continue to increase throughout the whole doc/entry and do not reset at sentence starts"
   ]
  },
  {
   "cell_type": "code",
   "execution_count": 1,
   "id": "eea835c5-1ca7-4a8b-8315-42cba9509d17",
   "metadata": {},
   "outputs": [],
   "source": [
    "import pandas as pd\n",
    "import re"
   ]
  },
  {
   "cell_type": "code",
   "execution_count": 2,
   "id": "bdbb2a5d-1a9b-4294-8fa1-c76ed82243db",
   "metadata": {},
   "outputs": [
    {
     "data": {
      "text/html": [
       "<div>\n",
       "<style scoped>\n",
       "    .dataframe tbody tr th:only-of-type {\n",
       "        vertical-align: middle;\n",
       "    }\n",
       "\n",
       "    .dataframe tbody tr th {\n",
       "        vertical-align: top;\n",
       "    }\n",
       "\n",
       "    .dataframe thead th {\n",
       "        text-align: right;\n",
       "    }\n",
       "</style>\n",
       "<table border=\"1\" class=\"dataframe\">\n",
       "  <thead>\n",
       "    <tr style=\"text-align: right;\">\n",
       "      <th></th>\n",
       "      <th>c5</th>\n",
       "      <th>c119</th>\n",
       "      <th>c119_coref</th>\n",
       "      <th>c119_ner</th>\n",
       "      <th>c119_pos</th>\n",
       "      <th>c119_lemmatized</th>\n",
       "      <th>c119_dependency</th>\n",
       "      <th>c119_sentiment</th>\n",
       "    </tr>\n",
       "  </thead>\n",
       "  <tbody>\n",
       "    <tr>\n",
       "      <th>0</th>\n",
       "      <td>19750315005389A</td>\n",
       "      <td>TAILWHEEL COCKED RIGHT PRIOR TO TKOF.         ...</td>\n",
       "      <td>[]</td>\n",
       "      <td>[('TAILWHEEL COCKED', 'ORG')]</td>\n",
       "      <td>[('TAILWHEEL', 'PROPN'), ('COCKED', 'PROPN'), ...</td>\n",
       "      <td>['TAILWHEEL', 'COCKED', 'right', 'prior', 'to'...</td>\n",
       "      <td>[('TAILWHEEL', 'compound', 'COCKED'), ('COCKED...</td>\n",
       "      <td>0.142857</td>\n",
       "    </tr>\n",
       "    <tr>\n",
       "      <th>1</th>\n",
       "      <td>19750419011349A</td>\n",
       "      <td>TOW PLANE BECAME AIRBORNE THEN SETTLED.STUDENT...</td>\n",
       "      <td>[]</td>\n",
       "      <td>[('SETTLED.STUDENT THOUGHT TOW IN', 'FAC')]</td>\n",
       "      <td>[('TOW', 'NOUN'), ('PLANE', 'NOUN'), ('BECAME'...</td>\n",
       "      <td>['tow', 'plane', 'become', 'airborne', 'then',...</td>\n",
       "      <td>[('TOW', 'compound', 'PLANE'), ('PLANE', 'nsub...</td>\n",
       "      <td>-0.200000</td>\n",
       "    </tr>\n",
       "    <tr>\n",
       "      <th>2</th>\n",
       "      <td>19751029037799A</td>\n",
       "      <td>2ND ILS APCH,ACFT'S G/S INOP.LOM TUNED TO WRON...</td>\n",
       "      <td>[]</td>\n",
       "      <td>[('2ND ILS APCH', 'ORG'), (\"ACFT'S\", 'ORG'), (...</td>\n",
       "      <td>[('2ND', 'PUNCT'), ('ILS', 'PROPN'), ('APCH', ...</td>\n",
       "      <td>['2ND', 'ILS', 'APCH', ',', 'ACFT', \"'s\", 'g',...</td>\n",
       "      <td>[('2ND', 'nummod', 'APCH'), ('ILS', 'compound'...</td>\n",
       "      <td>-0.250000</td>\n",
       "    </tr>\n",
       "    <tr>\n",
       "      <th>3</th>\n",
       "      <td>19751209037899A</td>\n",
       "      <td>PLT NOTED SOFT R BRAKE PEDAL DRG TAXI TO TKOF....</td>\n",
       "      <td>[]</td>\n",
       "      <td>[('RTND SPRINGFIELD', 'ORG')]</td>\n",
       "      <td>[('PLT', 'PROPN'), ('NOTED', 'ADV'), ('SOFT', ...</td>\n",
       "      <td>['PLT', 'noted', 'soft', 'R', 'brake', 'PEDAL'...</td>\n",
       "      <td>[('PLT', 'nsubj', 'NOTED'), ('NOTED', 'ROOT', ...</td>\n",
       "      <td>0.127083</td>\n",
       "    </tr>\n",
       "    <tr>\n",
       "      <th>4</th>\n",
       "      <td>19750818025579A</td>\n",
       "      <td>TAXI OFF HARD SFC DUE TFC R MAIN GR BROKE THRO...</td>\n",
       "      <td>[]</td>\n",
       "      <td>[('TAXI OFF', 'ORG')]</td>\n",
       "      <td>[('TAXI', 'VERB'), ('OFF', 'ADP'), ('HARD', 'A...</td>\n",
       "      <td>['taxi', 'off', 'hard', 'SFC', 'due', 'TFC', '...</td>\n",
       "      <td>[('TAXI', 'ROOT', 'TAXI'), ('OFF', 'prt', 'TAX...</td>\n",
       "      <td>-0.083333</td>\n",
       "    </tr>\n",
       "  </tbody>\n",
       "</table>\n",
       "</div>"
      ],
      "text/plain": [
       "                c5                                               c119  \\\n",
       "0  19750315005389A  TAILWHEEL COCKED RIGHT PRIOR TO TKOF.         ...   \n",
       "1  19750419011349A  TOW PLANE BECAME AIRBORNE THEN SETTLED.STUDENT...   \n",
       "2  19751029037799A  2ND ILS APCH,ACFT'S G/S INOP.LOM TUNED TO WRON...   \n",
       "3  19751209037899A  PLT NOTED SOFT R BRAKE PEDAL DRG TAXI TO TKOF....   \n",
       "4  19750818025579A  TAXI OFF HARD SFC DUE TFC R MAIN GR BROKE THRO...   \n",
       "\n",
       "  c119_coref                                           c119_ner  \\\n",
       "0         []                      [('TAILWHEEL COCKED', 'ORG')]   \n",
       "1         []        [('SETTLED.STUDENT THOUGHT TOW IN', 'FAC')]   \n",
       "2         []  [('2ND ILS APCH', 'ORG'), (\"ACFT'S\", 'ORG'), (...   \n",
       "3         []                      [('RTND SPRINGFIELD', 'ORG')]   \n",
       "4         []                              [('TAXI OFF', 'ORG')]   \n",
       "\n",
       "                                            c119_pos  \\\n",
       "0  [('TAILWHEEL', 'PROPN'), ('COCKED', 'PROPN'), ...   \n",
       "1  [('TOW', 'NOUN'), ('PLANE', 'NOUN'), ('BECAME'...   \n",
       "2  [('2ND', 'PUNCT'), ('ILS', 'PROPN'), ('APCH', ...   \n",
       "3  [('PLT', 'PROPN'), ('NOTED', 'ADV'), ('SOFT', ...   \n",
       "4  [('TAXI', 'VERB'), ('OFF', 'ADP'), ('HARD', 'A...   \n",
       "\n",
       "                                     c119_lemmatized  \\\n",
       "0  ['TAILWHEEL', 'COCKED', 'right', 'prior', 'to'...   \n",
       "1  ['tow', 'plane', 'become', 'airborne', 'then',...   \n",
       "2  ['2ND', 'ILS', 'APCH', ',', 'ACFT', \"'s\", 'g',...   \n",
       "3  ['PLT', 'noted', 'soft', 'R', 'brake', 'PEDAL'...   \n",
       "4  ['taxi', 'off', 'hard', 'SFC', 'due', 'TFC', '...   \n",
       "\n",
       "                                     c119_dependency  c119_sentiment  \n",
       "0  [('TAILWHEEL', 'compound', 'COCKED'), ('COCKED...        0.142857  \n",
       "1  [('TOW', 'compound', 'PLANE'), ('PLANE', 'nsub...       -0.200000  \n",
       "2  [('2ND', 'nummod', 'APCH'), ('ILS', 'compound'...       -0.250000  \n",
       "3  [('PLT', 'nsubj', 'NOTED'), ('NOTED', 'ROOT', ...        0.127083  \n",
       "4  [('TAXI', 'ROOT', 'TAXI'), ('OFF', 'prt', 'TAX...       -0.083333  "
      ]
     },
     "execution_count": 2,
     "metadata": {},
     "output_type": "execute_result"
    }
   ],
   "source": [
    "result_df = pd.read_csv('../../data/results/ncoref/FAA_DataModel_20240103111938.csv')\n",
    "result_df.head()"
   ]
  },
  {
   "cell_type": "markdown",
   "id": "bd95dde8-f5a3-4fb5-a35c-61089870c7e6",
   "metadata": {},
   "source": [
    "**Extract lists of coreferences from the string representation in column c119_coref**"
   ]
  },
  {
   "cell_type": "code",
   "execution_count": 26,
   "id": "7f116453-d0f8-4796-be53-09486558c4a6",
   "metadata": {},
   "outputs": [],
   "source": [
    "chain_p = re.compile(r'\\[([^\\[\\]]+: )?(\\[[^\\[\\]]+\\])?(, [^\\[\\]]+: )?(\\[[^\\[\\]]+\\])?(, [^\\[\\]]+: )?(\\[[^\\[\\]]+\\])?(, [^\\[\\]]+: )?(\\[[^\\[\\]]+\\])?\\]') # can capture up to 4 coreference chains\n",
    "coref_p = re.compile(r'\\[(.+)(, )(.+)(, )?(.+)?(, )?(.+)?(, )?(.+)?(, )?(.+)?\\]')\n",
    "\n",
    "def extract_chains(data_in):\n",
    "        \n",
    "    # Match coreference chains in c119_coref output\n",
    "    coref_chains = []\n",
    "    for match_group in re.match(chain_p, data_in).groups():\n",
    "        if match_group is not None and '[' in match_group:\n",
    "\n",
    "            # Match coreference mentions in coreference chain and store as list\n",
    "            coref_chain = [group for group in re.match(coref_p, match_group).groups() if group is not None and group != ', ']\n",
    "            coref_chains.append(coref_chain)\n",
    "\n",
    "    return coref_chains"
   ]
  },
  {
   "cell_type": "code",
   "execution_count": 30,
   "id": "106a4c9b-2938-4951-b099-23df672316c3",
   "metadata": {},
   "outputs": [
    {
     "data": {
      "text/plain": [
       "[[['ACFT', 'THE ACFT']], [], [], [], [], [], [], [], [], []]"
      ]
     },
     "execution_count": 30,
     "metadata": {},
     "output_type": "execute_result"
    }
   ],
   "source": [
    "c119_coref_chains = []\n",
    "for i in range(len(result_df)):\n",
    "    coref_chains = extract_chains(result_df['c119_coref'].iat[i])\n",
    "    c119_coref_chains.append(coref_chains)\n",
    "c119_coref_chains[2320:2330] # sample output"
   ]
  },
  {
   "cell_type": "markdown",
   "id": "ad4c1446-138d-440a-a233-a3fac2c0159f",
   "metadata": {},
   "source": [
    "**Get FAA data in format {c5_id:{0: word0, 1: word1, ..., n: wordn}} using word tokenization from faa.conll**"
   ]
  },
  {
   "cell_type": "code",
   "execution_count": 31,
   "id": "2d8e1cea-2b39-4355-af5a-0308ab612c14",
   "metadata": {},
   "outputs": [],
   "source": [
    "faa = {}\n",
    "\n",
    "with open('../../data/FAA_data/faa.conll') as f:\n",
    "    text = f.read()\n",
    "\n",
    "docs = text.split('#begin document ')\n",
    "\n",
    "for doc in docs:\n",
    "    if doc[:5] == '(faa/':\n",
    "        word_count = 0\n",
    "        c5_id = doc.split('_')[1][:15]\n",
    "        faa[c5_id] = {}\n",
    "        lines = doc.split('\\n')\n",
    "        for line in lines[1:]:\n",
    "            if 'faa' in line:\n",
    "                faa[c5_id][word_count] = line.split()[3].upper()\n",
    "                word_count = word_count + 1"
   ]
  },
  {
   "cell_type": "markdown",
   "id": "d0e7c19c-7356-40e6-8ce5-31da798fa7f9",
   "metadata": {},
   "source": [
    "**Get word indices for c119_coref col in result_df**"
   ]
  },
  {
   "cell_type": "code",
   "execution_count": 32,
   "id": "78ebd64e-0eff-4c57-9bf4-8e7591bcbbc2",
   "metadata": {},
   "outputs": [],
   "source": [
    "def get_spans(coref_chain, words):\n",
    "    ''' Input: ['MENTION1','MENTION2',...]\n",
    "        Output: [[startidx_mention1, end_idxmention1], [startidx_mention2, end_idxmention2], ...]\n",
    "    '''\n",
    "\n",
    "    chain_spans = []\n",
    "\n",
    "    resume_idx = 0\n",
    "    \n",
    "    for mention in coref_chain:\n",
    "\n",
    "        mention_span = [-1, -1]\n",
    "        \n",
    "        if mention in ' '.join(words.values()):\n",
    "            # find start of mention\n",
    "            for iword, word in words.items():\n",
    "                if iword >= resume_idx and mention.split()[0] == word:\n",
    "                    mention_span[0] = iword\n",
    "\n",
    "                    if words[iword + len(mention.split()) - 1] == mention.split()[-1]:\n",
    "                        mention_span[1] = iword + len(mention.split()) - 1\n",
    "                        resume_idx = iword + len(mention.split()) # set 'resume_idx' such that it continues for looking for mentions in the coref chain after this one, so it cannot be counted twice\n",
    "                        break\n",
    "                    else:\n",
    "                        mention_span[0] = -2\n",
    "                    # else reset and continue\n",
    "        \n",
    "        chain_spans.append(mention_span)\n",
    "\n",
    "    return chain_spans"
   ]
  },
  {
   "cell_type": "code",
   "execution_count": 36,
   "id": "0fd3617b-e6e0-4e78-ae8e-e091ebad1b78",
   "metadata": {},
   "outputs": [
    {
     "data": {
      "text/plain": [
       "[[[[4, 4], [16, 17]]], [], [], [], [], [], [], [], [], []]"
      ]
     },
     "execution_count": 36,
     "metadata": {},
     "output_type": "execute_result"
    }
   ],
   "source": [
    "# Iterate through c119_coref_chains\n",
    "\n",
    "formatted = []\n",
    "\n",
    "for i in range(len(result_df)):\n",
    "\n",
    "    coref_chains = c119_coref_chains[i]\n",
    "\n",
    "    output_chains = []\n",
    "    for coref_chain in coref_chains:\n",
    "        \n",
    "            # Get spans of words of coref chain using get_spans\n",
    "            chain_spans = get_spans(coref_chain, faa[result_df['c5'][i]])\n",
    "\n",
    "            output_chains.append(chain_spans)\n",
    "\n",
    "    formatted.append(output_chains)\n",
    "\n",
    "formatted[2320:2330] # sample output"
   ]
  },
  {
   "cell_type": "markdown",
   "id": "d6f2cb92-99df-4974-b8c9-13103c6eb103",
   "metadata": {},
   "source": [
    "**Check for errors**"
   ]
  },
  {
   "cell_type": "code",
   "execution_count": 67,
   "id": "ebea7475-bd14-43b1-8451-d4fc36f1a739",
   "metadata": {
    "scrolled": true
   },
   "outputs": [],
   "source": [
    "errs = []\n",
    "for iresult, result in enumerate(formatted):\n",
    "    for chain in result:\n",
    "        if [-1,-1] in chain: # should also look for [-2, *]\n",
    "            errs.append(iresult)"
   ]
  },
  {
   "cell_type": "code",
   "execution_count": 70,
   "id": "30ef2812-0eff-4387-b7be-81e35cd7f2bd",
   "metadata": {},
   "outputs": [],
   "source": [
    "sample = pd.read_csv('../../data/sampling/FAA_sample_100.csv')\n",
    "errs_to_check = []\n",
    "for err in errs:\n",
    "    if err in sample['Unnamed: 0']:\n",
    "        errs_to_check.append(err)"
   ]
  },
  {
   "cell_type": "code",
   "execution_count": 72,
   "id": "95c1e043-5c35-44d8-973d-836442ee90e0",
   "metadata": {},
   "outputs": [
    {
     "data": {
      "text/plain": [
       "[]"
      ]
     },
     "execution_count": 72,
     "metadata": {},
     "output_type": "execute_result"
    }
   ],
   "source": [
    "errs_to_check # No errors occur within the data sampled for evaluation"
   ]
  },
  {
   "cell_type": "markdown",
   "id": "f11b0b27-5e52-4680-ae2e-99fed3a5bee5",
   "metadata": {},
   "source": [
    "**Add formatted column to df**"
   ]
  },
  {
   "cell_type": "code",
   "execution_count": 73,
   "id": "b52aa597-c91c-4fc7-b973-9baa3a5f2ad2",
   "metadata": {},
   "outputs": [],
   "source": [
    "result_df['corefs'] = formatted"
   ]
  },
  {
   "cell_type": "code",
   "execution_count": 75,
   "id": "6f4a0a9d-7255-4afb-a3ba-a4a5be0b13da",
   "metadata": {},
   "outputs": [
    {
     "data": {
      "text/html": [
       "<div>\n",
       "<style scoped>\n",
       "    .dataframe tbody tr th:only-of-type {\n",
       "        vertical-align: middle;\n",
       "    }\n",
       "\n",
       "    .dataframe tbody tr th {\n",
       "        vertical-align: top;\n",
       "    }\n",
       "\n",
       "    .dataframe thead th {\n",
       "        text-align: right;\n",
       "    }\n",
       "</style>\n",
       "<table border=\"1\" class=\"dataframe\">\n",
       "  <thead>\n",
       "    <tr style=\"text-align: right;\">\n",
       "      <th></th>\n",
       "      <th>c5</th>\n",
       "      <th>c119</th>\n",
       "      <th>c119_coref</th>\n",
       "      <th>c119_ner</th>\n",
       "      <th>c119_pos</th>\n",
       "      <th>c119_lemmatized</th>\n",
       "      <th>c119_dependency</th>\n",
       "      <th>c119_sentiment</th>\n",
       "      <th>corefs</th>\n",
       "    </tr>\n",
       "  </thead>\n",
       "  <tbody>\n",
       "    <tr>\n",
       "      <th>2318</th>\n",
       "      <td>19990213001379A</td>\n",
       "      <td>ACFT WAS TAXIING FOR TAKE OFF WHEN IT LOST CON...</td>\n",
       "      <td>[ACFT: [ACFT, IT]]</td>\n",
       "      <td>[('ACFT', 'ORG'), ('DITCH', 'PERSON'), ('AE', ...</td>\n",
       "      <td>[('ACFT', 'PROPN'), ('WAS', 'VERB'), ('TAXIING...</td>\n",
       "      <td>['ACFT', 'be', 'taxi', 'for', 'take', 'off', '...</td>\n",
       "      <td>[('ACFT', 'nsubj', 'TAXIING'), ('WAS', 'aux', ...</td>\n",
       "      <td>-0.125</td>\n",
       "      <td>[[[0, 0], [7, 7]]]</td>\n",
       "    </tr>\n",
       "  </tbody>\n",
       "</table>\n",
       "</div>"
      ],
      "text/plain": [
       "                   c5                                               c119  \\\n",
       "2318  19990213001379A  ACFT WAS TAXIING FOR TAKE OFF WHEN IT LOST CON...   \n",
       "\n",
       "              c119_coref                                           c119_ner  \\\n",
       "2318  [ACFT: [ACFT, IT]]  [('ACFT', 'ORG'), ('DITCH', 'PERSON'), ('AE', ...   \n",
       "\n",
       "                                               c119_pos  \\\n",
       "2318  [('ACFT', 'PROPN'), ('WAS', 'VERB'), ('TAXIING...   \n",
       "\n",
       "                                        c119_lemmatized  \\\n",
       "2318  ['ACFT', 'be', 'taxi', 'for', 'take', 'off', '...   \n",
       "\n",
       "                                        c119_dependency  c119_sentiment  \\\n",
       "2318  [('ACFT', 'nsubj', 'TAXIING'), ('WAS', 'aux', ...          -0.125   \n",
       "\n",
       "                  corefs  \n",
       "2318  [[[0, 0], [7, 7]]]  "
      ]
     },
     "execution_count": 75,
     "metadata": {},
     "output_type": "execute_result"
    }
   ],
   "source": [
    "result_df[result_df['c5'] == '19990213001379A'] # sample output"
   ]
  },
  {
   "cell_type": "code",
   "execution_count": 77,
   "id": "7b1e48fb-674e-43e4-8adc-45d50407d964",
   "metadata": {},
   "outputs": [],
   "source": [
    "result_df.to_csv('../../data/results/ncoref/crosslingual_coref_with_errors.csv', index=False)"
   ]
  },
  {
   "cell_type": "code",
   "execution_count": null,
   "id": "26134acd-c92f-492a-906a-3f80890a6248",
   "metadata": {},
   "outputs": [],
   "source": []
  }
 ],
 "metadata": {
  "kernelspec": {
   "display_name": "Python 3 (ipykernel)",
   "language": "python",
   "name": "python3"
  },
  "language_info": {
   "codemirror_mode": {
    "name": "ipython",
    "version": 3
   },
   "file_extension": ".py",
   "mimetype": "text/x-python",
   "name": "python",
   "nbconvert_exporter": "python",
   "pygments_lexer": "ipython3",
   "version": "3.11.5"
  }
 },
 "nbformat": 4,
 "nbformat_minor": 5
}
