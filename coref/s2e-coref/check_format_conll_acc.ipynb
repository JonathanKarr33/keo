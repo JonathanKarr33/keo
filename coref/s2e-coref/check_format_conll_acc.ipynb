{
 "cells": [
  {
   "cell_type": "code",
   "execution_count": 1,
   "id": "cbb310bf-1a43-4b4c-a122-c8c130d05928",
   "metadata": {},
   "outputs": [],
   "source": [
    "with open(\"conll_data/dev.english.v4_gold_conll\") as f:\n",
    "    conll_data = f.readlines()"
   ]
  },
  {
   "cell_type": "code",
   "execution_count": 2,
   "id": "dd1fbab9-1e78-45eb-ad60-d9d777f6a26d",
   "metadata": {},
   "outputs": [],
   "source": [
    "with open(\"./test_data/dev.english.v4_gold_conll\") as f:\n",
    "    formatted_data = f.readlines()"
   ]
  },
  {
   "cell_type": "code",
   "execution_count": 3,
   "id": "f6286966-49dc-42cd-b727-398e9e1c882f",
   "metadata": {},
   "outputs": [],
   "source": [
    "def check_diff(iline, line, gold_line, index, index_name):\n",
    "    if line[index] != gold_line[index]:\n",
    "        print(f\"Line {iline}: Difference in {index_name}: {line[index]} should be {gold_line[index]}\")"
   ]
  },
  {
   "cell_type": "code",
   "execution_count": 9,
   "id": "69667bfa-b6e5-454a-8a07-0a0a66535c87",
   "metadata": {},
   "outputs": [
    {
     "data": {
      "text/plain": [
       "(9653, 9602)"
      ]
     },
     "execution_count": 9,
     "metadata": {},
     "output_type": "execute_result"
    }
   ],
   "source": [
    "len(conll_data), len(formatted_data)"
   ]
  },
  {
   "cell_type": "code",
   "execution_count": 5,
   "id": "26bd305f-0548-4585-9987-f6734f76abc3",
   "metadata": {},
   "outputs": [
    {
     "name": "stdout",
     "output_type": "stream",
     "text": [
      "Line 5: Difference in POS-tag: VBN should be JJ\n",
      "Line 7: Difference in POS-tag: NN should be VB\n",
      "Line 8: Difference in POS-tag: RB should be IN\n",
      "Line 10: Difference in POS-tag: VB should be CD\n"
     ]
    },
    {
     "ename": "IndexError",
     "evalue": "list index out of range",
     "output_type": "error",
     "traceback": [
      "\u001b[0;31m---------------------------------------------------------------------------\u001b[0m",
      "\u001b[0;31mIndexError\u001b[0m                                Traceback (most recent call last)",
      "Cell \u001b[0;32mIn[5], line 6\u001b[0m\n\u001b[1;32m      4\u001b[0m gold_line \u001b[38;5;241m=\u001b[39m conll_data[iline]\u001b[38;5;241m.\u001b[39msplit()\n\u001b[1;32m      5\u001b[0m line \u001b[38;5;241m=\u001b[39m formatted_data[iline]\u001b[38;5;241m.\u001b[39msplit()\n\u001b[0;32m----> 6\u001b[0m check_diff(iline, line, gold_line, \u001b[38;5;241m0\u001b[39m, \u001b[38;5;124m\"\u001b[39m\u001b[38;5;124mtitle\u001b[39m\u001b[38;5;124m\"\u001b[39m)\n\u001b[1;32m      7\u001b[0m check_diff(iline, line, gold_line, \u001b[38;5;241m1\u001b[39m, \u001b[38;5;124m\"\u001b[39m\u001b[38;5;124mpart_no\u001b[39m\u001b[38;5;124m\"\u001b[39m)\n\u001b[1;32m      8\u001b[0m check_diff(iline, line, gold_line, \u001b[38;5;241m2\u001b[39m, \u001b[38;5;124m\"\u001b[39m\u001b[38;5;124mword_no\u001b[39m\u001b[38;5;124m\"\u001b[39m)\n",
      "Cell \u001b[0;32mIn[3], line 2\u001b[0m, in \u001b[0;36mcheck_diff\u001b[0;34m(iline, line, gold_line, index, index_name)\u001b[0m\n\u001b[1;32m      1\u001b[0m \u001b[38;5;28;01mdef\u001b[39;00m \u001b[38;5;21mcheck_diff\u001b[39m(iline, line, gold_line, index, index_name):\n\u001b[0;32m----> 2\u001b[0m     \u001b[38;5;28;01mif\u001b[39;00m line[index] \u001b[38;5;241m!=\u001b[39m gold_line[index]:\n\u001b[1;32m      3\u001b[0m         \u001b[38;5;28mprint\u001b[39m(\u001b[38;5;124mf\u001b[39m\u001b[38;5;124m\"\u001b[39m\u001b[38;5;124mLine \u001b[39m\u001b[38;5;132;01m{\u001b[39;00miline\u001b[38;5;132;01m}\u001b[39;00m\u001b[38;5;124m: Difference in \u001b[39m\u001b[38;5;132;01m{\u001b[39;00mindex_name\u001b[38;5;132;01m}\u001b[39;00m\u001b[38;5;124m: \u001b[39m\u001b[38;5;132;01m{\u001b[39;00mline[index]\u001b[38;5;132;01m}\u001b[39;00m\u001b[38;5;124m should be \u001b[39m\u001b[38;5;132;01m{\u001b[39;00mgold_line[index]\u001b[38;5;132;01m}\u001b[39;00m\u001b[38;5;124m\"\u001b[39m)\n",
      "\u001b[0;31mIndexError\u001b[0m: list index out of range"
     ]
    }
   ],
   "source": [
    "for iline in range(len(conll_data)):\n",
    "    if \"#begin\" in conll_data[iline] or \"#end\" in conll_data[iline]:\n",
    "        continue\n",
    "    gold_line = conll_data[iline].split()\n",
    "    line = formatted_data[iline].split()\n",
    "    check_diff(iline, line, gold_line, 0, \"title\")\n",
    "    check_diff(iline, line, gold_line, 1, \"part_no\")\n",
    "    check_diff(iline, line, gold_line, 2, \"word_no\")\n",
    "    check_diff(iline, line, gold_line, 4, \"POS-tag\")\n",
    "    check_diff(iline, line, gold_line, 5, \"parse bit\")\n",
    "    check_diff(iline, line, gold_line, 10, \"NER label\")"
   ]
  },
  {
   "cell_type": "code",
   "execution_count": null,
   "id": "f5e7e718-969d-4597-839e-f25165a171ea",
   "metadata": {},
   "outputs": [],
   "source": []
  }
 ],
 "metadata": {
  "kernelspec": {
   "display_name": "Python 3 (ipykernel)",
   "language": "python",
   "name": "python3"
  },
  "language_info": {
   "codemirror_mode": {
    "name": "ipython",
    "version": 3
   },
   "file_extension": ".py",
   "mimetype": "text/x-python",
   "name": "python",
   "nbconvert_exporter": "python",
   "pygments_lexer": "ipython3",
   "version": "3.11.5"
  }
 },
 "nbformat": 4,
 "nbformat_minor": 5
}
