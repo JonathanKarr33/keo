{
 "cells": [
  {
   "cell_type": "code",
   "execution_count": 5,
   "id": "f63923f3-7185-4131-b6ca-570f6eb786bd",
   "metadata": {},
   "outputs": [],
   "source": [
    "import re\n",
    "import json"
   ]
  },
  {
   "cell_type": "code",
   "execution_count": 2,
   "id": "752bec5a-cd61-4d3e-bb94-80e3e0f78d81",
   "metadata": {},
   "outputs": [],
   "source": [
    "with open(\"conll_data/dev.english.v4_gold_conll\") as f:\n",
    "    conll_data = f.readlines()"
   ]
  },
  {
   "cell_type": "code",
   "execution_count": 3,
   "id": "52bea144-17a0-4f57-9645-1c9b9ea0e67f",
   "metadata": {},
   "outputs": [],
   "source": [
    "docs = []\n",
    "doc_ids = []\n",
    "words = []\n",
    "for line in conll_data:\n",
    "    if \"#begin document\" in line:\n",
    "        words = []\n",
    "        # Find out whether same doc new part or new doc:\n",
    "        mo = re.match(r\"#begin document \\((.*)\\); part (\\d+)\", line)\n",
    "        doc_id, part_no = mo.groups()\n",
    "        if doc_id not in doc_ids:\n",
    "            docs.append([])\n",
    "            doc_ids.append(doc_id)\n",
    "            \n",
    "        \n",
    "    elif \"#end document\" in line:\n",
    "        docs[-1].append(' '.join(words))\n",
    "    elif not line.isspace():\n",
    "        columns = line.split()\n",
    "        word = columns[3]\n",
    "        word = re.sub(\"/\",\"\", word)\n",
    "        words.append(word)"
   ]
  },
  {
   "cell_type": "code",
   "execution_count": 4,
   "id": "ed67c076-43a6-4d46-9188-44ae3022486c",
   "metadata": {},
   "outputs": [],
   "source": [
    "json_data = {doc_ids[idoc]:docs[idoc] for idoc in range(len(docs))}"
   ]
  },
  {
   "cell_type": "code",
   "execution_count": 6,
   "id": "2aa75f01-86fc-4205-9ffc-91c0b999f2c8",
   "metadata": {},
   "outputs": [],
   "source": [
    "with open(\"./conll_raw.json\", 'w') as json_file:\n",
    "    json.dump(json_data, json_file, indent=4)"
   ]
  },
  {
   "cell_type": "code",
   "execution_count": null,
   "id": "22ec833f-443f-4577-8708-7f35c2b3c967",
   "metadata": {},
   "outputs": [],
   "source": []
  }
 ],
 "metadata": {
  "kernelspec": {
   "display_name": "Python 3 (ipykernel)",
   "language": "python",
   "name": "python3"
  },
  "language_info": {
   "codemirror_mode": {
    "name": "ipython",
    "version": 3
   },
   "file_extension": ".py",
   "mimetype": "text/x-python",
   "name": "python",
   "nbconvert_exporter": "python",
   "pygments_lexer": "ipython3",
   "version": "3.11.5"
  }
 },
 "nbformat": 4,
 "nbformat_minor": 5
}
