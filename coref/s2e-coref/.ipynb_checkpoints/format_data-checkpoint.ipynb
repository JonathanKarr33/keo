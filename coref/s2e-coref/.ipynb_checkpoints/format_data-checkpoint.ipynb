{
 "cells": [
  {
   "cell_type": "code",
   "execution_count": 39,
   "id": "5a60c072-9228-4aa6-b656-c11ea0ff2795",
   "metadata": {},
   "outputs": [],
   "source": [
    "from sklearn.model_selection import train_test_split\n",
    "import os"
   ]
  },
  {
   "cell_type": "code",
   "execution_count": 40,
   "id": "34f64f23-5f83-407c-833f-bb7e2dc38990",
   "metadata": {},
   "outputs": [],
   "source": [
    "with open(\"../../data/FAA_data/Maintenance_Text_data_conll.txt\",\"r\") as f:\n",
    "    "
   ]
  },
  {
   "cell_type": "code",
   "execution_count": 36,
   "id": "32f60d06-273e-494e-bc77-558393860a0a",
   "metadata": {},
   "outputs": [],
   "source": [
    "train, test = train_test_split(data, test_size= 0.3)\n",
    "test, dev = train_test_split(test, test_size = 0.5)"
   ]
  },
  {
   "cell_type": "code",
   "execution_count": 38,
   "id": "c9c0d768-f602-46e2-9bfe-4495e8725499",
   "metadata": {},
   "outputs": [],
   "source": [
    "data_dict = {\"train\":list(train), \"test\":list(test), \"dev\":list(dev)}\n",
    "\n",
    "os.mkdir('./data_conll')\n",
    "for name in [\"train\", \"test\", \"dev\"]:\n",
    "    with open(f'./data/{name}.english.v4_gold_conll', \"a\") as f:\n",
    "        print(\"#begin document (faa); part 00\", file=f)\n",
    "        for ient in range(len(data_dict[name])):\n",
    "            print(data_dict[name][ient], file=f)\n",
    "        print(\"#end document\", file=f)"
   ]
  },
  {
   "cell_type": "code",
   "execution_count": null,
   "id": "62b11adf-5dc0-4c7f-8a55-77a490b3caee",
   "metadata": {},
   "outputs": [],
   "source": []
  }
 ],
 "metadata": {
  "kernelspec": {
   "display_name": "Python 3 (ipykernel)",
   "language": "python",
   "name": "python3"
  },
  "language_info": {
   "codemirror_mode": {
    "name": "ipython",
    "version": 3
   },
   "file_extension": ".py",
   "mimetype": "text/x-python",
   "name": "python",
   "nbconvert_exporter": "python",
   "pygments_lexer": "ipython3",
   "version": "3.9.15"
  }
 },
 "nbformat": 4,
 "nbformat_minor": 5
}
