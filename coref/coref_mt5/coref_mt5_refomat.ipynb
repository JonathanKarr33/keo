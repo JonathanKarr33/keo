{
 "cells": [
  {
   "cell_type": "markdown",
   "id": "c7d713ed-40e0-4550-b5c5-2a7ff1b10c7d",
   "metadata": {},
   "source": [
    "### Coref mt5 Output Reformat\n",
    "\n",
    "In this notebook, we get the results outputted by coref_mt5/main.py in the data/results folder, called coref_mt5_raw.csv, and process it to create another csv called coref_mt5.csv, with a column called corefs. This column follows the format expected by the cr_eval.py script in evaluations/automatic, and so makes evaluation much simpler.\n",
    "\n",
    "The desired format is like so:\\\n",
    "\\[ coreference_chain, coreference_chain, ... ] where coreference_chain = \\[mention_span, mention_span, ...] and mention_span = \\[start_word_index, end_word_index]\\\n",
    "Such that the coreference chain for the sentence \"PILOT LANDED ON WHAT HE THOUGHT TO BE ONE FOOT HIGH GRASS. IT TURNED OUT TO BE THREE FEET HIGH. ACFT NOSED OVER.\":\\\n",
    "Which is: \\[\\[\"PILOT\", \"HE\"], \\[\"ONE FOOT HIGH GRASS\", \"IT\"]]\\\n",
    "Appears as: [[0,0],[4,4],[[8,11],[13,13]]]\\\n",
    "The word indices are based on the word tokenization used in data/FAA_data/faa.json, which is used to create faa.jsonl in coref_mt5/data The word indices continue to increase throughout the whole doc/entry and do not reset at sentence starts"
   ]
  },
  {
   "cell_type": "code",
   "execution_count": 119,
   "id": "4b3dc93c-3108-4644-a2d8-2b1abfd1b85e",
   "metadata": {},
   "outputs": [],
   "source": [
    "import pandas as pd\n",
    "import re\n",
    "import ast"
   ]
  },
  {
   "cell_type": "code",
   "execution_count": 120,
   "id": "1467a0ed-5374-4ae2-8959-050bcc46d38e",
   "metadata": {},
   "outputs": [
    {
     "data": {
      "text/html": [
       "<div>\n",
       "<style scoped>\n",
       "    .dataframe tbody tr th:only-of-type {\n",
       "        vertical-align: middle;\n",
       "    }\n",
       "\n",
       "    .dataframe tbody tr th {\n",
       "        vertical-align: top;\n",
       "    }\n",
       "\n",
       "    .dataframe thead th {\n",
       "        text-align: right;\n",
       "    }\n",
       "</style>\n",
       "<table border=\"1\" class=\"dataframe\">\n",
       "  <thead>\n",
       "    <tr style=\"text-align: right;\">\n",
       "      <th></th>\n",
       "      <th>c5_id</th>\n",
       "      <th>input</th>\n",
       "      <th>prediction_strings</th>\n",
       "      <th>results</th>\n",
       "    </tr>\n",
       "  </thead>\n",
       "  <tbody>\n",
       "    <tr>\n",
       "      <th>0</th>\n",
       "      <td>19750315005389A</td>\n",
       "      <td>{'doc_key': 'faa/0_19750315005389A', 'sentence...</td>\n",
       "      <td>{0: ''}</td>\n",
       "      <td>None [+ E]</td>\n",
       "    </tr>\n",
       "    <tr>\n",
       "      <th>1</th>\n",
       "      <td>19750419011349A</td>\n",
       "      <td>{'doc_key': 'faa/1_19750419011349A', 'sentence...</td>\n",
       "      <td>{0: '', 1: 'None [+ E]'}</td>\n",
       "      <td>None [+ E]</td>\n",
       "    </tr>\n",
       "    <tr>\n",
       "      <th>2</th>\n",
       "      <td>19750419011349A</td>\n",
       "      <td>{'doc_key': 'faa/1_19750419011349A', 'sentence...</td>\n",
       "      <td>{0: '', 1: 'None [+ E]', 2: 'None [+ E]'}</td>\n",
       "      <td>None [+ E]</td>\n",
       "    </tr>\n",
       "    <tr>\n",
       "      <th>3</th>\n",
       "      <td>19750419011349A</td>\n",
       "      <td>{'doc_key': 'faa/1_19750419011349A', 'sentence...</td>\n",
       "      <td>{0: '', 1: 'None [+ E]', 2: 'None [+ E]'}</td>\n",
       "      <td>None [+ E]</td>\n",
       "    </tr>\n",
       "    <tr>\n",
       "      <th>4</th>\n",
       "      <td>19751029037799A</td>\n",
       "      <td>{'doc_key': 'faa/2_19751029037799A', 'sentence...</td>\n",
       "      <td>{0: '', 1: 'None [+ E]'}</td>\n",
       "      <td>None [+ E]</td>\n",
       "    </tr>\n",
       "  </tbody>\n",
       "</table>\n",
       "</div>"
      ],
      "text/plain": [
       "             c5_id                                              input  \\\n",
       "0  19750315005389A  {'doc_key': 'faa/0_19750315005389A', 'sentence...   \n",
       "1  19750419011349A  {'doc_key': 'faa/1_19750419011349A', 'sentence...   \n",
       "2  19750419011349A  {'doc_key': 'faa/1_19750419011349A', 'sentence...   \n",
       "3  19750419011349A  {'doc_key': 'faa/1_19750419011349A', 'sentence...   \n",
       "4  19751029037799A  {'doc_key': 'faa/2_19751029037799A', 'sentence...   \n",
       "\n",
       "                          prediction_strings     results  \n",
       "0                                    {0: ''}  None [+ E]  \n",
       "1                   {0: '', 1: 'None [+ E]'}  None [+ E]  \n",
       "2  {0: '', 1: 'None [+ E]', 2: 'None [+ E]'}  None [+ E]  \n",
       "3  {0: '', 1: 'None [+ E]', 2: 'None [+ E]'}  None [+ E]  \n",
       "4                   {0: '', 1: 'None [+ E]'}  None [+ E]  "
      ]
     },
     "execution_count": 120,
     "metadata": {},
     "output_type": "execute_result"
    }
   ],
   "source": [
    "result_df = pd.read_csv('../../data/results/coref_mt5/coref_mt5_raw.csv')\n",
    "result_df.head()"
   ]
  },
  {
   "cell_type": "code",
   "execution_count": 121,
   "id": "f84ba1fb-a028-4013-9e34-5aee4feab906",
   "metadata": {},
   "outputs": [
    {
     "data": {
      "text/html": [
       "<div>\n",
       "<style scoped>\n",
       "    .dataframe tbody tr th:only-of-type {\n",
       "        vertical-align: middle;\n",
       "    }\n",
       "\n",
       "    .dataframe tbody tr th {\n",
       "        vertical-align: top;\n",
       "    }\n",
       "\n",
       "    .dataframe thead th {\n",
       "        text-align: right;\n",
       "    }\n",
       "</style>\n",
       "<table border=\"1\" class=\"dataframe\">\n",
       "  <thead>\n",
       "    <tr style=\"text-align: right;\">\n",
       "      <th></th>\n",
       "      <th>c5_id</th>\n",
       "      <th>input</th>\n",
       "      <th>prediction_strings</th>\n",
       "      <th>results</th>\n",
       "    </tr>\n",
       "  </thead>\n",
       "  <tbody>\n",
       "    <tr>\n",
       "      <th>1696</th>\n",
       "      <td>19840107019539I</td>\n",
       "      <td>{'doc_key': 'faa/743_19840107019539I', 'senten...</td>\n",
       "      <td>{0: '', 1: 'None [+ E]'}</td>\n",
       "      <td>None [+ E]</td>\n",
       "    </tr>\n",
       "    <tr>\n",
       "      <th>1697</th>\n",
       "      <td>19840107019539I</td>\n",
       "      <td>{'doc_key': 'faa/743_19840107019539I', 'senten...</td>\n",
       "      <td>{0: '', 1: 'None [+ E]', 2: 'it ## . ** _ -&gt; c...</td>\n",
       "      <td>it ## . ** _ -&gt; cabin door ## opened . | ;;</td>\n",
       "    </tr>\n",
       "    <tr>\n",
       "      <th>1698</th>\n",
       "      <td>19840107019539I</td>\n",
       "      <td>{'doc_key': 'faa/743_19840107019539I', 'senten...</td>\n",
       "      <td>{0: '', 1: 'None [+ E]', 2: 'it ## . ** _ -&gt; c...</td>\n",
       "      <td>his ## hand blew into -&gt; pilot ## tried to clo...</td>\n",
       "    </tr>\n",
       "    <tr>\n",
       "      <th>1699</th>\n",
       "      <td>19840107019539I</td>\n",
       "      <td>{'doc_key': 'faa/743_19840107019539I', 'senten...</td>\n",
       "      <td>{0: '', 1: 'None [+ E]', 2: 'it ## . ** _ -&gt; c...</td>\n",
       "      <td>door ## not secured ** -&gt; [1 ;;</td>\n",
       "    </tr>\n",
       "  </tbody>\n",
       "</table>\n",
       "</div>"
      ],
      "text/plain": [
       "                c5_id                                              input  \\\n",
       "1696  19840107019539I  {'doc_key': 'faa/743_19840107019539I', 'senten...   \n",
       "1697  19840107019539I  {'doc_key': 'faa/743_19840107019539I', 'senten...   \n",
       "1698  19840107019539I  {'doc_key': 'faa/743_19840107019539I', 'senten...   \n",
       "1699  19840107019539I  {'doc_key': 'faa/743_19840107019539I', 'senten...   \n",
       "\n",
       "                                     prediction_strings  \\\n",
       "1696                           {0: '', 1: 'None [+ E]'}   \n",
       "1697  {0: '', 1: 'None [+ E]', 2: 'it ## . ** _ -> c...   \n",
       "1698  {0: '', 1: 'None [+ E]', 2: 'it ## . ** _ -> c...   \n",
       "1699  {0: '', 1: 'None [+ E]', 2: 'it ## . ** _ -> c...   \n",
       "\n",
       "                                                results  \n",
       "1696                                         None [+ E]  \n",
       "1697        it ## . ** _ -> cabin door ## opened . | ;;  \n",
       "1698  his ## hand blew into -> pilot ## tried to clo...  \n",
       "1699                    door ## not secured ** -> [1 ;;  "
      ]
     },
     "execution_count": 121,
     "metadata": {},
     "output_type": "execute_result"
    }
   ],
   "source": [
    "# example coreference\n",
    "result_df[result_df['c5_id'] == '19840107019539I']"
   ]
  },
  {
   "cell_type": "markdown",
   "id": "f50ed836-0349-43fc-b92c-81333919c97c",
   "metadata": {},
   "source": [
    "**Define functions**"
   ]
  },
  {
   "cell_type": "code",
   "execution_count": 122,
   "id": "57b1e975-21a8-470b-afbf-fcef94961efa",
   "metadata": {
    "jupyter": {
     "source_hidden": true
    }
   },
   "outputs": [],
   "source": [
    "def find_sublist(lst, sublst):\n",
    "    \"\"\"\n",
    "    Find the start index of the first occurrence of the sublist in the list.\n",
    "\n",
    "    Args:\n",
    "    lst (list): The list to search within.\n",
    "    sublst (list): The sublist to search for.\n",
    "\n",
    "    Returns:\n",
    "    int: The starting index of the first occurrence of the sublist in the list, or -1 if the sublist is not found.\n",
    "    \"\"\"\n",
    "    n = len(sublst)\n",
    "    for i in range(len(lst) - n + 1):\n",
    "        if lst[i:i + n] == sublst:\n",
    "            return i\n",
    "    return -1"
   ]
  },
  {
   "cell_type": "code",
   "execution_count": 123,
   "id": "dcc4dbed-b33a-453e-8acd-130e456ee764",
   "metadata": {
    "jupyter": {
     "source_hidden": true
    }
   },
   "outputs": [],
   "source": [
    "def get_coref_chains(c5_id, result_df):\n",
    "\n",
    "    output = result_df[result_df['c5_id'] == c5_id]\n",
    "    input = ast.literal_eval(list(output['input'].unique())[0]) # get dict form of input for c5_id\n",
    "    sent_idx_to_doc_idx = {sent_no : {idx:idx+sum([len(input['sentences'][isent]) for isent in range(sent_no)]) for idx in range(len(input['sentences'][sent_no]))} for sent_no in input['sentences']}\n",
    "    \n",
    "    coref_chains = {}\n",
    "    coref_chain_no = 1\n",
    "    \n",
    "    for isent in input['sentences'].keys():\n",
    "        result = output['results'].iat[isent]\n",
    "        if result != 'None [+ E]':\n",
    "            pairs = result.split(';;')\n",
    "            for pair in pairs:\n",
    "                if len(pair) > 0:\n",
    "                    a, b = pair.split('->')\n",
    "            \n",
    "                    # find span of a, which will be in the sentence\n",
    "                    a_coref = a.split('##')[0].split()\n",
    "                    a_context_right = a.split('##')[1].split('**')[0].split()\n",
    "                    a_coref_start = find_sublist(input['sentences'][isent], a_coref+a_context_right)\n",
    "                    a_coref_start = sent_idx_to_doc_idx[isent][a_coref_start] # translate to doc_idx\n",
    "                    a_coref_end = a_coref_start + len(a_coref) - 1 # calc end idx from start\n",
    "            \n",
    "                    # find b\n",
    "                    mo = re.match(r'\\[([1-9])', b.strip()) # check if b is a reference to a previous group, i.e., '[1' means it is a ref to group 1\n",
    "                    if mo:\n",
    "                        ref_chain = ast.literal_eval(mo.groups()[0])\n",
    "                        coref_chains[ref_chain].append([a_coref_start, a_coref_end]) # add coref a to previously existing chain\n",
    "            \n",
    "                    # else new coref chain\n",
    "                    else:\n",
    "                        \n",
    "                        # parse b\n",
    "                        b_coref = b.split('##')[0].split()\n",
    "                        b_context_right = b.split('##')[1].split('|')[0].split()\n",
    "                        for ichecksent in range(isent + 1): # check sentences before this one\n",
    "                            b_coref_start = find_sublist(input['sentences'][ichecksent], b_coref+b_context_right)\n",
    "                            if b_coref_start > -1:\n",
    "                                b_coref_start = sent_idx_to_doc_idx[ichecksent][b_coref_start] # translate to doc_idx\n",
    "                                continue\n",
    "                        b_coref_end = b_coref_start + len(b_coref) - 1 # calc end idx from start\n",
    "            \n",
    "                        # Now save to coref_chains\n",
    "                        coref_chains[coref_chain_no] = [[a_coref_start, a_coref_end], [b_coref_start, b_coref_end]]\n",
    "                        coref_chain_no = coref_chain_no + 1\n",
    "        \n",
    "    return list(coref_chains.values())"
   ]
  },
  {
   "cell_type": "markdown",
   "id": "f0929fdd-25cb-4de0-9d09-d31989aa7a3f",
   "metadata": {},
   "source": [
    "**Correct small error found in coref_mt5 output**\n",
    "\n",
    "When running the code under \"Parse Coreferences\" without any edit, there is an error at document 20040822021239A.\n",
    "\n",
    "The result which triggers the bug in find_sublist: pilot ## , owner m. -> ( -23 ) pilot ## reported aircraft accident ;;\\\r\n",
    "The sentence it's looking in:  ['pilot', ',', 'owner', 'mr.', 'gary', 'jones', 'st'\n",
    "\n",
    "We note that the issue is that for whatever reason, the string generated is simple 'm.' where it should be 'mr.' Since the mistake is just a part of the context and not the actual coreference, we'll correct if for them.]"
   ]
  },
  {
   "cell_type": "code",
   "execution_count": 144,
   "id": "ff092939-8367-4dbb-853c-26203253986c",
   "metadata": {},
   "outputs": [
    {
     "name": "stdout",
     "output_type": "stream",
     "text": [
      "pilot ## , owner m. -> ( -23 ) pilot ## reported aircraft accident ;;\n",
      "['pilot', ',', 'owner', 'mr.', 'gary', 'jones', 'st']\n"
     ]
    }
   ],
   "source": [
    "# data cited above ^\n",
    "print(result_df[result_df['c5_id']=='20040822021239A']['results'].iat[1])\n",
    "print(ast.literal_eval(result_df[result_df['c5_id']=='20040822021239A']['input'].iat[1])['sentences'][1])"
   ]
  },
  {
   "cell_type": "code",
   "execution_count": 153,
   "id": "8b3739cd-aff8-4883-83b6-0be1abf0b097",
   "metadata": {},
   "outputs": [],
   "source": [
    "# correct err in results_df:\n",
    "result_df.iloc[6674]['results'] = \"pilot ## , owner mr. -> ( -23 ) pilot ## reported aircraft accident ;;\""
   ]
  },
  {
   "cell_type": "markdown",
   "id": "cb5b1ad4-39a5-4a2d-a4a2-b39667073fbe",
   "metadata": {},
   "source": [
    "**Parse Coreferences**\n",
    "\n",
    "If any c5 id's get printed out, need to debug before saving"
   ]
  },
  {
   "cell_type": "code",
   "execution_count": 155,
   "id": "c8711177-2486-429e-a6f2-67580b5ba592",
   "metadata": {},
   "outputs": [],
   "source": [
    "coref_chains = []\n",
    "for c5_id in result_df['c5_id'].unique():\n",
    "    try:\n",
    "        coref_chains.append(get_coref_chains(c5_id, result_df))\n",
    "    except:\n",
    "        print(c5_id)\n",
    "        coref_chains.append([])"
   ]
  },
  {
   "cell_type": "markdown",
   "id": "84337d34-146b-49a6-bb5c-35f6bb1d1b95",
   "metadata": {},
   "source": [
    "**Save Processed CSV**"
   ]
  },
  {
   "cell_type": "code",
   "execution_count": 157,
   "id": "74b24a0a-e942-48cc-849e-df0b2a2848a2",
   "metadata": {},
   "outputs": [],
   "source": [
    "# get original data\n",
    "original_df = pd.read_csv('../../data/FAA_data/Maintenance_Text_data_nona.csv')\n",
    "\n",
    "# make processed df\n",
    "processed_df = pd.DataFrame({'c5_id':list(original_df['c5']), 'c119_input':list(original_df['c119']), 'corefs':coref_chains})"
   ]
  },
  {
   "cell_type": "code",
   "execution_count": 158,
   "id": "da5a83d3-2afd-4b38-bcda-4d9d1fae2287",
   "metadata": {},
   "outputs": [
    {
     "data": {
      "text/html": [
       "<div>\n",
       "<style scoped>\n",
       "    .dataframe tbody tr th:only-of-type {\n",
       "        vertical-align: middle;\n",
       "    }\n",
       "\n",
       "    .dataframe tbody tr th {\n",
       "        vertical-align: top;\n",
       "    }\n",
       "\n",
       "    .dataframe thead th {\n",
       "        text-align: right;\n",
       "    }\n",
       "</style>\n",
       "<table border=\"1\" class=\"dataframe\">\n",
       "  <thead>\n",
       "    <tr style=\"text-align: right;\">\n",
       "      <th></th>\n",
       "      <th>c5_id</th>\n",
       "      <th>c119_input</th>\n",
       "      <th>corefs</th>\n",
       "    </tr>\n",
       "  </thead>\n",
       "  <tbody>\n",
       "    <tr>\n",
       "      <th>0</th>\n",
       "      <td>19750315005389A</td>\n",
       "      <td>TAILWHEEL COCKED RIGHT PRIOR TO TKOF.         ...</td>\n",
       "      <td>[]</td>\n",
       "    </tr>\n",
       "    <tr>\n",
       "      <th>1</th>\n",
       "      <td>19750419011349A</td>\n",
       "      <td>TOW PLANE BECAME AIRBORNE THEN SETTLED.STUDENT...</td>\n",
       "      <td>[]</td>\n",
       "    </tr>\n",
       "    <tr>\n",
       "      <th>2</th>\n",
       "      <td>19751029037799A</td>\n",
       "      <td>2ND ILS APCH,ACFT'S G/S INOP.LOM TUNED TO WRON...</td>\n",
       "      <td>[]</td>\n",
       "    </tr>\n",
       "    <tr>\n",
       "      <th>3</th>\n",
       "      <td>19751209037899A</td>\n",
       "      <td>PLT NOTED SOFT R BRAKE PEDAL DRG TAXI TO TKOF....</td>\n",
       "      <td>[]</td>\n",
       "    </tr>\n",
       "    <tr>\n",
       "      <th>4</th>\n",
       "      <td>19750818025579A</td>\n",
       "      <td>TAXI OFF HARD SFC DUE TFC R MAIN GR BROKE THRO...</td>\n",
       "      <td>[]</td>\n",
       "    </tr>\n",
       "    <tr>\n",
       "      <th>...</th>\n",
       "      <td>...</td>\n",
       "      <td>...</td>\n",
       "      <td>...</td>\n",
       "    </tr>\n",
       "    <tr>\n",
       "      <th>2743</th>\n",
       "      <td>20080227010559I</td>\n",
       "      <td>(-23) A/C RELOCATED TO NEW HANGAR TO CHECK SIZ...</td>\n",
       "      <td>[[[18, 18], [12, 12], [23, 23]]]</td>\n",
       "    </tr>\n",
       "    <tr>\n",
       "      <th>2744</th>\n",
       "      <td>20080223013919I</td>\n",
       "      <td>(-23) ON 2/23/08 @ APPROXIMATELY 2130 DURING T...</td>\n",
       "      <td>[]</td>\n",
       "    </tr>\n",
       "    <tr>\n",
       "      <th>2745</th>\n",
       "      <td>20080226013819I</td>\n",
       "      <td>(-23) PILOT TOOK OFF FOR LEESBURG AIRPORT AND ...</td>\n",
       "      <td>[[[23, 23], [0, 3]]]</td>\n",
       "    </tr>\n",
       "    <tr>\n",
       "      <th>2746</th>\n",
       "      <td>20080702843529I</td>\n",
       "      <td>(-23) OWNER FORGOT TO FASTEN THE LOWER LEFT 4 ...</td>\n",
       "      <td>[[[17, 17], [-1, 1]]]</td>\n",
       "    </tr>\n",
       "    <tr>\n",
       "      <th>2747</th>\n",
       "      <td>20080404840559A</td>\n",
       "      <td>(-23) THE AIRCRAFT EXPERIENCED SEVERE TURBULAN...</td>\n",
       "      <td>[]</td>\n",
       "    </tr>\n",
       "  </tbody>\n",
       "</table>\n",
       "<p>2748 rows × 3 columns</p>\n",
       "</div>"
      ],
      "text/plain": [
       "                c5_id                                         c119_input  \\\n",
       "0     19750315005389A  TAILWHEEL COCKED RIGHT PRIOR TO TKOF.         ...   \n",
       "1     19750419011349A  TOW PLANE BECAME AIRBORNE THEN SETTLED.STUDENT...   \n",
       "2     19751029037799A  2ND ILS APCH,ACFT'S G/S INOP.LOM TUNED TO WRON...   \n",
       "3     19751209037899A  PLT NOTED SOFT R BRAKE PEDAL DRG TAXI TO TKOF....   \n",
       "4     19750818025579A  TAXI OFF HARD SFC DUE TFC R MAIN GR BROKE THRO...   \n",
       "...               ...                                                ...   \n",
       "2743  20080227010559I  (-23) A/C RELOCATED TO NEW HANGAR TO CHECK SIZ...   \n",
       "2744  20080223013919I  (-23) ON 2/23/08 @ APPROXIMATELY 2130 DURING T...   \n",
       "2745  20080226013819I  (-23) PILOT TOOK OFF FOR LEESBURG AIRPORT AND ...   \n",
       "2746  20080702843529I  (-23) OWNER FORGOT TO FASTEN THE LOWER LEFT 4 ...   \n",
       "2747  20080404840559A  (-23) THE AIRCRAFT EXPERIENCED SEVERE TURBULAN...   \n",
       "\n",
       "                                corefs  \n",
       "0                                   []  \n",
       "1                                   []  \n",
       "2                                   []  \n",
       "3                                   []  \n",
       "4                                   []  \n",
       "...                                ...  \n",
       "2743  [[[18, 18], [12, 12], [23, 23]]]  \n",
       "2744                                []  \n",
       "2745              [[[23, 23], [0, 3]]]  \n",
       "2746             [[[17, 17], [-1, 1]]]  \n",
       "2747                                []  \n",
       "\n",
       "[2748 rows x 3 columns]"
      ]
     },
     "execution_count": 158,
     "metadata": {},
     "output_type": "execute_result"
    }
   ],
   "source": [
    "processed_df"
   ]
  },
  {
   "cell_type": "code",
   "execution_count": 159,
   "id": "3c4641f6-5444-4a95-bca7-3c050f416f96",
   "metadata": {},
   "outputs": [],
   "source": [
    "processed_df.to_csv('../../data/results/coref_mt5.csv', index=False)"
   ]
  },
  {
   "cell_type": "code",
   "execution_count": null,
   "id": "69dd6807-b1c3-4bfb-9ae6-1aeafbacb54c",
   "metadata": {},
   "outputs": [],
   "source": []
  }
 ],
 "metadata": {
  "kernelspec": {
   "display_name": "Python 3 (ipykernel)",
   "language": "python",
   "name": "python3"
  },
  "language_info": {
   "codemirror_mode": {
    "name": "ipython",
    "version": 3
   },
   "file_extension": ".py",
   "mimetype": "text/x-python",
   "name": "python",
   "nbconvert_exporter": "python",
   "pygments_lexer": "ipython3",
   "version": "3.11.5"
  }
 },
 "nbformat": 4,
 "nbformat_minor": 5
}
