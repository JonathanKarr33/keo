{
 "cells": [
  {
   "cell_type": "markdown",
   "id": "d74b235c-3765-4ffc-8cdc-6edcd469c6bf",
   "metadata": {},
   "source": [
    "Converts faa.json (found in 2K-paper/data/FAA_data) to the jsonl format expected by mt5_coref_pytorch (https://github.com/ianporada/mt5_coref_pytorch/tree/main)"
   ]
  },
  {
   "cell_type": "code",
   "execution_count": 5,
   "id": "1786812c-d4a2-49de-b023-7108c133ee44",
   "metadata": {},
   "outputs": [
    {
     "name": "stderr",
     "output_type": "stream",
     "text": [
      "[nltk_data] Downloading package punkt to\n",
      "[nltk_data]     /afs/crc.nd.edu/user/k/kmealey2/nltk_data...\n",
      "[nltk_data]   Unzipping tokenizers/punkt.zip.\n"
     ]
    },
    {
     "data": {
      "text/plain": [
       "True"
      ]
     },
     "execution_count": 5,
     "metadata": {},
     "output_type": "execute_result"
    }
   ],
   "source": [
    "import json\n",
    "import nltk\n",
    "nltk.download('punkt')"
   ]
  },
  {
   "cell_type": "code",
   "execution_count": 6,
   "id": "6e607751-c47f-407a-81e3-e82f95ac6eb5",
   "metadata": {},
   "outputs": [],
   "source": [
    "def write_jsonl(fname, examples):\n",
    "    with open(fname, 'w') as f:\n",
    "            for ex in examples:\n",
    "                json.dump(ex, f)\n",
    "                f.write('\\n')"
   ]
  },
  {
   "cell_type": "code",
   "execution_count": 7,
   "id": "9ae1807a-baa5-4132-8a02-6a6593366364",
   "metadata": {},
   "outputs": [],
   "source": [
    "with open('../../OMIN_dataset/data/FAA_data/faa.json') as f:\n",
    "    faa = json.load(f)"
   ]
  },
  {
   "cell_type": "code",
   "execution_count": 8,
   "id": "ba63e50c-acbf-4bd5-a314-8cc4c9d5e922",
   "metadata": {},
   "outputs": [],
   "source": [
    "inputs = []\n",
    "for key in faa:\n",
    "    doc = {}\n",
    "    doc[\"document_id\"] = key\n",
    "    doc[\"sentences\"] = []\n",
    "    sentences = nltk.sent_tokenize(faa[key][0])\n",
    "    for sentence in sentences:\n",
    "        sentence_dict = {\"words\":nltk.word_tokenize(sentence), \"speaker\":\"_\"}\n",
    "        doc[\"sentences\"].append(sentence_dict)\n",
    "    inputs.append(doc)"
   ]
  },
  {
   "cell_type": "code",
   "execution_count": 9,
   "id": "74892016-4f5e-4bd1-bb73-c698f4316351",
   "metadata": {},
   "outputs": [],
   "source": [
    "write_jsonl('faa.jsonl',inputs)"
   ]
  },
  {
   "cell_type": "code",
   "execution_count": null,
   "id": "9370add3-2d80-4de1-b999-6f65c2a12a26",
   "metadata": {},
   "outputs": [],
   "source": []
  }
 ],
 "metadata": {
  "kernelspec": {
   "display_name": "Python 3 (ipykernel)",
   "language": "python",
   "name": "python3"
  },
  "language_info": {
   "codemirror_mode": {
    "name": "ipython",
    "version": 3
   },
   "file_extension": ".py",
   "mimetype": "text/x-python",
   "name": "python",
   "nbconvert_exporter": "python",
   "pygments_lexer": "ipython3",
   "version": "3.11.5"
  }
 },
 "nbformat": 4,
 "nbformat_minor": 5
}
