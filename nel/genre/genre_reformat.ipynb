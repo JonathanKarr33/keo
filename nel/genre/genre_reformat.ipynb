{
 "cells": [
  {
   "cell_type": "markdown",
   "id": "7dbcff73-e025-4218-8d65-6541bd372042",
   "metadata": {},
   "source": [
    "### GENRE Output Reformat\n",
    "\n",
    "This notebook reformats GENRE's output and saves it to a csv which is more easily interpretable by evaluation scripts"
   ]
  },
  {
   "cell_type": "code",
   "execution_count": 1,
   "id": "63febf0c-dcc9-48a2-a9b6-ef5d242acb53",
   "metadata": {},
   "outputs": [],
   "source": [
    "import pandas as pd\n",
    "import re\n",
    "import pickle"
   ]
  },
  {
   "cell_type": "code",
   "execution_count": 21,
   "id": "e77c9b54-84a8-461f-a75a-cf88ddb93242",
   "metadata": {},
   "outputs": [
    {
     "data": {
      "text/html": [
       "<div>\n",
       "<style scoped>\n",
       "    .dataframe tbody tr th:only-of-type {\n",
       "        vertical-align: middle;\n",
       "    }\n",
       "\n",
       "    .dataframe tbody tr th {\n",
       "        vertical-align: top;\n",
       "    }\n",
       "\n",
       "    .dataframe thead th {\n",
       "        text-align: right;\n",
       "    }\n",
       "</style>\n",
       "<table border=\"1\" class=\"dataframe\">\n",
       "  <thead>\n",
       "    <tr style=\"text-align: right;\">\n",
       "      <th></th>\n",
       "      <th>c5_unique_id</th>\n",
       "      <th>c119_text</th>\n",
       "      <th>c119_output</th>\n",
       "      <th>c119_score</th>\n",
       "    </tr>\n",
       "  </thead>\n",
       "  <tbody>\n",
       "    <tr>\n",
       "      <th>0</th>\n",
       "      <td>19990213001379A</td>\n",
       "      <td>ACFT WAS TAXIING FOR TAKE OFF WHEN IT LOST CON...</td>\n",
       "      <td>ACFT WAS TAXIING FOR TAKE OFF WHEN IT LOST { C...</td>\n",
       "      <td>-0.553834</td>\n",
       "    </tr>\n",
       "    <tr>\n",
       "      <th>1</th>\n",
       "      <td>19800217031649I</td>\n",
       "      <td>AFTER TAKEOFF, ENGINE QUIT. WING FUEL TANK SUM...</td>\n",
       "      <td>AFTER TAKEOFF, ENGINE QUIT. WING FUEL TANK SUM...</td>\n",
       "      <td>-0.262258</td>\n",
       "    </tr>\n",
       "    <tr>\n",
       "      <th>2</th>\n",
       "      <td>19790720021329A</td>\n",
       "      <td>HELICOPTER TOOK OFF WITH SLING LOAD ATTACHED. ...</td>\n",
       "      <td>HELICOPTER TOOK OFF WITH SLING LOAD ATTACHED. ...</td>\n",
       "      <td>-0.145806</td>\n",
       "    </tr>\n",
       "    <tr>\n",
       "      <th>3</th>\n",
       "      <td>19841214074599I</td>\n",
       "      <td>WHILE TAXIING LOST NOSEWHEEL STEERING AND BRAK...</td>\n",
       "      <td>WHILE TAXIING LOST NOSEWHEEL STEERING AND BRAK...</td>\n",
       "      <td>-0.068722</td>\n",
       "    </tr>\n",
       "    <tr>\n",
       "      <th>4</th>\n",
       "      <td>19860128014289I</td>\n",
       "      <td>FORWARD CARGO DOOR OPENED AS AIRCRAFT TOOK OFF...</td>\n",
       "      <td>FORWARD CARGO DOOR OPENED AS AIRCRAFT TOOK OFF...</td>\n",
       "      <td>-0.152180</td>\n",
       "    </tr>\n",
       "  </tbody>\n",
       "</table>\n",
       "</div>"
      ],
      "text/plain": [
       "      c5_unique_id                                          c119_text  \\\n",
       "0  19990213001379A  ACFT WAS TAXIING FOR TAKE OFF WHEN IT LOST CON...   \n",
       "1  19800217031649I  AFTER TAKEOFF, ENGINE QUIT. WING FUEL TANK SUM...   \n",
       "2  19790720021329A  HELICOPTER TOOK OFF WITH SLING LOAD ATTACHED. ...   \n",
       "3  19841214074599I  WHILE TAXIING LOST NOSEWHEEL STEERING AND BRAK...   \n",
       "4  19860128014289I  FORWARD CARGO DOOR OPENED AS AIRCRAFT TOOK OFF...   \n",
       "\n",
       "                                         c119_output  c119_score  \n",
       "0  ACFT WAS TAXIING FOR TAKE OFF WHEN IT LOST { C...   -0.553834  \n",
       "1  AFTER TAKEOFF, ENGINE QUIT. WING FUEL TANK SUM...   -0.262258  \n",
       "2  HELICOPTER TOOK OFF WITH SLING LOAD ATTACHED. ...   -0.145806  \n",
       "3  WHILE TAXIING LOST NOSEWHEEL STEERING AND BRAK...   -0.068722  \n",
       "4  FORWARD CARGO DOOR OPENED AS AIRCRAFT TOOK OFF...   -0.152180  "
      ]
     },
     "execution_count": 21,
     "metadata": {},
     "output_type": "execute_result"
    }
   ],
   "source": [
    "result_df = pd.read_csv('../../data/results/genre/FAA_model_gold_standards_independant_20240611150355.csv')\n",
    "result_df.head()"
   ]
  },
  {
   "cell_type": "markdown",
   "id": "f4c818f8-d6a1-4583-8ef3-5e7f036ecb1b",
   "metadata": {},
   "source": [
    "**Load title2wikidataID dict**\n",
    "\n",
    "We follow the example at https://github.com/facebookresearch/GENRE/tree/main/examples_mgenre and download lang_title2wikidataID-normalized_with_redirect.pkl to translate the generated titles to Wikidata QIDs"
   ]
  },
  {
   "cell_type": "code",
   "execution_count": null,
   "id": "0d6db6ce-a4a6-4027-bbb7-041e2ecb1e62",
   "metadata": {},
   "outputs": [],
   "source": [
    "with open(\"lang_title2wikidataID-normalized_with_redirect.pkl\", \"rb\") as f:\n",
    "    lang_title2wikidataID = pickle.load(f)"
   ]
  },
  {
   "cell_type": "code",
   "execution_count": null,
   "id": "fc6dae61-11fd-45f0-a343-662c1f460973",
   "metadata": {},
   "outputs": [],
   "source": [
    "list(lang_title2wikidataID.keys())[10:20] # see sample"
   ]
  },
  {
   "cell_type": "code",
   "execution_count": 5,
   "id": "56346655-c9a9-4fa3-9eba-f4b342cf0652",
   "metadata": {},
   "outputs": [
    {
     "data": {
      "text/plain": [
       "True"
      ]
     },
     "execution_count": 5,
     "metadata": {},
     "output_type": "execute_result"
    }
   ],
   "source": [
    "('en','Boeing') in lang_title2wikidataID"
   ]
  },
  {
   "cell_type": "code",
   "execution_count": 6,
   "id": "8866c876-3f0f-4ccf-9b1a-623537c06b51",
   "metadata": {},
   "outputs": [
    {
     "data": {
      "text/plain": [
       "'Q66'"
      ]
     },
     "execution_count": 6,
     "metadata": {},
     "output_type": "execute_result"
    }
   ],
   "source": [
    "max(lang_title2wikidataID[('en','Boeing')], key=lambda y: int(y[1:])) # func from mgenre examples notebook"
   ]
  },
  {
   "cell_type": "markdown",
   "id": "b6f7b970-0935-4312-b993-177d94e46423",
   "metadata": {},
   "source": [
    "**Define title2id function**\n",
    "\n",
    "Flexible for capitalization issues"
   ]
  },
  {
   "cell_type": "code",
   "execution_count": 8,
   "id": "cdb7da29-1673-4766-b6f7-857ec5077294",
   "metadata": {},
   "outputs": [],
   "source": [
    "def title2id(title):\n",
    "    \n",
    "    try:\n",
    "        id = max(lang_title2wikidataID[('en',title)], key=lambda y: int(y[1:]))\n",
    "    except KeyError:\n",
    "        try:\n",
    "            id = max(lang_title2wikidataID[('en',title.title())], key=lambda y: int(y[1:]))\n",
    "        except:\n",
    "            id = None\n",
    "    return id"
   ]
  },
  {
   "cell_type": "markdown",
   "id": "6b04cf6c-d8de-41c6-adfe-d032c8136781",
   "metadata": {},
   "source": [
    "**Get entities, titles, and id using regex**"
   ]
  },
  {
   "cell_type": "code",
   "execution_count": 9,
   "id": "9bfe906e-34f1-4de8-89dd-450ee920ccff",
   "metadata": {},
   "outputs": [],
   "source": [
    "out_dict = {'c5_unique_id':[],'c119_text':[],'c119_output':[],'c119_score':[], 'entities':[],'titles':[],'ids':[]}\n",
    "ent_title_p = re.compile('[^\\{]*\\{ ([^\\}]+) \\} \\[ ([^\\]]+) ] (.*)') # collects groups: ent, title, rest\n",
    "\n",
    "for i in range(len(result_df)):\n",
    "    text = result_df['c119_output'].iat[i]\n",
    "    \n",
    "    while text:\n",
    "        mo = re.match(ent_title_p, text)\n",
    "        if mo:\n",
    "            ent, title, text = mo.groups()\n",
    "\n",
    "            id = title2id(title)\n",
    "    \n",
    "            out_dict['c5_unique_id'].append(result_df['c5_unique_id'].iat[i])\n",
    "            out_dict['c119_text'].append(result_df['c119_text'].iat[i])\n",
    "            out_dict['c119_output'].append(result_df['c119_output'].iat[i])\n",
    "            out_dict['c119_score'].append(result_df['c119_score'].iat[i])\n",
    "            out_dict['entities'].append(ent)\n",
    "            out_dict['titles'].append(title)\n",
    "            out_dict['ids'].append(id)\n",
    "        \n",
    "        else:\n",
    "            text = None"
   ]
  },
  {
   "cell_type": "code",
   "execution_count": 18,
   "id": "c4320126-4f8d-4495-b2c3-57b2df60d1a6",
   "metadata": {},
   "outputs": [
    {
     "data": {
      "text/html": [
       "<div>\n",
       "<style scoped>\n",
       "    .dataframe tbody tr th:only-of-type {\n",
       "        vertical-align: middle;\n",
       "    }\n",
       "\n",
       "    .dataframe tbody tr th {\n",
       "        vertical-align: top;\n",
       "    }\n",
       "\n",
       "    .dataframe thead th {\n",
       "        text-align: right;\n",
       "    }\n",
       "</style>\n",
       "<table border=\"1\" class=\"dataframe\">\n",
       "  <thead>\n",
       "    <tr style=\"text-align: right;\">\n",
       "      <th></th>\n",
       "      <th>c5_unique_id</th>\n",
       "      <th>c119_text</th>\n",
       "      <th>c119_output</th>\n",
       "      <th>c119_score</th>\n",
       "      <th>entities</th>\n",
       "      <th>titles</th>\n",
       "      <th>ids</th>\n",
       "    </tr>\n",
       "  </thead>\n",
       "  <tbody>\n",
       "    <tr>\n",
       "      <th>0</th>\n",
       "      <td>19900425011659A</td>\n",
       "      <td>RAN OUT OF FUEL ON FERRY FLIGHT. LEFT PONTOON ...</td>\n",
       "      <td>RAN OUT OF { FUEL } [ El Salvador ] ON FERRY F...</td>\n",
       "      <td>-0.200809</td>\n",
       "      <td>FUEL</td>\n",
       "      <td>El Salvador</td>\n",
       "      <td>Q792</td>\n",
       "    </tr>\n",
       "    <tr>\n",
       "      <th>1</th>\n",
       "      <td>19900425011659A</td>\n",
       "      <td>RAN OUT OF FUEL ON FERRY FLIGHT. LEFT PONTOON ...</td>\n",
       "      <td>RAN OUT OF { FUEL } [ El Salvador ] ON FERRY F...</td>\n",
       "      <td>-0.200809</td>\n",
       "      <td>FUEL</td>\n",
       "      <td>El Salvador</td>\n",
       "      <td>Q792</td>\n",
       "    </tr>\n",
       "    <tr>\n",
       "      <th>2</th>\n",
       "      <td>19900425011659A</td>\n",
       "      <td>RAN OUT OF FUEL ON FERRY FLIGHT. LEFT PONTOON ...</td>\n",
       "      <td>RAN OUT OF { FUEL } [ El Salvador ] ON FERRY F...</td>\n",
       "      <td>-0.200809</td>\n",
       "      <td>FUEL</td>\n",
       "      <td>El Salvador</td>\n",
       "      <td>Q792</td>\n",
       "    </tr>\n",
       "    <tr>\n",
       "      <th>3</th>\n",
       "      <td>20000625032189I</td>\n",
       "      <td>(-23)NORTHWEST AIRLINES DC-10 BOEING PUSHED BA...</td>\n",
       "      <td>(-23)NORTHWEST AIRLINES { DC-10 } [ Douglas DC...</td>\n",
       "      <td>-0.109136</td>\n",
       "      <td>DC-10</td>\n",
       "      <td>Douglas DC-10</td>\n",
       "      <td>Q208075</td>\n",
       "    </tr>\n",
       "    <tr>\n",
       "      <th>4</th>\n",
       "      <td>20000625032189I</td>\n",
       "      <td>(-23)NORTHWEST AIRLINES DC-10 BOEING PUSHED BA...</td>\n",
       "      <td>(-23)NORTHWEST AIRLINES { DC-10 } [ Douglas DC...</td>\n",
       "      <td>-0.109136</td>\n",
       "      <td>B-52</td>\n",
       "      <td>Boeing B-52 Stratofortress</td>\n",
       "      <td>Q174534</td>\n",
       "    </tr>\n",
       "  </tbody>\n",
       "</table>\n",
       "</div>"
      ],
      "text/plain": [
       "      c5_unique_id                                          c119_text  \\\n",
       "0  19900425011659A  RAN OUT OF FUEL ON FERRY FLIGHT. LEFT PONTOON ...   \n",
       "1  19900425011659A  RAN OUT OF FUEL ON FERRY FLIGHT. LEFT PONTOON ...   \n",
       "2  19900425011659A  RAN OUT OF FUEL ON FERRY FLIGHT. LEFT PONTOON ...   \n",
       "3  20000625032189I  (-23)NORTHWEST AIRLINES DC-10 BOEING PUSHED BA...   \n",
       "4  20000625032189I  (-23)NORTHWEST AIRLINES DC-10 BOEING PUSHED BA...   \n",
       "\n",
       "                                         c119_output  c119_score entities  \\\n",
       "0  RAN OUT OF { FUEL } [ El Salvador ] ON FERRY F...   -0.200809     FUEL   \n",
       "1  RAN OUT OF { FUEL } [ El Salvador ] ON FERRY F...   -0.200809     FUEL   \n",
       "2  RAN OUT OF { FUEL } [ El Salvador ] ON FERRY F...   -0.200809     FUEL   \n",
       "3  (-23)NORTHWEST AIRLINES { DC-10 } [ Douglas DC...   -0.109136    DC-10   \n",
       "4  (-23)NORTHWEST AIRLINES { DC-10 } [ Douglas DC...   -0.109136     B-52   \n",
       "\n",
       "                       titles      ids  \n",
       "0                 El Salvador     Q792  \n",
       "1                 El Salvador     Q792  \n",
       "2                 El Salvador     Q792  \n",
       "3               Douglas DC-10  Q208075  \n",
       "4  Boeing B-52 Stratofortress  Q174534  "
      ]
     },
     "execution_count": 18,
     "metadata": {},
     "output_type": "execute_result"
    }
   ],
   "source": [
    "out_df = pd.DataFrame(out_dict)\n",
    "out_df.head()"
   ]
  },
  {
   "cell_type": "markdown",
   "id": "a5aa1eda-486b-4cc2-8ebc-aa06f6f650f6",
   "metadata": {},
   "source": [
    "**Save DataFrame**"
   ]
  },
  {
   "cell_type": "code",
   "execution_count": 20,
   "id": "9143ea63-45b6-4f79-8e06-6390be772fdb",
   "metadata": {},
   "outputs": [],
   "source": [
    "out_df.to_csv('../../data/results/genre/genre.csv', index=False)"
   ]
  },
  {
   "cell_type": "code",
   "execution_count": null,
   "id": "dddfc4b7-ff78-4ab0-b532-b80fb3ee19cb",
   "metadata": {},
   "outputs": [],
   "source": []
  }
 ],
 "metadata": {
  "kernelspec": {
   "display_name": "Python 3 (ipykernel)",
   "language": "python",
   "name": "python3"
  },
  "language_info": {
   "codemirror_mode": {
    "name": "ipython",
    "version": 3
   },
   "file_extension": ".py",
   "mimetype": "text/x-python",
   "name": "python",
   "nbconvert_exporter": "python",
   "pygments_lexer": "ipython3",
   "version": "3.11.5"
  }
 },
 "nbformat": 4,
 "nbformat_minor": 5
}
