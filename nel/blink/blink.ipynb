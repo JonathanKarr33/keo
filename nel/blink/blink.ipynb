{
 "cells": [
  {
   "cell_type": "code",
   "execution_count": 1,
   "id": "c7064f74-7e24-4676-95bd-bedb89c95587",
   "metadata": {},
   "outputs": [],
   "source": [
    "import argparse\n",
    "import sys\n",
    "sys.path.append(\"./BLINK\")\n",
    "import blink.candidate_ranking.utils as utils\n",
    "from main_dense import load_models, run, _print_colorful_text, _print_colorful_prediction, _annotate, _get_test_samples, _process_biencoder_dataloader, _run_biencoder, _process_crossencoder_dataloader, _run_crossencoder"
   ]
  },
  {
   "cell_type": "code",
   "execution_count": 2,
   "id": "ead90cfd-f484-4ff3-b223-4d0d1efeea7e",
   "metadata": {},
   "outputs": [],
   "source": [
    "models_path = \"BLINK/models/\" # the path where you stored the BLINK models\n",
    "\n",
    "config = {\n",
    "    \"test_entities\": None,\n",
    "    \"test_mentions\": None,\n",
    "    \"interactive\": False,\n",
    "    \"top_k\": 10,\n",
    "    \"biencoder_model\": models_path+\"biencoder_wiki_large.bin\",\n",
    "    \"biencoder_config\": models_path+\"biencoder_wiki_large.json\",\n",
    "    \"entity_catalogue\": models_path+\"entity.jsonl\",\n",
    "    \"entity_encoding\": models_path+\"all_entities_large.t7\",\n",
    "    \"crossencoder_model\": models_path+\"crossencoder_wiki_large.bin\",\n",
    "    \"crossencoder_config\": models_path+\"crossencoder_wiki_large.json\",\n",
    "    \"fast\": False, # set this to be true if speed is a concern\n",
    "    \"output_path\": \"logs/\" # logging directory\n",
    "}\n",
    "\n",
    "args = argparse.Namespace(**config)\n",
    "logger = utils.get_logger(args.output_path)"
   ]
  },
  {
   "cell_type": "code",
   "execution_count": 3,
   "id": "d7d70c58-8bfe-4940-ba06-58248bc62e6d",
   "metadata": {},
   "outputs": [
    {
     "name": "stdout",
     "output_type": "stream",
     "text": [
      "12/29/2023 15:51:09 - INFO - Blink -   loading biencoder model\n",
      "12/29/2023 15:51:10 - INFO - pytorch_transformers.tokenization_utils -   loading file https://s3.amazonaws.com/models.huggingface.co/bert/bert-large-uncased-vocab.txt from cache at /afs/crc.nd.edu/user/k/kmealey2/.cache/torch/pytorch_transformers/9b3c03a36e83b13d5ba95ac965c9f9074a99e14340c523ab405703179e79fc46.542ce4285a40d23a559526243235df47c5f75c197f04f37d1a0c124c32c9a084\n",
      "12/29/2023 15:51:10 - INFO - pytorch_transformers.modeling_utils -   loading configuration file https://s3.amazonaws.com/models.huggingface.co/bert/bert-large-uncased-config.json from cache at /afs/crc.nd.edu/user/k/kmealey2/.cache/torch/pytorch_transformers/6dfaed860471b03ab5b9acb6153bea82b6632fb9bbe514d3fff050fe1319ee6d.788fed32bb8481a9b15ce726d41c53d5d5066b04c667e34ce3a7a3826d1573d8\n",
      "12/29/2023 15:51:10 - INFO - pytorch_transformers.modeling_utils -   Model config {\n",
      "  \"architectures\": [\n",
      "    \"BertForMaskedLM\"\n",
      "  ],\n",
      "  \"attention_probs_dropout_prob\": 0.1,\n",
      "  \"finetuning_task\": null,\n",
      "  \"hidden_act\": \"gelu\",\n",
      "  \"hidden_dropout_prob\": 0.1,\n",
      "  \"hidden_size\": 1024,\n",
      "  \"initializer_range\": 0.02,\n",
      "  \"intermediate_size\": 4096,\n",
      "  \"layer_norm_eps\": 1e-12,\n",
      "  \"max_position_embeddings\": 512,\n",
      "  \"model_type\": \"bert\",\n",
      "  \"num_attention_heads\": 16,\n",
      "  \"num_hidden_layers\": 24,\n",
      "  \"num_labels\": 2,\n",
      "  \"output_attentions\": false,\n",
      "  \"output_hidden_states\": false,\n",
      "  \"pad_token_id\": 0,\n",
      "  \"pruned_heads\": {},\n",
      "  \"torchscript\": false,\n",
      "  \"type_vocab_size\": 2,\n",
      "  \"vocab_size\": 30522\n",
      "}\n",
      "\n",
      "12/29/2023 15:51:10 - INFO - pytorch_transformers.modeling_utils -   loading weights file https://s3.amazonaws.com/models.huggingface.co/bert/bert-large-uncased-pytorch_model.bin from cache at /afs/crc.nd.edu/user/k/kmealey2/.cache/torch/pytorch_transformers/54da47087cc86ce75324e4dc9bbb5f66c6e83a7c6bd23baea8b489acc8d09aa4.4d5343a4b979c4beeaadef17a0453d1bb183dd9b084f58b84c7cc781df343ae6\n",
      "12/29/2023 15:51:24 - INFO - pytorch_transformers.modeling_utils -   loading configuration file https://s3.amazonaws.com/models.huggingface.co/bert/bert-large-uncased-config.json from cache at /afs/crc.nd.edu/user/k/kmealey2/.cache/torch/pytorch_transformers/6dfaed860471b03ab5b9acb6153bea82b6632fb9bbe514d3fff050fe1319ee6d.788fed32bb8481a9b15ce726d41c53d5d5066b04c667e34ce3a7a3826d1573d8\n",
      "12/29/2023 15:51:24 - INFO - pytorch_transformers.modeling_utils -   Model config {\n",
      "  \"architectures\": [\n",
      "    \"BertForMaskedLM\"\n",
      "  ],\n",
      "  \"attention_probs_dropout_prob\": 0.1,\n",
      "  \"finetuning_task\": null,\n",
      "  \"hidden_act\": \"gelu\",\n",
      "  \"hidden_dropout_prob\": 0.1,\n",
      "  \"hidden_size\": 1024,\n",
      "  \"initializer_range\": 0.02,\n",
      "  \"intermediate_size\": 4096,\n",
      "  \"layer_norm_eps\": 1e-12,\n",
      "  \"max_position_embeddings\": 512,\n",
      "  \"model_type\": \"bert\",\n",
      "  \"num_attention_heads\": 16,\n",
      "  \"num_hidden_layers\": 24,\n",
      "  \"num_labels\": 2,\n",
      "  \"output_attentions\": false,\n",
      "  \"output_hidden_states\": false,\n",
      "  \"pad_token_id\": 0,\n",
      "  \"pruned_heads\": {},\n",
      "  \"torchscript\": false,\n",
      "  \"type_vocab_size\": 2,\n",
      "  \"vocab_size\": 30522\n",
      "}\n",
      "\n",
      "12/29/2023 15:51:24 - INFO - pytorch_transformers.modeling_utils -   loading weights file https://s3.amazonaws.com/models.huggingface.co/bert/bert-large-uncased-pytorch_model.bin from cache at /afs/crc.nd.edu/user/k/kmealey2/.cache/torch/pytorch_transformers/54da47087cc86ce75324e4dc9bbb5f66c6e83a7c6bd23baea8b489acc8d09aa4.4d5343a4b979c4beeaadef17a0453d1bb183dd9b084f58b84c7cc781df343ae6\n",
      "12/29/2023 15:52:05 - INFO - Blink -   loading crossencoder model\n",
      "12/29/2023 15:52:05 - INFO - pytorch_transformers.tokenization_utils -   loading file https://s3.amazonaws.com/models.huggingface.co/bert/bert-large-uncased-vocab.txt from cache at /afs/crc.nd.edu/user/k/kmealey2/.cache/torch/pytorch_transformers/9b3c03a36e83b13d5ba95ac965c9f9074a99e14340c523ab405703179e79fc46.542ce4285a40d23a559526243235df47c5f75c197f04f37d1a0c124c32c9a084\n",
      "12/29/2023 15:52:05 - INFO - pytorch_transformers.tokenization_utils -   Assigning ['[unused0]', '[unused1]', '[unused2]'] to the additional_special_tokens key of the tokenizer\n",
      "12/29/2023 15:52:05 - INFO - pytorch_transformers.modeling_utils -   loading configuration file https://s3.amazonaws.com/models.huggingface.co/bert/bert-large-uncased-config.json from cache at /afs/crc.nd.edu/user/k/kmealey2/.cache/torch/pytorch_transformers/6dfaed860471b03ab5b9acb6153bea82b6632fb9bbe514d3fff050fe1319ee6d.788fed32bb8481a9b15ce726d41c53d5d5066b04c667e34ce3a7a3826d1573d8\n",
      "12/29/2023 15:52:05 - INFO - pytorch_transformers.modeling_utils -   Model config {\n",
      "  \"architectures\": [\n",
      "    \"BertForMaskedLM\"\n",
      "  ],\n",
      "  \"attention_probs_dropout_prob\": 0.1,\n",
      "  \"finetuning_task\": null,\n",
      "  \"hidden_act\": \"gelu\",\n",
      "  \"hidden_dropout_prob\": 0.1,\n",
      "  \"hidden_size\": 1024,\n",
      "  \"initializer_range\": 0.02,\n",
      "  \"intermediate_size\": 4096,\n",
      "  \"layer_norm_eps\": 1e-12,\n",
      "  \"max_position_embeddings\": 512,\n",
      "  \"model_type\": \"bert\",\n",
      "  \"num_attention_heads\": 16,\n",
      "  \"num_hidden_layers\": 24,\n",
      "  \"num_labels\": 2,\n",
      "  \"output_attentions\": false,\n",
      "  \"output_hidden_states\": false,\n",
      "  \"pad_token_id\": 0,\n",
      "  \"pruned_heads\": {},\n",
      "  \"torchscript\": false,\n",
      "  \"type_vocab_size\": 2,\n",
      "  \"vocab_size\": 30522\n",
      "}\n",
      "\n",
      "12/29/2023 15:52:06 - INFO - pytorch_transformers.modeling_utils -   loading weights file https://s3.amazonaws.com/models.huggingface.co/bert/bert-large-uncased-pytorch_model.bin from cache at /afs/crc.nd.edu/user/k/kmealey2/.cache/torch/pytorch_transformers/54da47087cc86ce75324e4dc9bbb5f66c6e83a7c6bd23baea8b489acc8d09aa4.4d5343a4b979c4beeaadef17a0453d1bb183dd9b084f58b84c7cc781df343ae6\n",
      "12/29/2023 15:52:26 - INFO - Blink -   loading candidate entities\n"
     ]
    }
   ],
   "source": [
    "models = load_models(args, logger)"
   ]
  },
  {
   "cell_type": "code",
   "execution_count": 5,
   "id": "10cc9c52-7d44-4b00-ac52-e78ea8007703",
   "metadata": {},
   "outputs": [],
   "source": [
    "biencoder = models[0]\n",
    "biencoder_params = models[1]\n",
    "crossencoder = models[2]\n",
    "crossencoder_params = models[3]\n",
    "candidate_encoding = models[4]\n",
    "title2id = models[5]\n",
    "id2title = models[6]\n",
    "id2text = models[7]\n",
    "wikipedia_id2local_id = models[8]\n",
    "faiss_indexer = None\n",
    "test_data = None"
   ]
  },
  {
   "cell_type": "code",
   "execution_count": 7,
   "id": "22c6d0db-d960-4af7-8876-1f29f5e079e0",
   "metadata": {},
   "outputs": [
    {
     "data": {
      "text/plain": [
       "' Conventional landing gear, or tailwheel-type landing gear, is an aircraft undercarriage consisting of two main wheels forward of the center of gravity and a small wheel or skid to support the tail. The term taildragger is also used, although some claim it should apply only to those aircraft with a tailskid rather than a wheel.  The term \"conventional\" persists for historical reasons, but all modern jet aircraft and most modern propeller aircraft use tricycle gear. '"
      ]
     },
     "execution_count": 7,
     "metadata": {},
     "output_type": "execute_result"
    }
   ],
   "source": [
    "id2text[title2id['Conventional landing gear']]"
   ]
  },
  {
   "cell_type": "code",
   "execution_count": 11,
   "id": "36cc3d20-9585-4897-9d42-c5a991a7be77",
   "metadata": {},
   "outputs": [
    {
     "data": {
      "text/plain": [
       "'https://en.wikipedia.org/wiki?curid=1049599'"
      ]
     },
     "execution_count": 11,
     "metadata": {},
     "output_type": "execute_result"
    }
   ],
   "source": [
    "id2url[title2id['Conventional landing gear']]"
   ]
  },
  {
   "cell_type": "code",
   "execution_count": 5,
   "id": "bc3b0ae8-a21f-43a9-af15-4b0d04d8a8e1",
   "metadata": {},
   "outputs": [],
   "source": [
    "import argparse\n",
    "import json\n",
    "import sys\n",
    "\n",
    "from tqdm import tqdm\n",
    "import logging\n",
    "import torch\n",
    "import numpy as np\n",
    "from colorama import init\n",
    "from termcolor import colored\n",
    "\n",
    "import blink.ner as NER\n",
    "from torch.utils.data import DataLoader, SequentialSampler, TensorDataset\n",
    "from blink.biencoder.biencoder import BiEncoderRanker, load_biencoder\n",
    "from blink.crossencoder.crossencoder import CrossEncoderRanker, load_crossencoder\n",
    "from blink.biencoder.data_process import (\n",
    "    process_mention_data,\n",
    "    get_candidate_representation,\n",
    ")\n",
    "import blink.candidate_ranking.utils as utils\n",
    "from blink.crossencoder.train_cross import modify, evaluate\n",
    "from blink.crossencoder.data_process import prepare_crossencoder_data\n",
    "from blink.indexer.faiss_indexer import DenseFlatIndexer, DenseHNSWFlatIndexer"
   ]
  },
  {
   "cell_type": "code",
   "execution_count": 10,
   "id": "9f61b55d-8d2f-42a4-ad9b-123b9b33ded2",
   "metadata": {},
   "outputs": [],
   "source": [
    "id2url = {\n",
    "        v: \"https://en.wikipedia.org/wiki?curid=%s\" % k\n",
    "        for k, v in wikipedia_id2local_id.items()\n",
    "    }"
   ]
  },
  {
   "cell_type": "markdown",
   "id": "670a1c1b-2975-4ffd-bcd2-efdee4b66f59",
   "metadata": {},
   "source": [
    "## Interactive Mode"
   ]
  },
  {
   "cell_type": "code",
   "execution_count": 22,
   "id": "fd130293-f977-40fb-ab2e-b02626b61614",
   "metadata": {},
   "outputs": [
    {
     "name": "stdout",
     "output_type": "stream",
     "text": [
      "12/28/2023 16:47:20 - INFO - Blink -   interactive mode\n",
      "2023-12-28 16:47:20,347 loading file /afs/crc.nd.edu/user/k/kmealey2/.flair/models/en-ner-conll03-v0.4.pt\n"
     ]
    },
    {
     "name": "stdin",
     "output_type": "stream",
     "text": [
      "insert text: tailwheel cocked right prior to tkof.\n"
     ]
    },
    {
     "name": "stdout",
     "output_type": "stream",
     "text": [
      "Failed to identify entity from text:\n",
      "\n",
      "tailwheel cocked right prior to tkof.\n",
      "\n",
      "12/28/2023 16:47:34 - INFO - Blink -   preparing data for biencoder\n",
      "12/28/2023 16:47:34 - INFO - Blink -   run biencoder\n"
     ]
    },
    {
     "name": "stderr",
     "output_type": "stream",
     "text": [
      "0it [00:00, ?it/s]\n"
     ]
    },
    {
     "name": "stdout",
     "output_type": "stream",
     "text": [
      "\n",
      "fast (biencoder) predictions:\n",
      "Failed to identify entity from text:\n",
      "\n",
      "tailwheel cocked right prior to tkof.\n",
      "\n",
      "\n"
     ]
    },
    {
     "name": "stderr",
     "output_type": "stream",
     "text": [
      "0it [00:00, ?it/s]\n",
      "Evaluation: 0it [00:00, ?it/s]\n"
     ]
    },
    {
     "name": "stdout",
     "output_type": "stream",
     "text": [
      "12/28/2023 16:47:34 - INFO - Blink -   Eval accuracy: -1.00000\n",
      "\n",
      "accurate (crossencoder) predictions:\n",
      "Failed to identify entity from text:\n",
      "\n",
      "tailwheel cocked right prior to tkof.\n",
      "\n",
      "\n",
      "12/28/2023 16:47:34 - INFO - Blink -   interactive mode\n",
      "2023-12-28 16:47:34,960 loading file /afs/crc.nd.edu/user/k/kmealey2/.flair/models/en-ner-conll03-v0.4.pt\n"
     ]
    },
    {
     "name": "stdin",
     "output_type": "stream",
     "text": [
      "insert text: tail wheel was cocked right prior to taking off.\n"
     ]
    },
    {
     "name": "stdout",
     "output_type": "stream",
     "text": [
      "Failed to identify entity from text:\n",
      "\n",
      "tail wheel was cocked right prior to taking off.\n",
      "\n",
      "12/28/2023 16:48:15 - INFO - Blink -   preparing data for biencoder\n",
      "12/28/2023 16:48:15 - INFO - Blink -   run biencoder\n"
     ]
    },
    {
     "name": "stderr",
     "output_type": "stream",
     "text": [
      "0it [00:00, ?it/s]\n"
     ]
    },
    {
     "name": "stdout",
     "output_type": "stream",
     "text": [
      "\n",
      "fast (biencoder) predictions:\n",
      "Failed to identify entity from text:\n",
      "\n",
      "tail wheel was cocked right prior to taking off.\n",
      "\n",
      "\n"
     ]
    },
    {
     "name": "stderr",
     "output_type": "stream",
     "text": [
      "0it [00:00, ?it/s]\n",
      "Evaluation: 0it [00:00, ?it/s]\n"
     ]
    },
    {
     "name": "stdout",
     "output_type": "stream",
     "text": [
      "12/28/2023 16:48:15 - INFO - Blink -   Eval accuracy: -1.00000\n",
      "\n",
      "accurate (crossencoder) predictions:\n",
      "Failed to identify entity from text:\n",
      "\n",
      "tail wheel was cocked right prior to taking off.\n",
      "\n",
      "\n",
      "12/28/2023 16:48:15 - INFO - Blink -   interactive mode\n",
      "2023-12-28 16:48:15,901 loading file /afs/crc.nd.edu/user/k/kmealey2/.flair/models/en-ner-conll03-v0.4.pt\n"
     ]
    },
    {
     "name": "stdin",
     "output_type": "stream",
     "text": [
      "insert text: tow plane became airborne then settled. student thought tow in trouble and released. hit tree.\n"
     ]
    },
    {
     "name": "stdout",
     "output_type": "stream",
     "text": [
      "Failed to identify entity from text:\n",
      "\n",
      "tow plane became airborne then settled. student thought tow in trouble and released. hit tree.\n",
      "\n",
      "12/28/2023 16:48:59 - INFO - Blink -   preparing data for biencoder\n",
      "12/28/2023 16:48:59 - INFO - Blink -   run biencoder\n"
     ]
    },
    {
     "name": "stderr",
     "output_type": "stream",
     "text": [
      "0it [00:00, ?it/s]\n"
     ]
    },
    {
     "name": "stdout",
     "output_type": "stream",
     "text": [
      "\n",
      "fast (biencoder) predictions:\n",
      "Failed to identify entity from text:\n",
      "\n",
      "tow plane became airborne then settled. student thought tow in trouble and released. hit tree.\n",
      "\n",
      "\n"
     ]
    },
    {
     "name": "stderr",
     "output_type": "stream",
     "text": [
      "0it [00:00, ?it/s]\n",
      "Evaluation: 0it [00:00, ?it/s]\n"
     ]
    },
    {
     "name": "stdout",
     "output_type": "stream",
     "text": [
      "12/28/2023 16:48:59 - INFO - Blink -   Eval accuracy: -1.00000\n",
      "\n",
      "accurate (crossencoder) predictions:\n",
      "Failed to identify entity from text:\n",
      "\n",
      "tow plane became airborne then settled. student thought tow in trouble and released. hit tree.\n",
      "\n",
      "\n",
      "12/28/2023 16:48:59 - INFO - Blink -   interactive mode\n",
      "2023-12-28 16:48:59,471 loading file /afs/crc.nd.edu/user/k/kmealey2/.flair/models/en-ner-conll03-v0.4.pt\n"
     ]
    },
    {
     "name": "stdin",
     "output_type": "stream",
     "text": [
      "insert text: tow plane became airborne and then it settled.\n"
     ]
    },
    {
     "name": "stdout",
     "output_type": "stream",
     "text": [
      "Failed to identify entity from text:\n",
      "\n",
      "tow plane became airborne and then it settled.\n",
      "\n",
      "12/28/2023 16:49:41 - INFO - Blink -   preparing data for biencoder\n",
      "12/28/2023 16:49:41 - INFO - Blink -   run biencoder\n"
     ]
    },
    {
     "name": "stderr",
     "output_type": "stream",
     "text": [
      "0it [00:00, ?it/s]\n"
     ]
    },
    {
     "name": "stdout",
     "output_type": "stream",
     "text": [
      "\n",
      "fast (biencoder) predictions:\n",
      "Failed to identify entity from text:\n",
      "\n",
      "tow plane became airborne and then it settled.\n",
      "\n",
      "\n"
     ]
    },
    {
     "name": "stderr",
     "output_type": "stream",
     "text": [
      "0it [00:00, ?it/s]\n",
      "Evaluation: 0it [00:00, ?it/s]\n"
     ]
    },
    {
     "name": "stdout",
     "output_type": "stream",
     "text": [
      "12/28/2023 16:49:41 - INFO - Blink -   Eval accuracy: -1.00000\n",
      "\n",
      "accurate (crossencoder) predictions:\n",
      "Failed to identify entity from text:\n",
      "\n",
      "tow plane became airborne and then it settled.\n",
      "\n",
      "\n",
      "12/28/2023 16:49:41 - INFO - Blink -   interactive mode\n",
      "2023-12-28 16:49:41,609 loading file /afs/crc.nd.edu/user/k/kmealey2/.flair/models/en-ner-conll03-v0.4.pt\n"
     ]
    },
    {
     "ename": "KeyboardInterrupt",
     "evalue": "Interrupted by user",
     "output_type": "error",
     "traceback": [
      "\u001b[0;31m---------------------------------------------------------------------------\u001b[0m",
      "\u001b[0;31mKeyboardInterrupt\u001b[0m                         Traceback (most recent call last)",
      "\u001b[0;32m/tmp/ipykernel_1155293/935281029.py\u001b[0m in \u001b[0;36m<module>\u001b[0;34m\u001b[0m\n\u001b[1;32m     14\u001b[0m \u001b[0;34m\u001b[0m\u001b[0m\n\u001b[1;32m     15\u001b[0m     \u001b[0;31m# Interactive\u001b[0m\u001b[0;34m\u001b[0m\u001b[0;34m\u001b[0m\u001b[0;34m\u001b[0m\u001b[0m\n\u001b[0;32m---> 16\u001b[0;31m     \u001b[0mtext\u001b[0m \u001b[0;34m=\u001b[0m \u001b[0minput\u001b[0m\u001b[0;34m(\u001b[0m\u001b[0;34m\"insert text:\"\u001b[0m\u001b[0;34m)\u001b[0m\u001b[0;34m\u001b[0m\u001b[0;34m\u001b[0m\u001b[0m\n\u001b[0m\u001b[1;32m     17\u001b[0m \u001b[0;34m\u001b[0m\u001b[0m\n\u001b[1;32m     18\u001b[0m     \u001b[0;31m# Identify mentions\u001b[0m\u001b[0;34m\u001b[0m\u001b[0;34m\u001b[0m\u001b[0;34m\u001b[0m\u001b[0m\n",
      "\u001b[0;32m/afs/crc.nd.edu/group/TAI/miniforge3/envs/blink6/lib/python3.7/site-packages/ipykernel/kernelbase.py\u001b[0m in \u001b[0;36mraw_input\u001b[0;34m(self, prompt)\u001b[0m\n\u001b[1;32m   1179\u001b[0m             \u001b[0mself\u001b[0m\u001b[0;34m.\u001b[0m\u001b[0m_parent_ident\u001b[0m\u001b[0;34m[\u001b[0m\u001b[0;34m\"shell\"\u001b[0m\u001b[0;34m]\u001b[0m\u001b[0;34m,\u001b[0m\u001b[0;34m\u001b[0m\u001b[0;34m\u001b[0m\u001b[0m\n\u001b[1;32m   1180\u001b[0m             \u001b[0mself\u001b[0m\u001b[0;34m.\u001b[0m\u001b[0mget_parent\u001b[0m\u001b[0;34m(\u001b[0m\u001b[0;34m\"shell\"\u001b[0m\u001b[0;34m)\u001b[0m\u001b[0;34m,\u001b[0m\u001b[0;34m\u001b[0m\u001b[0;34m\u001b[0m\u001b[0m\n\u001b[0;32m-> 1181\u001b[0;31m             \u001b[0mpassword\u001b[0m\u001b[0;34m=\u001b[0m\u001b[0;32mFalse\u001b[0m\u001b[0;34m,\u001b[0m\u001b[0;34m\u001b[0m\u001b[0;34m\u001b[0m\u001b[0m\n\u001b[0m\u001b[1;32m   1182\u001b[0m         )\n\u001b[1;32m   1183\u001b[0m \u001b[0;34m\u001b[0m\u001b[0m\n",
      "\u001b[0;32m/afs/crc.nd.edu/group/TAI/miniforge3/envs/blink6/lib/python3.7/site-packages/ipykernel/kernelbase.py\u001b[0m in \u001b[0;36m_input_request\u001b[0;34m(self, prompt, ident, parent, password)\u001b[0m\n\u001b[1;32m   1217\u001b[0m             \u001b[0;32mexcept\u001b[0m \u001b[0mKeyboardInterrupt\u001b[0m\u001b[0;34m:\u001b[0m\u001b[0;34m\u001b[0m\u001b[0;34m\u001b[0m\u001b[0m\n\u001b[1;32m   1218\u001b[0m                 \u001b[0;31m# re-raise KeyboardInterrupt, to truncate traceback\u001b[0m\u001b[0;34m\u001b[0m\u001b[0;34m\u001b[0m\u001b[0;34m\u001b[0m\u001b[0m\n\u001b[0;32m-> 1219\u001b[0;31m                 \u001b[0;32mraise\u001b[0m \u001b[0mKeyboardInterrupt\u001b[0m\u001b[0;34m(\u001b[0m\u001b[0;34m\"Interrupted by user\"\u001b[0m\u001b[0;34m)\u001b[0m \u001b[0;32mfrom\u001b[0m \u001b[0;32mNone\u001b[0m\u001b[0;34m\u001b[0m\u001b[0;34m\u001b[0m\u001b[0m\n\u001b[0m\u001b[1;32m   1220\u001b[0m             \u001b[0;32mexcept\u001b[0m \u001b[0mException\u001b[0m\u001b[0;34m:\u001b[0m\u001b[0;34m\u001b[0m\u001b[0;34m\u001b[0m\u001b[0m\n\u001b[1;32m   1221\u001b[0m                 \u001b[0mself\u001b[0m\u001b[0;34m.\u001b[0m\u001b[0mlog\u001b[0m\u001b[0;34m.\u001b[0m\u001b[0mwarning\u001b[0m\u001b[0;34m(\u001b[0m\u001b[0;34m\"Invalid Message:\"\u001b[0m\u001b[0;34m,\u001b[0m \u001b[0mexc_info\u001b[0m\u001b[0;34m=\u001b[0m\u001b[0;32mTrue\u001b[0m\u001b[0;34m)\u001b[0m\u001b[0;34m\u001b[0m\u001b[0;34m\u001b[0m\u001b[0m\n",
      "\u001b[0;31mKeyboardInterrupt\u001b[0m: Interrupted by user"
     ]
    }
   ],
   "source": [
    "stopping_condition = False\n",
    "args.fast = False\n",
    "\n",
    "while not stopping_condition:\n",
    "\n",
    "    samples = None\n",
    "    \n",
    "    logger.info(\"interactive mode\")\n",
    "\n",
    "    # biencoder_params[\"eval_batch_size\"] = 1\n",
    "\n",
    "    # Load NER model\n",
    "    ner_model = NER.get_model()\n",
    "\n",
    "    # Interactive\n",
    "    text = input(\"insert text:\")\n",
    "\n",
    "    # Identify mentions\n",
    "    samples = _annotate(ner_model, [text])\n",
    "\n",
    "    _print_colorful_text(text, samples)\n",
    "    \n",
    "    # don't look at labels\n",
    "    keep_all = True\n",
    "\n",
    "    # prepare the data for biencoder\n",
    "    if logger:\n",
    "        logger.info(\"preparing data for biencoder\")\n",
    "    dataloader = _process_biencoder_dataloader(\n",
    "        samples, biencoder.tokenizer, biencoder_params\n",
    "    )\n",
    "\n",
    "    # run biencoder\n",
    "    if logger:\n",
    "        logger.info(\"run biencoder\")\n",
    "    top_k = args.top_k\n",
    "    labels, nns, scores = _run_biencoder(\n",
    "        biencoder, dataloader, candidate_encoding, top_k, faiss_indexer\n",
    "    )\n",
    "    \n",
    "    print(\"\\nfast (biencoder) predictions:\")\n",
    "\n",
    "    _print_colorful_text(text, samples)\n",
    "\n",
    "    # print biencoder prediction\n",
    "    idx = 0\n",
    "    for entity_list, sample in zip(nns, samples):\n",
    "        e_id = entity_list[0]\n",
    "        e_title = id2title[e_id]\n",
    "        e_text = id2text[e_id]\n",
    "        e_url = id2url[e_id]\n",
    "        _print_colorful_prediction(\n",
    "            idx, sample, e_id, e_title, e_text, e_url, args.show_url\n",
    "        )\n",
    "        idx += 1\n",
    "    print()\n",
    "\n",
    "    if args.fast:\n",
    "        # use only biencoder\n",
    "        continue\n",
    "        \n",
    "    # prepare crossencoder data\n",
    "    context_input, candidate_input, label_input = prepare_crossencoder_data(\n",
    "        crossencoder.tokenizer, samples, labels, nns, id2title, id2text, keep_all,\n",
    "    )\n",
    "\n",
    "    context_input = modify(\n",
    "        context_input, candidate_input, crossencoder_params[\"max_seq_length\"]\n",
    "    )\n",
    "\n",
    "    dataloader = _process_crossencoder_dataloader(\n",
    "        context_input, label_input, crossencoder_params\n",
    "    )\n",
    "\n",
    "    # run crossencoder and get accuracy\n",
    "    accuracy, index_array, unsorted_scores = _run_crossencoder(\n",
    "        crossencoder,\n",
    "        dataloader,\n",
    "        logger,\n",
    "        context_len=biencoder_params[\"max_context_length\"],\n",
    "    )\n",
    "\n",
    "    print(\"\\naccurate (crossencoder) predictions:\")\n",
    "\n",
    "    _print_colorful_text(text, samples)\n",
    "\n",
    "    # print crossencoder prediction\n",
    "    idx = 0\n",
    "    for entity_list, index_list, sample in zip(nns, index_array, samples):\n",
    "        e_id = entity_list[index_list[-1]]\n",
    "        e_title = id2title[e_id]\n",
    "        e_text = id2text[e_id]\n",
    "        e_url = id2url[e_id]\n",
    "        _print_colorful_prediction(\n",
    "            idx, sample, e_id, e_title, e_text, e_url, args.show_url\n",
    "        )\n",
    "        idx += 1\n",
    "    print()"
   ]
  },
  {
   "cell_type": "markdown",
   "id": "e2b75be3-9199-4fa9-a26a-87b4311692af",
   "metadata": {},
   "source": [
    "## Non-interactive Mode"
   ]
  },
  {
   "cell_type": "markdown",
   "id": "1e4622a6-3376-4368-8493-3fb4baf3df8c",
   "metadata": {},
   "source": [
    "Blink uses Flair NER, and treats each sentence seperately."
   ]
  },
  {
   "cell_type": "code",
   "execution_count": 9,
   "id": "b4b6881d-7214-4a3f-ae29-49d35d0ffb1b",
   "metadata": {},
   "outputs": [
    {
     "name": "stdout",
     "output_type": "stream",
     "text": [
      "could not parse: \n"
     ]
    }
   ],
   "source": [
    "import json\n",
    "\n",
    "with open(\"./faa_samples.jsonl\") as f:\n",
    "    test_str = f.read()\n",
    "\n",
    "test_data = []\n",
    "for test_doc_str in test_str.split('\\n'):\n",
    "    try:\n",
    "        test_data.append(json.loads(test_doc_str))\n",
    "    except:\n",
    "        print(f\"could not parse: {test_doc_str}\")"
   ]
  },
  {
   "cell_type": "code",
   "execution_count": 11,
   "id": "ff659f3d-d4ab-44e1-9dda-a384722f14fb",
   "metadata": {},
   "outputs": [
    {
     "data": {
      "text/plain": [
       "1164"
      ]
     },
     "execution_count": 11,
     "metadata": {},
     "output_type": "execute_result"
    }
   ],
   "source": [
    "len(test_data)"
   ]
  },
  {
   "cell_type": "code",
   "execution_count": null,
   "id": "9eb2bd45-58d7-428a-89f6-0d9c7072b97d",
   "metadata": {},
   "outputs": [],
   "source": [
    "samples = test_data\n",
    "\n",
    "# don't look at labels\n",
    "keep_all = (\n",
    "    args.interactive\n",
    "    or samples[0][\"label\"] == \"unknown\"\n",
    "    or samples[0][\"label_id\"] < 0\n",
    ")\n",
    "\n",
    "# prepare the data for biencoder\n",
    "if logger:\n",
    "    logger.info(\"preparing data for biencoder\")\n",
    "dataloader = _process_biencoder_dataloader(\n",
    "    samples, biencoder.tokenizer, biencoder_params\n",
    ")\n",
    "\n",
    "# run biencoder\n",
    "if logger:\n",
    "    logger.info(\"run biencoder\")\n",
    "top_k = args.top_k\n",
    "labels, nns, scores = _run_biencoder(\n",
    "    biencoder, dataloader, candidate_encoding, top_k, faiss_indexer\n",
    ")\n",
    "\n",
    "biencoder_accuracy = -1\n",
    "recall_at = -1\n",
    "if not keep_all:\n",
    "    # get recall values\n",
    "    top_k = args.top_k\n",
    "    x = []\n",
    "    y = []\n",
    "    for i in range(1, top_k):\n",
    "        temp_y = 0.0\n",
    "        for label, top in zip(labels, nns):\n",
    "            if label in top[:i]:\n",
    "                temp_y += 1\n",
    "        if len(labels) > 0:\n",
    "            temp_y /= len(labels)\n",
    "        x.append(i)\n",
    "        y.append(temp_y)\n",
    "    # plt.plot(x, y)\n",
    "    biencoder_accuracy = y[0]\n",
    "    recall_at = y[-1]\n",
    "    print(\"biencoder accuracy: %.4f\" % biencoder_accuracy)\n",
    "    print(\"biencoder recall@%d: %.4f\" % (top_k, y[-1]))\n",
    "\n",
    "## Fast predictions\n",
    "predictions = []\n",
    "for entity_list in nns:\n",
    "    sample_prediction = []\n",
    "    for e_id in entity_list:\n",
    "        e_title = id2title[e_id]\n",
    "        sample_prediction.append(e_title)\n",
    "    predictions.append(sample_prediction)\n",
    "\n",
    "# use only biencoder\n",
    "print (\n",
    "    biencoder_accuracy,\n",
    "    recall_at,\n",
    "    -1,\n",
    "    -1,\n",
    "    len(samples),\n",
    "    predictions,\n",
    "    scores,\n",
    ")"
   ]
  },
  {
   "cell_type": "code",
   "execution_count": 20,
   "id": "882c38e1-7ec7-491f-9ef7-7057af0eee7b",
   "metadata": {},
   "outputs": [],
   "source": [
    "biencoder_predictions = predictions"
   ]
  },
  {
   "cell_type": "code",
   "execution_count": 21,
   "id": "d60a6b1c-f624-40a9-a36c-2396973a2c28",
   "metadata": {},
   "outputs": [
    {
     "name": "stderr",
     "output_type": "stream",
     "text": [
      "100%|██████████| 1164/1164 [00:00<00:00, 2762.73it/s]"
     ]
    },
    {
     "name": "stdout",
     "output_type": "stream",
     "text": [
      "4/1164 \r"
     ]
    },
    {
     "name": "stderr",
     "output_type": "stream",
     "text": [
      "\n"
     ]
    },
    {
     "name": "stdout",
     "output_type": "stream",
     "text": [
      "1164/1164 \r"
     ]
    },
    {
     "name": "stderr",
     "output_type": "stream",
     "text": [
      "Evaluation: 100%|██████████| 1164/1164 [02:22<00:00,  7.91it/s]"
     ]
    },
    {
     "name": "stdout",
     "output_type": "stream",
     "text": [
      "12/28/2023 18:43:43 - INFO - Blink -   Eval accuracy: 0.59107\n"
     ]
    },
    {
     "name": "stderr",
     "output_type": "stream",
     "text": [
      "\n"
     ]
    }
   ],
   "source": [
    "# prepare crossencoder data\n",
    "context_input, candidate_input, label_input = prepare_crossencoder_data(\n",
    "    crossencoder.tokenizer, samples, labels, nns, id2title, id2text, keep_all,\n",
    ")\n",
    "\n",
    "context_input = modify(\n",
    "    context_input, candidate_input, crossencoder_params[\"max_seq_length\"]\n",
    ")\n",
    "\n",
    "dataloader = _process_crossencoder_dataloader(\n",
    "    context_input, label_input, crossencoder_params\n",
    ")\n",
    "\n",
    "# run crossencoder and get accuracy\n",
    "accuracy, index_array, unsorted_scores = _run_crossencoder(\n",
    "    crossencoder,\n",
    "    dataloader,\n",
    "    logger,\n",
    "    context_len=biencoder_params[\"max_context_length\"],\n",
    ")\n",
    "\n",
    "scores = []\n",
    "predictions = []\n",
    "for entity_list, index_list, scores_list in zip(\n",
    "    nns, index_array, unsorted_scores\n",
    "):\n",
    "\n",
    "    index_list = index_list.tolist()\n",
    "\n",
    "    # descending order\n",
    "    index_list.reverse()\n",
    "\n",
    "    sample_prediction = []\n",
    "    sample_scores = []\n",
    "    for index in index_list:\n",
    "        e_id = entity_list[index]\n",
    "        e_title = id2title[e_id]\n",
    "        sample_prediction.append(e_title)\n",
    "        sample_scores.append(scores_list[index])\n",
    "    predictions.append(sample_prediction)\n",
    "    scores.append(sample_scores)\n",
    "\n",
    "crossencoder_normalized_accuracy = -1\n",
    "overall_unormalized_accuracy = -1\n",
    "if not keep_all:\n",
    "    crossencoder_normalized_accuracy = accuracy\n",
    "    print(\n",
    "        \"crossencoder normalized accuracy: %.4f\"\n",
    "        % crossencoder_normalized_accuracy\n",
    "    )\n",
    "\n",
    "    if len(samples) > 0:\n",
    "        overall_unormalized_accuracy = (\n",
    "            crossencoder_normalized_accuracy * len(label_input) / len(samples)\n",
    "        )\n",
    "    print(\n",
    "        \"overall unnormalized accuracy: %.4f\" % overall_unormalized_accuracy\n",
    "    )"
   ]
  },
  {
   "cell_type": "code",
   "execution_count": 25,
   "id": "ff2a587f-baa5-4c50-85e2-0a792dd83e69",
   "metadata": {},
   "outputs": [],
   "source": [
    "crossencoder_predictions = predictions"
   ]
  },
  {
   "cell_type": "code",
   "execution_count": 28,
   "id": "360831a5-a1fd-4250-9a62-84741203d093",
   "metadata": {},
   "outputs": [
    {
     "name": "stdout",
     "output_type": "stream",
     "text": [
      "12/28/2023 18:46:24 - INFO - numexpr.utils -   Note: NumExpr detected 16 cores but \"NUMEXPR_MAX_THREADS\" not set, so enforcing safe limit of 8.\n",
      "12/28/2023 18:46:24 - INFO - numexpr.utils -   NumExpr defaulting to 8 threads.\n"
     ]
    }
   ],
   "source": [
    "import pandas as pd\n",
    "og_data = pd.read_csv(\"../../data/FAA_data/Maintenance_Text_data_nona.csv\")"
   ]
  },
  {
   "cell_type": "code",
   "execution_count": 37,
   "id": "74ad5540-7081-47e9-af78-e260234dacab",
   "metadata": {},
   "outputs": [],
   "source": [
    "results_dict = {\"doc_idx\":[], \"sent_idx\":[], \"original_sentence\":[], \"input\":[], \"mention\":[], \"biencoder_predicted_entity\":[], \"crossencoder_predicted_entity\":[]}\n",
    "\n",
    "for isample, sample in enumerate(samples):\n",
    "    results_dict[\"doc_idx\"].append(sample[\"doc_idx\"])\n",
    "    results_dict[\"sent_idx\"].append(sample[\"sent_idx\"])\n",
    "    results_dict[\"original_sentence\"].append(og_data[\"c119\"].iat[sample[\"doc_idx\"]])\n",
    "    results_dict[\"input\"].append(''.join([sample[\"context_left\"], sample[\"mention\"], sample[\"context_right\"]]))\n",
    "    results_dict[\"mention\"].append(sample[\"mention\"])\n",
    "    results_dict[\"biencoder_predicted_entity\"].append(biencoder_predictions[isample][0]) # just taking top one\n",
    "    results_dict[\"crossencoder_predicted_entity\"].append(crossencoder_predictions[isample][0])"
   ]
  },
  {
   "cell_type": "code",
   "execution_count": 39,
   "id": "b8e3b508-74ff-49f8-9f2b-66a5ff20f029",
   "metadata": {},
   "outputs": [
    {
     "data": {
      "text/html": [
       "<div>\n",
       "<style scoped>\n",
       "    .dataframe tbody tr th:only-of-type {\n",
       "        vertical-align: middle;\n",
       "    }\n",
       "\n",
       "    .dataframe tbody tr th {\n",
       "        vertical-align: top;\n",
       "    }\n",
       "\n",
       "    .dataframe thead th {\n",
       "        text-align: right;\n",
       "    }\n",
       "</style>\n",
       "<table border=\"1\" class=\"dataframe\">\n",
       "  <thead>\n",
       "    <tr style=\"text-align: right;\">\n",
       "      <th></th>\n",
       "      <th>doc_idx</th>\n",
       "      <th>sent_idx</th>\n",
       "      <th>original_sentence</th>\n",
       "      <th>input</th>\n",
       "      <th>mention</th>\n",
       "      <th>biencoder_predicted_entity</th>\n",
       "      <th>crossencoder_predicted_entity</th>\n",
       "    </tr>\n",
       "  </thead>\n",
       "  <tbody>\n",
       "    <tr>\n",
       "      <th>0</th>\n",
       "      <td>0</td>\n",
       "      <td>0</td>\n",
       "      <td>TAILWHEEL COCKED RIGHT PRIOR TO TKOF.         ...</td>\n",
       "      <td>tailwheel cocked right prior to tkof.</td>\n",
       "      <td>tailwheel</td>\n",
       "      <td>Flywheel</td>\n",
       "      <td>Conventional landing gear</td>\n",
       "    </tr>\n",
       "    <tr>\n",
       "      <th>1</th>\n",
       "      <td>2</td>\n",
       "      <td>1</td>\n",
       "      <td>2ND ILS APCH,ACFT'S G/S INOP.LOM TUNED TO WRON...</td>\n",
       "      <td>lom tuned to wrong freq.</td>\n",
       "      <td>lom</td>\n",
       "      <td>Lom, Norway</td>\n",
       "      <td>Herbert Lom</td>\n",
       "    </tr>\n",
       "    <tr>\n",
       "      <th>2</th>\n",
       "      <td>7</td>\n",
       "      <td>0</td>\n",
       "      <td>MTNS OBSCURED.FLT TO CK VOR REC REPTD INOP PRI...</td>\n",
       "      <td>mtns obscured.</td>\n",
       "      <td>mtns</td>\n",
       "      <td>KCNS</td>\n",
       "      <td>MTN (TV station)</td>\n",
       "    </tr>\n",
       "    <tr>\n",
       "      <th>3</th>\n",
       "      <td>10</td>\n",
       "      <td>1</td>\n",
       "      <td>LEFT ENG OIL SUPPLY EXHAUSTED.GEAR-UP LDG IN M...</td>\n",
       "      <td>gear-up ldg in mesquite brush.</td>\n",
       "      <td>mesquite</td>\n",
       "      <td>Mesquite</td>\n",
       "      <td>Mesquite</td>\n",
       "    </tr>\n",
       "    <tr>\n",
       "      <th>4</th>\n",
       "      <td>22</td>\n",
       "      <td>0</td>\n",
       "      <td>APRX 1/2 CUPFULL FLUID UNDER R BRAKE PRIOR TO ...</td>\n",
       "      <td>aprx 1/2 cupfull fluid under r brake prior to ...</td>\n",
       "      <td>aprx</td>\n",
       "      <td>Audi Performance and Racing</td>\n",
       "      <td>Elementis</td>\n",
       "    </tr>\n",
       "    <tr>\n",
       "      <th>...</th>\n",
       "      <td>...</td>\n",
       "      <td>...</td>\n",
       "      <td>...</td>\n",
       "      <td>...</td>\n",
       "      <td>...</td>\n",
       "      <td>...</td>\n",
       "      <td>...</td>\n",
       "    </tr>\n",
       "    <tr>\n",
       "      <th>1159</th>\n",
       "      <td>2742</td>\n",
       "      <td>0</td>\n",
       "      <td>ON 7/22/08 AT 1249 MST, CESSNA T182T, N562GK, ...</td>\n",
       "      <td>on 7/22/08 at 1249 mst, cessna t182t, n562gk, ...</td>\n",
       "      <td>mst</td>\n",
       "      <td>South African Standard Time</td>\n",
       "      <td>Marine Science Technician</td>\n",
       "    </tr>\n",
       "    <tr>\n",
       "      <th>1160</th>\n",
       "      <td>2743</td>\n",
       "      <td>0</td>\n",
       "      <td>(-23) A/C RELOCATED TO NEW HANGAR TO CHECK SIZ...</td>\n",
       "      <td>(-23) a/c relocated to new hangar to check siz...</td>\n",
       "      <td>new hangar</td>\n",
       "      <td>American Airways Hangar and Administration Bui...</td>\n",
       "      <td>Goodyear Airdock</td>\n",
       "    </tr>\n",
       "    <tr>\n",
       "      <th>1161</th>\n",
       "      <td>2744</td>\n",
       "      <td>0</td>\n",
       "      <td>(-23) ON 2/23/08 @ APPROXIMATELY 2130 DURING T...</td>\n",
       "      <td>(-23) on 2/23/08 @ approximately 2130 during t...</td>\n",
       "      <td>airc</td>\n",
       "      <td>Air Force Reserve Command</td>\n",
       "      <td>Air traffic control</td>\n",
       "    </tr>\n",
       "    <tr>\n",
       "      <th>1162</th>\n",
       "      <td>2745</td>\n",
       "      <td>0</td>\n",
       "      <td>(-23) PILOT TOOK OFF FOR LEESBURG AIRPORT AND ...</td>\n",
       "      <td>(-23) pilot took off for leesburg airport and ...</td>\n",
       "      <td>leesburg</td>\n",
       "      <td>Leesburg, Virginia</td>\n",
       "      <td>Leesburg, Florida</td>\n",
       "    </tr>\n",
       "    <tr>\n",
       "      <th>1163</th>\n",
       "      <td>2746</td>\n",
       "      <td>1</td>\n",
       "      <td>(-23) OWNER FORGOT TO FASTEN THE LOWER LEFT 4 ...</td>\n",
       "      <td>cowling came loose after takeoff, block.</td>\n",
       "      <td>cowling</td>\n",
       "      <td>Cowling</td>\n",
       "      <td>Cowling</td>\n",
       "    </tr>\n",
       "  </tbody>\n",
       "</table>\n",
       "<p>1164 rows × 7 columns</p>\n",
       "</div>"
      ],
      "text/plain": [
       "      doc_idx  sent_idx                                  original_sentence  \\\n",
       "0           0         0  TAILWHEEL COCKED RIGHT PRIOR TO TKOF.         ...   \n",
       "1           2         1  2ND ILS APCH,ACFT'S G/S INOP.LOM TUNED TO WRON...   \n",
       "2           7         0  MTNS OBSCURED.FLT TO CK VOR REC REPTD INOP PRI...   \n",
       "3          10         1  LEFT ENG OIL SUPPLY EXHAUSTED.GEAR-UP LDG IN M...   \n",
       "4          22         0  APRX 1/2 CUPFULL FLUID UNDER R BRAKE PRIOR TO ...   \n",
       "...       ...       ...                                                ...   \n",
       "1159     2742         0  ON 7/22/08 AT 1249 MST, CESSNA T182T, N562GK, ...   \n",
       "1160     2743         0  (-23) A/C RELOCATED TO NEW HANGAR TO CHECK SIZ...   \n",
       "1161     2744         0  (-23) ON 2/23/08 @ APPROXIMATELY 2130 DURING T...   \n",
       "1162     2745         0  (-23) PILOT TOOK OFF FOR LEESBURG AIRPORT AND ...   \n",
       "1163     2746         1  (-23) OWNER FORGOT TO FASTEN THE LOWER LEFT 4 ...   \n",
       "\n",
       "                                                  input     mention  \\\n",
       "0                 tailwheel cocked right prior to tkof.   tailwheel   \n",
       "1                              lom tuned to wrong freq.         lom   \n",
       "2                                        mtns obscured.        mtns   \n",
       "3                        gear-up ldg in mesquite brush.    mesquite   \n",
       "4     aprx 1/2 cupfull fluid under r brake prior to ...        aprx   \n",
       "...                                                 ...         ...   \n",
       "1159  on 7/22/08 at 1249 mst, cessna t182t, n562gk, ...         mst   \n",
       "1160  (-23) a/c relocated to new hangar to check siz...  new hangar   \n",
       "1161  (-23) on 2/23/08 @ approximately 2130 during t...        airc   \n",
       "1162  (-23) pilot took off for leesburg airport and ...    leesburg   \n",
       "1163           cowling came loose after takeoff, block.     cowling   \n",
       "\n",
       "                             biencoder_predicted_entity  \\\n",
       "0                                              Flywheel   \n",
       "1                                           Lom, Norway   \n",
       "2                                                  KCNS   \n",
       "3                                              Mesquite   \n",
       "4                           Audi Performance and Racing   \n",
       "...                                                 ...   \n",
       "1159                        South African Standard Time   \n",
       "1160  American Airways Hangar and Administration Bui...   \n",
       "1161                          Air Force Reserve Command   \n",
       "1162                                 Leesburg, Virginia   \n",
       "1163                                            Cowling   \n",
       "\n",
       "     crossencoder_predicted_entity  \n",
       "0        Conventional landing gear  \n",
       "1                      Herbert Lom  \n",
       "2                 MTN (TV station)  \n",
       "3                         Mesquite  \n",
       "4                        Elementis  \n",
       "...                            ...  \n",
       "1159     Marine Science Technician  \n",
       "1160              Goodyear Airdock  \n",
       "1161           Air traffic control  \n",
       "1162             Leesburg, Florida  \n",
       "1163                       Cowling  \n",
       "\n",
       "[1164 rows x 7 columns]"
      ]
     },
     "execution_count": 39,
     "metadata": {},
     "output_type": "execute_result"
    }
   ],
   "source": [
    "pd.DataFrame(results_dict)"
   ]
  },
  {
   "cell_type": "code",
   "execution_count": null,
   "id": "269a7906-9e41-4459-b188-85f5c3ac8b5b",
   "metadata": {},
   "outputs": [],
   "source": []
  }
 ],
 "metadata": {
  "kernelspec": {
   "display_name": "blink6",
   "language": "python",
   "name": "blink6"
  },
  "language_info": {
   "codemirror_mode": {
    "name": "ipython",
    "version": 3
   },
   "file_extension": ".py",
   "mimetype": "text/x-python",
   "name": "python",
   "nbconvert_exporter": "python",
   "pygments_lexer": "ipython3",
   "version": "3.7.7"
  }
 },
 "nbformat": 4,
 "nbformat_minor": 5
}
