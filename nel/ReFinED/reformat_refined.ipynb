{
 "cells": [
  {
   "cell_type": "markdown",
   "id": "e1670192-c87d-4eb0-b2e9-eb11634c1273",
   "metadata": {},
   "source": [
    "### Reformat ReFinED\n",
    "\n",
    "This notebook take the output from refined_faa.py and processes it into a form easily acceptable to evaluation scripts. The output is stored in tool_results/refined"
   ]
  },
  {
   "cell_type": "code",
   "execution_count": 52,
   "id": "c5be4e65-1eb9-42de-8752-e2963771d86f",
   "metadata": {},
   "outputs": [],
   "source": [
    "import pandas as pd\n",
    "import re"
   ]
  },
  {
   "cell_type": "code",
   "execution_count": 53,
   "id": "4ab85cfe-28db-4742-9822-847275c9fd53",
   "metadata": {},
   "outputs": [
    {
     "data": {
      "text/html": [
       "<div>\n",
       "<style scoped>\n",
       "    .dataframe tbody tr th:only-of-type {\n",
       "        vertical-align: middle;\n",
       "    }\n",
       "\n",
       "    .dataframe tbody tr th {\n",
       "        vertical-align: top;\n",
       "    }\n",
       "\n",
       "    .dataframe thead th {\n",
       "        text-align: right;\n",
       "    }\n",
       "</style>\n",
       "<table border=\"1\" class=\"dataframe\">\n",
       "  <thead>\n",
       "    <tr style=\"text-align: right;\">\n",
       "      <th></th>\n",
       "      <th>c5</th>\n",
       "      <th>c119</th>\n",
       "      <th>c119_entity_linking</th>\n",
       "    </tr>\n",
       "  </thead>\n",
       "  <tbody>\n",
       "    <tr>\n",
       "      <th>0</th>\n",
       "      <td>19750315005389A</td>\n",
       "      <td>TAILWHEEL COCKED RIGHT PRIOR TO TKOF.         ...</td>\n",
       "      <td>[]</td>\n",
       "    </tr>\n",
       "    <tr>\n",
       "      <th>1</th>\n",
       "      <td>19750419011349A</td>\n",
       "      <td>TOW PLANE BECAME AIRBORNE THEN SETTLED.STUDENT...</td>\n",
       "      <td>[]</td>\n",
       "    </tr>\n",
       "    <tr>\n",
       "      <th>2</th>\n",
       "      <td>19751029037799A</td>\n",
       "      <td>2ND ILS APCH,ACFT'S G/S INOP.LOM TUNED TO WRON...</td>\n",
       "      <td>[['ACFT', Entity(wikidata_entity_id=Q67935434,...</td>\n",
       "    </tr>\n",
       "    <tr>\n",
       "      <th>3</th>\n",
       "      <td>19751209037899A</td>\n",
       "      <td>PLT NOTED SOFT R BRAKE PEDAL DRG TAXI TO TKOF....</td>\n",
       "      <td>[]</td>\n",
       "    </tr>\n",
       "    <tr>\n",
       "      <th>4</th>\n",
       "      <td>19750818025579A</td>\n",
       "      <td>TAXI OFF HARD SFC DUE TFC R MAIN GR BROKE THRO...</td>\n",
       "      <td>[['XI', Entity not linked to a knowledge base,...</td>\n",
       "    </tr>\n",
       "  </tbody>\n",
       "</table>\n",
       "</div>"
      ],
      "text/plain": [
       "                c5                                               c119  \\\n",
       "0  19750315005389A  TAILWHEEL COCKED RIGHT PRIOR TO TKOF.         ...   \n",
       "1  19750419011349A  TOW PLANE BECAME AIRBORNE THEN SETTLED.STUDENT...   \n",
       "2  19751029037799A  2ND ILS APCH,ACFT'S G/S INOP.LOM TUNED TO WRON...   \n",
       "3  19751209037899A  PLT NOTED SOFT R BRAKE PEDAL DRG TAXI TO TKOF....   \n",
       "4  19750818025579A  TAXI OFF HARD SFC DUE TFC R MAIN GR BROKE THRO...   \n",
       "\n",
       "                                 c119_entity_linking  \n",
       "0                                                 []  \n",
       "1                                                 []  \n",
       "2  [['ACFT', Entity(wikidata_entity_id=Q67935434,...  \n",
       "3                                                 []  \n",
       "4  [['XI', Entity not linked to a knowledge base,...  "
      ]
     },
     "execution_count": 53,
     "metadata": {},
     "output_type": "execute_result"
    }
   ],
   "source": [
    "result_df = pd.read_csv('aida_wikipedia.csv')\n",
    "result_df.head()"
   ]
  },
  {
   "cell_type": "code",
   "execution_count": 54,
   "id": "d7092678-3692-4db6-8368-11b9acd3bfd7",
   "metadata": {},
   "outputs": [
    {
     "data": {
      "text/plain": [
       "'[]'"
      ]
     },
     "execution_count": 54,
     "metadata": {},
     "output_type": "execute_result"
    }
   ],
   "source": [
    "result_df['c119_entity_linking'].iat[0] # example"
   ]
  },
  {
   "cell_type": "markdown",
   "id": "ab3a5aa7-2831-476e-b472-1b9e4be84836",
   "metadata": {},
   "source": [
    "\"[['TAILWHEEL', Entity(wikidata_entity_id=Q2874355, wikipedia_entity_title=Conventional landing gear), None], ['TKOF', Entity(wikidata_entity_id=Q7690028, wikipedia_entity_title=Taylor knock-out factor), None]]\""
   ]
  },
  {
   "cell_type": "markdown",
   "id": "af011ea0-8201-45de-a6a6-9f48b02ebf27",
   "metadata": {},
   "source": [
    "**Extract entities and links from c119_entity_linking**"
   ]
  },
  {
   "cell_type": "code",
   "execution_count": 55,
   "id": "7a02eae9-dc2e-43ed-8e28-ab3151552214",
   "metadata": {},
   "outputs": [],
   "source": [
    "out_dict = {'c5_id':[],'c119_input':[],'c119_entity_linking':[], 'mentions':[],'labels':[],'entities':[],'qids':[]}\n",
    "values_p = re.compile(\"\\[?\\['([^']+)', (Entity not linked to a knowledge base|Entity\\([^\\)]+\\)), (None|[A-Z]+)\\],? ?(.*)\") # returns groups ent, linked_ent, label, rest\n",
    "id_title_p = re.compile('Entity\\(wikidata_entity_id=(Q[0-9]+)(, wikipedia_entity_title=)?([^\\)]+)?\\)') # returns Qid, Wikipedia title\n",
    "\n",
    "for i in range(len(result_df)):\n",
    "    \n",
    "    text = result_df['c119_entity_linking'].iat[i]\n",
    "    while text:\n",
    "        \n",
    "        mo = re.match(values_p, text)\n",
    "    \n",
    "        if mo:\n",
    "            ent, linked_ent, label, text = mo.groups()\n",
    "    \n",
    "            # Put empty values where there is no data\n",
    "            # Extract QID and title from linked_ent\n",
    "            if linked_ent == \"Entity not linked to a knowledge base\":\n",
    "                id = \"\"\n",
    "                title = \"\"\n",
    "            else:\n",
    "                id_title = re.match(id_title_p, linked_ent).groups()\n",
    "                if len(id_title) == 1:\n",
    "                    id_title = [id_title[0], \"\", \"\"]\n",
    "                id = id_title[0]\n",
    "                title = id_title[2]\n",
    "            if label == \"None\":\n",
    "                label = \"\"\n",
    "    \n",
    "            out_dict['c5_id'].append(result_df['c5'].iat[i])\n",
    "            out_dict['c119_input'].append(result_df['c119'].iat[i])\n",
    "            out_dict['c119_entity_linking'].append(result_df['c119_entity_linking'].iat[i])\n",
    "            out_dict['mentions'].append(ent)\n",
    "            out_dict['labels'].append(label)\n",
    "            out_dict['entities'].append(title)\n",
    "            out_dict['qids'].append(id)\n",
    "    \n",
    "        else:\n",
    "            text = None"
   ]
  },
  {
   "cell_type": "code",
   "execution_count": 56,
   "id": "f6fc0577-e7a1-498d-8bd0-42dfb0d4b05a",
   "metadata": {},
   "outputs": [
    {
     "data": {
      "text/html": [
       "<div>\n",
       "<style scoped>\n",
       "    .dataframe tbody tr th:only-of-type {\n",
       "        vertical-align: middle;\n",
       "    }\n",
       "\n",
       "    .dataframe tbody tr th {\n",
       "        vertical-align: top;\n",
       "    }\n",
       "\n",
       "    .dataframe thead th {\n",
       "        text-align: right;\n",
       "    }\n",
       "</style>\n",
       "<table border=\"1\" class=\"dataframe\">\n",
       "  <thead>\n",
       "    <tr style=\"text-align: right;\">\n",
       "      <th></th>\n",
       "      <th>c5_id</th>\n",
       "      <th>c119_input</th>\n",
       "      <th>c119_entity_linking</th>\n",
       "      <th>mentions</th>\n",
       "      <th>labels</th>\n",
       "      <th>entities</th>\n",
       "      <th>qids</th>\n",
       "    </tr>\n",
       "  </thead>\n",
       "  <tbody>\n",
       "    <tr>\n",
       "      <th>0</th>\n",
       "      <td>19770912040629A</td>\n",
       "      <td>APRX 1745LBS OVR MAX GWT.ENG NOT FEATHERED.AUT...</td>\n",
       "      <td>[['APRX 1745LBS', Entity not linked to a knowl...</td>\n",
       "      <td>APRX 1745LBS</td>\n",
       "      <td></td>\n",
       "      <td></td>\n",
       "      <td></td>\n",
       "    </tr>\n",
       "    <tr>\n",
       "      <th>1</th>\n",
       "      <td>19780108002219I</td>\n",
       "      <td>FORCED LANDING AFTER ENGINE QUIT. FOUND FROZEN...</td>\n",
       "      <td>[['UEL', Entity not linked to a knowledge base...</td>\n",
       "      <td>UEL</td>\n",
       "      <td></td>\n",
       "      <td></td>\n",
       "      <td></td>\n",
       "    </tr>\n",
       "    <tr>\n",
       "      <th>2</th>\n",
       "      <td>19780221000179I</td>\n",
       "      <td>PILOT MADE EMERGENCY LANDING DUE TO LOW OIL PR...</td>\n",
       "      <td>[['PILOT', Entity not linked to a knowledge ba...</td>\n",
       "      <td>PILOT</td>\n",
       "      <td></td>\n",
       "      <td></td>\n",
       "      <td></td>\n",
       "    </tr>\n",
       "    <tr>\n",
       "      <th>3</th>\n",
       "      <td>19780327010619I</td>\n",
       "      <td>PILOT LOST FUEL IN FLIGHT DUE TO FUEL CAPS ON ...</td>\n",
       "      <td>[['FUEL', Entity not linked to a knowledge bas...</td>\n",
       "      <td>FUEL</td>\n",
       "      <td></td>\n",
       "      <td></td>\n",
       "      <td></td>\n",
       "    </tr>\n",
       "    <tr>\n",
       "      <th>4</th>\n",
       "      <td>19780325010349I</td>\n",
       "      <td>ENGINE STOPPED ON FINAL APPROACH DUE TO WATER ...</td>\n",
       "      <td>[['FUEL', Entity not linked to a knowledge bas...</td>\n",
       "      <td>FUEL</td>\n",
       "      <td></td>\n",
       "      <td></td>\n",
       "      <td></td>\n",
       "    </tr>\n",
       "  </tbody>\n",
       "</table>\n",
       "</div>"
      ],
      "text/plain": [
       "             c5_id                                         c119_input  \\\n",
       "0  19770912040629A  APRX 1745LBS OVR MAX GWT.ENG NOT FEATHERED.AUT...   \n",
       "1  19780108002219I  FORCED LANDING AFTER ENGINE QUIT. FOUND FROZEN...   \n",
       "2  19780221000179I  PILOT MADE EMERGENCY LANDING DUE TO LOW OIL PR...   \n",
       "3  19780327010619I  PILOT LOST FUEL IN FLIGHT DUE TO FUEL CAPS ON ...   \n",
       "4  19780325010349I  ENGINE STOPPED ON FINAL APPROACH DUE TO WATER ...   \n",
       "\n",
       "                                 c119_entity_linking      mentions labels  \\\n",
       "0  [['APRX 1745LBS', Entity not linked to a knowl...  APRX 1745LBS          \n",
       "1  [['UEL', Entity not linked to a knowledge base...           UEL          \n",
       "2  [['PILOT', Entity not linked to a knowledge ba...         PILOT          \n",
       "3  [['FUEL', Entity not linked to a knowledge bas...          FUEL          \n",
       "4  [['FUEL', Entity not linked to a knowledge bas...          FUEL          \n",
       "\n",
       "  entities qids  \n",
       "0                \n",
       "1                \n",
       "2                \n",
       "3                \n",
       "4                "
      ]
     },
     "execution_count": 56,
     "metadata": {},
     "output_type": "execute_result"
    }
   ],
   "source": [
    "out_df = pd.DataFrame(out_dict)\n",
    "out_df.head()"
   ]
  },
  {
   "cell_type": "markdown",
   "id": "f24373cc-788a-48c4-82da-a721cf3333c7",
   "metadata": {},
   "source": [
    "**Save to output DataFrame**"
   ]
  },
  {
   "cell_type": "code",
   "execution_count": 57,
   "id": "693cbc18-547a-4aba-811c-0ef919232848",
   "metadata": {},
   "outputs": [],
   "source": [
    "out_df.to_csv('../../tool_results/refined/refined_aida_wikipedia.csv')"
   ]
  },
  {
   "cell_type": "code",
   "execution_count": null,
   "id": "453e8619-6e19-489b-bb66-c4e0185a30e3",
   "metadata": {},
   "outputs": [],
   "source": []
  }
 ],
 "metadata": {
  "kernelspec": {
   "display_name": "Python 3 (ipykernel)",
   "language": "python",
   "name": "python3"
  },
  "language_info": {
   "codemirror_mode": {
    "name": "ipython",
    "version": 3
   },
   "file_extension": ".py",
   "mimetype": "text/x-python",
   "name": "python",
   "nbconvert_exporter": "python",
   "pygments_lexer": "ipython3",
   "version": "3.11.5"
  }
 },
 "nbformat": 4,
 "nbformat_minor": 5
}
