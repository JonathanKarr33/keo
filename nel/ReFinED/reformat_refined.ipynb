{
 "cells": [
  {
   "cell_type": "markdown",
   "id": "e1670192-c87d-4eb0-b2e9-eb11634c1273",
   "metadata": {},
   "source": [
    "### Reformat ReFinED\n",
    "\n",
    "This notebook take the output from refined_faa.py and processes it into a form easily acceptable to evaluation scripts. The output is stored in data/results/refined"
   ]
  },
  {
   "cell_type": "code",
   "execution_count": 2,
   "id": "c5be4e65-1eb9-42de-8752-e2963771d86f",
   "metadata": {},
   "outputs": [],
   "source": [
    "import pandas as pd\n",
    "import re"
   ]
  },
  {
   "cell_type": "code",
   "execution_count": 3,
   "id": "4ab85cfe-28db-4742-9822-847275c9fd53",
   "metadata": {},
   "outputs": [
    {
     "data": {
      "text/html": [
       "<div>\n",
       "<style scoped>\n",
       "    .dataframe tbody tr th:only-of-type {\n",
       "        vertical-align: middle;\n",
       "    }\n",
       "\n",
       "    .dataframe tbody tr th {\n",
       "        vertical-align: top;\n",
       "    }\n",
       "\n",
       "    .dataframe thead th {\n",
       "        text-align: right;\n",
       "    }\n",
       "</style>\n",
       "<table border=\"1\" class=\"dataframe\">\n",
       "  <thead>\n",
       "    <tr style=\"text-align: right;\">\n",
       "      <th></th>\n",
       "      <th>c5</th>\n",
       "      <th>c119</th>\n",
       "      <th>c119_entity_linking</th>\n",
       "    </tr>\n",
       "  </thead>\n",
       "  <tbody>\n",
       "    <tr>\n",
       "      <th>0</th>\n",
       "      <td>19750315005389A</td>\n",
       "      <td>TAILWHEEL COCKED RIGHT PRIOR TO TKOF.         ...</td>\n",
       "      <td>[['TAILWHEEL COCKED', Entity not linked to a k...</td>\n",
       "    </tr>\n",
       "    <tr>\n",
       "      <th>1</th>\n",
       "      <td>19750419011349A</td>\n",
       "      <td>TOW PLANE BECAME AIRBORNE THEN SETTLED.STUDENT...</td>\n",
       "      <td>[['PLANE BECAME', Entity not linked to a knowl...</td>\n",
       "    </tr>\n",
       "    <tr>\n",
       "      <th>2</th>\n",
       "      <td>19751029037799A</td>\n",
       "      <td>2ND ILS APCH,ACFT'S G/S INOP.LOM TUNED TO WRON...</td>\n",
       "      <td>[['2ND', None, 'ORDINAL'], ['ILS APCH', Entity...</td>\n",
       "    </tr>\n",
       "    <tr>\n",
       "      <th>3</th>\n",
       "      <td>19751209037899A</td>\n",
       "      <td>PLT NOTED SOFT R BRAKE PEDAL DRG TAXI TO TKOF....</td>\n",
       "      <td>[['KE', Entity not linked to a knowledge base,...</td>\n",
       "    </tr>\n",
       "    <tr>\n",
       "      <th>4</th>\n",
       "      <td>19750818025579A</td>\n",
       "      <td>TAXI OFF HARD SFC DUE TFC R MAIN GR BROKE THRO...</td>\n",
       "      <td>[['TAXI', Entity(wikidata_entity_id=Q82650, wi...</td>\n",
       "    </tr>\n",
       "  </tbody>\n",
       "</table>\n",
       "</div>"
      ],
      "text/plain": [
       "                c5                                               c119  \\\n",
       "0  19750315005389A  TAILWHEEL COCKED RIGHT PRIOR TO TKOF.         ...   \n",
       "1  19750419011349A  TOW PLANE BECAME AIRBORNE THEN SETTLED.STUDENT...   \n",
       "2  19751029037799A  2ND ILS APCH,ACFT'S G/S INOP.LOM TUNED TO WRON...   \n",
       "3  19751209037899A  PLT NOTED SOFT R BRAKE PEDAL DRG TAXI TO TKOF....   \n",
       "4  19750818025579A  TAXI OFF HARD SFC DUE TFC R MAIN GR BROKE THRO...   \n",
       "\n",
       "                                 c119_entity_linking  \n",
       "0  [['TAILWHEEL COCKED', Entity not linked to a k...  \n",
       "1  [['PLANE BECAME', Entity not linked to a knowl...  \n",
       "2  [['2ND', None, 'ORDINAL'], ['ILS APCH', Entity...  \n",
       "3  [['KE', Entity not linked to a knowledge base,...  \n",
       "4  [['TAXI', Entity(wikidata_entity_id=Q82650, wi...  "
      ]
     },
     "execution_count": 3,
     "metadata": {},
     "output_type": "execute_result"
    }
   ],
   "source": [
    "result_df = pd.read_csv('FAA_DataModel_20240610160902.csv')\n",
    "result_df.head()"
   ]
  },
  {
   "cell_type": "code",
   "execution_count": 4,
   "id": "d7092678-3692-4db6-8368-11b9acd3bfd7",
   "metadata": {},
   "outputs": [
    {
     "data": {
      "text/plain": [
       "\"[['TAILWHEEL COCKED', Entity not linked to a knowledge base, None], ['TKOF', Entity(wikidata_entity_id=Q7690028, wikipedia_entity_title=Taylor knock-out factor), None]]\""
      ]
     },
     "execution_count": 4,
     "metadata": {},
     "output_type": "execute_result"
    }
   ],
   "source": [
    "result_df['c119_entity_linking'].iat[0] # example"
   ]
  },
  {
   "cell_type": "markdown",
   "id": "af011ea0-8201-45de-a6a6-9f48b02ebf27",
   "metadata": {},
   "source": [
    "**Extract entities and links from c119_entity_linking**"
   ]
  },
  {
   "cell_type": "code",
   "execution_count": 6,
   "id": "7a02eae9-dc2e-43ed-8e28-ab3151552214",
   "metadata": {},
   "outputs": [],
   "source": [
    "out_dict = {'c5_id':[],'c119_input':[],'c119_entity_linking':[], 'mentions':[],'labels':[],'entities':[],'ids':[]}\n",
    "values_p = re.compile(\"\\[?\\['([^']+)', (Entity not linked to a knowledge base|Entity\\([^\\)]+\\)), (None|[A-Z]+)\\],? ?(.*)\") # returns groups ent, linked_ent, label, rest\n",
    "id_title_p = re.compile('Entity\\(wikidata_entity_id=(Q[0-9]+), wikipedia_entity_title=([^\\)]+)\\)') # returns Qid, Wikipedia title\n",
    "\n",
    "for i in range(len(result_df)):\n",
    "    \n",
    "    text = result_df['c119_entity_linking'].iat[i]\n",
    "    while text:\n",
    "        \n",
    "        mo = re.match(values_p, text)\n",
    "    \n",
    "        if mo:\n",
    "            ent, linked_ent, label, text = mo.groups()\n",
    "    \n",
    "            # Put empty values where there is no data\n",
    "            # Extract QID and title from linked_ent\n",
    "            if linked_ent == \"Entity not linked to a knowledge base\":\n",
    "                id = \"\"\n",
    "                title = \"\"\n",
    "            else:\n",
    "                id, title = re.match(id_title_p, linked_ent).groups()\n",
    "            if label == \"None\":\n",
    "                label = \"\"\n",
    "    \n",
    "            out_dict['c5_id'].append(result_df['c5'].iat[i])\n",
    "            out_dict['c119_input'].append(result_df['c119'].iat[i])\n",
    "            out_dict['c119_entity_linking'].append(result_df['c119_entity_linking'].iat[i])\n",
    "            out_dict['mentions'].append(ent)\n",
    "            out_dict['labels'].append(label)\n",
    "            out_dict['entities'].append(title)\n",
    "            out_dict['ids'].append(id)\n",
    "    \n",
    "        else:\n",
    "            text = None"
   ]
  },
  {
   "cell_type": "code",
   "execution_count": 8,
   "id": "f6fc0577-e7a1-498d-8bd0-42dfb0d4b05a",
   "metadata": {},
   "outputs": [
    {
     "data": {
      "text/html": [
       "<div>\n",
       "<style scoped>\n",
       "    .dataframe tbody tr th:only-of-type {\n",
       "        vertical-align: middle;\n",
       "    }\n",
       "\n",
       "    .dataframe tbody tr th {\n",
       "        vertical-align: top;\n",
       "    }\n",
       "\n",
       "    .dataframe thead th {\n",
       "        text-align: right;\n",
       "    }\n",
       "</style>\n",
       "<table border=\"1\" class=\"dataframe\">\n",
       "  <thead>\n",
       "    <tr style=\"text-align: right;\">\n",
       "      <th></th>\n",
       "      <th>c5_id</th>\n",
       "      <th>c119_input</th>\n",
       "      <th>c119_entity_linking</th>\n",
       "      <th>mentions</th>\n",
       "      <th>labels</th>\n",
       "      <th>entities</th>\n",
       "      <th>ids</th>\n",
       "    </tr>\n",
       "  </thead>\n",
       "  <tbody>\n",
       "    <tr>\n",
       "      <th>0</th>\n",
       "      <td>19750315005389A</td>\n",
       "      <td>TAILWHEEL COCKED RIGHT PRIOR TO TKOF.         ...</td>\n",
       "      <td>[['TAILWHEEL COCKED', Entity not linked to a k...</td>\n",
       "      <td>TAILWHEEL COCKED</td>\n",
       "      <td></td>\n",
       "      <td></td>\n",
       "      <td></td>\n",
       "    </tr>\n",
       "    <tr>\n",
       "      <th>1</th>\n",
       "      <td>19750315005389A</td>\n",
       "      <td>TAILWHEEL COCKED RIGHT PRIOR TO TKOF.         ...</td>\n",
       "      <td>[['TAILWHEEL COCKED', Entity not linked to a k...</td>\n",
       "      <td>TKOF</td>\n",
       "      <td></td>\n",
       "      <td>Taylor knock-out factor</td>\n",
       "      <td>Q7690028</td>\n",
       "    </tr>\n",
       "    <tr>\n",
       "      <th>2</th>\n",
       "      <td>19750419011349A</td>\n",
       "      <td>TOW PLANE BECAME AIRBORNE THEN SETTLED.STUDENT...</td>\n",
       "      <td>[['PLANE BECAME', Entity not linked to a knowl...</td>\n",
       "      <td>PLANE BECAME</td>\n",
       "      <td></td>\n",
       "      <td></td>\n",
       "      <td></td>\n",
       "    </tr>\n",
       "    <tr>\n",
       "      <th>3</th>\n",
       "      <td>19750419011349A</td>\n",
       "      <td>TOW PLANE BECAME AIRBORNE THEN SETTLED.STUDENT...</td>\n",
       "      <td>[['PLANE BECAME', Entity not linked to a knowl...</td>\n",
       "      <td>ORNE</td>\n",
       "      <td></td>\n",
       "      <td></td>\n",
       "      <td></td>\n",
       "    </tr>\n",
       "    <tr>\n",
       "      <th>4</th>\n",
       "      <td>19751209037899A</td>\n",
       "      <td>PLT NOTED SOFT R BRAKE PEDAL DRG TAXI TO TKOF....</td>\n",
       "      <td>[['KE', Entity not linked to a knowledge base,...</td>\n",
       "      <td>KE</td>\n",
       "      <td></td>\n",
       "      <td></td>\n",
       "      <td></td>\n",
       "    </tr>\n",
       "  </tbody>\n",
       "</table>\n",
       "</div>"
      ],
      "text/plain": [
       "             c5_id                                         c119_input  \\\n",
       "0  19750315005389A  TAILWHEEL COCKED RIGHT PRIOR TO TKOF.         ...   \n",
       "1  19750315005389A  TAILWHEEL COCKED RIGHT PRIOR TO TKOF.         ...   \n",
       "2  19750419011349A  TOW PLANE BECAME AIRBORNE THEN SETTLED.STUDENT...   \n",
       "3  19750419011349A  TOW PLANE BECAME AIRBORNE THEN SETTLED.STUDENT...   \n",
       "4  19751209037899A  PLT NOTED SOFT R BRAKE PEDAL DRG TAXI TO TKOF....   \n",
       "\n",
       "                                 c119_entity_linking          mentions labels  \\\n",
       "0  [['TAILWHEEL COCKED', Entity not linked to a k...  TAILWHEEL COCKED          \n",
       "1  [['TAILWHEEL COCKED', Entity not linked to a k...              TKOF          \n",
       "2  [['PLANE BECAME', Entity not linked to a knowl...      PLANE BECAME          \n",
       "3  [['PLANE BECAME', Entity not linked to a knowl...              ORNE          \n",
       "4  [['KE', Entity not linked to a knowledge base,...                KE          \n",
       "\n",
       "                  entities       ids  \n",
       "0                                     \n",
       "1  Taylor knock-out factor  Q7690028  \n",
       "2                                     \n",
       "3                                     \n",
       "4                                     "
      ]
     },
     "execution_count": 8,
     "metadata": {},
     "output_type": "execute_result"
    }
   ],
   "source": [
    "out_df = pd.DataFrame(out_dict)\n",
    "out_df.head()"
   ]
  },
  {
   "cell_type": "markdown",
   "id": "f24373cc-788a-48c4-82da-a721cf3333c7",
   "metadata": {},
   "source": [
    "**Save to output DataFrame**"
   ]
  },
  {
   "cell_type": "code",
   "execution_count": 33,
   "id": "693cbc18-547a-4aba-811c-0ef919232848",
   "metadata": {},
   "outputs": [],
   "source": [
    "out_df.to_csv('../../tool_results/refined/refined.csv')"
   ]
  },
  {
   "cell_type": "code",
   "execution_count": null,
   "id": "453e8619-6e19-489b-bb66-c4e0185a30e3",
   "metadata": {},
   "outputs": [],
   "source": []
  }
 ],
 "metadata": {
  "kernelspec": {
   "display_name": "Python 3 (ipykernel)",
   "language": "python",
   "name": "python3"
  },
  "language_info": {
   "codemirror_mode": {
    "name": "ipython",
    "version": 3
   },
   "file_extension": ".py",
   "mimetype": "text/x-python",
   "name": "python",
   "nbconvert_exporter": "python",
   "pygments_lexer": "ipython3",
   "version": "3.11.5"
  }
 },
 "nbformat": 4,
 "nbformat_minor": 5
}
