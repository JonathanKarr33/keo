{
 "cells": [
  {
   "cell_type": "code",
   "execution_count": 6,
   "metadata": {},
   "outputs": [
    {
     "name": "stderr",
     "output_type": "stream",
     "text": [
      "[nltk_data] Downloading package punkt to\n",
      "[nltk_data]     /afs/crc.nd.edu/user/k/kmealey2/nltk_data...\n",
      "[nltk_data]   Package punkt is already up-to-date!\n"
     ]
    },
    {
     "data": {
      "text/plain": [
       "True"
      ]
     },
     "execution_count": 6,
     "metadata": {},
     "output_type": "execute_result"
    }
   ],
   "source": [
    "import pandas as pd\n",
    "import json\n",
    "import re\n",
    "import os\n",
    "import nltk\n",
    "nltk.download('punkt')"
   ]
  },
  {
   "cell_type": "code",
   "execution_count": 3,
   "metadata": {},
   "outputs": [],
   "source": [
    "data = json.load(open('../../OMIN_dataset/data/FAA_data/faa.json'))"
   ]
  },
  {
   "cell_type": "code",
   "execution_count": 4,
   "metadata": {},
   "outputs": [
    {
     "data": {
      "text/plain": [
       "2748"
      ]
     },
     "execution_count": 4,
     "metadata": {},
     "output_type": "execute_result"
    }
   ],
   "source": [
    "len(data)"
   ]
  },
  {
   "cell_type": "code",
   "execution_count": 14,
   "metadata": {},
   "outputs": [],
   "source": [
    "formatted = []\n",
    "doc_keys = list(data.keys())\n",
    "for i in range(len(data)):\n",
    "    tokenized = []\n",
    "    sentences = nltk.sent_tokenize(data[doc_keys[i]][0])\n",
    "    for isentence, sentence in enumerate(sentences):\n",
    "        words = nltk.word_tokenize(sentence)\n",
    "        tokenized.append(words)\n",
    "    placehold = [[]]*len(sentences)\n",
    "    formatted.append({'sentences':tokenized, 'ner':placehold, 'relations':placehold, 'doc_key':doc_keys[i]})"
   ]
  },
  {
   "cell_type": "code",
   "execution_count": 16,
   "metadata": {},
   "outputs": [
    {
     "data": {
      "text/plain": [
       "{'sentences': [['tow', 'plane', 'became', 'airborne', 'then', 'settled', '.'],\n",
       "  ['student', 'thought', 'tow', 'in', 'trouble', '&', 'released', '.'],\n",
       "  ['hit', 'tree', '.']],\n",
       " 'ner': [[], [], []],\n",
       " 'relations': [[], [], []],\n",
       " 'doc_key': 'faa/1_19750419011349A'}"
      ]
     },
     "execution_count": 16,
     "metadata": {},
     "output_type": "execute_result"
    }
   ],
   "source": [
    "formatted[1]"
   ]
  },
  {
   "cell_type": "code",
   "execution_count": 17,
   "metadata": {},
   "outputs": [],
   "source": [
    "with open(\"./faa_plmarker.json\", \"w\") as json_file:\n",
    "    for i in range(len(formatted)):\n",
    "        formatted_str = json.dumps(formatted[i]) + '\\n'\n",
    "        json_file.write(formatted_str)"
   ]
  }
 ],
 "metadata": {
  "kernelspec": {
   "display_name": "Python 3 (ipykernel)",
   "language": "python",
   "name": "python3"
  },
  "language_info": {
   "codemirror_mode": {
    "name": "ipython",
    "version": 3
   },
   "file_extension": ".py",
   "mimetype": "text/x-python",
   "name": "python",
   "nbconvert_exporter": "python",
   "pygments_lexer": "ipython3",
   "version": "3.11.5"
  }
 },
 "nbformat": 4,
 "nbformat_minor": 4
}
