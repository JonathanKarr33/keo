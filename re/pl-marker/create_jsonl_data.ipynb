{
 "cells": [
  {
   "cell_type": "code",
   "execution_count": 1,
   "metadata": {},
   "outputs": [],
   "source": [
    "import pandas as pd\n",
    "import json\n",
    "import re\n",
    "import os"
   ]
  },
  {
   "cell_type": "code",
   "execution_count": 2,
   "metadata": {},
   "outputs": [],
   "source": [
    "data = pd.read_csv(\"../../data/FAA_data/Maintenance_Text_data_nona.csv\")\n",
    "text_col = \"c119\"\n",
    "text = list(data[text_col])"
   ]
  },
  {
   "cell_type": "code",
   "execution_count": 5,
   "metadata": {},
   "outputs": [
    {
     "data": {
      "text/plain": [
       "2748"
      ]
     },
     "execution_count": 5,
     "metadata": {},
     "output_type": "execute_result"
    }
   ],
   "source": [
    "len(text)"
   ]
  },
  {
   "cell_type": "code",
   "execution_count": 6,
   "metadata": {},
   "outputs": [],
   "source": [
    "def tokenize(sentence):\n",
    "    # Define the special characters to be treated as separate tokens\n",
    "    special_characters = [\".\", \",\", '\"', \"(\", \")\", \"[\", \"]\", \"{\", \"}\"] # minus apostrophe, which has to be handled separately\n",
    "\n",
    "    # Split the sentence using whitespace characters\n",
    "    words = re.split(r'\\s+', sentence)\n",
    "\n",
    "    # Initialize an empty list to store the final tokens\n",
    "    tokens = []\n",
    "\n",
    "    # Iterate through each word and further split based on special characters\n",
    "    for word in words:\n",
    "        word = word.lower()\n",
    "\n",
    "        # Split the word based on special characters\n",
    "        split_word = re.split(f'([{re.escape(\"\".join(special_characters))}])', word)\n",
    "\n",
    "        # Check for apostrophe:\n",
    "        for wd in split_word:\n",
    "            # Check if the word contains an apostrophe followed by an 's'\n",
    "            if \"'s\" in wd:\n",
    "                # Split the word into two tokens: the word without \"'s\" and \"'s\"\n",
    "                tokens.extend(re.split(r\"('s)\", wd))\n",
    "            elif \"n't\" in wd:\n",
    "                tokens.extend(re.split(r\"(n't)\", wd))\n",
    "            elif \"'ll\" in wd:\n",
    "                tokens.extend(re.split(r\"('ll)\", wd))\n",
    "            elif \"'re\" in wd:\n",
    "                tokens.extend(re.split(r\"('re)\", wd))\n",
    "            elif \"'m\" in wd:\n",
    "                tokens.extend(re.split(r\"('m)\", wd))\n",
    "            elif \"'d\" in wd:\n",
    "                tokens.extend(re.split(r\"('d)\", wd))\n",
    "            elif \"'ve\" in wd:\n",
    "                tokens.extend(re.split(r\"('ve)\", wd))\n",
    "            elif \"'\" in wd:\n",
    "                tokens.extend(re.split(r\"'\", wd))\n",
    "            else:\n",
    "                tokens.append(wd)\n",
    "\n",
    "    # Filter out empty strings from the tokens list\n",
    "    tokens = list(filter(None, tokens))\n",
    "\n",
    "    return tokens"
   ]
  },
  {
   "cell_type": "code",
   "execution_count": 26,
   "metadata": {},
   "outputs": [],
   "source": [
    "split_text = []\n",
    "for entry in text:\n",
    "    if '.' in entry:\n",
    "        sentences = []\n",
    "        for sentence in entry.split('.'):\n",
    "            if not sentence.isspace() and len(sentence) > 0:\n",
    "                tokens = tokenize(sentence + '.')\n",
    "                sentences.append(tokens)\n",
    "        split_text.append(sentences)\n",
    "    else:\n",
    "        tokens = tokenize(entry)\n",
    "        split_text.append([tokens])"
   ]
  },
  {
   "cell_type": "code",
   "execution_count": 27,
   "metadata": {},
   "outputs": [
    {
     "data": {
      "text/plain": [
       "2748"
      ]
     },
     "execution_count": 27,
     "metadata": {},
     "output_type": "execute_result"
    }
   ],
   "source": [
    "len(split_text)"
   ]
  },
  {
   "cell_type": "code",
   "execution_count": 39,
   "metadata": {},
   "outputs": [],
   "source": [
    "formatted = [{'sentences':[sentence for sentence in doc], 'ner':[[] for sentence in doc], 'relations':[[] for sentence in doc], 'doc_key':f'faa_{idoc}'} for idoc, doc in enumerate(split_text)]"
   ]
  },
  {
   "cell_type": "code",
   "execution_count": 40,
   "metadata": {},
   "outputs": [],
   "source": [
    "with open(\"./PL-Marker/scierc/faa_eval_faa.json\", \"w\") as json_file:\n",
    "    for i in range(len(formatted)):\n",
    "        formatted_str = json.dumps(formatted[i]) + '\\n'\n",
    "        json_file.write(formatted_str)"
   ]
  },
  {
   "cell_type": "code",
   "execution_count": null,
   "metadata": {},
   "outputs": [],
   "source": []
  }
 ],
 "metadata": {
  "kernelspec": {
   "display_name": "basic_package",
   "language": "python",
   "name": "python3"
  },
  "language_info": {
   "codemirror_mode": {
    "name": "ipython",
    "version": 3
   },
   "file_extension": ".py",
   "mimetype": "text/x-python",
   "name": "python",
   "nbconvert_exporter": "python",
   "pygments_lexer": "ipython3",
   "version": "3.12.0"
  }
 },
 "nbformat": 4,
 "nbformat_minor": 2
}
