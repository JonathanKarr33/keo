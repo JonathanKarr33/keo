{
 "cells": [
  {
   "cell_type": "markdown",
   "id": "5052e662-dddc-4208-8789-c04c65521743",
   "metadata": {},
   "source": [
    "### UniRel Reformat\n",
    "\n",
    "This notebook reformats the results of UniRel so that they are easy for a human to grade"
   ]
  },
  {
   "cell_type": "code",
   "execution_count": 15,
   "id": "4808d3e7-6795-4bef-9594-a11841bf7158",
   "metadata": {},
   "outputs": [],
   "source": [
    "import pandas as pd\n",
    "import ast"
   ]
  },
  {
   "cell_type": "code",
   "execution_count": 2,
   "id": "f9d79ed9-c46d-435c-9e7b-17829ba07dc9",
   "metadata": {},
   "outputs": [],
   "source": [
    "result_df = pd.read_csv(\"../../data/results/unirel/FAA_DataModel_20240530140416.csv\")"
   ]
  },
  {
   "cell_type": "code",
   "execution_count": 6,
   "id": "1f92cf7f-3ec1-41c7-9a97-0d999d7a50ca",
   "metadata": {},
   "outputs": [
    {
     "data": {
      "text/html": [
       "<div>\n",
       "<style scoped>\n",
       "    .dataframe tbody tr th:only-of-type {\n",
       "        vertical-align: middle;\n",
       "    }\n",
       "\n",
       "    .dataframe tbody tr th {\n",
       "        vertical-align: top;\n",
       "    }\n",
       "\n",
       "    .dataframe thead th {\n",
       "        text-align: right;\n",
       "    }\n",
       "</style>\n",
       "<table border=\"1\" class=\"dataframe\">\n",
       "  <thead>\n",
       "    <tr style=\"text-align: right;\">\n",
       "      <th></th>\n",
       "      <th>c5</th>\n",
       "      <th>c119</th>\n",
       "      <th>c119_output</th>\n",
       "    </tr>\n",
       "  </thead>\n",
       "  <tbody>\n",
       "    <tr>\n",
       "      <th>0</th>\n",
       "      <td>19750315005389A</td>\n",
       "      <td>TAILWHEEL COCKED RIGHT PRIOR TO TKOF.         ...</td>\n",
       "      <td>[[]]</td>\n",
       "    </tr>\n",
       "    <tr>\n",
       "      <th>1</th>\n",
       "      <td>19750419011349A</td>\n",
       "      <td>TOW PLANE BECAME AIRBORNE THEN SETTLED.STUDENT...</td>\n",
       "      <td>[[]]</td>\n",
       "    </tr>\n",
       "    <tr>\n",
       "      <th>2</th>\n",
       "      <td>19751029037799A</td>\n",
       "      <td>2ND ILS APCH,ACFT'S G/S INOP.LOM TUNED TO WRON...</td>\n",
       "      <td>[[]]</td>\n",
       "    </tr>\n",
       "    <tr>\n",
       "      <th>3</th>\n",
       "      <td>19751209037899A</td>\n",
       "      <td>PLT NOTED SOFT R BRAKE PEDAL DRG TAXI TO TKOF....</td>\n",
       "      <td>[[]]</td>\n",
       "    </tr>\n",
       "    <tr>\n",
       "      <th>4</th>\n",
       "      <td>19750818025579A</td>\n",
       "      <td>TAXI OFF HARD SFC DUE TFC R MAIN GR BROKE THRO...</td>\n",
       "      <td>[[]]</td>\n",
       "    </tr>\n",
       "  </tbody>\n",
       "</table>\n",
       "</div>"
      ],
      "text/plain": [
       "                c5                                               c119  \\\n",
       "0  19750315005389A  TAILWHEEL COCKED RIGHT PRIOR TO TKOF.         ...   \n",
       "1  19750419011349A  TOW PLANE BECAME AIRBORNE THEN SETTLED.STUDENT...   \n",
       "2  19751029037799A  2ND ILS APCH,ACFT'S G/S INOP.LOM TUNED TO WRON...   \n",
       "3  19751209037899A  PLT NOTED SOFT R BRAKE PEDAL DRG TAXI TO TKOF....   \n",
       "4  19750818025579A  TAXI OFF HARD SFC DUE TFC R MAIN GR BROKE THRO...   \n",
       "\n",
       "  c119_output  \n",
       "0        [[]]  \n",
       "1        [[]]  \n",
       "2        [[]]  \n",
       "3        [[]]  \n",
       "4        [[]]  "
      ]
     },
     "execution_count": 6,
     "metadata": {},
     "output_type": "execute_result"
    }
   ],
   "source": [
    "result_df.head()"
   ]
  },
  {
   "cell_type": "code",
   "execution_count": 9,
   "id": "21b54c37-465e-4f10-b1a4-b32e77bc7695",
   "metadata": {},
   "outputs": [
    {
     "name": "stdout",
     "output_type": "stream",
     "text": [
      "['[[]]' \"[[('RQD', '/business/person/company', 'ALCOHOL')]]\"\n",
      " \"[[('IN', '/location/location/contains', 'FROM ENGINE'), ('IN', '/location/location/contains', 'ENGINE'), ('IN', '/location/location/contains', 'SEPARATED'), ('IN', '/location/location/contains', 'SEPARATED FROM ENGINE')]]\"\n",
      " \"[[('AIRCRAFT', '/location/location/contains', 'AIRCRAFT'), ('ICE ON AIRCRAFT', '/location/location/contains', 'ICE ON AIRCRAFT'), ('ICE ON AIRCRAFT', '/location/location/contains', 'AIRCRAFT'), ('AIRCRAFT', '/location/location/contains', 'ICE ON AIRCRAFT')]]\"\n",
      " \"[[('TEST FLIGHT AFTER REBUILDING', '/location/location/contains', 'AIRCRAFT')]]\"\n",
      " \"[[('LANDING', '/location/location/contains', 'BASE')]]\"\n",
      " \"[[('PLANE', '/location/location/contains', 'FUEL TANK'), ('PLANE', '/location/location/contains', 'TANK')]]\"\n",
      " \"[[('LANDING', '/location/location/contains', 'DUE TO FUEL'), ('LANDING', '/location/location/contains', 'LANDING'), ('LANDING', '/location/location/contains', 'FUEL')]]\"\n",
      " \"[[('LOCK PIN', '/business/person/company', 'ROLL')]]\"\n",
      " \"[[('FLIGHT', '/location/location/contains', 'BAGGAGE'), ('FLIGHT', '/location/location/contains', 'NOSE BAGGAGE')]]\"]\n"
     ]
    }
   ],
   "source": [
    "print(result_df['c119_output'].unique()[:10])"
   ]
  },
  {
   "cell_type": "code",
   "execution_count": 19,
   "id": "5eda74d5-bfc4-40f2-9f7b-b4c6910d9918",
   "metadata": {},
   "outputs": [
    {
     "data": {
      "text/plain": [
       "[('RQD', '/business/person/company', 'ALCOHOL')]"
      ]
     },
     "execution_count": 19,
     "metadata": {},
     "output_type": "execute_result"
    }
   ],
   "source": [
    "ast.literal_eval(result_df['c119_output'].unique()[1])[0]"
   ]
  },
  {
   "cell_type": "code",
   "execution_count": 20,
   "id": "38e41866-9ce3-4da1-bce6-20aa549e2c6e",
   "metadata": {},
   "outputs": [],
   "source": [
    "out_df = pd.DataFrame(columns = ['c5_id','c119_input','c119_output','head','relation','tail'])\n",
    "for i in range(len(result_df)):\n",
    "    output = ast.literal_eval(result_df['c119_output'].iat[i])[0]\n",
    "    if len(output) == 0:\n",
    "        out_df.loc[len(out_df)] = {'c5_id':result_df['c5'].iat[i],'c119_input':result_df['c119'].iat[i],'c119_output':result_df['c119_output'].iat[i],'head':None,'relation':None,'tail':None}\n",
    "    else:\n",
    "        for triple in output:\n",
    "            out_df.loc[len(out_df)] = {'c5_id':result_df['c5'].iat[i],'c119_input':result_df['c119'].iat[i],'c119_output':result_df['c119_output'].iat[i],'head':triple[0],'relation':triple[1],'tail':triple[2]}"
   ]
  },
  {
   "cell_type": "code",
   "execution_count": 23,
   "id": "812fd77c-d02d-42dd-9d4b-c44e99db5622",
   "metadata": {},
   "outputs": [],
   "source": [
    "out_df.to_csv('../../data/results/unirel/unirel.csv', index=False)"
   ]
  },
  {
   "cell_type": "code",
   "execution_count": null,
   "id": "ed7b1628-5f00-48c2-9c4c-72c40f66a9cc",
   "metadata": {},
   "outputs": [],
   "source": []
  }
 ],
 "metadata": {
  "kernelspec": {
   "display_name": "Python 3 (ipykernel)",
   "language": "python",
   "name": "python3"
  },
  "language_info": {
   "codemirror_mode": {
    "name": "ipython",
    "version": 3
   },
   "file_extension": ".py",
   "mimetype": "text/x-python",
   "name": "python",
   "nbconvert_exporter": "python",
   "pygments_lexer": "ipython3",
   "version": "3.11.5"
  }
 },
 "nbformat": 4,
 "nbformat_minor": 5
}
