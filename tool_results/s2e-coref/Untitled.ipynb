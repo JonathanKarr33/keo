{
 "cells": [
  {
   "cell_type": "code",
   "execution_count": 5,
   "id": "e4f68249-1477-4a53-ad1e-b80394737328",
   "metadata": {},
   "outputs": [],
   "source": [
    "import pandas as pd\n",
    "import numpy as np"
   ]
  },
  {
   "cell_type": "code",
   "execution_count": 2,
   "id": "2fc22e84-114f-4db3-8ff7-f717403bce4c",
   "metadata": {},
   "outputs": [],
   "source": [
    "better = pd.read_csv('s2e-coref_BETTER.csv')\n",
    "main = pd.read_csv('s2e-coref.csv')\n",
    "run1 = pd.read_csv('s2e-coref_run1.csv')\n",
    "run2 = pd.read_csv('s2e-coref_run2.csv')"
   ]
  },
  {
   "cell_type": "code",
   "execution_count": 3,
   "id": "9115fa16-5d08-407e-b877-d208f2af6f47",
   "metadata": {},
   "outputs": [
    {
     "data": {
      "text/plain": [
       "(2748, 2748, 2748, 2748)"
      ]
     },
     "execution_count": 3,
     "metadata": {},
     "output_type": "execute_result"
    }
   ],
   "source": [
    "len(better), len(main), len(run1), len(run2)"
   ]
  },
  {
   "cell_type": "code",
   "execution_count": 7,
   "id": "231c6567-3dc0-4d85-94c6-c9292f02084d",
   "metadata": {},
   "outputs": [],
   "source": [
    "discs = []\n",
    "for i in range(len(better)):\n",
    "    if len(np.unique([df['corefs'].iat[i] for df in [better, main, run1, run2]])) > 1:\n",
    "        discs.append(i)"
   ]
  },
  {
   "cell_type": "code",
   "execution_count": 8,
   "id": "4ac0df7f-5170-4cb5-a79e-a604339213b9",
   "metadata": {},
   "outputs": [
    {
     "data": {
      "text/plain": [
       "[]"
      ]
     },
     "execution_count": 8,
     "metadata": {},
     "output_type": "execute_result"
    }
   ],
   "source": [
    "discs"
   ]
  },
  {
   "cell_type": "code",
   "execution_count": null,
   "id": "c2e3be47-f120-43b9-b5f9-1b47734d594b",
   "metadata": {},
   "outputs": [],
   "source": []
  }
 ],
 "metadata": {
  "kernelspec": {
   "display_name": "Python 3 (ipykernel)",
   "language": "python",
   "name": "python3"
  },
  "language_info": {
   "codemirror_mode": {
    "name": "ipython",
    "version": 3
   },
   "file_extension": ".py",
   "mimetype": "text/x-python",
   "name": "python",
   "nbconvert_exporter": "python",
   "pygments_lexer": "ipython3",
   "version": "3.11.5"
  }
 },
 "nbformat": 4,
 "nbformat_minor": 5
}
