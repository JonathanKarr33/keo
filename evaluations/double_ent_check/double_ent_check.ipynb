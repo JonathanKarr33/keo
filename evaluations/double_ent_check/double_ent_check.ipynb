{
 "cells": [
  {
   "cell_type": "markdown",
   "id": "8d284e00-fd90-4ed4-b07d-3d8bcb8c9ae2",
   "metadata": {},
   "source": [
    "### Double Entity Check\n",
    "\n",
    "In the sentence, \"The pilot flew the aircraft and the aircraft crashed.\", will an NER or NEL tool return aircraft twice? In this notebook, we check if this is the case for each NER and NEL tool"
   ]
  },
  {
   "cell_type": "code",
   "execution_count": 1,
   "id": "99515bbb-dc6f-43f3-9ab9-4a050309f22c",
   "metadata": {},
   "outputs": [],
   "source": [
    "import pandas as pd"
   ]
  },
  {
   "cell_type": "code",
   "execution_count": 2,
   "id": "148ad74f-89d4-4d17-a9d2-d8a4b7307ff5",
   "metadata": {},
   "outputs": [],
   "source": [
    "dataset = pd.read_csv('../../data/FAA_data/Maintenance_Text_data_nona.csv')"
   ]
  },
  {
   "cell_type": "markdown",
   "id": "a9b03d91-a3d8-4ca1-b458-c16a531d912b",
   "metadata": {},
   "source": [
    "#### NER"
   ]
  },
  {
   "cell_type": "markdown",
   "id": "e390af00-41c1-4e6c-a717-d70255a106bb",
   "metadata": {},
   "source": [
    "**1. flair**"
   ]
  },
  {
   "cell_type": "code",
   "execution_count": 66,
   "id": "2a2cdf03-daa7-4857-8e99-372a0bc16b31",
   "metadata": {},
   "outputs": [],
   "source": [
    "flair = pd.read_csv('../../data/results/flair/flair_ner.csv')"
   ]
  },
  {
   "cell_type": "code",
   "execution_count": 67,
   "id": "13062d31-c148-482f-86ab-25db058ecdc7",
   "metadata": {},
   "outputs": [],
   "source": [
    "double_ids = []\n",
    "for i in range(len(dataset)):\n",
    "    c5_id = dataset['c5'].iat[i]\n",
    "    counts = flair[flair['c5_id'] == c5_id]['entities'].value_counts()\n",
    "    for icount, count in enumerate(counts):\n",
    "        if count > 1:\n",
    "            double_ids.append(c5_id)\n",
    "double_ids = list(pd.unique(double_ids))"
   ]
  },
  {
   "cell_type": "code",
   "execution_count": 68,
   "id": "db4751bf-67dd-4576-a599-d7ab54433ce3",
   "metadata": {},
   "outputs": [
    {
     "name": "stdout",
     "output_type": "stream",
     "text": [
      "Found 13 Entries With Double Entities\n"
     ]
    }
   ],
   "source": [
    "print(f\"Found {len(double_ids)} Entries With Double Entities\")"
   ]
  },
  {
   "cell_type": "code",
   "execution_count": 80,
   "id": "135ead2a-de14-41af-bb11-8d251f502ac5",
   "metadata": {},
   "outputs": [
    {
     "data": {
      "text/html": [
       "<div>\n",
       "<style scoped>\n",
       "    .dataframe tbody tr th:only-of-type {\n",
       "        vertical-align: middle;\n",
       "    }\n",
       "\n",
       "    .dataframe tbody tr th {\n",
       "        vertical-align: top;\n",
       "    }\n",
       "\n",
       "    .dataframe thead th {\n",
       "        text-align: right;\n",
       "    }\n",
       "</style>\n",
       "<table border=\"1\" class=\"dataframe\">\n",
       "  <thead>\n",
       "    <tr style=\"text-align: right;\">\n",
       "      <th></th>\n",
       "      <th>c5_id</th>\n",
       "      <th>c119_input</th>\n",
       "      <th>entities</th>\n",
       "      <th>labels_raw</th>\n",
       "      <th>labels</th>\n",
       "      <th>confidence</th>\n",
       "    </tr>\n",
       "  </thead>\n",
       "  <tbody>\n",
       "    <tr>\n",
       "      <th>32</th>\n",
       "      <td>19800113000039A</td>\n",
       "      <td>DEPARTED IFR WITH KNOWN DEFECTIVE GYRO HORIZON...</td>\n",
       "      <td>IFR</td>\n",
       "      <td>[{'value': 'PER', 'confidence': 0.981401741504...</td>\n",
       "      <td>PER</td>\n",
       "      <td>0.981402</td>\n",
       "    </tr>\n",
       "    <tr>\n",
       "      <th>33</th>\n",
       "      <td>19800113000039A</td>\n",
       "      <td>DEPARTED IFR WITH KNOWN DEFECTIVE GYRO HORIZON...</td>\n",
       "      <td>IFR</td>\n",
       "      <td>[{'value': 'PER', 'confidence': 0.876336932182...</td>\n",
       "      <td>PER</td>\n",
       "      <td>0.876337</td>\n",
       "    </tr>\n",
       "    <tr>\n",
       "      <th>76</th>\n",
       "      <td>19820708037199I</td>\n",
       "      <td>COWLING CAME OPEN IN FLIGHT, STRUCK AND LOOSEN...</td>\n",
       "      <td>COWLING</td>\n",
       "      <td>[{'value': 'PER', 'confidence': 0.990690350532...</td>\n",
       "      <td>PER</td>\n",
       "      <td>0.990690</td>\n",
       "    </tr>\n",
       "    <tr>\n",
       "      <th>77</th>\n",
       "      <td>19820708037199I</td>\n",
       "      <td>COWLING CAME OPEN IN FLIGHT, STRUCK AND LOOSEN...</td>\n",
       "      <td>COWLING</td>\n",
       "      <td>[{'value': 'PER', 'confidence': 0.997699439525...</td>\n",
       "      <td>PER</td>\n",
       "      <td>0.997699</td>\n",
       "    </tr>\n",
       "    <tr>\n",
       "      <th>82</th>\n",
       "      <td>19830618040089I</td>\n",
       "      <td>ENGINE COWLING CAME LOOSE AFTER TAKEOFF. COWLI...</td>\n",
       "      <td>COWLING</td>\n",
       "      <td>[{'value': 'PER', 'confidence': 0.539467930793...</td>\n",
       "      <td>PER</td>\n",
       "      <td>0.539468</td>\n",
       "    </tr>\n",
       "  </tbody>\n",
       "</table>\n",
       "</div>"
      ],
      "text/plain": [
       "              c5_id                                         c119_input  \\\n",
       "32  19800113000039A  DEPARTED IFR WITH KNOWN DEFECTIVE GYRO HORIZON...   \n",
       "33  19800113000039A  DEPARTED IFR WITH KNOWN DEFECTIVE GYRO HORIZON...   \n",
       "76  19820708037199I  COWLING CAME OPEN IN FLIGHT, STRUCK AND LOOSEN...   \n",
       "77  19820708037199I  COWLING CAME OPEN IN FLIGHT, STRUCK AND LOOSEN...   \n",
       "82  19830618040089I  ENGINE COWLING CAME LOOSE AFTER TAKEOFF. COWLI...   \n",
       "\n",
       "   entities                                         labels_raw labels  \\\n",
       "32      IFR  [{'value': 'PER', 'confidence': 0.981401741504...    PER   \n",
       "33      IFR  [{'value': 'PER', 'confidence': 0.876336932182...    PER   \n",
       "76  COWLING  [{'value': 'PER', 'confidence': 0.990690350532...    PER   \n",
       "77  COWLING  [{'value': 'PER', 'confidence': 0.997699439525...    PER   \n",
       "82  COWLING  [{'value': 'PER', 'confidence': 0.539467930793...    PER   \n",
       "\n",
       "    confidence  \n",
       "32    0.981402  \n",
       "33    0.876337  \n",
       "76    0.990690  \n",
       "77    0.997699  \n",
       "82    0.539468  "
      ]
     },
     "execution_count": 80,
     "metadata": {},
     "output_type": "execute_result"
    }
   ],
   "source": [
    "flair[flair['c5_id'].isin(double_ids)].head()"
   ]
  },
  {
   "cell_type": "code",
   "execution_count": 79,
   "id": "f1107f94-58b4-4958-8a76-b3e37ba8de3d",
   "metadata": {},
   "outputs": [
    {
     "name": "stdout",
     "output_type": "stream",
     "text": [
      "DEPARTED IFR WITH KNOWN DEFECTIVE GYRO HORIZON. LOST CONTROL OF AIRPLANE DESCENDING IFR IN HOLDING PATTERN.        \n",
      "COWLING CAME OPEN IN FLIGHT, STRUCK AND LOOSENED OTHER SIDE. COWLING CAME OFF, CRACKED WINDSHIELD, REAR WINDOW.    \n",
      "ENGINE COWLING CAME LOOSE AFTER TAKEOFF. COWLING STRUCK WINDSHIELD. RETURNED. SUSPECT COWLING NOT PROPERLY SECURED.\n",
      "TAXIED FOR TAKEOFF WITH TOWBAR ATTACHED. WARNED BY TOWER TOO LATE. TOWBAR HIT PROP. ADDED REMOVE TOWBAR TO CK LIST.\n",
      "AILERON PROBLEM ON CLIMBOUT. LOST CONTROL TURNING BACK AND STALLED. AILERON PROBLEM KNOWN PRIOR TO FLIGHT.         \n",
      "NARRATIVE: MOONEY N253TM, A MOONEY 020M, DEPARTED BOZEMAN, MONTANA, GALLATIN FIELD, AND RETURNED FOR LANDING IMMEDI\n",
      "NARRATIVE: 3-9-97 1300LCL. DURING CLIMB AFTER TAKE OFF FROM HECTOR MUNICIPAL AIRPORT, HECTOR, MN. BOTH ENGINES LOST\n",
      "(-5)IFR FLIGHT, REXBURG, IDAHO TO GUNNISON, CO., PILOT REQUESTED DIVERSION TO IDAHO FALLS (IDA) AFTER HAVING SMOKE \n",
      "NARRATIVE: MS. LUNKEN DEPARTED NASHUA, NH ENROUTE TO ALTOONA, PA. IN THE VICINITY OF WILKES-BARRE, PA SHE OBSERVED \n",
      "(-23)PILOT DEPARTED MATHER FIELD, CALIFORNIA ENROUTE TO RANCHO MURIETA, CALIFORNIA. SHORTLY AFTER LEVEL OFF, THE EN\n",
      "(-23) THE PILOT DEPARTED DANVILLE, IL ENROUTE TO CRYSTAL LAKE, IL IN CESSNA 182, N92848, ON AUGUST 23, 2004. THE EN\n",
      "(-23) THE FLIGHT DEPARTED ADDISON, TEXAS ON MARCH 27, 2007 FOR A BUSINESS TRIP TO IDAHO FALLS, IDAHO UNDER 14 CFR P\n",
      "(-23) PILOT DEPARTED HOLBROOK, AZ TO SHOW LOW, AZ WITH 6 GALLONS OF FUEL ON BOARD. HIS FLIGHT REQUIRED ABOUT 3 TO 3\n"
     ]
    }
   ],
   "source": [
    "for c5_id in double_ids:\n",
    "    print(list(flair[flair['c5_id'] == c5_id]['c119_input'])[0])"
   ]
  },
  {
   "cell_type": "markdown",
   "id": "72430640-ea2d-4c47-8825-37417b7d47db",
   "metadata": {},
   "source": [
    "**2. spacy**"
   ]
  },
  {
   "cell_type": "code",
   "execution_count": 29,
   "id": "86a9ef3c-87fd-4504-a71d-a49d90814697",
   "metadata": {},
   "outputs": [],
   "source": [
    "spacy_sm = pd.read_csv('../../data/results/spacy_entityrecognizer/spacy_ner_sm.csv')"
   ]
  },
  {
   "cell_type": "code",
   "execution_count": 50,
   "id": "6211e230-1e19-4dba-a886-fd8a55e87fa2",
   "metadata": {},
   "outputs": [],
   "source": [
    "double_ids = []\n",
    "for i in range(len(dataset)):\n",
    "    c5_id = dataset['c5'].iat[i]\n",
    "    counts = spacy_sm[spacy_sm['c5_unique_id'] == c5_id]['entities'].value_counts()\n",
    "    for icount, count in enumerate(counts):\n",
    "        if count > 1:\n",
    "            double_ids.append(c5_id)\n",
    "double_ids = list(pd.unique(double_ids))"
   ]
  },
  {
   "cell_type": "code",
   "execution_count": 51,
   "id": "a52b7369-30ae-4966-963c-8f3a93fd3231",
   "metadata": {},
   "outputs": [
    {
     "name": "stdout",
     "output_type": "stream",
     "text": [
      "Found 2 Entries With Double Entities\n"
     ]
    }
   ],
   "source": [
    "print(f\"Found {len(double_ids)} Entries With Double Entities\")"
   ]
  },
  {
   "cell_type": "code",
   "execution_count": 38,
   "id": "4c950d19-ecf5-4211-a2c7-b10313a09da0",
   "metadata": {},
   "outputs": [],
   "source": [
    "spacy_lg = pd.read_csv('../../data/results/spacy_entityrecognizer/spacy_ner_lg.csv')"
   ]
  },
  {
   "cell_type": "code",
   "execution_count": 52,
   "id": "ec2a5be8-4e1a-4624-bb9a-1c2a72aa3cb2",
   "metadata": {},
   "outputs": [],
   "source": [
    "double_ids = []\n",
    "for i in range(len(dataset)):\n",
    "    c5_id = dataset['c5'].iat[i]\n",
    "    counts = spacy_lg[spacy_lg['c5_id'] == c5_id]['entities'].value_counts()\n",
    "    for icount, count in enumerate(counts):\n",
    "        if count > 1:\n",
    "            double_ids.append(c5_id)\n",
    "double_ids = list(pd.unique(double_ids))"
   ]
  },
  {
   "cell_type": "code",
   "execution_count": 53,
   "id": "0e4f864e-9e04-4246-898f-8cf80dad0f88",
   "metadata": {},
   "outputs": [
    {
     "name": "stdout",
     "output_type": "stream",
     "text": [
      "Found 54 Entries With Double Entities\n"
     ]
    }
   ],
   "source": [
    "print(f\"Found {len(double_ids)} Entries With Double Entities\")"
   ]
  },
  {
   "cell_type": "markdown",
   "id": "7f41af1f-97d1-425d-bddb-f2c0e6e9fe79",
   "metadata": {},
   "source": [
    "**3. Stanza**"
   ]
  },
  {
   "cell_type": "code",
   "execution_count": 40,
   "id": "9995ccd5-8ad6-4086-905c-e7b14edf59f8",
   "metadata": {},
   "outputs": [],
   "source": [
    "stanza = pd.read_csv('../../data/results/stanza/stanza_ner.csv')"
   ]
  },
  {
   "cell_type": "code",
   "execution_count": 54,
   "id": "7757fab0-b846-4faa-87ad-29a79f5483bc",
   "metadata": {},
   "outputs": [],
   "source": [
    "double_ids = []\n",
    "for i in range(len(dataset)):\n",
    "    c5_id = dataset['c5'].iat[i]\n",
    "    counts = stanza[stanza['c5_unique_id'] == c5_id]['entities'].value_counts()\n",
    "    for icount, count in enumerate(counts):\n",
    "        if count > 1:\n",
    "            double_ids.append(c5_id)\n",
    "double_ids = list(pd.unique(double_ids))"
   ]
  },
  {
   "cell_type": "code",
   "execution_count": 55,
   "id": "89af8e17-22e2-4510-ac7a-f7d709cc4bf3",
   "metadata": {},
   "outputs": [
    {
     "name": "stdout",
     "output_type": "stream",
     "text": [
      "Found 0 Entries With Double Entities\n"
     ]
    }
   ],
   "source": [
    "print(f\"Found {len(double_ids)} Entries With Double Entities\")"
   ]
  },
  {
   "cell_type": "markdown",
   "id": "0e9c3fb6-6326-4b77-8d18-195b63759746",
   "metadata": {},
   "source": [
    "**4. NLTK**"
   ]
  },
  {
   "cell_type": "code",
   "execution_count": 43,
   "id": "0ad71ef7-bb64-4432-b91e-dc14c00df2e7",
   "metadata": {},
   "outputs": [],
   "source": [
    "nltk = pd.read_csv('../../data/results/nltk/nltk_ner_uppercased.csv')"
   ]
  },
  {
   "cell_type": "code",
   "execution_count": 56,
   "id": "f264869d-a40f-421f-8fee-c12c971e7b69",
   "metadata": {},
   "outputs": [],
   "source": [
    "double_ids = []\n",
    "for i in range(len(dataset)):\n",
    "    c5_id = dataset['c5'].iat[i]\n",
    "    counts = nltk[nltk['c5_unique_id'] == c5_id]['entities'].value_counts()\n",
    "    for icount, count in enumerate(counts):\n",
    "        if count > 1:\n",
    "            double_ids.append(c5_id)\n",
    "double_ids = list(pd.unique(double_ids))"
   ]
  },
  {
   "cell_type": "code",
   "execution_count": 57,
   "id": "33e6d0aa-54fc-4d1e-b8d4-0ee9dc9fe3aa",
   "metadata": {},
   "outputs": [
    {
     "name": "stdout",
     "output_type": "stream",
     "text": [
      "Found 12 Entries With Double Entities\n"
     ]
    }
   ],
   "source": [
    "print(f\"Found {len(double_ids)} Entries With Double Entities\")"
   ]
  },
  {
   "cell_type": "markdown",
   "id": "75f0b690-5bdf-4fdf-a086-1f22ba0a4d55",
   "metadata": {},
   "source": [
    "#### NEL"
   ]
  },
  {
   "cell_type": "markdown",
   "id": "6c6d935e-198a-4509-b382-d06390f90746",
   "metadata": {},
   "source": [
    "**1. BLINK**"
   ]
  },
  {
   "cell_type": "code",
   "execution_count": 58,
   "id": "e93c83ba-3a75-46e8-a3ff-dac8d07cb628",
   "metadata": {},
   "outputs": [],
   "source": [
    "blink = pd.read_csv('../../data/results/blink/blink_results_new.csv')"
   ]
  },
  {
   "cell_type": "code",
   "execution_count": 60,
   "id": "e7988232-722b-46ed-a127-5b4a6a9ddc75",
   "metadata": {},
   "outputs": [],
   "source": [
    "double_ids = []\n",
    "for i in range(len(dataset)):\n",
    "    c5_id = dataset['c5'].iat[i]\n",
    "    counts = blink[blink['c5_id'] == c5_id]['bi_pred_entity'].value_counts()\n",
    "    for icount, count in enumerate(counts):\n",
    "        if count > 1:\n",
    "            double_ids.append(c5_id)\n",
    "double_ids = list(pd.unique(double_ids))"
   ]
  },
  {
   "cell_type": "code",
   "execution_count": 61,
   "id": "bfe3ca1c-7e84-43f1-a3f4-3f82b30235e4",
   "metadata": {},
   "outputs": [
    {
     "name": "stdout",
     "output_type": "stream",
     "text": [
      "Found 24 Entries With Double Entities\n"
     ]
    }
   ],
   "source": [
    "print(f\"Found {len(double_ids)} Entries With Double Entities\")"
   ]
  },
  {
   "cell_type": "markdown",
   "id": "0bd05259-37d3-434a-bc72-b59d73ffc95f",
   "metadata": {},
   "source": [
    "**2. spaCy EntityLinker**"
   ]
  },
  {
   "cell_type": "code",
   "execution_count": 63,
   "id": "4f040a56-cd48-4ddb-986a-f5a6d9d187a8",
   "metadata": {},
   "outputs": [],
   "source": [
    "spacy_el = pd.read_csv('../../data/results/spacy_entity_linker/spacy_entitylinker.csv')"
   ]
  },
  {
   "cell_type": "code",
   "execution_count": 64,
   "id": "4fe7063f-2ba5-4348-abe4-b47b156354a8",
   "metadata": {},
   "outputs": [],
   "source": [
    "double_ids = []\n",
    "for i in range(len(dataset)):\n",
    "    c5_id = dataset['c5'].iat[i]\n",
    "    counts = spacy_el[spacy_el['c5_id'] == c5_id]['entities'].value_counts()\n",
    "    for icount, count in enumerate(counts):\n",
    "        if count > 1:\n",
    "            double_ids.append(c5_id)\n",
    "double_ids = list(pd.unique(double_ids))"
   ]
  },
  {
   "cell_type": "code",
   "execution_count": 65,
   "id": "5a2de4ad-2eb4-4c52-929c-ec2d5902b907",
   "metadata": {},
   "outputs": [
    {
     "name": "stdout",
     "output_type": "stream",
     "text": [
      "Found 623 Entries With Double Entities\n"
     ]
    }
   ],
   "source": [
    "print(f\"Found {len(double_ids)} Entries With Double Entities\")"
   ]
  },
  {
   "cell_type": "markdown",
   "id": "4f7d1720-be18-4648-bc15-7de4dc3c1374",
   "metadata": {},
   "source": [
    "**3. GenRE**"
   ]
  },
  {
   "cell_type": "markdown",
   "id": "14b333e4-ef8f-4785-839a-ca60bfde6ed3",
   "metadata": {},
   "source": [
    "**4. ReFinED**"
   ]
  },
  {
   "cell_type": "code",
   "execution_count": null,
   "id": "b70c3c35-542c-45c9-9ef3-acd79abfd4ad",
   "metadata": {},
   "outputs": [],
   "source": []
  }
 ],
 "metadata": {
  "kernelspec": {
   "display_name": "Python 3 (ipykernel)",
   "language": "python",
   "name": "python3"
  },
  "language_info": {
   "codemirror_mode": {
    "name": "ipython",
    "version": 3
   },
   "file_extension": ".py",
   "mimetype": "text/x-python",
   "name": "python",
   "nbconvert_exporter": "python",
   "pygments_lexer": "ipython3",
   "version": "3.11.5"
  }
 },
 "nbformat": 4,
 "nbformat_minor": 5
}
