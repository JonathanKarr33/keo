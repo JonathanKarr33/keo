{
 "cells": [
  {
   "cell_type": "code",
   "execution_count": 1,
   "id": "104772e0-8f80-4818-b06d-f432f3038529",
   "metadata": {
    "collapsed": true,
    "jupyter": {
     "outputs_hidden": true
    },
    "scrolled": true
   },
   "outputs": [
    {
     "name": "stdout",
     "output_type": "stream",
     "text": [
      "Defaulting to user installation because normal site-packages is not writeable\n",
      "Collecting scikit-learn==1.5.0\n",
      "  Obtaining dependency information for scikit-learn==1.5.0 from https://files.pythonhosted.org/packages/46/c0/63d3a8da39a2ee051df229111aa93f6dca2b56f8080abd34993938166455/scikit_learn-1.5.0-cp311-cp311-manylinux_2_17_x86_64.manylinux2014_x86_64.whl.metadata\n",
      "  Downloading scikit_learn-1.5.0-cp311-cp311-manylinux_2_17_x86_64.manylinux2014_x86_64.whl.metadata (11 kB)\n",
      "Requirement already satisfied: nltk in /afs/crc.nd.edu/user/k/kmealey2/.local/lib/python3.11/site-packages (3.8.1)\n",
      "Collecting sklearn_crfsuite\n",
      "  Obtaining dependency information for sklearn_crfsuite from https://files.pythonhosted.org/packages/b2/11/a8370dd6fce65f8f4e74a0adffae72be9db5799d8ed8ddbf84415356a764/sklearn_crfsuite-0.5.0-py2.py3-none-any.whl.metadata\n",
      "  Downloading sklearn_crfsuite-0.5.0-py2.py3-none-any.whl.metadata (4.9 kB)\n",
      "Requirement already satisfied: numpy>=1.19.5 in /afs/crc.nd.edu/user/k/kmealey2/.local/lib/python3.11/site-packages (from scikit-learn==1.5.0) (1.26.4)\n",
      "Requirement already satisfied: scipy>=1.6.0 in /afs/crc.nd.edu/user/k/kmealey2/.local/lib/python3.11/site-packages (from scikit-learn==1.5.0) (1.12.0)\n",
      "Requirement already satisfied: joblib>=1.2.0 in /opt/anaconda3/lib/python3.11/site-packages (from scikit-learn==1.5.0) (1.2.0)\n",
      "Collecting threadpoolctl>=3.1.0 (from scikit-learn==1.5.0)\n",
      "  Obtaining dependency information for threadpoolctl>=3.1.0 from https://files.pythonhosted.org/packages/4b/2c/ffbf7a134b9ab11a67b0cf0726453cedd9c5043a4fe7a35d1cefa9a1bcfb/threadpoolctl-3.5.0-py3-none-any.whl.metadata\n",
      "  Using cached threadpoolctl-3.5.0-py3-none-any.whl.metadata (13 kB)\n",
      "Requirement already satisfied: click in /opt/anaconda3/lib/python3.11/site-packages (from nltk) (8.0.4)\n",
      "Requirement already satisfied: regex>=2021.8.3 in /opt/anaconda3/lib/python3.11/site-packages (from nltk) (2022.7.9)\n",
      "Requirement already satisfied: tqdm in /opt/anaconda3/lib/python3.11/site-packages (from nltk) (4.65.0)\n",
      "Collecting python-crfsuite>=0.9.7 (from sklearn_crfsuite)\n",
      "  Obtaining dependency information for python-crfsuite>=0.9.7 from https://files.pythonhosted.org/packages/f0/94/9b35b4cd490c0fa52df409d80585636728217eaae38707941ea255d3f9db/python_crfsuite-0.9.10-cp311-cp311-manylinux_2_17_x86_64.manylinux2014_x86_64.whl.metadata\n",
      "  Downloading python_crfsuite-0.9.10-cp311-cp311-manylinux_2_17_x86_64.manylinux2014_x86_64.whl.metadata (4.2 kB)\n",
      "Requirement already satisfied: tabulate>=0.4.2 in /opt/anaconda3/lib/python3.11/site-packages (from sklearn_crfsuite) (0.8.10)\n",
      "Downloading scikit_learn-1.5.0-cp311-cp311-manylinux_2_17_x86_64.manylinux2014_x86_64.whl (13.3 MB)\n",
      "\u001b[2K   \u001b[90m━━━━━━━━━━━━━━━━━━━━━━━━━━━━━━━━━━━━━━━━\u001b[0m \u001b[32m13.3/13.3 MB\u001b[0m \u001b[31m32.8 MB/s\u001b[0m eta \u001b[36m0:00:00\u001b[0m:00:01\u001b[0m00:01\u001b[0m\n",
      "\u001b[?25hDownloading sklearn_crfsuite-0.5.0-py2.py3-none-any.whl (10 kB)\n",
      "Downloading python_crfsuite-0.9.10-cp311-cp311-manylinux_2_17_x86_64.manylinux2014_x86_64.whl (1.1 MB)\n",
      "\u001b[2K   \u001b[90m━━━━━━━━━━━━━━━━━━━━━━━━━━━━━━━━━━━━━━━━\u001b[0m \u001b[32m1.1/1.1 MB\u001b[0m \u001b[31m15.0 MB/s\u001b[0m eta \u001b[36m0:00:00\u001b[0m:00:01\u001b[0m\n",
      "\u001b[?25hUsing cached threadpoolctl-3.5.0-py3-none-any.whl (18 kB)\n",
      "Installing collected packages: python-crfsuite, threadpoolctl, scikit-learn, sklearn_crfsuite\n",
      "Successfully installed python-crfsuite-0.9.10 scikit-learn-1.5.0 sklearn_crfsuite-0.5.0 threadpoolctl-3.5.0\n"
     ]
    }
   ],
   "source": [
    "!pip install scikit-learn==1.5.0 nltk sklearn_crfsuite"
   ]
  },
  {
   "cell_type": "code",
   "execution_count": 20,
   "id": "8fa0eff4-fc5e-4b00-8463-c022ab0477c9",
   "metadata": {},
   "outputs": [],
   "source": [
    "import sys\n",
    "sys.path.append(\"./NER-Evaluation\")\n",
    "\n",
    "import nltk\n",
    "import sklearn_crfsuite\n",
    "\n",
    "from copy import deepcopy\n",
    "from collections import defaultdict\n",
    "\n",
    "from sklearn_crfsuite.metrics import flat_classification_report\n",
    "\n",
    "from ner_evaluation.ner_eval import compute_metrics\n",
    "from ner_evaluation.ner_eval import compute_precision_recall_wrapper\n",
    "\n",
    "import pandas as pd\n",
    "import json"
   ]
  },
  {
   "cell_type": "code",
   "execution_count": 7,
   "id": "88818303-49d6-4d19-8e33-e5563fb8baec",
   "metadata": {},
   "outputs": [],
   "source": [
    "from collections import namedtuple\n",
    "Entity = namedtuple(\"Entity\", \"e_type start_offset end_offset\")"
   ]
  },
  {
   "cell_type": "markdown",
   "id": "a3a1a532-d253-4fd4-91ea-6dfe9c41ca01",
   "metadata": {},
   "source": [
    "### Implement our own version of collect_named_entities"
   ]
  },
  {
   "cell_type": "markdown",
   "id": "fd180a8b-db8e-41c2-959f-3fd51bfd9177",
   "metadata": {},
   "source": [
    "**Use code from coref_reformat.ipynb from crosslingual_coref**"
   ]
  },
  {
   "cell_type": "code",
   "execution_count": 31,
   "id": "df2549ef-33ca-46c9-a9ad-6abd9c2632e3",
   "metadata": {},
   "outputs": [],
   "source": [
    "# Get FAA data in format {c5_id:{0: word0, 1: word1, ..., n: wordn}} using word tokenization from faa.conll\n",
    "\n",
    "faa = {}\n",
    "\n",
    "with open('../../data/FAA_data/faa.conll') as f:\n",
    "    text = f.read()\n",
    "\n",
    "docs = text.split('#begin document ')\n",
    "\n",
    "for doc in docs:\n",
    "    if doc[:5] == '(faa/':\n",
    "        word_count = 0\n",
    "        c5_id = doc.split('_')[1][:15]\n",
    "        faa[c5_id] = {}\n",
    "        lines = doc.split('\\n')\n",
    "        for line in lines[1:]:\n",
    "            if 'faa' in line:\n",
    "                faa[c5_id][word_count] = line.split()[3].upper()\n",
    "                word_count = word_count + 1"
   ]
  },
  {
   "cell_type": "code",
   "execution_count": 25,
   "id": "396f935f-be04-412d-aced-d9aea0c35f49",
   "metadata": {},
   "outputs": [
    {
     "data": {
      "text/plain": [
       "dict_values(['TOW', 'PLANE', 'BECAME', 'AIRBORNE', 'THEN', 'SETTLED', '/.', 'STUDENT', 'THOUGHT', 'TOW', 'IN', 'TROUBLE', '&', 'RELEASED', '/.', 'HIT', 'TREE', '/.'])"
      ]
     },
     "execution_count": 25,
     "metadata": {},
     "output_type": "execute_result"
    }
   ],
   "source": [
    "faa['19750419011349A'].values()"
   ]
  },
  {
   "cell_type": "code",
   "execution_count": 145,
   "id": "7887fe83-6b40-44d5-8044-568cacc56daf",
   "metadata": {},
   "outputs": [],
   "source": [
    "# Fix known err\n",
    "faa['19980620030289I'] = {0: 'MR.', 1: 'KADERA', 2: 'THEN', 3: 'ATTEMPTED', 4: 'TO', 5: 'LAND', 6: 'IN', 7: 'A', 8: 'FIELD', 9: 'BUT', 10: 'WAS', 11: 'FORCED', 12: 'TO', 13: 'LAND', 14: 'ON', 15: 'HIGHWAY', 16: '93', 17: '.', 18: 'THREE', 19: 'MILES', 20: 'EAST', 21: 'OF', 22: 'SUNMER', 23: ',', 24: 'IOWA'}"
   ]
  },
  {
   "cell_type": "code",
   "execution_count": 203,
   "id": "eb28d157-c29e-4eac-b663-4c358ef1bf5c",
   "metadata": {},
   "outputs": [],
   "source": [
    "def get_spans(mentions, words):\n",
    "    ''' Input:\n",
    "    - mentions:['MENTION1','MENTION2',...]\n",
    "    - words: ['This','is','a','sentence','.','This','is','another','sentence','.'] (dict values)\n",
    "        Output: [[startidx_mention1, end_idxmention1], [startidx_mention2, end_idxmention2], ...]\n",
    "    '''\n",
    "\n",
    "    mention_spans = []\n",
    "\n",
    "    resume_idx = 0\n",
    "    \n",
    "    for mention in mentions:\n",
    "\n",
    "        mention_span = [-1, -1]\n",
    "        \n",
    "        if mention in ' '.join(words.values()):\n",
    "            # find start of mention\n",
    "            for iword, word in words.items():\n",
    "                if iword >= resume_idx and mention.split()[0] == word:\n",
    "                    mention_span[0] = iword\n",
    "\n",
    "                    if words[iword + len(mention.split()) - 1] == mention.split()[-1]:\n",
    "                        mention_span[1] = iword + len(mention.split()) # REMOVED -1 FROM HERE, SO THAT PARTIAL MATCH WORKS CORRECTLY\n",
    "                        resume_idx = iword + len(mention.split()) # set 'resume_idx' such that it continues for looking for mentions in the coref chain after this one, so it cannot be counted twice\n",
    "                        break\n",
    "                    else:\n",
    "                        mention_span[0] = -2\n",
    "                    # else reset and continue\n",
    "        \n",
    "        mention_spans.append(mention_span)\n",
    "\n",
    "    return mention_spans"
   ]
  },
  {
   "cell_type": "code",
   "execution_count": 204,
   "id": "dc8e57ed-11c4-4d9b-9818-c0321de6a6b4",
   "metadata": {},
   "outputs": [
    {
     "data": {
      "text/plain": [
       "[[0, 2], [7, 8]]"
      ]
     },
     "execution_count": 204,
     "metadata": {},
     "output_type": "execute_result"
    }
   ],
   "source": [
    "get_spans(['TOW PLANE','STUDENT'],faa['19750419011349A']) # example"
   ]
  },
  {
   "cell_type": "markdown",
   "id": "db0af1a9-49a2-42dc-bd01-b7ed5ab5a7db",
   "metadata": {},
   "source": [
    "**Now, very simple to make our own version of collect_named_entities()**"
   ]
  },
  {
   "cell_type": "code",
   "execution_count": 205,
   "id": "664db2fc-e2ae-4029-929d-eee5f07d0d0e",
   "metadata": {},
   "outputs": [],
   "source": [
    "def collect_named_entities(entities, labels, tokens):\n",
    "    \"\"\"\n",
    "    Creates a list of Entity named-tuples, storing the entity type and the start and end\n",
    "    offsets of the entity.\n",
    "\n",
    "    Parameters:\n",
    "    - entities: [\"ENT1\",\"ENT2\"...] All entities for a doc\n",
    "    - labels: [\"LABEL1\",\"LABEL2\"...] All corresponding labels for a doc\n",
    "    - tokens: dict_values(['TOW', 'PLANE', 'BECAME', ...]) Tokenized doc. Result of faa[doc_id].values()\n",
    "\n",
    "    Returns: a list of Entity named-tuples\n",
    "    \"\"\"\n",
    "\n",
    "    ent_spans = get_spans(entities, tokens)\n",
    "\n",
    "    named_entities = []\n",
    "    for ient, ent_span in enumerate(ent_spans):\n",
    "        named_entities.append(Entity(labels[ient], ent_span[0], ent_span[1]))\n",
    "\n",
    "    return named_entities"
   ]
  },
  {
   "cell_type": "code",
   "execution_count": 206,
   "id": "b8ba1a17-7d15-4be8-a59a-62c54a74e32f",
   "metadata": {},
   "outputs": [
    {
     "data": {
      "text/plain": [
       "[Entity(e_type='VEHICLE', start_offset=0, end_offset=2),\n",
       " Entity(e_type='PER', start_offset=7, end_offset=8)]"
      ]
     },
     "execution_count": 206,
     "metadata": {},
     "output_type": "execute_result"
    }
   ],
   "source": [
    "collect_named_entities(['TOW PLANE','STUDENT'],['VEHICLE','PER'],faa['19750419011349A']) #example"
   ]
  },
  {
   "cell_type": "markdown",
   "id": "f2d607eb-75f6-4a38-afbc-057599e3a3e2",
   "metadata": {},
   "source": [
    "### Get Predicted and Gold Data"
   ]
  },
  {
   "cell_type": "code",
   "execution_count": 410,
   "id": "dbcec1ff-e31e-45ab-8a7f-3a9bd101e927",
   "metadata": {},
   "outputs": [],
   "source": [
    "abbrevs = {'FACILITY':'FAC','ORGANIZATION':'ORG','PERSON':'PER','LOCATION':'LOC'}"
   ]
  },
  {
   "cell_type": "code",
   "execution_count": 789,
   "id": "ab72d1ac-3abb-487a-b055-e27db6a65cf5",
   "metadata": {},
   "outputs": [
    {
     "data": {
      "text/html": [
       "<div>\n",
       "<style scoped>\n",
       "    .dataframe tbody tr th:only-of-type {\n",
       "        vertical-align: middle;\n",
       "    }\n",
       "\n",
       "    .dataframe tbody tr th {\n",
       "        vertical-align: top;\n",
       "    }\n",
       "\n",
       "    .dataframe thead th {\n",
       "        text-align: right;\n",
       "    }\n",
       "</style>\n",
       "<table border=\"1\" class=\"dataframe\">\n",
       "  <thead>\n",
       "    <tr style=\"text-align: right;\">\n",
       "      <th></th>\n",
       "      <th>index</th>\n",
       "      <th>c5_unique_id</th>\n",
       "      <th>c119_text</th>\n",
       "      <th>entities</th>\n",
       "      <th>POS tags</th>\n",
       "      <th>labels</th>\n",
       "    </tr>\n",
       "  </thead>\n",
       "  <tbody>\n",
       "    <tr>\n",
       "      <th>0</th>\n",
       "      <td>2318</td>\n",
       "      <td>19990213001379A</td>\n",
       "      <td>ACFT WAS TAXIING FOR TAKE OFF WHEN IT LOST CON...</td>\n",
       "      <td>ACFT</td>\n",
       "      <td>NNP</td>\n",
       "      <td>ORG</td>\n",
       "    </tr>\n",
       "    <tr>\n",
       "      <th>1</th>\n",
       "      <td>2318</td>\n",
       "      <td>19990213001379A</td>\n",
       "      <td>ACFT WAS TAXIING FOR TAKE OFF WHEN IT LOST CON...</td>\n",
       "      <td>WAS</td>\n",
       "      <td>NNP</td>\n",
       "      <td>ORG</td>\n",
       "    </tr>\n",
       "    <tr>\n",
       "      <th>2</th>\n",
       "      <td>2318</td>\n",
       "      <td>19990213001379A</td>\n",
       "      <td>ACFT WAS TAXIING FOR TAKE OFF WHEN IT LOST CON...</td>\n",
       "      <td>IT</td>\n",
       "      <td>NNP</td>\n",
       "      <td>ORG</td>\n",
       "    </tr>\n",
       "    <tr>\n",
       "      <th>3</th>\n",
       "      <td>2318</td>\n",
       "      <td>19990213001379A</td>\n",
       "      <td>ACFT WAS TAXIING FOR TAKE OFF WHEN IT LOST CON...</td>\n",
       "      <td>LOST</td>\n",
       "      <td>NNP</td>\n",
       "      <td>ORG</td>\n",
       "    </tr>\n",
       "    <tr>\n",
       "      <th>4</th>\n",
       "      <td>2318</td>\n",
       "      <td>19990213001379A</td>\n",
       "      <td>ACFT WAS TAXIING FOR TAKE OFF WHEN IT LOST CON...</td>\n",
       "      <td>RAN</td>\n",
       "      <td>NNP</td>\n",
       "      <td>ORG</td>\n",
       "    </tr>\n",
       "  </tbody>\n",
       "</table>\n",
       "</div>"
      ],
      "text/plain": [
       "   index     c5_unique_id                                          c119_text  \\\n",
       "0   2318  19990213001379A  ACFT WAS TAXIING FOR TAKE OFF WHEN IT LOST CON...   \n",
       "1   2318  19990213001379A  ACFT WAS TAXIING FOR TAKE OFF WHEN IT LOST CON...   \n",
       "2   2318  19990213001379A  ACFT WAS TAXIING FOR TAKE OFF WHEN IT LOST CON...   \n",
       "3   2318  19990213001379A  ACFT WAS TAXIING FOR TAKE OFF WHEN IT LOST CON...   \n",
       "4   2318  19990213001379A  ACFT WAS TAXIING FOR TAKE OFF WHEN IT LOST CON...   \n",
       "\n",
       "  entities POS tags labels  \n",
       "0     ACFT      NNP    ORG  \n",
       "1      WAS      NNP    ORG  \n",
       "2       IT      NNP    ORG  \n",
       "3     LOST      NNP    ORG  \n",
       "4      RAN      NNP    ORG  "
      ]
     },
     "execution_count": 789,
     "metadata": {},
     "output_type": "execute_result"
    }
   ],
   "source": [
    "result_df = pd.read_csv('../../data/results/nltk/nltk_ner_uppercased.csv')\n",
    "result_df['labels'] = result_df['labels'].apply(lambda x: abbrevs[x] if x in abbrevs else x)\n",
    "result_df.head()"
   ]
  },
  {
   "cell_type": "code",
   "execution_count": 701,
   "id": "5188d7e2-8c81-48ac-a7a3-7a79be703316",
   "metadata": {},
   "outputs": [
    {
     "data": {
      "text/html": [
       "<div>\n",
       "<style scoped>\n",
       "    .dataframe tbody tr th:only-of-type {\n",
       "        vertical-align: middle;\n",
       "    }\n",
       "\n",
       "    .dataframe tbody tr th {\n",
       "        vertical-align: top;\n",
       "    }\n",
       "\n",
       "    .dataframe thead th {\n",
       "        text-align: right;\n",
       "    }\n",
       "</style>\n",
       "<table border=\"1\" class=\"dataframe\">\n",
       "  <thead>\n",
       "    <tr style=\"text-align: right;\">\n",
       "      <th></th>\n",
       "      <th>id</th>\n",
       "      <th>sample</th>\n",
       "      <th>entities</th>\n",
       "      <th>labels</th>\n",
       "    </tr>\n",
       "  </thead>\n",
       "  <tbody>\n",
       "    <tr>\n",
       "      <th>0</th>\n",
       "      <td>19990213001379A</td>\n",
       "      <td>ACFT WAS TAXIING FOR TAKE OFF WHEN IT LOST CON...</td>\n",
       "      <td>ACFT</td>\n",
       "      <td>ORG</td>\n",
       "    </tr>\n",
       "    <tr>\n",
       "      <th>1</th>\n",
       "      <td>19990213001379A</td>\n",
       "      <td>ACFT WAS TAXIING FOR TAKE OFF WHEN IT LOST CON...</td>\n",
       "      <td>DITCH</td>\n",
       "      <td>ORG</td>\n",
       "    </tr>\n",
       "    <tr>\n",
       "      <th>2</th>\n",
       "      <td>19990213001379A</td>\n",
       "      <td>ACFT WAS TAXIING FOR TAKE OFF WHEN IT LOST CON...</td>\n",
       "      <td>TREE</td>\n",
       "      <td>ORG</td>\n",
       "    </tr>\n",
       "    <tr>\n",
       "      <th>3</th>\n",
       "      <td>19990213001379A</td>\n",
       "      <td>ACFT WAS TAXIING FOR TAKE OFF WHEN IT LOST CON...</td>\n",
       "      <td>LOST CONTROL</td>\n",
       "      <td>ORG</td>\n",
       "    </tr>\n",
       "    <tr>\n",
       "      <th>4</th>\n",
       "      <td>19800217031649I</td>\n",
       "      <td>AFTER TAKEOFF, ENGINE QUIT. WING FUEL TANK SUM...</td>\n",
       "      <td>TAKEOFF</td>\n",
       "      <td>ORG</td>\n",
       "    </tr>\n",
       "  </tbody>\n",
       "</table>\n",
       "</div>"
      ],
      "text/plain": [
       "                id                                             sample  \\\n",
       "0  19990213001379A  ACFT WAS TAXIING FOR TAKE OFF WHEN IT LOST CON...   \n",
       "1  19990213001379A  ACFT WAS TAXIING FOR TAKE OFF WHEN IT LOST CON...   \n",
       "2  19990213001379A  ACFT WAS TAXIING FOR TAKE OFF WHEN IT LOST CON...   \n",
       "3  19990213001379A  ACFT WAS TAXIING FOR TAKE OFF WHEN IT LOST CON...   \n",
       "4  19800217031649I  AFTER TAKEOFF, ENGINE QUIT. WING FUEL TANK SUM...   \n",
       "\n",
       "       entities labels  \n",
       "0          ACFT    ORG  \n",
       "1         DITCH    ORG  \n",
       "2          TREE    ORG  \n",
       "3  LOST CONTROL    ORG  \n",
       "4       TAKEOFF    ORG  "
      ]
     },
     "execution_count": 701,
     "metadata": {},
     "output_type": "execute_result"
    }
   ],
   "source": [
    "gold_df = pd.read_csv('../../gold_standard/processed/ner.csv')\n",
    "if 'labels' not in gold_df.columns:\n",
    "    gold_df['labels'] = ['ORG']*len(gold_df) # Add dummy labels for aviation mentions-only gs\n",
    "gold_df.head()"
   ]
  },
  {
   "cell_type": "code",
   "execution_count": 598,
   "id": "339c1f06-075f-4a9a-9718-b1ff09f45e0e",
   "metadata": {},
   "outputs": [],
   "source": [
    "#gold_df['entities'].iat[106] = 'BARTLESVILLE' # typo in ACE-2005 Gold Df"
   ]
  },
  {
   "cell_type": "code",
   "execution_count": 604,
   "id": "d75052b1-240f-4597-86bb-c52b21e4d8ee",
   "metadata": {},
   "outputs": [],
   "source": [
    "#gold_df['entities'].iat[86] = 'BARTLESVILLE' # typo in OntoNotes Gold Df"
   ]
  },
  {
   "cell_type": "code",
   "execution_count": 702,
   "id": "0714bae2-d2da-4018-8ceb-27d6804cb48f",
   "metadata": {},
   "outputs": [],
   "source": [
    "gold_df['entities'].iat[209] = 'ATTITUDE' # typo in our Gold Df\n",
    "gold_df['entities'].iat[222] = 'ACCELARATION'\n",
    "gold_df['entities'].iat[439] = 'MR. KADERA'"
   ]
  },
  {
   "cell_type": "code",
   "execution_count": 792,
   "id": "6dad753b-04db-4f22-863c-b124cfd2e9f8",
   "metadata": {},
   "outputs": [
    {
     "data": {
      "text/plain": [
       "100"
      ]
     },
     "execution_count": 792,
     "metadata": {},
     "output_type": "execute_result"
    }
   ],
   "source": [
    "id_col = 'c5_unique_id'\n",
    "len(result_df[id_col].unique())"
   ]
  },
  {
   "cell_type": "code",
   "execution_count": 603,
   "id": "578e29ea-8715-46b5-b632-d958863b13b9",
   "metadata": {},
   "outputs": [
    {
     "data": {
      "text/plain": [
       "100"
      ]
     },
     "execution_count": 603,
     "metadata": {},
     "output_type": "execute_result"
    }
   ],
   "source": [
    "len(gold_df['id'].unique())"
   ]
  },
  {
   "cell_type": "markdown",
   "id": "0023a22e-4b0e-4ffe-af01-aeee59bab80f",
   "metadata": {},
   "source": [
    "**Create all_true_ents and all_pred_ents lists**\n",
    "\n",
    "In the example in example-full-named-entity-evaluation.ipynb, they use test_sents_labels and y_pred, which are lists of the tokens to input to collect_named_entities to get true and pred, respectively. However, our collect_named_entities() takes more input, so it's easier to do that process ahead of time, and have lists of true's and pred's ready to go"
   ]
  },
  {
   "cell_type": "code",
   "execution_count": 793,
   "id": "816e428e-7227-4518-aca8-8ed29d1d25f8",
   "metadata": {
    "scrolled": true
   },
   "outputs": [
    {
     "name": "stdout",
     "output_type": "stream",
     "text": [
      "\n",
      "True:  19990213001379A\n",
      "[Entity(e_type='ORG', start_offset=0, end_offset=1), Entity(e_type='ORG', start_offset=14, end_offset=15), Entity(e_type='ORG', start_offset=19, end_offset=20), Entity(e_type='ORG', start_offset=-1, end_offset=-1)]\n",
      "\n",
      "True:  19971226042729I\n",
      "[Entity(e_type='ORG', start_offset=0, end_offset=2), Entity(e_type='ORG', start_offset=-1, end_offset=-1), Entity(e_type='ORG', start_offset=5, end_offset=6), Entity(e_type='ORG', start_offset=7, end_offset=8), Entity(e_type='ORG', start_offset=11, end_offset=13), Entity(e_type='ORG', start_offset=21, end_offset=22)]\n",
      "\n",
      "True:  20050713014239I\n",
      "[Entity(e_type='ORG', start_offset=-1, end_offset=-1), Entity(e_type='ORG', start_offset=10, end_offset=12), Entity(e_type='ORG', start_offset=-2, end_offset=-1), Entity(e_type='ORG', start_offset=17, end_offset=18), Entity(e_type='ORG', start_offset=19, end_offset=20), Entity(e_type='ORG', start_offset=22, end_offset=23), Entity(e_type='ORG', start_offset=25, end_offset=27)]\n",
      "\n",
      "True:  19870319012959I\n",
      "[Entity(e_type='ORG', start_offset=6, end_offset=7), Entity(e_type='ORG', start_offset=11, end_offset=12), Entity(e_type='ORG', start_offset=-1, end_offset=-1)]\n",
      "\n",
      "True:  19970523014439I\n",
      "[Entity(e_type='ORG', start_offset=3, end_offset=5), Entity(e_type='ORG', start_offset=8, end_offset=9), Entity(e_type='ORG', start_offset=-1, end_offset=-1), Entity(e_type='ORG', start_offset=13, end_offset=15), Entity(e_type='ORG', start_offset=-1, end_offset=-1)]\n",
      "\n",
      "True:  20010421009329I\n",
      "[Entity(e_type='ORG', start_offset=3, end_offset=4), Entity(e_type='ORG', start_offset=6, end_offset=8), Entity(e_type='ORG', start_offset=12, end_offset=14), Entity(e_type='ORG', start_offset=15, end_offset=16), Entity(e_type='ORG', start_offset=21, end_offset=22), Entity(e_type='ORG', start_offset=-1, end_offset=-1)]\n",
      "\n",
      "True:  19950314029269I\n",
      "[Entity(e_type='ORG', start_offset=-1, end_offset=-1), Entity(e_type='ORG', start_offset=8, end_offset=9), Entity(e_type='ORG', start_offset=13, end_offset=14), Entity(e_type='ORG', start_offset=17, end_offset=21), Entity(e_type='ORG', start_offset=23, end_offset=24)]\n",
      "\n",
      "True:  20030607012509A\n",
      "[Entity(e_type='ORG', start_offset=4, end_offset=5), Entity(e_type='ORG', start_offset=6, end_offset=9), Entity(e_type='ORG', start_offset=10, end_offset=11), Entity(e_type='ORG', start_offset=-1, end_offset=-1), Entity(e_type='ORG', start_offset=16, end_offset=20)]\n",
      "\n",
      "True:  20070202001609A\n",
      "[Entity(e_type='ORG', start_offset=5, end_offset=6), Entity(e_type='ORG', start_offset=-1, end_offset=-1), Entity(e_type='ORG', start_offset=-1, end_offset=-1), Entity(e_type='ORG', start_offset=19, end_offset=22), Entity(e_type='ORG', start_offset=24, end_offset=25), Entity(e_type='ORG', start_offset=26, end_offset=27), Entity(e_type='ORG', start_offset=28, end_offset=29)]\n",
      "\n",
      "True:  19961027033759A\n",
      "[Entity(e_type='ORG', start_offset=1, end_offset=3), Entity(e_type='ORG', start_offset=5, end_offset=6), Entity(e_type='ORG', start_offset=-1, end_offset=-1), Entity(e_type='ORG', start_offset=11, end_offset=13), Entity(e_type='ORG', start_offset=14, end_offset=15), Entity(e_type='ORG', start_offset=19, end_offset=21), Entity(e_type='ORG', start_offset=24, end_offset=25)]\n",
      "\n",
      "True:  20020619014309A\n",
      "[Entity(e_type='ORG', start_offset=3, end_offset=4), Entity(e_type='ORG', start_offset=5, end_offset=6), Entity(e_type='ORG', start_offset=-1, end_offset=-1), Entity(e_type='ORG', start_offset=-1, end_offset=-1), Entity(e_type='ORG', start_offset=21, end_offset=22), Entity(e_type='ORG', start_offset=22, end_offset=23)]\n",
      "\n",
      "True:  19980620030289I\n",
      "[Entity(e_type='ORG', start_offset=0, end_offset=2), Entity(e_type='ORG', start_offset=8, end_offset=9), Entity(e_type='ORG', start_offset=15, end_offset=17), Entity(e_type='ORG', start_offset=18, end_offset=19), Entity(e_type='ORG', start_offset=20, end_offset=21), Entity(e_type='ORG', start_offset=-1, end_offset=-1)]\n",
      "\n",
      "True:  19990923027739A\n",
      "[Entity(e_type='ORG', start_offset=-1, end_offset=-1), Entity(e_type='ORG', start_offset=10, end_offset=15), Entity(e_type='ORG', start_offset=18, end_offset=21), Entity(e_type='ORG', start_offset=22, end_offset=23)]\n",
      "\n",
      "True:  20000215041409A\n",
      "[Entity(e_type='ORG', start_offset=-1, end_offset=-1), Entity(e_type='ORG', start_offset=10, end_offset=14), Entity(e_type='ORG', start_offset=16, end_offset=18), Entity(e_type='ORG', start_offset=19, end_offset=20), Entity(e_type='ORG', start_offset=23, end_offset=25), Entity(e_type='ORG', start_offset=25, end_offset=26)]\n"
     ]
    }
   ],
   "source": [
    "all_true_ents = []\n",
    "all_pred_ents = []\n",
    "\n",
    "for doc_id in gold_df['id'].unique():\n",
    "    true_rows = gold_df.dropna()[gold_df.dropna()['id']==doc_id]\n",
    "    pred_rows = result_df.dropna()[result_df.dropna()[id_col]==doc_id]\n",
    "\n",
    "    true_ents = collect_named_entities(true_rows['entities'].to_list(),true_rows['labels'].to_list(),faa[doc_id])\n",
    "    pred_ents = collect_named_entities(pred_rows['entities'].to_list(),pred_rows['labels'].to_list(),faa[doc_id])\n",
    "\n",
    "    if True in [ent[2] < 0 for ent in true_ents]:\n",
    "        print(\"\\nTrue: \",doc_id)\n",
    "        print(true_ents)\n",
    "    #if True in [ent[2] < 0 for ent in pred_ents]:\n",
    "    #    print(\"\\nPred: \",doc_id)\n",
    "    #    print(pred_ents)\n",
    "    \n",
    "    all_true_ents.append(true_ents)\n",
    "    all_pred_ents.append(pred_ents)"
   ]
  },
  {
   "cell_type": "markdown",
   "id": "ba010896-7f5f-4602-994d-e477a461cd2e",
   "metadata": {},
   "source": [
    "**Now, fix errors**\n",
    "\n",
    "NEEDS attn in future, temp fix"
   ]
  },
  {
   "cell_type": "code",
   "execution_count": 744,
   "id": "d642a69c-5906-48a7-9b1f-a12dceef4cd7",
   "metadata": {},
   "outputs": [],
   "source": [
    "doc_id = '19980620030289I'"
   ]
  },
  {
   "cell_type": "code",
   "execution_count": 745,
   "id": "36394a07-c004-477b-bc24-84425cd32795",
   "metadata": {},
   "outputs": [
    {
     "name": "stdout",
     "output_type": "stream",
     "text": [
      "{0: 'MR.', 1: 'KADERA', 2: 'THEN', 3: 'ATTEMPTED', 4: 'TO', 5: 'LAND', 6: 'IN', 7: 'A', 8: 'FIELD', 9: 'BUT', 10: 'WAS', 11: 'FORCED', 12: 'TO', 13: 'LAND', 14: 'ON', 15: 'HIGHWAY', 16: '93', 17: '.', 18: 'THREE', 19: 'MILES', 20: 'EAST', 21: 'OF', 22: 'SUNMER', 23: ',', 24: 'IOWA'}\n"
     ]
    }
   ],
   "source": [
    "print(faa[doc_id])"
   ]
  },
  {
   "cell_type": "code",
   "execution_count": 746,
   "id": "513e5ed0-050b-4d75-990c-4d47b368fb79",
   "metadata": {},
   "outputs": [],
   "source": [
    "#result_df[result_df[id_col]==doc_id]"
   ]
  },
  {
   "cell_type": "code",
   "execution_count": 747,
   "id": "68feac58-46a9-4637-8274-4ef5b0e56a23",
   "metadata": {},
   "outputs": [
    {
     "data": {
      "text/html": [
       "<div>\n",
       "<style scoped>\n",
       "    .dataframe tbody tr th:only-of-type {\n",
       "        vertical-align: middle;\n",
       "    }\n",
       "\n",
       "    .dataframe tbody tr th {\n",
       "        vertical-align: top;\n",
       "    }\n",
       "\n",
       "    .dataframe thead th {\n",
       "        text-align: right;\n",
       "    }\n",
       "</style>\n",
       "<table border=\"1\" class=\"dataframe\">\n",
       "  <thead>\n",
       "    <tr style=\"text-align: right;\">\n",
       "      <th></th>\n",
       "      <th>id</th>\n",
       "      <th>sample</th>\n",
       "      <th>entities</th>\n",
       "      <th>labels</th>\n",
       "    </tr>\n",
       "  </thead>\n",
       "  <tbody>\n",
       "    <tr>\n",
       "      <th>439</th>\n",
       "      <td>19980620030289I</td>\n",
       "      <td>MR. KADERA THEN ATTEMPTED TO LAND IN A FIELD B...</td>\n",
       "      <td>MR. KADERA</td>\n",
       "      <td>ORG</td>\n",
       "    </tr>\n",
       "    <tr>\n",
       "      <th>440</th>\n",
       "      <td>19980620030289I</td>\n",
       "      <td>MR. KADERA THEN ATTEMPTED TO LAND IN A FIELD B...</td>\n",
       "      <td>FIELD</td>\n",
       "      <td>ORG</td>\n",
       "    </tr>\n",
       "    <tr>\n",
       "      <th>441</th>\n",
       "      <td>19980620030289I</td>\n",
       "      <td>MR. KADERA THEN ATTEMPTED TO LAND IN A FIELD B...</td>\n",
       "      <td>HIGHWAY 93</td>\n",
       "      <td>ORG</td>\n",
       "    </tr>\n",
       "    <tr>\n",
       "      <th>442</th>\n",
       "      <td>19980620030289I</td>\n",
       "      <td>MR. KADERA THEN ATTEMPTED TO LAND IN A FIELD B...</td>\n",
       "      <td>THREE</td>\n",
       "      <td>ORG</td>\n",
       "    </tr>\n",
       "    <tr>\n",
       "      <th>443</th>\n",
       "      <td>19980620030289I</td>\n",
       "      <td>MR. KADERA THEN ATTEMPTED TO LAND IN A FIELD B...</td>\n",
       "      <td>EAST</td>\n",
       "      <td>ORG</td>\n",
       "    </tr>\n",
       "    <tr>\n",
       "      <th>444</th>\n",
       "      <td>19980620030289I</td>\n",
       "      <td>MR. KADERA THEN ATTEMPTED TO LAND IN A FIELD B...</td>\n",
       "      <td>SUNMER, IOWA</td>\n",
       "      <td>ORG</td>\n",
       "    </tr>\n",
       "  </tbody>\n",
       "</table>\n",
       "</div>"
      ],
      "text/plain": [
       "                  id                                             sample  \\\n",
       "439  19980620030289I  MR. KADERA THEN ATTEMPTED TO LAND IN A FIELD B...   \n",
       "440  19980620030289I  MR. KADERA THEN ATTEMPTED TO LAND IN A FIELD B...   \n",
       "441  19980620030289I  MR. KADERA THEN ATTEMPTED TO LAND IN A FIELD B...   \n",
       "442  19980620030289I  MR. KADERA THEN ATTEMPTED TO LAND IN A FIELD B...   \n",
       "443  19980620030289I  MR. KADERA THEN ATTEMPTED TO LAND IN A FIELD B...   \n",
       "444  19980620030289I  MR. KADERA THEN ATTEMPTED TO LAND IN A FIELD B...   \n",
       "\n",
       "         entities labels  \n",
       "439    MR. KADERA    ORG  \n",
       "440         FIELD    ORG  \n",
       "441    HIGHWAY 93    ORG  \n",
       "442         THREE    ORG  \n",
       "443          EAST    ORG  \n",
       "444  SUNMER, IOWA    ORG  "
      ]
     },
     "execution_count": 747,
     "metadata": {},
     "output_type": "execute_result"
    }
   ],
   "source": [
    "gold_df[gold_df['id']==doc_id]"
   ]
  },
  {
   "cell_type": "code",
   "execution_count": 742,
   "id": "2be97916-daec-4ef4-aa7c-00a69cd46f4a",
   "metadata": {},
   "outputs": [
    {
     "data": {
      "text/plain": [
       "89"
      ]
     },
     "execution_count": 742,
     "metadata": {},
     "output_type": "execute_result"
    }
   ],
   "source": [
    "all_true_ents.index([Entity(e_type='ORG', start_offset=0, end_offset=2), Entity(e_type='ORG', start_offset=8, end_offset=9), Entity(e_type='ORG', start_offset=15, end_offset=17), Entity(e_type='ORG', start_offset=18, end_offset=19), Entity(e_type='ORG', start_offset=20, end_offset=21), Entity(e_type='ORG', start_offset=-1, end_offset=-1)])"
   ]
  },
  {
   "cell_type": "code",
   "execution_count": 794,
   "id": "2c622cdc-bedf-4602-8cf5-349642e2a437",
   "metadata": {},
   "outputs": [],
   "source": [
    "all_true_ents[0] = [Entity(e_type='ORG', start_offset=0, end_offset=1), Entity(e_type='ORG', start_offset=14, end_offset=15), Entity(e_type='ORG', start_offset=19, end_offset=20), Entity(e_type='ORG', start_offset=8, end_offset=10)]\n",
    "all_true_ents[13] = [Entity(e_type='ORG', start_offset=0, end_offset=2), Entity(e_type='ORG', start_offset=1, end_offset=3), Entity(e_type='ORG', start_offset=5, end_offset=6), Entity(e_type='ORG', start_offset=7, end_offset=8), Entity(e_type='ORG', start_offset=11, end_offset=13), Entity(e_type='ORG', start_offset=21, end_offset=22)]\n",
    "all_true_ents[24] = [Entity(e_type='ORG', start_offset=4, end_offset=8), Entity(e_type='ORG', start_offset=10, end_offset=12), Entity(e_type='ORG', start_offset=14, end_offset=17), Entity(e_type='ORG', start_offset=17, end_offset=18), Entity(e_type='ORG', start_offset=19, end_offset=20), Entity(e_type='ORG', start_offset=22, end_offset=23), Entity(e_type='ORG', start_offset=25, end_offset=27)]\n",
    "all_true_ents[36] = [Entity(e_type='ORG', start_offset=6, end_offset=7), Entity(e_type='ORG', start_offset=11, end_offset=12), Entity(e_type='ORG', start_offset=0, end_offset=2)]\n",
    "all_true_ents[40] = [Entity(e_type='ORG', start_offset=3, end_offset=5), Entity(e_type='ORG', start_offset=8, end_offset=9), Entity(e_type='ORG', start_offset=10, end_offset=12), Entity(e_type='ORG', start_offset=13, end_offset=15), Entity(e_type='ORG', start_offset=16, end_offset=19)]\n",
    "all_true_ents[54] = [Entity(e_type='ORG', start_offset=3, end_offset=4), Entity(e_type='ORG', start_offset=6, end_offset=8), Entity(e_type='ORG', start_offset=12, end_offset=14), Entity(e_type='ORG', start_offset=15, end_offset=16), Entity(e_type='ORG', start_offset=21, end_offset=22), Entity(e_type='ORG', start_offset=19, end_offset=20)]\n",
    "all_true_ents[65] = [Entity(e_type='ORG', start_offset=3, end_offset=7), Entity(e_type='ORG', start_offset=8, end_offset=9), Entity(e_type='ORG', start_offset=13, end_offset=14), Entity(e_type='ORG', start_offset=17, end_offset=21), Entity(e_type='ORG', start_offset=23, end_offset=24)]\n",
    "all_true_ents[70] = [Entity(e_type='ORG', start_offset=4, end_offset=5), Entity(e_type='ORG', start_offset=6, end_offset=9), Entity(e_type='ORG', start_offset=10, end_offset=11), Entity(e_type='ORG', start_offset=12, end_offset=15), Entity(e_type='ORG', start_offset=16, end_offset=20)]\n",
    "all_true_ents[76] = [Entity(e_type='ORG', start_offset=5, end_offset=6), Entity(e_type='ORG', start_offset=7, end_offset=12), Entity(e_type='ORG', start_offset=13, end_offset=17), Entity(e_type='ORG', start_offset=19, end_offset=22), Entity(e_type='ORG', start_offset=24, end_offset=25), Entity(e_type='ORG', start_offset=26, end_offset=27), Entity(e_type='ORG', start_offset=28, end_offset=29)]\n",
    "all_true_ents[80] = [Entity(e_type='ORG', start_offset=1, end_offset=3), Entity(e_type='ORG', start_offset=5, end_offset=6), Entity(e_type='ORG', start_offset=8, end_offset=10), Entity(e_type='ORG', start_offset=11, end_offset=13), Entity(e_type='ORG', start_offset=14, end_offset=15), Entity(e_type='ORG', start_offset=19, end_offset=21), Entity(e_type='ORG', start_offset=24, end_offset=25)]\n",
    "all_true_ents[82] = [Entity(e_type='ORG', start_offset=3, end_offset=4), Entity(e_type='ORG', start_offset=5, end_offset=6), Entity(e_type='ORG', start_offset=10, end_offset=14), Entity(e_type='ORG', start_offset=15, end_offset=18), Entity(e_type='ORG', start_offset=21, end_offset=22), Entity(e_type='ORG', start_offset=22, end_offset=23)]\n",
    "all_true_ents[89] =[Entity(e_type='ORG', start_offset=0, end_offset=2), Entity(e_type='ORG', start_offset=8, end_offset=9), Entity(e_type='ORG', start_offset=15, end_offset=17), Entity(e_type='ORG', start_offset=18, end_offset=19), Entity(e_type='ORG', start_offset=20, end_offset=21), Entity(e_type='ORG', start_offset=22, end_offset=25)]\n",
    "all_true_ents[90] = [Entity(e_type='ORG', start_offset=4, end_offset=8), Entity(e_type='ORG', start_offset=10, end_offset=15), Entity(e_type='ORG', start_offset=18, end_offset=21), Entity(e_type='ORG', start_offset=22, end_offset=23)]\n",
    "all_true_ents[93] = [Entity(e_type='ORG', start_offset=4, end_offset=8), Entity(e_type='ORG', start_offset=10, end_offset=14), Entity(e_type='ORG', start_offset=16, end_offset=18), Entity(e_type='ORG', start_offset=19, end_offset=20), Entity(e_type='ORG', start_offset=23, end_offset=25), Entity(e_type='ORG', start_offset=25, end_offset=26)]"
   ]
  },
  {
   "cell_type": "code",
   "execution_count": 508,
   "id": "163a6c4b-4f89-48cd-b980-8019006a72f9",
   "metadata": {},
   "outputs": [],
   "source": [
    "# ACE ENTS (NLTK RESTRICTED)\n",
    "#all_true_ents[5] = [Entity(e_type='PER', start_offset=3, end_offset=7), Entity(e_type='PER', start_offset=10, end_offset=21), Entity(e_type='ORG', start_offset=15, end_offset=16)]\n",
    "#all_true_ents[31] = [Entity(e_type='PER', start_offset=11, end_offset=12), Entity(e_type='LOC', start_offset=9, end_offset=10)]\n",
    "#all_true_ents[33] = [Entity(e_type='PER', start_offset=0, end_offset=1), Entity(e_type='LOC', start_offset=3, end_offset=9), Entity(e_type='FAC', start_offset=8, end_offset=9)]\n",
    "#all_true_ents[40] = [Entity(e_type='PER', start_offset=10, end_offset=12), Entity(e_type='FAC', start_offset=13, end_offset=14), Entity(e_type='GPE', start_offset=16, end_offset=19)]\n",
    "#all_true_ents[49] = [Entity(e_type='FAC', start_offset=3, end_offset=7), Entity(e_type='LOC', start_offset=15, end_offset=18), Entity(e_type='FAC', start_offset=17, end_offset=18)]\n",
    "#all_true_ents[51] = [Entity(e_type='PER', start_offset=2, end_offset=9), Entity(e_type='ORG', start_offset=5, end_offset=6), Entity(e_type='FAC', start_offset=14, end_offset=17)]\n",
    "#all_true_ents[52] = [Entity(e_type='LOC', start_offset=16, end_offset=20), Entity(e_type='FAC', start_offset=19, end_offset=20)]\n",
    "#all_true_ents[70] = [Entity(e_type='FAC', start_offset=6, end_offset=12), Entity(e_type='FAC', start_offset=10, end_offset=11), Entity(e_type='GPE', start_offset=12, end_offset=13), Entity(e_type='GPE', start_offset=14, end_offset=15)]\n",
    "#all_true_ents[76] = [Entity(e_type='GPE', start_offset=7, end_offset=9), Entity(e_type='GPE', start_offset=10, end_offset=11), Entity(e_type='GPE', start_offset=13, end_offset=15), Entity(e_type='GPE', start_offset=16, end_offset=17), Entity(e_type='LOC', start_offset=27, end_offset=29), Entity(e_type='GPE', start_offset=28, end_offset=29)]\n",
    "#all_true_ents[78] = [Entity(e_type='PER', start_offset=3, end_offset=10), Entity(e_type='PER', start_offset=8, end_offset=9)]\n",
    "#all_true_ents[89] = [Entity(e_type='PER', start_offset=0, end_offset=2), Entity(e_type='FAC', start_offset=15, end_offset=17), Entity(e_type='LOC', start_offset=18, end_offset=25), Entity(e_type='GPE', start_offset=22, end_offset=23), Entity(e_type='GPE', start_offset=24, end_offset=25)]"
   ]
  },
  {
   "cell_type": "code",
   "execution_count": 734,
   "id": "31eb17e7-594d-4cc0-9f38-f403a185a1f2",
   "metadata": {},
   "outputs": [],
   "source": [
    "# SPACY SM ENTS\n",
    "all_pred_ents[24] = [Entity(e_type='DATE', start_offset=4, end_offset=8), Entity(e_type='DATE', start_offset=10, end_offset=11), Entity(e_type='ORG', start_offset=19, end_offset=20)]\n",
    "all_pred_ents[40] = [Entity(e_type='PERSON', start_offset=16, end_offset=18)]\n",
    "all_pred_ents[65] = [Entity(e_type='DATE', start_offset=3, end_offset=7), Entity(e_type='ORG', start_offset=8, end_offset=9)]\n",
    "all_pred_ents[90] = [Entity(e_type='DATE', start_offset=4, end_offset=8), Entity(e_type='TIME', start_offset=10, end_offset=14), Entity(e_type='ORG', start_offset=17, end_offset=18), Entity(e_type='PERSON', start_offset=24, end_offset=25)]\n",
    "all_pred_ents[93] = [Entity(e_type='DATE', start_offset=4, end_offset=8), Entity(e_type='TIME', start_offset=10, end_offset=12), Entity(e_type='DATE', start_offset=17, end_offset=18)]"
   ]
  },
  {
   "cell_type": "code",
   "execution_count": 766,
   "id": "9ab13cb1-5f8c-4876-a6d2-14e9dc5cb072",
   "metadata": {},
   "outputs": [],
   "source": [
    "# SPACY LG ENTS\n",
    "all_pred_ents[10] = [Entity(e_type='ORG', start_offset=13, end_offset=16)]\n",
    "all_pred_ents[24] = [Entity(e_type='DATE', start_offset=4, end_offset=8), Entity(e_type='ORG', start_offset=14, end_offset=18), Entity(e_type='ORG', start_offset=19, end_offset=20)]\n",
    "all_pred_ents[65] = [Entity(e_type='DATE', start_offset=3, end_offset=7), Entity(e_type='ORG', start_offset=8, end_offset=9), Entity(e_type='ORG', start_offset=12, end_offset=14), Entity(e_type='ORG', start_offset=23, end_offset=24)]\n",
    "all_pred_ents[90] = [Entity(e_type='ORG', start_offset=1, end_offset=2), Entity(e_type='DATE', start_offset=4, end_offset=8), Entity(e_type='ORG', start_offset=17, end_offset=18), Entity(e_type='PERSON', start_offset=22, end_offset=23), Entity(e_type='ORG', start_offset=24, end_offset=25)]\n",
    "all_pred_ents[93] = [Entity(e_type='ORG', start_offset=1, end_offset=2), Entity(e_type='DATE', start_offset=4, end_offset=8), Entity(e_type='ORG', start_offset=11, end_offset=14), Entity(e_type='DATE', start_offset=17, end_offset=18), Entity(e_type='PERSON', start_offset=19, end_offset=20)]"
   ]
  },
  {
   "cell_type": "code",
   "execution_count": 776,
   "id": "545724ab-f4e9-4254-bf00-4c6795db4eb6",
   "metadata": {},
   "outputs": [],
   "source": [
    "# STANZA ENTS\n",
    "all_pred_ents[18] = [Entity(e_type='CARDINAL', start_offset=1, end_offset=2), Entity(e_type='ORG', start_offset=6, end_offset=7)]\n",
    "all_pred_ents[24] = [Entity(e_type='DATE', start_offset=4, end_offset=11), Entity(e_type='TIME', start_offset=11, end_offset=12), Entity(e_type='ORG', start_offset=13, end_offset=18), Entity(e_type='ORG', start_offset=19, end_offset=20)]\n",
    "all_pred_ents[54] = [Entity(e_type='CARDINAL', start_offset=1, end_offset=2), Entity(e_type='PRODUCT', start_offset=6, end_offset=8)]\n",
    "all_pred_ents[65] = [Entity(e_type='DATE', start_offset=3, end_offset=7)]\n",
    "all_pred_ents[90] = [Entity(e_type='CARDINAL', start_offset=1, end_offset=2), Entity(e_type='DATE', start_offset=4, end_offset=11)]\n",
    "all_pred_ents[93] = [Entity(e_type='CARDINAL', start_offset=1, end_offset=2), Entity(e_type='DATE', start_offset=4, end_offset=11)]"
   ]
  },
  {
   "cell_type": "code",
   "execution_count": 583,
   "id": "bc352ccf-7979-4bc6-84e8-41efd54c360f",
   "metadata": {},
   "outputs": [],
   "source": [
    "# ON ENTS\n",
    "all_true_ents[24] = [Entity(e_type='DATE', start_offset=4, end_offset=8), Entity(e_type='TIME', start_offset=10, end_offset=12),Entity(e_type='ORG', start_offset=14, end_offset=17),Entity(e_type='PRODUCT', start_offset=17, end_offset=18), Entity(e_type='PRODUCT', start_offset=19, end_offset=20), Entity(e_type='ORG', start_offset=25, end_offset=27)]\n",
    "all_true_ents[40] = [Entity(e_type='PER', start_offset=10, end_offset=12), Entity(e_type='GPE', start_offset=16, end_offset=19)]\n",
    "all_true_ents[65] = [Entity(e_type='DATE', start_offset=3, end_offset=7)]\n",
    "all_true_ents[90] = [Entity(e_type='DATE', start_offset=4, end_offset=8), Entity(e_type='TIME', start_offset=10, end_offset=15), Entity(e_type='ORG', start_offset=18, end_offset=19), Entity(e_type='PRODUCT', start_offset=19, end_offset=21)]\n",
    "all_true_ents[93] = [Entity(e_type='DATE', start_offset=4, end_offset=8), Entity(e_type='TIME', start_offset=10, end_offset=14), Entity(e_type='ORG', start_offset=16, end_offset=17), Entity(e_type='PRODUCT', start_offset=17, end_offset=18), Entity(e_type='ORG', start_offset=23, end_offset=25)]"
   ]
  },
  {
   "cell_type": "code",
   "execution_count": 785,
   "id": "416f8937-f5a0-4a41-918b-d48fb60ae4ad",
   "metadata": {},
   "outputs": [],
   "source": [
    "# FLAIR ENTS\n",
    "#all_true_ents[40] = [Entity(e_type='PER', start_offset=10, end_offset=12), Entity(e_type='LOC', start_offset=16, end_offset=19)]\n",
    "all_pred_ents[40] = [Entity(e_type='PER', start_offset=11, end_offset=12), Entity(e_type='LOC', start_offset=16, end_offset=19)]"
   ]
  },
  {
   "cell_type": "code",
   "execution_count": 795,
   "id": "fa0a48a2-4012-487f-8a88-0b9079d84cbd",
   "metadata": {},
   "outputs": [],
   "source": [
    "# Check:\n",
    "for true_ents in all_true_ents:\n",
    "    if True in [ent[2] < 0 for ent in true_ents]:\n",
    "        print(\"\\nTrue: \")\n",
    "        print(true_ents)\n",
    "for pred_ents in all_pred_ents:\n",
    "    if True in [ent[2] < 0 for ent in pred_ents]:\n",
    "        print(\"\\nPred: \")\n",
    "        print(pred_ents)"
   ]
  },
  {
   "cell_type": "markdown",
   "id": "61a10989-debc-4445-a852-8250d9e84bc5",
   "metadata": {},
   "source": [
    "### Apply Example"
   ]
  },
  {
   "cell_type": "code",
   "execution_count": 750,
   "id": "b47a5476-5de2-424d-844f-5222d227d719",
   "metadata": {},
   "outputs": [],
   "source": [
    "conll_tags = ['PER', 'ORG', 'MISC', 'LOC']\n",
    "ace_tags = ['PER','ORG','LOC','FAC','GPE'] # RESTRICTED SET\n",
    "on_tags = ['PER','ORG','LOC','FAC','GPE','PRODUCT','NORP','QUANTITY','EVENT','WORK_OF_ART','CARDINAL','DATE','PERCENT','TIME','ORDINAL','MONEY','LAW','LANGUAGE']"
   ]
  },
  {
   "cell_type": "code",
   "execution_count": 796,
   "id": "e0515caa-5a88-495c-8a88-23fdbd5d0a50",
   "metadata": {
    "scrolled": true
   },
   "outputs": [],
   "source": [
    "tags = ace_tags\n",
    "\n",
    "metrics_results = {'correct': 0, 'incorrect': 0, 'partial': 0,\n",
    "                   'missed': 0, 'spurious': 0, 'possible': 0, 'actual': 0, 'precision': 0, 'recall': 0}\n",
    "\n",
    "# overall results\n",
    "results = {'strict': deepcopy(metrics_results),\n",
    "           'ent_type': deepcopy(metrics_results),\n",
    "           'partial':deepcopy(metrics_results),\n",
    "           'exact':deepcopy(metrics_results)\n",
    "          }\n",
    "\n",
    "\n",
    "# results aggregated by entity type\n",
    "evaluation_agg_entities_type = {e: deepcopy(results) for e in tags}\n",
    "\n",
    "for true_ents, pred_ents in zip(all_true_ents, all_pred_ents):\n",
    "    \n",
    "    # compute results for one message\n",
    "    tmp_results, tmp_agg_results = compute_metrics(\n",
    "        true_ents, pred_ents,  tags\n",
    "    )\n",
    "    \n",
    "    #print(tmp_results)\n",
    "\n",
    "    # aggregate overall results\n",
    "    for eval_schema in results.keys():\n",
    "        for metric in metrics_results.keys():\n",
    "            results[eval_schema][metric] += tmp_results[eval_schema][metric]\n",
    "            \n",
    "    # Calculate global precision and recall\n",
    "        \n",
    "    results = compute_precision_recall_wrapper(results)\n",
    "\n",
    "\n",
    "    # aggregate results by entity type\n",
    " \n",
    "    for e_type in tags:\n",
    "\n",
    "        for eval_schema in tmp_agg_results[e_type]:\n",
    "\n",
    "            for metric in tmp_agg_results[e_type][eval_schema]:\n",
    "                \n",
    "                evaluation_agg_entities_type[e_type][eval_schema][metric] += tmp_agg_results[e_type][eval_schema][metric]\n",
    "                \n",
    "        # Calculate precision recall at the individual entity level\n",
    "                \n",
    "        evaluation_agg_entities_type[e_type] = compute_precision_recall_wrapper(evaluation_agg_entities_type[e_type])"
   ]
  },
  {
   "cell_type": "code",
   "execution_count": 759,
   "id": "8775604c-61d1-4809-ab59-20c1efc37c05",
   "metadata": {
    "jupyter": {
     "source_hidden": true
    }
   },
   "outputs": [],
   "source": [
    "def print_results_labeled(tool_name, results):\n",
    "\n",
    "    scores = {'exact':0.0,'strict':0.0,'partial':0.0,'ent_type':0.0}\n",
    "    for score in scores:\n",
    "        prec = results[score]['precision']\n",
    "        rec = results[score]['recall']\n",
    "        scores[score] = 2*prec*rec/(prec+rec)    \n",
    "\n",
    "    print('|                                         | Strict  | Exact  | Partial  | Type    |')\n",
    "    print('|-----------------------------------------|---------|--------|----------|---------|')\n",
    "    print(f\"| {tool_name:40}| {scores['strict']:.4}  | {scores['exact']:.4} | {scores['partial']:.4}   | {scores['ent_type']:.4}  |\")"
   ]
  },
  {
   "cell_type": "code",
   "execution_count": 760,
   "id": "e534d2f1-c52b-44bd-b465-f7396b9fb5b1",
   "metadata": {
    "jupyter": {
     "source_hidden": true
    }
   },
   "outputs": [],
   "source": [
    "def print_results_unlabeled(tool_name, results):\n",
    "    scores = {'exact':0.0,'partial':0.0}\n",
    "    for score in scores:\n",
    "        prec = results[score]['precision']\n",
    "        rec = results[score]['recall']\n",
    "        scores[score] = {'prec':prec, 'rec':rec, 'f1':2*prec*rec/(prec+rec)}\n",
    "\n",
    "    print('|                                         | Precision (Weak) | Recall (Weak) | F1 (Weak)     | Precision (Strong) | Recall (Strong) | F1 (Strong) |')\n",
    "    print('|-----------------------------------------|-----------|---------|---------|------------------|---------------|-----------|')\n",
    "    print(f\"| {tool_name:40}| {scores['partial']['prec']:.4}  | {scores['partial']['rec']:.4} | {scores['partial']['f1']:.4}   | {scores['exact']['prec']:.4}  | {scores['exact']['rec']:.4}  | {scores['exact']['f1']:.4}  |\")"
   ]
  },
  {
   "cell_type": "code",
   "execution_count": 797,
   "id": "e0c46baf-b2b5-47c7-830e-91565e965062",
   "metadata": {},
   "outputs": [
    {
     "name": "stdout",
     "output_type": "stream",
     "text": [
      "|                                         | Precision (Weak) | Recall (Weak) | F1 (Weak)     | Precision (Strong) | Recall (Strong) | F1 (Strong) |\n",
      "|-----------------------------------------|-----------|---------|---------|------------------|---------------|-----------|\n",
      "| nltk (uppercased)                       | 0.3996  | 0.3533 | 0.375   | 0.286  | 0.2529  | 0.2684  |\n"
     ]
    }
   ],
   "source": [
    "print_results_unlabeled('nltk (uppercased)',results)"
   ]
  },
  {
   "cell_type": "code",
   "execution_count": null,
   "id": "d91e7565-802f-458e-8655-c7fc2d9da6b6",
   "metadata": {},
   "outputs": [],
   "source": []
  }
 ],
 "metadata": {
  "kernelspec": {
   "display_name": "Python 3 (ipykernel)",
   "language": "python",
   "name": "python3"
  },
  "language_info": {
   "codemirror_mode": {
    "name": "ipython",
    "version": 3
   },
   "file_extension": ".py",
   "mimetype": "text/x-python",
   "name": "python",
   "nbconvert_exporter": "python",
   "pygments_lexer": "ipython3",
   "version": "3.11.5"
  }
 },
 "nbformat": 4,
 "nbformat_minor": 5
}
