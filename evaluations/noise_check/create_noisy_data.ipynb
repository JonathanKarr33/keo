{
 "cells": [
  {
   "cell_type": "markdown",
   "id": "9da2c74f-8010-4613-a5e8-18e9e4ec7172",
   "metadata": {},
   "source": [
    "### Create Noisy Data\n",
    "\n",
    "Here we create a csv which holds the original c119 text data as well as 7 variations - added noise that should not affect any KE tasks. This data is used to test how sensitive a tool is to noise.\n",
    "\n",
    "The output csv, sampled_noisy.csv lies in this folder. We only use the first 20 of the 100 rows selected in sampling (see the sampling folder) to speed up the test process."
   ]
  },
  {
   "cell_type": "code",
   "execution_count": 1,
   "id": "f9d8dabe-15b3-447e-a935-7a55b30c08b1",
   "metadata": {},
   "outputs": [],
   "source": [
    "import pandas as pd"
   ]
  },
  {
   "cell_type": "markdown",
   "id": "7dbaf026-5ce3-407c-9cb0-fcfdff5c2c3c",
   "metadata": {},
   "source": [
    "**Get data**"
   ]
  },
  {
   "cell_type": "code",
   "execution_count": 2,
   "id": "7454e660-7ed4-4c6c-a76a-b78be5557e4a",
   "metadata": {},
   "outputs": [],
   "source": [
    "# get original data\n",
    "data = pd.read_csv('../../OMIN_dataset/data/FAA_data/Maintenance_Text_data_nona.csv')"
   ]
  },
  {
   "cell_type": "code",
   "execution_count": 3,
   "id": "9afe3138-ef09-4cb8-b586-2e0adab7c0f0",
   "metadata": {},
   "outputs": [],
   "source": [
    "# get first 20 of the 100 rows selected in evaluation sampling. Effectively a random sample of 20 rows.\n",
    "sample_indices = pd.read_csv('../../OMIN_dataset/data/FAA_data/FAA_sample_100.csv')['Unnamed: 0'][:20]"
   ]
  },
  {
   "cell_type": "code",
   "execution_count": 4,
   "id": "ed83fe60-f052-4f89-95fd-f0b1ddf580d4",
   "metadata": {},
   "outputs": [],
   "source": [
    "# select the 20 rows from the data in the c119 text and the c5 id columns\n",
    "c119 = list(data.iloc[sample_indices]['c119'])\n",
    "c5 = list(data.iloc[sample_indices]['c5'])"
   ]
  },
  {
   "cell_type": "markdown",
   "id": "3f024996-faf9-4771-8342-dc34fd7bcf76",
   "metadata": {},
   "source": [
    "**Add noise to data**\n",
    "\n",
    "Using extra/stripped spaces, apostrophes, and lowercase"
   ]
  },
  {
   "cell_type": "code",
   "execution_count": 5,
   "id": "fabfa466-74d5-42c4-95ea-f124f46c3283",
   "metadata": {},
   "outputs": [],
   "source": [
    "out_dict = {'index':[], 'c5':[], 'c119':[], 'c119_strip':[], 'c119_spaceafter':[], 'c119_leadapost':[], 'c119_leadtrailapost':[], 'c119_lowerletter':[], 'c119_lowerword':[], 'c119_lower':[]}\n",
    "\n",
    "for i in range(len(c119)):\n",
    "    out_dict['index'].append(sample_indices[i])\n",
    "    out_dict['c5'].append(c5[i])\n",
    "    out_dict['c119'].append(c119[i])\n",
    "    out_dict['c119_strip'].append(c119[i].strip())\n",
    "    out_dict['c119_spaceafter'].append(c119[i] + '    ')\n",
    "    out_dict['c119_leadapost'].append(\"'\" + c119[i])\n",
    "    out_dict['c119_leadtrailapost'].append(\"'\" + c119[i] + \"'\")\n",
    "    out_dict['c119_lowerletter'].append(c119[i][0].lower() + c119[i][1:])\n",
    "    wordend = len(c119[0].split()[0])\n",
    "    out_dict['c119_lowerword'].append(c119[i][:wordend].lower() + c119[i][wordend:])\n",
    "    out_dict['c119_lower'].append(c119[i].lower())"
   ]
  },
  {
   "cell_type": "code",
   "execution_count": 6,
   "id": "3fdc8705-e5af-43bc-affb-2b4f7c407a85",
   "metadata": {},
   "outputs": [
    {
     "data": {
      "text/html": [
       "<div>\n",
       "<style scoped>\n",
       "    .dataframe tbody tr th:only-of-type {\n",
       "        vertical-align: middle;\n",
       "    }\n",
       "\n",
       "    .dataframe tbody tr th {\n",
       "        vertical-align: top;\n",
       "    }\n",
       "\n",
       "    .dataframe thead th {\n",
       "        text-align: right;\n",
       "    }\n",
       "</style>\n",
       "<table border=\"1\" class=\"dataframe\">\n",
       "  <thead>\n",
       "    <tr style=\"text-align: right;\">\n",
       "      <th></th>\n",
       "      <th>index</th>\n",
       "      <th>c5</th>\n",
       "      <th>c119</th>\n",
       "      <th>c119_strip</th>\n",
       "      <th>c119_spaceafter</th>\n",
       "      <th>c119_leadapost</th>\n",
       "      <th>c119_leadtrailapost</th>\n",
       "      <th>c119_lowerletter</th>\n",
       "      <th>c119_lowerword</th>\n",
       "      <th>c119_lower</th>\n",
       "    </tr>\n",
       "  </thead>\n",
       "  <tbody>\n",
       "    <tr>\n",
       "      <th>0</th>\n",
       "      <td>2318</td>\n",
       "      <td>19990213001379A</td>\n",
       "      <td>ACFT WAS TAXIING FOR TAKE OFF WHEN IT LOST CON...</td>\n",
       "      <td>ACFT WAS TAXIING FOR TAKE OFF WHEN IT LOST CON...</td>\n",
       "      <td>ACFT WAS TAXIING FOR TAKE OFF WHEN IT LOST CON...</td>\n",
       "      <td>'ACFT WAS TAXIING FOR TAKE OFF WHEN IT LOST CO...</td>\n",
       "      <td>'ACFT WAS TAXIING FOR TAKE OFF WHEN IT LOST CO...</td>\n",
       "      <td>aCFT WAS TAXIING FOR TAKE OFF WHEN IT LOST CON...</td>\n",
       "      <td>acft WAS TAXIING FOR TAKE OFF WHEN IT LOST CON...</td>\n",
       "      <td>acft was taxiing for take off when it lost con...</td>\n",
       "    </tr>\n",
       "    <tr>\n",
       "      <th>1</th>\n",
       "      <td>354</td>\n",
       "      <td>19800217031649I</td>\n",
       "      <td>AFTER TAKEOFF, ENGINE QUIT. WING FUEL TANK SUM...</td>\n",
       "      <td>AFTER TAKEOFF, ENGINE QUIT. WING FUEL TANK SUM...</td>\n",
       "      <td>AFTER TAKEOFF, ENGINE QUIT. WING FUEL TANK SUM...</td>\n",
       "      <td>'AFTER TAKEOFF, ENGINE QUIT. WING FUEL TANK SU...</td>\n",
       "      <td>'AFTER TAKEOFF, ENGINE QUIT. WING FUEL TANK SU...</td>\n",
       "      <td>aFTER TAKEOFF, ENGINE QUIT. WING FUEL TANK SUM...</td>\n",
       "      <td>afteR TAKEOFF, ENGINE QUIT. WING FUEL TANK SUM...</td>\n",
       "      <td>after takeoff, engine quit. wing fuel tank sum...</td>\n",
       "    </tr>\n",
       "    <tr>\n",
       "      <th>2</th>\n",
       "      <td>284</td>\n",
       "      <td>19790720021329A</td>\n",
       "      <td>HELICOPTER TOOK OFF WITH SLING LOAD ATTACHED. ...</td>\n",
       "      <td>HELICOPTER TOOK OFF WITH SLING LOAD ATTACHED. ...</td>\n",
       "      <td>HELICOPTER TOOK OFF WITH SLING LOAD ATTACHED. ...</td>\n",
       "      <td>'HELICOPTER TOOK OFF WITH SLING LOAD ATTACHED....</td>\n",
       "      <td>'HELICOPTER TOOK OFF WITH SLING LOAD ATTACHED....</td>\n",
       "      <td>hELICOPTER TOOK OFF WITH SLING LOAD ATTACHED. ...</td>\n",
       "      <td>heliCOPTER TOOK OFF WITH SLING LOAD ATTACHED. ...</td>\n",
       "      <td>helicopter took off with sling load attached. ...</td>\n",
       "    </tr>\n",
       "    <tr>\n",
       "      <th>3</th>\n",
       "      <td>817</td>\n",
       "      <td>19841214074599I</td>\n",
       "      <td>WHILE TAXIING LOST NOSEWHEEL STEERING AND BRAK...</td>\n",
       "      <td>WHILE TAXIING LOST NOSEWHEEL STEERING AND BRAK...</td>\n",
       "      <td>WHILE TAXIING LOST NOSEWHEEL STEERING AND BRAK...</td>\n",
       "      <td>'WHILE TAXIING LOST NOSEWHEEL STEERING AND BRA...</td>\n",
       "      <td>'WHILE TAXIING LOST NOSEWHEEL STEERING AND BRA...</td>\n",
       "      <td>wHILE TAXIING LOST NOSEWHEEL STEERING AND BRAK...</td>\n",
       "      <td>whilE TAXIING LOST NOSEWHEEL STEERING AND BRAK...</td>\n",
       "      <td>while taxiing lost nosewheel steering and brak...</td>\n",
       "    </tr>\n",
       "    <tr>\n",
       "      <th>4</th>\n",
       "      <td>1024</td>\n",
       "      <td>19860128014289I</td>\n",
       "      <td>FORWARD CARGO DOOR OPENED AS AIRCRAFT TOOK OFF...</td>\n",
       "      <td>FORWARD CARGO DOOR OPENED AS AIRCRAFT TOOK OFF...</td>\n",
       "      <td>FORWARD CARGO DOOR OPENED AS AIRCRAFT TOOK OFF...</td>\n",
       "      <td>'FORWARD CARGO DOOR OPENED AS AIRCRAFT TOOK OF...</td>\n",
       "      <td>'FORWARD CARGO DOOR OPENED AS AIRCRAFT TOOK OF...</td>\n",
       "      <td>fORWARD CARGO DOOR OPENED AS AIRCRAFT TOOK OFF...</td>\n",
       "      <td>forwARD CARGO DOOR OPENED AS AIRCRAFT TOOK OFF...</td>\n",
       "      <td>forward cargo door opened as aircraft took off...</td>\n",
       "    </tr>\n",
       "  </tbody>\n",
       "</table>\n",
       "</div>"
      ],
      "text/plain": [
       "   index               c5                                               c119  \\\n",
       "0   2318  19990213001379A  ACFT WAS TAXIING FOR TAKE OFF WHEN IT LOST CON...   \n",
       "1    354  19800217031649I  AFTER TAKEOFF, ENGINE QUIT. WING FUEL TANK SUM...   \n",
       "2    284  19790720021329A  HELICOPTER TOOK OFF WITH SLING LOAD ATTACHED. ...   \n",
       "3    817  19841214074599I  WHILE TAXIING LOST NOSEWHEEL STEERING AND BRAK...   \n",
       "4   1024  19860128014289I  FORWARD CARGO DOOR OPENED AS AIRCRAFT TOOK OFF...   \n",
       "\n",
       "                                          c119_strip  \\\n",
       "0  ACFT WAS TAXIING FOR TAKE OFF WHEN IT LOST CON...   \n",
       "1  AFTER TAKEOFF, ENGINE QUIT. WING FUEL TANK SUM...   \n",
       "2  HELICOPTER TOOK OFF WITH SLING LOAD ATTACHED. ...   \n",
       "3  WHILE TAXIING LOST NOSEWHEEL STEERING AND BRAK...   \n",
       "4  FORWARD CARGO DOOR OPENED AS AIRCRAFT TOOK OFF...   \n",
       "\n",
       "                                     c119_spaceafter  \\\n",
       "0  ACFT WAS TAXIING FOR TAKE OFF WHEN IT LOST CON...   \n",
       "1  AFTER TAKEOFF, ENGINE QUIT. WING FUEL TANK SUM...   \n",
       "2  HELICOPTER TOOK OFF WITH SLING LOAD ATTACHED. ...   \n",
       "3  WHILE TAXIING LOST NOSEWHEEL STEERING AND BRAK...   \n",
       "4  FORWARD CARGO DOOR OPENED AS AIRCRAFT TOOK OFF...   \n",
       "\n",
       "                                      c119_leadapost  \\\n",
       "0  'ACFT WAS TAXIING FOR TAKE OFF WHEN IT LOST CO...   \n",
       "1  'AFTER TAKEOFF, ENGINE QUIT. WING FUEL TANK SU...   \n",
       "2  'HELICOPTER TOOK OFF WITH SLING LOAD ATTACHED....   \n",
       "3  'WHILE TAXIING LOST NOSEWHEEL STEERING AND BRA...   \n",
       "4  'FORWARD CARGO DOOR OPENED AS AIRCRAFT TOOK OF...   \n",
       "\n",
       "                                 c119_leadtrailapost  \\\n",
       "0  'ACFT WAS TAXIING FOR TAKE OFF WHEN IT LOST CO...   \n",
       "1  'AFTER TAKEOFF, ENGINE QUIT. WING FUEL TANK SU...   \n",
       "2  'HELICOPTER TOOK OFF WITH SLING LOAD ATTACHED....   \n",
       "3  'WHILE TAXIING LOST NOSEWHEEL STEERING AND BRA...   \n",
       "4  'FORWARD CARGO DOOR OPENED AS AIRCRAFT TOOK OF...   \n",
       "\n",
       "                                    c119_lowerletter  \\\n",
       "0  aCFT WAS TAXIING FOR TAKE OFF WHEN IT LOST CON...   \n",
       "1  aFTER TAKEOFF, ENGINE QUIT. WING FUEL TANK SUM...   \n",
       "2  hELICOPTER TOOK OFF WITH SLING LOAD ATTACHED. ...   \n",
       "3  wHILE TAXIING LOST NOSEWHEEL STEERING AND BRAK...   \n",
       "4  fORWARD CARGO DOOR OPENED AS AIRCRAFT TOOK OFF...   \n",
       "\n",
       "                                      c119_lowerword  \\\n",
       "0  acft WAS TAXIING FOR TAKE OFF WHEN IT LOST CON...   \n",
       "1  afteR TAKEOFF, ENGINE QUIT. WING FUEL TANK SUM...   \n",
       "2  heliCOPTER TOOK OFF WITH SLING LOAD ATTACHED. ...   \n",
       "3  whilE TAXIING LOST NOSEWHEEL STEERING AND BRAK...   \n",
       "4  forwARD CARGO DOOR OPENED AS AIRCRAFT TOOK OFF...   \n",
       "\n",
       "                                          c119_lower  \n",
       "0  acft was taxiing for take off when it lost con...  \n",
       "1  after takeoff, engine quit. wing fuel tank sum...  \n",
       "2  helicopter took off with sling load attached. ...  \n",
       "3  while taxiing lost nosewheel steering and brak...  \n",
       "4  forward cargo door opened as aircraft took off...  "
      ]
     },
     "execution_count": 6,
     "metadata": {},
     "output_type": "execute_result"
    }
   ],
   "source": [
    "out_df = pd.DataFrame(out_dict)\n",
    "out_df.head()"
   ]
  },
  {
   "cell_type": "code",
   "execution_count": 7,
   "id": "9b316420-1b14-495f-a3ba-a49d94f56eb5",
   "metadata": {},
   "outputs": [],
   "source": [
    "# save\n",
    "out_df.to_csv('sampled_noisy.csv', index=False)"
   ]
  },
  {
   "cell_type": "code",
   "execution_count": 17,
   "id": "167e89f7-efa9-4b8f-9b2c-dc2f7854053c",
   "metadata": {},
   "outputs": [
    {
     "data": {
      "text/plain": [
       "[2318,\n",
       " 354,\n",
       " 284,\n",
       " 817,\n",
       " 1024,\n",
       " 2335,\n",
       " 467,\n",
       " 856,\n",
       " 2685,\n",
       " 1457,\n",
       " 2331,\n",
       " 642,\n",
       " 1728,\n",
       " 2064,\n",
       " 1867,\n",
       " 1773,\n",
       " 1006,\n",
       " 289,\n",
       " 2352,\n",
       " 1045]"
      ]
     },
     "execution_count": 17,
     "metadata": {},
     "output_type": "execute_result"
    }
   ],
   "source": [
    "list(out_df.to_dict()['index'].values())"
   ]
  },
  {
   "cell_type": "code",
   "execution_count": null,
   "id": "d03a9cc1-13ba-4372-8cbd-efbc98f7a75a",
   "metadata": {},
   "outputs": [],
   "source": []
  }
 ],
 "metadata": {
  "kernelspec": {
   "display_name": "Python 3 (ipykernel)",
   "language": "python",
   "name": "python3"
  },
  "language_info": {
   "codemirror_mode": {
    "name": "ipython",
    "version": 3
   },
   "file_extension": ".py",
   "mimetype": "text/x-python",
   "name": "python",
   "nbconvert_exporter": "python",
   "pygments_lexer": "ipython3",
   "version": "3.11.5"
  }
 },
 "nbformat": 4,
 "nbformat_minor": 5
}
