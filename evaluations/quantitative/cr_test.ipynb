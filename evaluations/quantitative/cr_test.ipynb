{
 "cells": [
  {
   "cell_type": "code",
   "execution_count": 1,
   "id": "ed5de00d-cc08-48ee-8098-834ccd856a67",
   "metadata": {},
   "outputs": [],
   "source": [
    "import pandas as pd\n",
    "import ast"
   ]
  },
  {
   "cell_type": "code",
   "execution_count": 2,
   "id": "a490335b-3b30-49ea-a376-5394aee60e0f",
   "metadata": {},
   "outputs": [
    {
     "ename": "FileNotFoundError",
     "evalue": "[Errno 2] No such file or directory: '../../tool_results/s2e-coref/s2e-coref_updated_format.csv'",
     "output_type": "error",
     "traceback": [
      "\u001b[0;31m---------------------------------------------------------------------------\u001b[0m",
      "\u001b[0;31mFileNotFoundError\u001b[0m                         Traceback (most recent call last)",
      "Cell \u001b[0;32mIn[2], line 1\u001b[0m\n\u001b[0;32m----> 1\u001b[0m pred_df \u001b[38;5;241m=\u001b[39m pd\u001b[38;5;241m.\u001b[39mread_csv(\u001b[38;5;124m'\u001b[39m\u001b[38;5;124m../../tool_results/s2e-coref/s2e-coref_updated_format.csv\u001b[39m\u001b[38;5;124m'\u001b[39m)\n\u001b[1;32m      2\u001b[0m pred_df\u001b[38;5;241m.\u001b[39mhead()\n",
      "File \u001b[0;32m/opt/anaconda3/lib/python3.11/site-packages/pandas/io/parsers/readers.py:912\u001b[0m, in \u001b[0;36mread_csv\u001b[0;34m(filepath_or_buffer, sep, delimiter, header, names, index_col, usecols, dtype, engine, converters, true_values, false_values, skipinitialspace, skiprows, skipfooter, nrows, na_values, keep_default_na, na_filter, verbose, skip_blank_lines, parse_dates, infer_datetime_format, keep_date_col, date_parser, date_format, dayfirst, cache_dates, iterator, chunksize, compression, thousands, decimal, lineterminator, quotechar, quoting, doublequote, escapechar, comment, encoding, encoding_errors, dialect, on_bad_lines, delim_whitespace, low_memory, memory_map, float_precision, storage_options, dtype_backend)\u001b[0m\n\u001b[1;32m    899\u001b[0m kwds_defaults \u001b[38;5;241m=\u001b[39m _refine_defaults_read(\n\u001b[1;32m    900\u001b[0m     dialect,\n\u001b[1;32m    901\u001b[0m     delimiter,\n\u001b[0;32m   (...)\u001b[0m\n\u001b[1;32m    908\u001b[0m     dtype_backend\u001b[38;5;241m=\u001b[39mdtype_backend,\n\u001b[1;32m    909\u001b[0m )\n\u001b[1;32m    910\u001b[0m kwds\u001b[38;5;241m.\u001b[39mupdate(kwds_defaults)\n\u001b[0;32m--> 912\u001b[0m \u001b[38;5;28;01mreturn\u001b[39;00m _read(filepath_or_buffer, kwds)\n",
      "File \u001b[0;32m/opt/anaconda3/lib/python3.11/site-packages/pandas/io/parsers/readers.py:577\u001b[0m, in \u001b[0;36m_read\u001b[0;34m(filepath_or_buffer, kwds)\u001b[0m\n\u001b[1;32m    574\u001b[0m _validate_names(kwds\u001b[38;5;241m.\u001b[39mget(\u001b[38;5;124m\"\u001b[39m\u001b[38;5;124mnames\u001b[39m\u001b[38;5;124m\"\u001b[39m, \u001b[38;5;28;01mNone\u001b[39;00m))\n\u001b[1;32m    576\u001b[0m \u001b[38;5;66;03m# Create the parser.\u001b[39;00m\n\u001b[0;32m--> 577\u001b[0m parser \u001b[38;5;241m=\u001b[39m TextFileReader(filepath_or_buffer, \u001b[38;5;241m*\u001b[39m\u001b[38;5;241m*\u001b[39mkwds)\n\u001b[1;32m    579\u001b[0m \u001b[38;5;28;01mif\u001b[39;00m chunksize \u001b[38;5;129;01mor\u001b[39;00m iterator:\n\u001b[1;32m    580\u001b[0m     \u001b[38;5;28;01mreturn\u001b[39;00m parser\n",
      "File \u001b[0;32m/opt/anaconda3/lib/python3.11/site-packages/pandas/io/parsers/readers.py:1407\u001b[0m, in \u001b[0;36mTextFileReader.__init__\u001b[0;34m(self, f, engine, **kwds)\u001b[0m\n\u001b[1;32m   1404\u001b[0m     \u001b[38;5;28mself\u001b[39m\u001b[38;5;241m.\u001b[39moptions[\u001b[38;5;124m\"\u001b[39m\u001b[38;5;124mhas_index_names\u001b[39m\u001b[38;5;124m\"\u001b[39m] \u001b[38;5;241m=\u001b[39m kwds[\u001b[38;5;124m\"\u001b[39m\u001b[38;5;124mhas_index_names\u001b[39m\u001b[38;5;124m\"\u001b[39m]\n\u001b[1;32m   1406\u001b[0m \u001b[38;5;28mself\u001b[39m\u001b[38;5;241m.\u001b[39mhandles: IOHandles \u001b[38;5;241m|\u001b[39m \u001b[38;5;28;01mNone\u001b[39;00m \u001b[38;5;241m=\u001b[39m \u001b[38;5;28;01mNone\u001b[39;00m\n\u001b[0;32m-> 1407\u001b[0m \u001b[38;5;28mself\u001b[39m\u001b[38;5;241m.\u001b[39m_engine \u001b[38;5;241m=\u001b[39m \u001b[38;5;28mself\u001b[39m\u001b[38;5;241m.\u001b[39m_make_engine(f, \u001b[38;5;28mself\u001b[39m\u001b[38;5;241m.\u001b[39mengine)\n",
      "File \u001b[0;32m/opt/anaconda3/lib/python3.11/site-packages/pandas/io/parsers/readers.py:1661\u001b[0m, in \u001b[0;36mTextFileReader._make_engine\u001b[0;34m(self, f, engine)\u001b[0m\n\u001b[1;32m   1659\u001b[0m     \u001b[38;5;28;01mif\u001b[39;00m \u001b[38;5;124m\"\u001b[39m\u001b[38;5;124mb\u001b[39m\u001b[38;5;124m\"\u001b[39m \u001b[38;5;129;01mnot\u001b[39;00m \u001b[38;5;129;01min\u001b[39;00m mode:\n\u001b[1;32m   1660\u001b[0m         mode \u001b[38;5;241m+\u001b[39m\u001b[38;5;241m=\u001b[39m \u001b[38;5;124m\"\u001b[39m\u001b[38;5;124mb\u001b[39m\u001b[38;5;124m\"\u001b[39m\n\u001b[0;32m-> 1661\u001b[0m \u001b[38;5;28mself\u001b[39m\u001b[38;5;241m.\u001b[39mhandles \u001b[38;5;241m=\u001b[39m get_handle(\n\u001b[1;32m   1662\u001b[0m     f,\n\u001b[1;32m   1663\u001b[0m     mode,\n\u001b[1;32m   1664\u001b[0m     encoding\u001b[38;5;241m=\u001b[39m\u001b[38;5;28mself\u001b[39m\u001b[38;5;241m.\u001b[39moptions\u001b[38;5;241m.\u001b[39mget(\u001b[38;5;124m\"\u001b[39m\u001b[38;5;124mencoding\u001b[39m\u001b[38;5;124m\"\u001b[39m, \u001b[38;5;28;01mNone\u001b[39;00m),\n\u001b[1;32m   1665\u001b[0m     compression\u001b[38;5;241m=\u001b[39m\u001b[38;5;28mself\u001b[39m\u001b[38;5;241m.\u001b[39moptions\u001b[38;5;241m.\u001b[39mget(\u001b[38;5;124m\"\u001b[39m\u001b[38;5;124mcompression\u001b[39m\u001b[38;5;124m\"\u001b[39m, \u001b[38;5;28;01mNone\u001b[39;00m),\n\u001b[1;32m   1666\u001b[0m     memory_map\u001b[38;5;241m=\u001b[39m\u001b[38;5;28mself\u001b[39m\u001b[38;5;241m.\u001b[39moptions\u001b[38;5;241m.\u001b[39mget(\u001b[38;5;124m\"\u001b[39m\u001b[38;5;124mmemory_map\u001b[39m\u001b[38;5;124m\"\u001b[39m, \u001b[38;5;28;01mFalse\u001b[39;00m),\n\u001b[1;32m   1667\u001b[0m     is_text\u001b[38;5;241m=\u001b[39mis_text,\n\u001b[1;32m   1668\u001b[0m     errors\u001b[38;5;241m=\u001b[39m\u001b[38;5;28mself\u001b[39m\u001b[38;5;241m.\u001b[39moptions\u001b[38;5;241m.\u001b[39mget(\u001b[38;5;124m\"\u001b[39m\u001b[38;5;124mencoding_errors\u001b[39m\u001b[38;5;124m\"\u001b[39m, \u001b[38;5;124m\"\u001b[39m\u001b[38;5;124mstrict\u001b[39m\u001b[38;5;124m\"\u001b[39m),\n\u001b[1;32m   1669\u001b[0m     storage_options\u001b[38;5;241m=\u001b[39m\u001b[38;5;28mself\u001b[39m\u001b[38;5;241m.\u001b[39moptions\u001b[38;5;241m.\u001b[39mget(\u001b[38;5;124m\"\u001b[39m\u001b[38;5;124mstorage_options\u001b[39m\u001b[38;5;124m\"\u001b[39m, \u001b[38;5;28;01mNone\u001b[39;00m),\n\u001b[1;32m   1670\u001b[0m )\n\u001b[1;32m   1671\u001b[0m \u001b[38;5;28;01massert\u001b[39;00m \u001b[38;5;28mself\u001b[39m\u001b[38;5;241m.\u001b[39mhandles \u001b[38;5;129;01mis\u001b[39;00m \u001b[38;5;129;01mnot\u001b[39;00m \u001b[38;5;28;01mNone\u001b[39;00m\n\u001b[1;32m   1672\u001b[0m f \u001b[38;5;241m=\u001b[39m \u001b[38;5;28mself\u001b[39m\u001b[38;5;241m.\u001b[39mhandles\u001b[38;5;241m.\u001b[39mhandle\n",
      "File \u001b[0;32m/opt/anaconda3/lib/python3.11/site-packages/pandas/io/common.py:859\u001b[0m, in \u001b[0;36mget_handle\u001b[0;34m(path_or_buf, mode, encoding, compression, memory_map, is_text, errors, storage_options)\u001b[0m\n\u001b[1;32m    854\u001b[0m \u001b[38;5;28;01melif\u001b[39;00m \u001b[38;5;28misinstance\u001b[39m(handle, \u001b[38;5;28mstr\u001b[39m):\n\u001b[1;32m    855\u001b[0m     \u001b[38;5;66;03m# Check whether the filename is to be opened in binary mode.\u001b[39;00m\n\u001b[1;32m    856\u001b[0m     \u001b[38;5;66;03m# Binary mode does not support 'encoding' and 'newline'.\u001b[39;00m\n\u001b[1;32m    857\u001b[0m     \u001b[38;5;28;01mif\u001b[39;00m ioargs\u001b[38;5;241m.\u001b[39mencoding \u001b[38;5;129;01mand\u001b[39;00m \u001b[38;5;124m\"\u001b[39m\u001b[38;5;124mb\u001b[39m\u001b[38;5;124m\"\u001b[39m \u001b[38;5;129;01mnot\u001b[39;00m \u001b[38;5;129;01min\u001b[39;00m ioargs\u001b[38;5;241m.\u001b[39mmode:\n\u001b[1;32m    858\u001b[0m         \u001b[38;5;66;03m# Encoding\u001b[39;00m\n\u001b[0;32m--> 859\u001b[0m         handle \u001b[38;5;241m=\u001b[39m \u001b[38;5;28mopen\u001b[39m(\n\u001b[1;32m    860\u001b[0m             handle,\n\u001b[1;32m    861\u001b[0m             ioargs\u001b[38;5;241m.\u001b[39mmode,\n\u001b[1;32m    862\u001b[0m             encoding\u001b[38;5;241m=\u001b[39mioargs\u001b[38;5;241m.\u001b[39mencoding,\n\u001b[1;32m    863\u001b[0m             errors\u001b[38;5;241m=\u001b[39merrors,\n\u001b[1;32m    864\u001b[0m             newline\u001b[38;5;241m=\u001b[39m\u001b[38;5;124m\"\u001b[39m\u001b[38;5;124m\"\u001b[39m,\n\u001b[1;32m    865\u001b[0m         )\n\u001b[1;32m    866\u001b[0m     \u001b[38;5;28;01melse\u001b[39;00m:\n\u001b[1;32m    867\u001b[0m         \u001b[38;5;66;03m# Binary mode\u001b[39;00m\n\u001b[1;32m    868\u001b[0m         handle \u001b[38;5;241m=\u001b[39m \u001b[38;5;28mopen\u001b[39m(handle, ioargs\u001b[38;5;241m.\u001b[39mmode)\n",
      "\u001b[0;31mFileNotFoundError\u001b[0m: [Errno 2] No such file or directory: '../../tool_results/s2e-coref/s2e-coref_updated_format.csv'"
     ]
    }
   ],
   "source": [
    "pred_df = pd.read_csv('../../tool_results/s2e-coref/s2e-coref_updated_format.csv')\n",
    "pred_df.head()"
   ]
  },
  {
   "cell_type": "code",
   "execution_count": 5,
   "id": "ce61eeab-8f94-4dfd-bd50-b29e2f24026f",
   "metadata": {},
   "outputs": [
    {
     "data": {
      "text/html": [
       "<div>\n",
       "<style scoped>\n",
       "    .dataframe tbody tr th:only-of-type {\n",
       "        vertical-align: middle;\n",
       "    }\n",
       "\n",
       "    .dataframe tbody tr th {\n",
       "        vertical-align: top;\n",
       "    }\n",
       "\n",
       "    .dataframe thead th {\n",
       "        text-align: right;\n",
       "    }\n",
       "</style>\n",
       "<table border=\"1\" class=\"dataframe\">\n",
       "  <thead>\n",
       "    <tr style=\"text-align: right;\">\n",
       "      <th></th>\n",
       "      <th>c5</th>\n",
       "      <th>c119_text</th>\n",
       "      <th>coreferences_human_readable</th>\n",
       "      <th>coreferences</th>\n",
       "    </tr>\n",
       "  </thead>\n",
       "  <tbody>\n",
       "    <tr>\n",
       "      <th>0</th>\n",
       "      <td>19990213001379A</td>\n",
       "      <td>ACFT WAS TAXIING FOR TAKE OFF WHEN IT LOST CON...</td>\n",
       "      <td>[ACFT, IT]</td>\n",
       "      <td>[[[0,0],[7,7]]]</td>\n",
       "    </tr>\n",
       "    <tr>\n",
       "      <th>1</th>\n",
       "      <td>19800217031649I</td>\n",
       "      <td>AFTER TAKEOFF, ENGINE QUIT. WING FUEL TANK SUM...</td>\n",
       "      <td>[WING FUEL TANK SUMPS, THEY]</td>\n",
       "      <td>[[[6,9],[16,16]]]</td>\n",
       "    </tr>\n",
       "    <tr>\n",
       "      <th>2</th>\n",
       "      <td>19790720021329A</td>\n",
       "      <td>HELICOPTER TOOK OFF WITH SLING LOAD ATTACHED. ...</td>\n",
       "      <td>[SLING LOAD, LOAD]</td>\n",
       "      <td>[[[4,5],[10]]]</td>\n",
       "    </tr>\n",
       "    <tr>\n",
       "      <th>3</th>\n",
       "      <td>19841214074599I</td>\n",
       "      <td>WHILE TAXIING LOST NOSEWHEEL STEERING AND BRAK...</td>\n",
       "      <td>NaN</td>\n",
       "      <td>[]</td>\n",
       "    </tr>\n",
       "    <tr>\n",
       "      <th>4</th>\n",
       "      <td>19860128014289I</td>\n",
       "      <td>FORWARD CARGO DOOR OPENED AS AIRCRAFT TOOK OFF...</td>\n",
       "      <td>NaN</td>\n",
       "      <td>[]</td>\n",
       "    </tr>\n",
       "  </tbody>\n",
       "</table>\n",
       "</div>"
      ],
      "text/plain": [
       "                c5                                          c119_text  \\\n",
       "0  19990213001379A  ACFT WAS TAXIING FOR TAKE OFF WHEN IT LOST CON...   \n",
       "1  19800217031649I  AFTER TAKEOFF, ENGINE QUIT. WING FUEL TANK SUM...   \n",
       "2  19790720021329A  HELICOPTER TOOK OFF WITH SLING LOAD ATTACHED. ...   \n",
       "3  19841214074599I  WHILE TAXIING LOST NOSEWHEEL STEERING AND BRAK...   \n",
       "4  19860128014289I  FORWARD CARGO DOOR OPENED AS AIRCRAFT TOOK OFF...   \n",
       "\n",
       "    coreferences_human_readable       coreferences  \n",
       "0                    [ACFT, IT]    [[[0,0],[7,7]]]  \n",
       "1  [WING FUEL TANK SUMPS, THEY]  [[[6,9],[16,16]]]  \n",
       "2            [SLING LOAD, LOAD]     [[[4,5],[10]]]  \n",
       "3                           NaN                 []  \n",
       "4                           NaN                 []  "
      ]
     },
     "execution_count": 5,
     "metadata": {},
     "output_type": "execute_result"
    }
   ],
   "source": [
    "gold_df = pd.read_csv('../../OMIN_dataset/gold_standard/gold/coref_gold.csv')\n",
    "gold_df.head()"
   ]
  },
  {
   "cell_type": "code",
   "execution_count": 9,
   "id": "5d45bfbe-43ee-4982-b1b6-2e16331b7c1f",
   "metadata": {},
   "outputs": [
    {
     "data": {
      "text/plain": [
       "[[[0, 1], [7, 7]]]"
      ]
     },
     "execution_count": 9,
     "metadata": {},
     "output_type": "execute_result"
    }
   ],
   "source": [
    "ast.literal_eval(pred_df['corefs'][49])"
   ]
  },
  {
   "cell_type": "code",
   "execution_count": 30,
   "id": "181b7cd5-7f00-4065-843a-22201504e624",
   "metadata": {},
   "outputs": [],
   "source": [
    "sample_pred_df = pred_df[pred_df['c5_id'].isin(gold_df['c5'])].copy()"
   ]
  },
  {
   "cell_type": "code",
   "execution_count": 31,
   "id": "3f3f25ba-f6e7-4f8e-b9e7-708e8c1cc9e2",
   "metadata": {},
   "outputs": [
    {
     "data": {
      "text/plain": [
       "[NaN, NaN, NaN, NaN, NaN, NaN, NaN]\n",
       "Categories (100, object): ['19990213001379A' < '19800217031649I' < '19790720021329A' < '19841214074599I' ... '19960418007829A' < '19970828026989A' < '19870523018729A' < '20030620012809I']"
      ]
     },
     "execution_count": 31,
     "metadata": {},
     "output_type": "execute_result"
    }
   ],
   "source": [
    "pd.Categorical(sample_pred_df, categories=gold_df['c5'], ordered=True)"
   ]
  },
  {
   "cell_type": "code",
   "execution_count": 23,
   "id": "8ab69dc6-320a-4d15-8bcc-40a4366156ad",
   "metadata": {},
   "outputs": [
    {
     "ename": "TypeError",
     "evalue": "Series.sort_values() takes 1 positional argument but 2 were given",
     "output_type": "error",
     "traceback": [
      "\u001b[0;31m---------------------------------------------------------------------------\u001b[0m",
      "\u001b[0;31mTypeError\u001b[0m                                 Traceback (most recent call last)",
      "Cell \u001b[0;32mIn[23], line 1\u001b[0m\n\u001b[0;32m----> 1\u001b[0m sample_pred_df\u001b[38;5;241m.\u001b[39msort_values(\u001b[38;5;124m'\u001b[39m\u001b[38;5;124mcategory\u001b[39m\u001b[38;5;124m'\u001b[39m)\n",
      "\u001b[0;31mTypeError\u001b[0m: Series.sort_values() takes 1 positional argument but 2 were given"
     ]
    }
   ],
   "source": [
    "sample_pred_df.sort_values('category')"
   ]
  },
  {
   "cell_type": "code",
   "execution_count": 28,
   "id": "75738390-196c-42ee-8007-94a2b5684c0f",
   "metadata": {},
   "outputs": [
    {
     "data": {
      "text/html": [
       "<div>\n",
       "<style scoped>\n",
       "    .dataframe tbody tr th:only-of-type {\n",
       "        vertical-align: middle;\n",
       "    }\n",
       "\n",
       "    .dataframe tbody tr th {\n",
       "        vertical-align: top;\n",
       "    }\n",
       "\n",
       "    .dataframe thead th {\n",
       "        text-align: right;\n",
       "    }\n",
       "</style>\n",
       "<table border=\"1\" class=\"dataframe\">\n",
       "  <thead>\n",
       "    <tr style=\"text-align: right;\">\n",
       "      <th></th>\n",
       "      <th>c5_id</th>\n",
       "      <th>c119_input</th>\n",
       "      <th>start_map</th>\n",
       "      <th>end_map</th>\n",
       "      <th>word_map</th>\n",
       "      <th>corefs_human_readable</th>\n",
       "      <th>corefs</th>\n",
       "    </tr>\n",
       "  </thead>\n",
       "  <tbody>\n",
       "    <tr>\n",
       "      <th>8</th>\n",
       "      <td>19760606015529A</td>\n",
       "      <td>SUFFICIENT OPPORTUNITY EXISTED TO RELEASE WHEN...</td>\n",
       "      <td>{}</td>\n",
       "      <td>{}</td>\n",
       "      <td>{}</td>\n",
       "      <td>{}</td>\n",
       "      <td>[]</td>\n",
       "    </tr>\n",
       "    <tr>\n",
       "      <th>50</th>\n",
       "      <td>19780111000459A</td>\n",
       "      <td>ACFT DISPATCHER HARRASSMENT OF PILOT. PILOT FO...</td>\n",
       "      <td>{}</td>\n",
       "      <td>{}</td>\n",
       "      <td>{4: [0], 6: [0]}</td>\n",
       "      <td>{0: ['pilot', 'pilot']}</td>\n",
       "      <td>[[[4, 4], [6, 6]]]</td>\n",
       "    </tr>\n",
       "    <tr>\n",
       "      <th>74</th>\n",
       "      <td>19780402008409I</td>\n",
       "      <td>TAXIING AIRCRAFT STRUCK PARKED AIRCRAFT. FOUND...</td>\n",
       "      <td>{}</td>\n",
       "      <td>{}</td>\n",
       "      <td>{}</td>\n",
       "      <td>{}</td>\n",
       "      <td>[]</td>\n",
       "    </tr>\n",
       "    <tr>\n",
       "      <th>85</th>\n",
       "      <td>19780427013859I</td>\n",
       "      <td>ENGINE COWLING SEPARATED FROM ENGINE IN FLIGHT...</td>\n",
       "      <td>{}</td>\n",
       "      <td>{}</td>\n",
       "      <td>{}</td>\n",
       "      <td>{}</td>\n",
       "      <td>[]</td>\n",
       "    </tr>\n",
       "    <tr>\n",
       "      <th>111</th>\n",
       "      <td>19780509032859I</td>\n",
       "      <td>FORCED LANDING AFTER POWER LOSS. FOUND WATER I...</td>\n",
       "      <td>{}</td>\n",
       "      <td>{}</td>\n",
       "      <td>{}</td>\n",
       "      <td>{}</td>\n",
       "      <td>[]</td>\n",
       "    </tr>\n",
       "    <tr>\n",
       "      <th>...</th>\n",
       "      <td>...</td>\n",
       "      <td>...</td>\n",
       "      <td>...</td>\n",
       "      <td>...</td>\n",
       "      <td>...</td>\n",
       "      <td>...</td>\n",
       "      <td>...</td>\n",
       "    </tr>\n",
       "    <tr>\n",
       "      <th>2630</th>\n",
       "      <td>20051009024969I</td>\n",
       "      <td>(-23) ^PRIVACY DATA OMITTED^ HELICOPTER ENGINE...</td>\n",
       "      <td>{}</td>\n",
       "      <td>{}</td>\n",
       "      <td>{}</td>\n",
       "      <td>{}</td>\n",
       "      <td>[]</td>\n",
       "    </tr>\n",
       "    <tr>\n",
       "      <th>2642</th>\n",
       "      <td>20060718018299I</td>\n",
       "      <td>(-23) THE PILOT IN COMMAND (PIC) FAILED TO ENS...</td>\n",
       "      <td>{}</td>\n",
       "      <td>{}</td>\n",
       "      <td>{}</td>\n",
       "      <td>{}</td>\n",
       "      <td>[]</td>\n",
       "    </tr>\n",
       "    <tr>\n",
       "      <th>2650</th>\n",
       "      <td>20060621012279A</td>\n",
       "      <td>(-23) THE PILOT ^PRIVACY DA^ STATED THAT DURIN...</td>\n",
       "      <td>{3: [0]}</td>\n",
       "      <td>{4: [0]}</td>\n",
       "      <td>{15: [0], 21: [0]}</td>\n",
       "      <td>{0: ['the pilot', 'his', 'him']}</td>\n",
       "      <td>[[[3, 4], [15, 15], [21, 21]]]</td>\n",
       "    </tr>\n",
       "    <tr>\n",
       "      <th>2676</th>\n",
       "      <td>20070202001609A</td>\n",
       "      <td>(-23) ON A FLIGHT FROM NOTH PLATTE, NE, TO IOW...</td>\n",
       "      <td>{}</td>\n",
       "      <td>{}</td>\n",
       "      <td>{}</td>\n",
       "      <td>{}</td>\n",
       "      <td>[]</td>\n",
       "    </tr>\n",
       "    <tr>\n",
       "      <th>2685</th>\n",
       "      <td>20070630826079I</td>\n",
       "      <td>(-23) AIRCRAFT DEPARTED RAY AIRPORT AND AFTER ...</td>\n",
       "      <td>{}</td>\n",
       "      <td>{}</td>\n",
       "      <td>{}</td>\n",
       "      <td>{}</td>\n",
       "      <td>[]</td>\n",
       "    </tr>\n",
       "  </tbody>\n",
       "</table>\n",
       "<p>100 rows × 7 columns</p>\n",
       "</div>"
      ],
      "text/plain": [
       "                c5_id                                         c119_input  \\\n",
       "8     19760606015529A  SUFFICIENT OPPORTUNITY EXISTED TO RELEASE WHEN...   \n",
       "50    19780111000459A  ACFT DISPATCHER HARRASSMENT OF PILOT. PILOT FO...   \n",
       "74    19780402008409I  TAXIING AIRCRAFT STRUCK PARKED AIRCRAFT. FOUND...   \n",
       "85    19780427013859I  ENGINE COWLING SEPARATED FROM ENGINE IN FLIGHT...   \n",
       "111   19780509032859I  FORCED LANDING AFTER POWER LOSS. FOUND WATER I...   \n",
       "...               ...                                                ...   \n",
       "2630  20051009024969I  (-23) ^PRIVACY DATA OMITTED^ HELICOPTER ENGINE...   \n",
       "2642  20060718018299I  (-23) THE PILOT IN COMMAND (PIC) FAILED TO ENS...   \n",
       "2650  20060621012279A  (-23) THE PILOT ^PRIVACY DA^ STATED THAT DURIN...   \n",
       "2676  20070202001609A  (-23) ON A FLIGHT FROM NOTH PLATTE, NE, TO IOW...   \n",
       "2685  20070630826079I  (-23) AIRCRAFT DEPARTED RAY AIRPORT AND AFTER ...   \n",
       "\n",
       "     start_map   end_map            word_map  \\\n",
       "8           {}        {}                  {}   \n",
       "50          {}        {}    {4: [0], 6: [0]}   \n",
       "74          {}        {}                  {}   \n",
       "85          {}        {}                  {}   \n",
       "111         {}        {}                  {}   \n",
       "...        ...       ...                 ...   \n",
       "2630        {}        {}                  {}   \n",
       "2642        {}        {}                  {}   \n",
       "2650  {3: [0]}  {4: [0]}  {15: [0], 21: [0]}   \n",
       "2676        {}        {}                  {}   \n",
       "2685        {}        {}                  {}   \n",
       "\n",
       "                 corefs_human_readable                          corefs  \n",
       "8                                   {}                              []  \n",
       "50             {0: ['pilot', 'pilot']}              [[[4, 4], [6, 6]]]  \n",
       "74                                  {}                              []  \n",
       "85                                  {}                              []  \n",
       "111                                 {}                              []  \n",
       "...                                ...                             ...  \n",
       "2630                                {}                              []  \n",
       "2642                                {}                              []  \n",
       "2650  {0: ['the pilot', 'his', 'him']}  [[[3, 4], [15, 15], [21, 21]]]  \n",
       "2676                                {}                              []  \n",
       "2685                                {}                              []  \n",
       "\n",
       "[100 rows x 7 columns]"
      ]
     },
     "execution_count": 28,
     "metadata": {},
     "output_type": "execute_result"
    }
   ],
   "source": [
    "sample_pred_df"
   ]
  },
  {
   "cell_type": "code",
   "execution_count": 32,
   "id": "b9548f16-2b00-4429-af6d-e060961968cf",
   "metadata": {},
   "outputs": [],
   "source": [
    "i = 0"
   ]
  },
  {
   "cell_type": "code",
   "execution_count": 34,
   "id": "ab3d1bf3-8dd6-4013-b1e1-0675a8547a23",
   "metadata": {},
   "outputs": [],
   "source": [
    "gold = ast.literal_eval(gold_df['coreferences'].iat[i])"
   ]
  },
  {
   "cell_type": "code",
   "execution_count": 47,
   "id": "53c6991a-1c09-4dba-b75f-89b55ad7a393",
   "metadata": {},
   "outputs": [],
   "source": [
    "pred = ast.literal_eval(pred_df[pred_df['c5_id']==gold_df['c5'].iat[i]]['corefs'].iat[0])"
   ]
  },
  {
   "cell_type": "code",
   "execution_count": 46,
   "id": "8b683062-dccd-47e3-8d1e-fb0bbc09f6fd",
   "metadata": {},
   "outputs": [
    {
     "data": {
      "text/plain": [
       "'[[[0, 0], [7, 7]]]'"
      ]
     },
     "execution_count": 46,
     "metadata": {},
     "output_type": "execute_result"
    }
   ],
   "source": [
    "pred_df[pred_df['c5_id']==gold_df['c5'].iat[i]]['corefs'].iat[0]"
   ]
  },
  {
   "cell_type": "code",
   "execution_count": null,
   "id": "6402e3f6-4aae-4c07-a08a-f824fda0027f",
   "metadata": {},
   "outputs": [],
   "source": []
  }
 ],
 "metadata": {
  "kernelspec": {
   "display_name": "Python 3 (ipykernel)",
   "language": "python",
   "name": "python3"
  },
  "language_info": {
   "codemirror_mode": {
    "name": "ipython",
    "version": 3
   },
   "file_extension": ".py",
   "mimetype": "text/x-python",
   "name": "python",
   "nbconvert_exporter": "python",
   "pygments_lexer": "ipython3",
   "version": "3.11.5"
  }
 },
 "nbformat": 4,
 "nbformat_minor": 5
}
