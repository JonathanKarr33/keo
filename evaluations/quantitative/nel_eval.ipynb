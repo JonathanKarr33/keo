{
 "cells": [
  {
   "cell_type": "code",
   "execution_count": 1,
   "id": "0d46151d-41bd-4dfb-94e9-949cbbfc865a",
   "metadata": {},
   "outputs": [],
   "source": [
    "import os\n",
    "import requests\n",
    "import json\n",
    "import pandas as pd\n",
    "import ast\n",
    "import math"
   ]
  },
  {
   "cell_type": "markdown",
   "id": "e1a2b873-6e3d-4a34-b63e-91e90fa27db8",
   "metadata": {},
   "source": [
    "**funcs from notebooks/explorations/nel__spacy_entity_linker.ipynb**"
   ]
  },
  {
   "cell_type": "code",
   "execution_count": 2,
   "id": "f812b9f3-1634-47bd-adc2-d89180a441f6",
   "metadata": {
    "jupyter": {
     "source_hidden": true
    }
   },
   "outputs": [],
   "source": [
    "def call_semantic_similarity(input_file, url):\n",
    "    file_name = os.path.basename(input_file)\n",
    "    files = {\n",
    "        'file': (file_name, open(input_file, mode='rb'), 'application/octet-stream')\n",
    "    }\n",
    "    resp = requests.post(url, files=files, params={'similarity_types': 'all'})\n",
    "    s = json.loads(resp.json())\n",
    "    return pd.DataFrame(s)"
   ]
  },
  {
   "cell_type": "code",
   "execution_count": 3,
   "id": "703fcf7f-8cf3-4ca2-b1d6-cb9d984cc70d",
   "metadata": {
    "jupyter": {
     "source_hidden": true
    }
   },
   "outputs": [],
   "source": [
    "def get_wikidata_description(qid):\n",
    "    # Endpoint URL for the Wikidata Query Service\n",
    "    endpoint_url = \"https://query.wikidata.org/sparql\"\n",
    "    \n",
    "    # SPARQL query to get the description of an item by its QID\n",
    "    query = f\"\"\"\n",
    "    SELECT ?itemDescription WHERE {{\n",
    "        wd:{qid} schema:description ?itemDescription.\n",
    "        FILTER(LANG(?itemDescription) = \"en\")\n",
    "    }}\n",
    "    \"\"\"\n",
    "    \n",
    "    # The headers to indicate that the response should be in JSON format\n",
    "    headers = {\n",
    "        \"Accept\": \"application/sparql-results+json\"\n",
    "    }\n",
    "    \n",
    "    # Make the request to the Wikidata Query Service\n",
    "    response = requests.get(endpoint_url, headers=headers, params={'query': query})\n",
    "    \n",
    "    if response.status_code == 200:\n",
    "        # Parse the JSON response\n",
    "        data = response.json()\n",
    "        descriptions = data.get(\"results\", {}).get(\"bindings\", [])\n",
    "        if descriptions:\n",
    "            # Return the description text\n",
    "            return descriptions[0][\"itemDescription\"][\"value\"]\n",
    "        else:\n",
    "            return \"No description found.\"\n",
    "    else:\n",
    "        return \"Failed to fetch data.\"\n",
    "\n",
    "# Example usage\n",
    "# Replace 'QID' with the actual QID you want to query, for example, 'Q42' for Douglas Adams\n",
    "# print(get_wikidata_description('QID'))"
   ]
  },
  {
   "cell_type": "markdown",
   "id": "a956afd9-6dc3-474b-88fa-72999461b2df",
   "metadata": {},
   "source": [
    "**Example with test file**"
   ]
  },
  {
   "cell_type": "code",
   "execution_count": 4,
   "id": "e48688b1-4d7e-44fc-856c-4418e5f951a8",
   "metadata": {},
   "outputs": [
    {
     "data": {
      "text/html": [
       "<div>\n",
       "<style scoped>\n",
       "    .dataframe tbody tr th:only-of-type {\n",
       "        vertical-align: middle;\n",
       "    }\n",
       "\n",
       "    .dataframe tbody tr th {\n",
       "        vertical-align: top;\n",
       "    }\n",
       "\n",
       "    .dataframe thead th {\n",
       "        text-align: right;\n",
       "    }\n",
       "</style>\n",
       "<table border=\"1\" class=\"dataframe\">\n",
       "  <thead>\n",
       "    <tr style=\"text-align: right;\">\n",
       "      <th></th>\n",
       "      <th>q1</th>\n",
       "      <th>q2</th>\n",
       "      <th>q1_label</th>\n",
       "      <th>q2_label</th>\n",
       "      <th>class</th>\n",
       "      <th>jc</th>\n",
       "      <th>q2_description</th>\n",
       "    </tr>\n",
       "  </thead>\n",
       "  <tbody>\n",
       "    <tr>\n",
       "      <th>0</th>\n",
       "      <td>Q1875633</td>\n",
       "      <td>Q1875633</td>\n",
       "      <td>aviation fuel</td>\n",
       "      <td>aviation fuel</td>\n",
       "      <td>1.000000</td>\n",
       "      <td>1.000000</td>\n",
       "      <td>propellents used to power aircraft or aviation...</td>\n",
       "    </tr>\n",
       "    <tr>\n",
       "      <th>1</th>\n",
       "      <td>Q1875633</td>\n",
       "      <td>Q42501</td>\n",
       "      <td>aviation fuel</td>\n",
       "      <td>combustible matter</td>\n",
       "      <td>0.684539</td>\n",
       "      <td>0.885428</td>\n",
       "      <td>any material that stores energy that can later...</td>\n",
       "    </tr>\n",
       "    <tr>\n",
       "      <th>2</th>\n",
       "      <td>Q1875633</td>\n",
       "      <td>Q15766923</td>\n",
       "      <td>aviation fuel</td>\n",
       "      <td>Fuel</td>\n",
       "      <td>0.029833</td>\n",
       "      <td>0.062413</td>\n",
       "      <td>scientific journal</td>\n",
       "    </tr>\n",
       "    <tr>\n",
       "      <th>3</th>\n",
       "      <td>Q1875633</td>\n",
       "      <td>Q5507117</td>\n",
       "      <td>aviation fuel</td>\n",
       "      <td>Fuel</td>\n",
       "      <td>0.000000</td>\n",
       "      <td>0.000000</td>\n",
       "      <td>short-lived Bay Area post-hardcore musical act</td>\n",
       "    </tr>\n",
       "    <tr>\n",
       "      <th>4</th>\n",
       "      <td>Q1875633</td>\n",
       "      <td>Q35120</td>\n",
       "      <td>aviation fuel</td>\n",
       "      <td>entity</td>\n",
       "      <td>0.003065</td>\n",
       "      <td>0.042554</td>\n",
       "      <td>anything that can be considered, discussed, or...</td>\n",
       "    </tr>\n",
       "  </tbody>\n",
       "</table>\n",
       "</div>"
      ],
      "text/plain": [
       "         q1         q2       q1_label            q2_label     class        jc  \\\n",
       "0  Q1875633   Q1875633  aviation fuel       aviation fuel  1.000000  1.000000   \n",
       "1  Q1875633     Q42501  aviation fuel  combustible matter  0.684539  0.885428   \n",
       "2  Q1875633  Q15766923  aviation fuel                Fuel  0.029833  0.062413   \n",
       "3  Q1875633   Q5507117  aviation fuel                Fuel  0.000000  0.000000   \n",
       "4  Q1875633     Q35120  aviation fuel              entity  0.003065  0.042554   \n",
       "\n",
       "                                      q2_description  \n",
       "0  propellents used to power aircraft or aviation...  \n",
       "1  any material that stores energy that can later...  \n",
       "2                                 scientific journal  \n",
       "3     short-lived Bay Area post-hardcore musical act  \n",
       "4  anything that can be considered, discussed, or...  "
      ]
     },
     "execution_count": 4,
     "metadata": {},
     "output_type": "execute_result"
    }
   ],
   "source": [
    "SIM_API = 'https://kgtk.isi.edu/similarity_api'\n",
    "\n",
    "df = call_semantic_similarity('../../notebooks/explorations/test_file.csv', SIM_API)\n",
    "\n",
    "df['q2_description'] = df['q2'].apply(get_wikidata_description)\n",
    "\n",
    "df[['q1', 'q2', 'q1_label', 'q2_label', 'class',  'jc', 'q2_description']]"
   ]
  },
  {
   "cell_type": "markdown",
   "id": "0b6f72d5-5b8a-4110-9070-bc853d267b6a",
   "metadata": {},
   "source": [
    "**Get own data**"
   ]
  },
  {
   "cell_type": "code",
   "execution_count": 45,
   "id": "f8cb445e-dd66-4f34-b903-0d26d764c543",
   "metadata": {},
   "outputs": [
    {
     "data": {
      "text/html": [
       "<div>\n",
       "<style scoped>\n",
       "    .dataframe tbody tr th:only-of-type {\n",
       "        vertical-align: middle;\n",
       "    }\n",
       "\n",
       "    .dataframe tbody tr th {\n",
       "        vertical-align: top;\n",
       "    }\n",
       "\n",
       "    .dataframe thead th {\n",
       "        text-align: right;\n",
       "    }\n",
       "</style>\n",
       "<table border=\"1\" class=\"dataframe\">\n",
       "  <thead>\n",
       "    <tr style=\"text-align: right;\">\n",
       "      <th></th>\n",
       "      <th>id</th>\n",
       "      <th>sample</th>\n",
       "      <th>entity</th>\n",
       "      <th>qid</th>\n",
       "    </tr>\n",
       "  </thead>\n",
       "  <tbody>\n",
       "    <tr>\n",
       "      <th>0</th>\n",
       "      <td>19990213001379A</td>\n",
       "      <td>ACFT WAS TAXIING FOR TAKE OFF WHEN IT LOST CON...</td>\n",
       "      <td>['ACFT', None, None]</td>\n",
       "      <td>['Q11436', None, None]</td>\n",
       "    </tr>\n",
       "    <tr>\n",
       "      <th>1</th>\n",
       "      <td>19990213001379A</td>\n",
       "      <td>ACFT WAS TAXIING FOR TAKE OFF WHEN IT LOST CON...</td>\n",
       "      <td>['DITCH', None, None]</td>\n",
       "      <td>['Q2048319', None, None]</td>\n",
       "    </tr>\n",
       "    <tr>\n",
       "      <th>2</th>\n",
       "      <td>19990213001379A</td>\n",
       "      <td>ACFT WAS TAXIING FOR TAKE OFF WHEN IT LOST CON...</td>\n",
       "      <td>['TREE', None, None]</td>\n",
       "      <td>['Q10884', None, None]</td>\n",
       "    </tr>\n",
       "    <tr>\n",
       "      <th>3</th>\n",
       "      <td>19990213001379A</td>\n",
       "      <td>ACFT WAS TAXIING FOR TAKE OFF WHEN IT LOST CON...</td>\n",
       "      <td>['LOST CONTROL', None, None]</td>\n",
       "      <td>[None, None, None]</td>\n",
       "    </tr>\n",
       "    <tr>\n",
       "      <th>4</th>\n",
       "      <td>19800217031649I</td>\n",
       "      <td>AFTER TAKEOFF, ENGINE QUIT. WING FUEL TANK SUM...</td>\n",
       "      <td>['TAKEOFF', None, None]</td>\n",
       "      <td>['Q854248', None, None]</td>\n",
       "    </tr>\n",
       "  </tbody>\n",
       "</table>\n",
       "</div>"
      ],
      "text/plain": [
       "                id                                             sample  \\\n",
       "0  19990213001379A  ACFT WAS TAXIING FOR TAKE OFF WHEN IT LOST CON...   \n",
       "1  19990213001379A  ACFT WAS TAXIING FOR TAKE OFF WHEN IT LOST CON...   \n",
       "2  19990213001379A  ACFT WAS TAXIING FOR TAKE OFF WHEN IT LOST CON...   \n",
       "3  19990213001379A  ACFT WAS TAXIING FOR TAKE OFF WHEN IT LOST CON...   \n",
       "4  19800217031649I  AFTER TAKEOFF, ENGINE QUIT. WING FUEL TANK SUM...   \n",
       "\n",
       "                         entity                       qid  \n",
       "0          ['ACFT', None, None]    ['Q11436', None, None]  \n",
       "1         ['DITCH', None, None]  ['Q2048319', None, None]  \n",
       "2          ['TREE', None, None]    ['Q10884', None, None]  \n",
       "3  ['LOST CONTROL', None, None]        [None, None, None]  \n",
       "4       ['TAKEOFF', None, None]   ['Q854248', None, None]  "
      ]
     },
     "execution_count": 45,
     "metadata": {},
     "output_type": "execute_result"
    }
   ],
   "source": [
    "gold_df = pd.read_csv('../../OMIn_dataset/gold_standard/processed/nel.csv')\n",
    "gold_df.head()"
   ]
  },
  {
   "cell_type": "code",
   "execution_count": 199,
   "id": "8979101d-42f1-43ed-a252-7c36bf1643ec",
   "metadata": {},
   "outputs": [
    {
     "data": {
      "text/html": [
       "<div>\n",
       "<style scoped>\n",
       "    .dataframe tbody tr th:only-of-type {\n",
       "        vertical-align: middle;\n",
       "    }\n",
       "\n",
       "    .dataframe tbody tr th {\n",
       "        vertical-align: top;\n",
       "    }\n",
       "\n",
       "    .dataframe thead th {\n",
       "        text-align: right;\n",
       "    }\n",
       "</style>\n",
       "<table border=\"1\" class=\"dataframe\">\n",
       "  <thead>\n",
       "    <tr style=\"text-align: right;\">\n",
       "      <th></th>\n",
       "      <th>id</th>\n",
       "      <th>sample</th>\n",
       "      <th>entity</th>\n",
       "      <th>qid</th>\n",
       "    </tr>\n",
       "  </thead>\n",
       "  <tbody>\n",
       "    <tr>\n",
       "      <th>192</th>\n",
       "      <td>19890723054159I</td>\n",
       "      <td>AFTER LANDING IT WAS DETERMINED THERE WAS INSU...</td>\n",
       "      <td>['LANDING', None, None]</td>\n",
       "      <td>['Q844947', None, None]</td>\n",
       "    </tr>\n",
       "    <tr>\n",
       "      <th>193</th>\n",
       "      <td>19890723054159I</td>\n",
       "      <td>AFTER LANDING IT WAS DETERMINED THERE WAS INSU...</td>\n",
       "      <td>['SEATS', None, None]</td>\n",
       "      <td>['Q2207370', None, None]</td>\n",
       "    </tr>\n",
       "    <tr>\n",
       "      <th>194</th>\n",
       "      <td>19890723054159I</td>\n",
       "      <td>AFTER LANDING IT WAS DETERMINED THERE WAS INSU...</td>\n",
       "      <td>['OXYGEN MASKS', None, None]</td>\n",
       "      <td>['Q1890958', None, None]</td>\n",
       "    </tr>\n",
       "    <tr>\n",
       "      <th>195</th>\n",
       "      <td>19890723054159I</td>\n",
       "      <td>AFTER LANDING IT WAS DETERMINED THERE WAS INSU...</td>\n",
       "      <td>['PASSENGERS', None, None]</td>\n",
       "      <td>['Q319604', None, None]</td>\n",
       "    </tr>\n",
       "  </tbody>\n",
       "</table>\n",
       "</div>"
      ],
      "text/plain": [
       "                  id                                             sample  \\\n",
       "192  19890723054159I  AFTER LANDING IT WAS DETERMINED THERE WAS INSU...   \n",
       "193  19890723054159I  AFTER LANDING IT WAS DETERMINED THERE WAS INSU...   \n",
       "194  19890723054159I  AFTER LANDING IT WAS DETERMINED THERE WAS INSU...   \n",
       "195  19890723054159I  AFTER LANDING IT WAS DETERMINED THERE WAS INSU...   \n",
       "\n",
       "                           entity                       qid  \n",
       "192       ['LANDING', None, None]   ['Q844947', None, None]  \n",
       "193         ['SEATS', None, None]  ['Q2207370', None, None]  \n",
       "194  ['OXYGEN MASKS', None, None]  ['Q1890958', None, None]  \n",
       "195    ['PASSENGERS', None, None]   ['Q319604', None, None]  "
      ]
     },
     "execution_count": 199,
     "metadata": {},
     "output_type": "execute_result"
    }
   ],
   "source": [
    "gold_df[gold_df['id']=='19890723054159I']"
   ]
  },
  {
   "cell_type": "markdown",
   "id": "d2e8623a-6042-460c-aa9e-40eca4dcca9c",
   "metadata": {},
   "source": [
    "Paths:\\\n",
    "result_data_path = '../../tool_results/spacy_entity_linker/spacy_entitylinker.csv'\\\n",
    "result_data_path = '../../tool_results/refined/refined.csv'\\\n",
    "result_data_path = '../../tool_results/genre/genre_independent.csv'\\\n",
    "result_data_path = '../../tool_results/blink/blink_results_new.csv'"
   ]
  },
  {
   "cell_type": "code",
   "execution_count": 2,
   "id": "3384315b-2253-4815-8163-4339f6090824",
   "metadata": {},
   "outputs": [
    {
     "data": {
      "text/html": [
       "<div>\n",
       "<style scoped>\n",
       "    .dataframe tbody tr th:only-of-type {\n",
       "        vertical-align: middle;\n",
       "    }\n",
       "\n",
       "    .dataframe tbody tr th {\n",
       "        vertical-align: top;\n",
       "    }\n",
       "\n",
       "    .dataframe thead th {\n",
       "        text-align: right;\n",
       "    }\n",
       "</style>\n",
       "<table border=\"1\" class=\"dataframe\">\n",
       "  <thead>\n",
       "    <tr style=\"text-align: right;\">\n",
       "      <th></th>\n",
       "      <th>c5_unique_id</th>\n",
       "      <th>c119_text</th>\n",
       "      <th>c119_output</th>\n",
       "      <th>c119_score</th>\n",
       "      <th>entities</th>\n",
       "      <th>titles</th>\n",
       "      <th>ids</th>\n",
       "    </tr>\n",
       "  </thead>\n",
       "  <tbody>\n",
       "    <tr>\n",
       "      <th>0</th>\n",
       "      <td>19900425011659A</td>\n",
       "      <td>RAN OUT OF FUEL ON FERRY FLIGHT. LEFT PONTOON ...</td>\n",
       "      <td>RAN OUT OF { FUEL } [ El Salvador ] ON FERRY F...</td>\n",
       "      <td>-0.200809</td>\n",
       "      <td>FUEL</td>\n",
       "      <td>El Salvador</td>\n",
       "      <td>Q792</td>\n",
       "    </tr>\n",
       "    <tr>\n",
       "      <th>1</th>\n",
       "      <td>19900425011659A</td>\n",
       "      <td>RAN OUT OF FUEL ON FERRY FLIGHT. LEFT PONTOON ...</td>\n",
       "      <td>RAN OUT OF { FUEL } [ El Salvador ] ON FERRY F...</td>\n",
       "      <td>-0.200809</td>\n",
       "      <td>FUEL</td>\n",
       "      <td>El Salvador</td>\n",
       "      <td>Q792</td>\n",
       "    </tr>\n",
       "    <tr>\n",
       "      <th>2</th>\n",
       "      <td>19900425011659A</td>\n",
       "      <td>RAN OUT OF FUEL ON FERRY FLIGHT. LEFT PONTOON ...</td>\n",
       "      <td>RAN OUT OF { FUEL } [ El Salvador ] ON FERRY F...</td>\n",
       "      <td>-0.200809</td>\n",
       "      <td>FUEL</td>\n",
       "      <td>El Salvador</td>\n",
       "      <td>Q792</td>\n",
       "    </tr>\n",
       "    <tr>\n",
       "      <th>3</th>\n",
       "      <td>20000625032189I</td>\n",
       "      <td>(-23)NORTHWEST AIRLINES DC-10 BOEING PUSHED BA...</td>\n",
       "      <td>(-23)NORTHWEST AIRLINES { DC-10 } [ Douglas DC...</td>\n",
       "      <td>-0.109136</td>\n",
       "      <td>DC-10</td>\n",
       "      <td>Douglas DC-10</td>\n",
       "      <td>Q208075</td>\n",
       "    </tr>\n",
       "    <tr>\n",
       "      <th>4</th>\n",
       "      <td>20000625032189I</td>\n",
       "      <td>(-23)NORTHWEST AIRLINES DC-10 BOEING PUSHED BA...</td>\n",
       "      <td>(-23)NORTHWEST AIRLINES { DC-10 } [ Douglas DC...</td>\n",
       "      <td>-0.109136</td>\n",
       "      <td>B-52</td>\n",
       "      <td>Boeing B-52 Stratofortress</td>\n",
       "      <td>Q174534</td>\n",
       "    </tr>\n",
       "  </tbody>\n",
       "</table>\n",
       "</div>"
      ],
      "text/plain": [
       "      c5_unique_id                                          c119_text  \\\n",
       "0  19900425011659A  RAN OUT OF FUEL ON FERRY FLIGHT. LEFT PONTOON ...   \n",
       "1  19900425011659A  RAN OUT OF FUEL ON FERRY FLIGHT. LEFT PONTOON ...   \n",
       "2  19900425011659A  RAN OUT OF FUEL ON FERRY FLIGHT. LEFT PONTOON ...   \n",
       "3  20000625032189I  (-23)NORTHWEST AIRLINES DC-10 BOEING PUSHED BA...   \n",
       "4  20000625032189I  (-23)NORTHWEST AIRLINES DC-10 BOEING PUSHED BA...   \n",
       "\n",
       "                                         c119_output  c119_score entities  \\\n",
       "0  RAN OUT OF { FUEL } [ El Salvador ] ON FERRY F...   -0.200809     FUEL   \n",
       "1  RAN OUT OF { FUEL } [ El Salvador ] ON FERRY F...   -0.200809     FUEL   \n",
       "2  RAN OUT OF { FUEL } [ El Salvador ] ON FERRY F...   -0.200809     FUEL   \n",
       "3  (-23)NORTHWEST AIRLINES { DC-10 } [ Douglas DC...   -0.109136    DC-10   \n",
       "4  (-23)NORTHWEST AIRLINES { DC-10 } [ Douglas DC...   -0.109136     B-52   \n",
       "\n",
       "                       titles      ids  \n",
       "0                 El Salvador     Q792  \n",
       "1                 El Salvador     Q792  \n",
       "2                 El Salvador     Q792  \n",
       "3               Douglas DC-10  Q208075  \n",
       "4  Boeing B-52 Stratofortress  Q174534  "
      ]
     },
     "execution_count": 2,
     "metadata": {},
     "output_type": "execute_result"
    }
   ],
   "source": [
    "result_data_path = '../../tool_results/genre/genre_independent.csv'\n",
    "result_df = pd.read_csv(result_data_path)\n",
    "result_df.head()"
   ]
  },
  {
   "cell_type": "markdown",
   "id": "183cbf9e-e1ed-460b-ade6-b75eaa8ebc69",
   "metadata": {},
   "source": [
    "Note that:\n",
    "- Blink and SpacyEntity Linker list entities as their Wikidata titles, and have seperate mentions columns that contain the literal mention from the text that was recognized as an entity. Therefore, when processing these, ent_col should be set to mentions\n",
    "- ReFinED and GENRE list the actual mention from the text as the entity and have a title column with the Wikidata title"
   ]
  },
  {
   "cell_type": "markdown",
   "id": "04088c21-5620-4e2a-9af6-c7bf0b344982",
   "metadata": {},
   "source": [
    "**Define Functions**"
   ]
  },
  {
   "cell_type": "code",
   "execution_count": 7,
   "id": "60287221-dbd8-4d99-bebb-daa91c1a186e",
   "metadata": {
    "jupyter": {
     "source_hidden": true
    }
   },
   "outputs": [],
   "source": [
    "def is_match(ent1, ent2, matching):\n",
    "    ''' Returns True if the entities match.\n",
    "    matching may be \"STRONG\" or \"WEAK\".\n",
    "    A strong match is an exact match.\n",
    "    A weak match is where ent1 is found in ent2 or ent2 is found in ent1'''\n",
    "\n",
    "    if type(ent1) != str or type(ent2) != str:\n",
    "        return False\n",
    "    \n",
    "    if matching == \"STRONG\":\n",
    "        return ent1 == ent2\n",
    "    elif matching == \"WEAK\":\n",
    "        return any([ent1 in ent2, ent2 in ent1])\n",
    "    else:\n",
    "        print(\"Error: matching must be 'STRONG' or 'WEAK'\")\n",
    "        return None"
   ]
  },
  {
   "cell_type": "code",
   "execution_count": 93,
   "id": "a4519a19-b16b-4bfa-877d-7430b07c75ba",
   "metadata": {
    "jupyter": {
     "source_hidden": true
    }
   },
   "outputs": [],
   "source": [
    "def find_match(gs_entities, tool_entities, matching, gold_set):\n",
    "    ''' Returns (-1,-1) if no version of the gs_entity at hand is present in tool_entities.\n",
    "    If a version of the gs_entity is present in tool entities, it returns the index of the\n",
    "    gs_entity that matched it and the index in tool_entities of the matching entity in a tuple.\n",
    "    Also uses weak matching if specified'''\n",
    "\n",
    "    tool_entities = pd.Series(tool_entities)\n",
    "    stop_idx = len(gs_entities) if gold_set == \"EXTENDED\" else 1\n",
    "\n",
    "    for gold_idx in range(stop_idx):\n",
    "        matches = tool_entities[tool_entities.apply(is_match, ent2 = gs_entities[gold_idx], matching=matching)]\n",
    "        \n",
    "        if len(matches) > 0:\n",
    "            found_idx_ent = (gold_idx, gs_entities[gold_idx])\n",
    "            return (gold_idx, matches.index.to_list()[0])\n",
    "    \n",
    "    return (-1,-1)"
   ]
  },
  {
   "cell_type": "code",
   "execution_count": 89,
   "id": "b9dd93f6-1ac8-4291-91a4-76ba98ab9949",
   "metadata": {
    "jupyter": {
     "source_hidden": true
    }
   },
   "outputs": [],
   "source": [
    "def prune_gold_set(gs_entities, gs_qids, gold_set, fill_in_qids):\n",
    "\n",
    "    if fill_in_qids and None in gs_qids:\n",
    "        none_idx = gs_qids.index(None)\n",
    "        if none_idx == 0 and gs_qids[1] != None:\n",
    "            gs_qids[0] = gs_qids[1]\n",
    "        elif none_idx == 0 and gs_qids[2] != None:\n",
    "            gs_qids[0] = gs_qids[2]\n",
    "            gs_qids[1] = gs_qids[2]\n",
    "        elif none_idx == 1 and gs_qids[2] != None:\n",
    "            gs_qids[1] = gs_qids[2]\n",
    "    \n",
    "    stop_idx = 3 if gold_set == \"EXTENDED\" else 1\n",
    "    valid_data = pd.DataFrame({'ents':gs_entities, 'qids':gs_qids}).iloc[:stop_idx].dropna()\n",
    "    \n",
    "    return (valid_data['ents'].to_list(), valid_data['qids'].to_list())"
   ]
  },
  {
   "cell_type": "code",
   "execution_count": 148,
   "id": "d9d9f096-bbc2-48cf-a416-f3068a511b8f",
   "metadata": {
    "jupyter": {
     "source_hidden": true
    }
   },
   "outputs": [],
   "source": [
    "def calculate_precision_recall_f1(gs, df_tool, id_col, ent_col, qid_col, matching='WEAK', gold_set='PRIMARY', fill_in_qids=False):\n",
    "    \"\"\"\n",
    "    Calculate precision and recall based on entities comparison between gs (ground truth) and df_tool (answers).\n",
    "    \n",
    "    Parameters:\n",
    "    - gs: DataFrame with columns ['id', 'sample', 'entities','qids'] representing the ground truth.\n",
    "    - df_tool: DataFrame with columns ['id', 'sample', 'entities', 'qids'] representing the tool's answers.\n",
    "    - id_col, ent_col, and qid_col are the column names used in df_tool for the docid, entities (the mentions\n",
    "    from the text, not Wikidata entity titles), and the QIDs, respectively.\n",
    "    - matching may be \"WEAK\" or \"STRONG\". Strong matching counts an entity-link pair as correct if the entity\n",
    "    exactly matches the entity in the gold standard, and the links are the same. Weak matching counts it as\n",
    "    correct if the entity overlaps with the entity in the gold standard, and the links are the same.\n",
    "    - gold_set may be \"PRIMARY\" or \"EXTENDED\". The primary set of gold standard entity-link pairs are those in\n",
    "    the columns beginning with \"primary\" in the gold standard. The extended gold standard includes secondary\n",
    "    and tertiary entity-link pairs, which attempt to account for variability in entity-tagging by providing correct\n",
    "    links for other possible spans for each entity where applicable.\n",
    "    \n",
    "    Returns:\n",
    "    - A tuple containing precision and recall.\n",
    "    \"\"\"\n",
    "    TP = 0  # True Positives\n",
    "    FP = 0  # False Positives\n",
    "    FN = 0  # False Negatives\n",
    "\n",
    "    for index, gs_row in gs.iterrows():\n",
    "        gs_id, gs_entities, gs_qids = gs_row['id'], ast.literal_eval(gs_row['entity']), ast.literal_eval(gs_row['qid'])\n",
    "        # Remove gs ent/qid pairs for which there is the ent or qid is None\n",
    "        # fill_in_qids replaces qids of None to match the next qid in the extended set (always that of a more \"general\" entity), if there is one.\n",
    "        gs_entities, gs_qids = prune_gold_set(gs_entities, gs_qids, gold_set, fill_in_qids)\n",
    "        if len(gs_entities) == 0:\n",
    "            continue\n",
    "\n",
    "        selected_rows = df_tool[df_tool[id_col] == gs_id][qid_col].dropna().index # select rows in df_tool which have same docid as gsid, and there is a QID for the entity in the row\n",
    "        tool_entities = [entity.upper() for entity in df_tool.loc[selected_rows][ent_col]] # get all the entities the tool generated for the gs_id entry\n",
    "        tool_qids = [qid for qid in df_tool.loc[selected_rows][qid_col]] # get all the entities the tool generated for the gs_id entry\n",
    "\n",
    "        # Check for False Negative (Gold Standard ent does not appear in tool output)\n",
    "        gs_match_idx, tool_match_idx = find_match(gs_entities, tool_entities, matching, gold_set)\n",
    "        if gs_match_idx == -1:\n",
    "            FN += 1\n",
    "\n",
    "        # Check for True and False Positives (based on link correctness)\n",
    "        else:\n",
    "            start_idx = 0 if gold_set == \"EXTENDED\" else gs_match_idx # with the extended gold set, if the matching entity is\n",
    "                                                                        # a secondary or tertiary entity, the more primary QID's are still correct\n",
    "                                                                        # since they are simply more specific and context-aware.\n",
    "            if tool_qids[tool_match_idx] in gs_qids[start_idx:gs_match_idx+1]:\n",
    "                TP += 1\n",
    "            else:\n",
    "                FP += 1        \n",
    "\n",
    "        # Note: We only evaluate the set of entity-link pairs where the entity is present in the gold standard.\n",
    "        # Note: An incorrect link is counted the same as a missing one if there is a correct link in the gold standard\n",
    "            \n",
    "    \n",
    "    # Calculate precision and recall\n",
    "    print(f\"TP ={TP}, FP={FP}, FN={FN}\")\n",
    "    precision = TP / (TP + FP) if (TP + FP) > 0 else 0\n",
    "    recall = TP / (TP + FN) if (TP + FN) > 0 else 0\n",
    "    \n",
    "    # Calculating the F1 score\n",
    "    f1_score = 2 * (precision * recall) / (precision + recall) if (precision + recall) > 0 else 0\n",
    "    \n",
    "    return precision, recall, f1_score"
   ]
  },
  {
   "cell_type": "markdown",
   "id": "60e778df-f3be-40bb-8927-2e9d01b73c33",
   "metadata": {},
   "source": [
    "**Get Scores**"
   ]
  },
  {
   "cell_type": "code",
   "execution_count": 205,
   "id": "ca61ab8a-aea1-4abb-870f-e1a11d562606",
   "metadata": {},
   "outputs": [
    {
     "name": "stdout",
     "output_type": "stream",
     "text": [
      "TP =0, FP=5, FN=444\n"
     ]
    },
    {
     "data": {
      "text/plain": [
       "(0.0, 0.0, 0)"
      ]
     },
     "execution_count": 205,
     "metadata": {},
     "output_type": "execute_result"
    }
   ],
   "source": [
    "calculate_precision_recall_f1(gold_df, result_df, 'c5_unique_id', 'entities', 'ids', matching=\"STRONG\", gold_set=\"EXTENDED\", fill_in_qids=True)"
   ]
  },
  {
   "cell_type": "markdown",
   "id": "452ef1c6-1190-4d7e-88d6-890c5e8605e2",
   "metadata": {},
   "source": [
    "### Semantic Similarity Eval"
   ]
  },
  {
   "cell_type": "code",
   "execution_count": 170,
   "id": "a53ca571-87a2-49af-9007-34a1b93ef297",
   "metadata": {
    "jupyter": {
     "source_hidden": true
    }
   },
   "outputs": [],
   "source": [
    "def match_gold_pred(gs, df_tool, id_col, ent_col, qid_col, matching, gold_set, fill_in_qids):\n",
    "    \n",
    "    id = []\n",
    "    tool_ent = []\n",
    "    gold_ent = []\n",
    "    q1_gold = []\n",
    "    q2_pred = []\n",
    "    \n",
    "    for index, gs_row in gs.iterrows():\n",
    "        gs_id, gs_entities, gs_qids = gs_row['id'], ast.literal_eval(gs_row['entity']), ast.literal_eval(gs_row['qid'])\n",
    "        # Remove gs ent/qid pairs for which there is the ent or qid is None\n",
    "        # fill_in_qids replaces qids of None to match the next qid in the extended set (always that of a more \"general\" entity), if there is one.\n",
    "        gs_entities, gs_qids = prune_gold_set(gs_entities, gs_qids, gold_set, fill_in_qids)\n",
    "        if len(gs_entities) == 0:\n",
    "            continue\n",
    "        \n",
    "        selected_rows = df_tool[df_tool[id_col] == gs_id][qid_col].dropna().index # select rows in df_tool which have same docid as gsid, and there is a QID for the entity in the row\n",
    "        tool_entities = [entity.upper() for entity in df_tool.loc[selected_rows][ent_col]] # get all the entities the tool generated for the gs_id entry\n",
    "        tool_qids = [qid for qid in df_tool.loc[selected_rows][qid_col]] # get all the entities the tool generated for the gs_id entry\n",
    "    \n",
    "        # Find matching gold standard and output entity-link pair if present\n",
    "        gs_match_idx, tool_match_idx = find_match(gs_entities, tool_entities, matching, gold_set)\n",
    "        if gs_match_idx == -1:\n",
    "            continue\n",
    "    \n",
    "        # Append to arrays as appropriate\n",
    "        id.append(gs_id)\n",
    "        gold_ent.append(gs_entities[gs_match_idx])\n",
    "        tool_ent.append(tool_entities[tool_match_idx])\n",
    "        q1_gold.append(gs_qids[gs_match_idx])\n",
    "        q2_pred.append(tool_qids[tool_match_idx])\n",
    "\n",
    "    return id, tool_ent, gold_ent, q1_gold, q2_pred"
   ]
  },
  {
   "cell_type": "code",
   "execution_count": 116,
   "id": "d0383305-0ea1-44ea-ac88-b98a1513022d",
   "metadata": {},
   "outputs": [],
   "source": [
    "#id, tool_ent, gold_ent, q1_gold, q2_pred = match_gold_pred(gold_df, result_df, 'c5_id','mentions','qids')"
   ]
  },
  {
   "cell_type": "code",
   "execution_count": 117,
   "id": "fc80a88e-f243-48a4-b377-764e711c9b43",
   "metadata": {
    "jupyter": {
     "source_hidden": true
    }
   },
   "outputs": [],
   "source": [
    "def make_temp(q1_gold, q2_pred):\n",
    "    temp = pd.DataFrame({'q1\\tq2':[f\"{q1_gold[i]}\\t{q2_pred[i]}\" for i in range(len(q1_gold))]})\n",
    "    temp.to_csv('temp.csv',index=False) # create file to feed to call_semantic_similarity()"
   ]
  },
  {
   "cell_type": "code",
   "execution_count": 104,
   "id": "28cc63d5-e1d5-4bf5-87e8-f6f9b8d69005",
   "metadata": {
    "jupyter": {
     "source_hidden": true
    }
   },
   "outputs": [],
   "source": [
    "def retrieve_score_vals(i, col, score_df, eval_df):\n",
    "    rows = score_df[(score_df['q1'] == eval_df['gold_qid'].iat[i]) & (score_df['q2'] == eval_df['pred_qid'].iat[i])]\n",
    "    output = list(rows[col])\n",
    "    if len(output) > 0:\n",
    "        return output[0]\n",
    "    else:\n",
    "        return None"
   ]
  },
  {
   "cell_type": "code",
   "execution_count": 128,
   "id": "9854bf15-7cd6-41e7-baab-0347ee1ad7ae",
   "metadata": {
    "jupyter": {
     "source_hidden": true
    }
   },
   "outputs": [],
   "source": [
    "def get_class_score(score_df, id, tool_ent, gold_ent, q1_gold, q2_pred):\n",
    "\n",
    "    # organize results\n",
    "    eval_df = pd.DataFrame({'id':id, 'pred_ent':tool_ent, 'gold_ent':gold_ent,'gold_qid':q1_gold,'pred_qid':q2_pred, 'gold_label':range(len(id)), 'pred_label':range(len(id)),'class':range(len(id)), 'jc':range(len(id))})\n",
    "    eval_df['gold_label'] = eval_df['gold_label'].apply(retrieve_score_vals, col='q1_label', score_df=score_df, eval_df=eval_df)\n",
    "    eval_df['pred_label'] = eval_df['pred_label'].apply(retrieve_score_vals, col='q2_label', score_df=score_df, eval_df=eval_df)\n",
    "    eval_df['class'] = eval_df['class'].apply(retrieve_score_vals, col='class', score_df=score_df, eval_df=eval_df)\n",
    "\n",
    "    # Get highest scoring gold_qid-pred_qid for each pred_ent\n",
    "\n",
    "    class_rows_to_keep = []\n",
    "    \n",
    "    for id in eval_df['id'].unique():\n",
    "        for ent in eval_df[eval_df['id']==id]['pred_ent'].unique():\n",
    "            rows = eval_df[(eval_df['id']==id) & (eval_df['pred_ent']==ent)]\n",
    "            \n",
    "            class_scores = [score for score in rows['class'] if score != None and score != \"\" and not(math.isnan(score))]\n",
    "            if len(class_scores) > 0:\n",
    "                idx = list(rows.index)[list(rows['class']).index(max(class_scores))]\n",
    "                class_rows_to_keep.append(idx)\n",
    "\n",
    "    class_score = eval_df.loc[class_rows_to_keep]['class'].dropna().mean()\n",
    "\n",
    "    return class_score"
   ]
  },
  {
   "cell_type": "code",
   "execution_count": 132,
   "id": "b6955fd9-9649-46a4-aaf7-9013f88355b9",
   "metadata": {
    "jupyter": {
     "source_hidden": true
    }
   },
   "outputs": [],
   "source": [
    "def get_jc_score(score_df, id, tool_ent, gold_ent, q1_gold, q2_pred):\n",
    "\n",
    "    # organize results\n",
    "    eval_df = pd.DataFrame({'id':id, 'pred_ent':tool_ent, 'gold_ent':gold_ent,'gold_qid':q1_gold,'pred_qid':q2_pred, 'gold_label':range(len(id)), 'pred_label':range(len(id)),'class':range(len(id)), 'jc':range(len(id))})\n",
    "    eval_df['gold_label'] = eval_df['gold_label'].apply(retrieve_score_vals, col='q1_label', score_df=score_df, eval_df=eval_df)\n",
    "    eval_df['pred_label'] = eval_df['pred_label'].apply(retrieve_score_vals, col='q2_label', score_df=score_df, eval_df=eval_df)\n",
    "    eval_df['jc'] = eval_df['jc'].apply(retrieve_score_vals, col='jc', score_df=score_df, eval_df=eval_df)\n",
    "\n",
    "    # Get highest scoring gold_qid-pred_qid for each pred_ent\n",
    "\n",
    "    jc_rows_to_keep = []\n",
    "\n",
    "    for id in eval_df['id'].unique():\n",
    "        for ent in eval_df[eval_df['id']==id]['pred_ent'].unique():\n",
    "            rows = eval_df[(eval_df['id']==id) & (eval_df['pred_ent']==ent)]\n",
    "            \n",
    "            jc_scores = [score for score in rows['jc'] if score != None and score != \"\" and not(math.isnan(score))]\n",
    "            if len(jc_scores) > 0:\n",
    "                idx = list(rows.index)[list(rows['jc']).index(max(jc_scores))]\n",
    "                jc_rows_to_keep.append(idx)\n",
    "\n",
    "    jc_score = eval_df.loc[jc_rows_to_keep]['jc'].dropna().mean()\n",
    "\n",
    "    return jc_score"
   ]
  },
  {
   "cell_type": "code",
   "execution_count": 157,
   "id": "e3763999-300b-4c92-87a9-1321fb6af633",
   "metadata": {
    "jupyter": {
     "source_hidden": true
    }
   },
   "outputs": [],
   "source": [
    "def calculate_class_jc(gold_df, result_df, id_col, ent_col, qid_col, matching=\"STRONG\",gold_set=\"PRIMARY\",fill_in_qids=False, url='https://kgtk.isi.edu/similarity_api'):\n",
    "    \n",
    "    # Get all entity-link pair candidates for evaluation\n",
    "    id, tool_ent, gold_ent, q1_gold, q2_pred = match_gold_pred(gold_df, result_df, id_col,ent_col,qid_col, matching, gold_set, fill_in_qids)\n",
    "    \n",
    "    # Call API\n",
    "    make_temp(q1_gold, q2_pred)\n",
    "    score_df = call_semantic_similarity('temp.csv', url)\n",
    "    os.remove('temp.csv')\n",
    "    \n",
    "    # Get Scores\n",
    "    class_score = get_class_score(score_df, id, tool_ent, gold_ent, q1_gold, q2_pred)\n",
    "    jc_score = get_jc_score(score_df, id, tool_ent, gold_ent, q1_gold, q2_pred)\n",
    "\n",
    "    return class_score, jc_score"
   ]
  },
  {
   "cell_type": "code",
   "execution_count": 126,
   "id": "897a9610-3e09-4fb1-986e-36c467f393a4",
   "metadata": {},
   "outputs": [],
   "source": [
    "#id, tool_ent, gold_ent, q1_gold, q2_pred = match_gold_pred(gold_df, result_df, 'c5_id','mentions','qids')\n",
    "#make_temp(q1_gold, q2_pred)\n",
    "#score_df = call_semantic_similarity('temp.csv', 'https://kgtk.isi.edu/similarity_api')\n",
    "#score_df"
   ]
  },
  {
   "cell_type": "code",
   "execution_count": 208,
   "id": "c629c525-9bb6-4a99-af7a-4bd362736657",
   "metadata": {},
   "outputs": [
    {
     "data": {
      "text/plain": [
       "(0.113201797375, 0.2440078905)"
      ]
     },
     "execution_count": 208,
     "metadata": {},
     "output_type": "execute_result"
    }
   ],
   "source": [
    "calculate_class_jc(gold_df, result_df, 'c5_unique_id','entities','ids', matching=\"STRONG\",gold_set=\"PRIMARY\",fill_in_qids=False)"
   ]
  },
  {
   "cell_type": "code",
   "execution_count": null,
   "id": "60266c11-70ff-416e-b2cc-3032ff5b1430",
   "metadata": {},
   "outputs": [],
   "source": []
  }
 ],
 "metadata": {
  "kernelspec": {
   "display_name": "Python 3 (ipykernel)",
   "language": "python",
   "name": "python3"
  },
  "language_info": {
   "codemirror_mode": {
    "name": "ipython",
    "version": 3
   },
   "file_extension": ".py",
   "mimetype": "text/x-python",
   "name": "python",
   "nbconvert_exporter": "python",
   "pygments_lexer": "ipython3",
   "version": "3.11.5"
  }
 },
 "nbformat": 4,
 "nbformat_minor": 5
}
