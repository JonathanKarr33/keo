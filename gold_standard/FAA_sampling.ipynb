{
 "cells": [
  {
   "cell_type": "markdown",
   "id": "d4292efe-dfc4-49a3-ab48-701dd2f793e7",
   "metadata": {},
   "source": [
    "### FAA_sampling\n",
    "\n",
    "Takes a sample of 100 random records from the FAA data to use when evaluating correctness"
   ]
  },
  {
   "cell_type": "code",
   "execution_count": 1,
   "id": "89d0809b-749f-4cc4-8bfd-2f4d8cf8e4e8",
   "metadata": {},
   "outputs": [],
   "source": [
    "import pandas as pd\n",
    "from random import sample"
   ]
  },
  {
   "cell_type": "code",
   "execution_count": 2,
   "id": "ea4899f1-eba9-4d52-9f63-4e6b29bd354b",
   "metadata": {},
   "outputs": [],
   "source": [
    "#Use the following 100 indices that were taken as a random sample of FAA sentences\n",
    "indices = [2318, 354, 284, 817, 1024, 2335, 467, 856, 2685, 1457, 2331, 642, 1728, 2064, 1867, 1773, 1006, 289, 2352, 1045, 656, 514, 2212, 1494, 2600, 1037, 750, 1875, 2243, 1967, 229, 891, 144, 178, 1211, 2210, 1135, 2592, 2598, 1393, 2030, 2051, 160, 8, 2630, 1693, 495, 2299, 1772, 1612, 795, 1887, 896, 1117, 2406, 1970, 1297, 2429, 1240, 2160, 1534, 111, 384, 334, 2650, 1846, 410, 74, 1406, 1583, 2494, 466, 165, 1882, 2544, 85, 2676, 155, 2642, 2566, 2264, 1151, 2458, 1940, 914, 1724, 50, 2403, 1263, 2099, 2218, 2296, 1920, 2334, 1033, 1311, 2245, 2045, 1210, 2488]"
   ]
  },
  {
   "cell_type": "code",
   "execution_count": 20,
   "id": "0cadd9c8-b894-43f5-b92c-86ba52813d34",
   "metadata": {},
   "outputs": [],
   "source": [
    "data = pd.read_csv('../data/FAA_data/Maintenance_Text_data_nona.csv')"
   ]
  },
  {
   "cell_type": "code",
   "execution_count": 32,
   "id": "32782fe5-4091-42c1-962c-92349606d45a",
   "metadata": {},
   "outputs": [],
   "source": [
    "data.drop(columns=['Unnamed: 0.1', 'Unnamed: 0'], inplace=True)"
   ]
  },
  {
   "cell_type": "code",
   "execution_count": 33,
   "id": "296077fe-56af-492a-b177-8b80b54eea75",
   "metadata": {},
   "outputs": [],
   "source": [
    "data.iloc[indices].to_csv(\"./FAA_gold_100sample.csv\")"
   ]
  }
 ],
 "metadata": {
  "kernelspec": {
   "display_name": "Python 3 (ipykernel)",
   "language": "python",
   "name": "python3"
  },
  "language_info": {
   "codemirror_mode": {
    "name": "ipython",
    "version": 3
   },
   "file_extension": ".py",
   "mimetype": "text/x-python",
   "name": "python",
   "nbconvert_exporter": "python",
   "pygments_lexer": "ipython3",
   "version": "3.11.5"
  }
 },
 "nbformat": 4,
 "nbformat_minor": 5
}
