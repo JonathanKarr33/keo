{
 "cells": [
  {
   "cell_type": "code",
   "execution_count": 3,
   "id": "d2ac1574-0ed3-4180-84ea-540c0bf4656b",
   "metadata": {},
   "outputs": [],
   "source": [
    "import pandas as pd"
   ]
  },
  {
   "cell_type": "code",
   "execution_count": 4,
   "id": "2c3c3390-2523-49b8-b014-c97cec5482a7",
   "metadata": {},
   "outputs": [],
   "source": [
    "sample = pd.read_csv(\"../sampling/FAA_sample_100.csv\")"
   ]
  },
  {
   "cell_type": "markdown",
   "id": "056db9b8-1965-4465-a6c0-31a32ca2487a",
   "metadata": {},
   "source": [
    "### 1. Coreference Resolution:"
   ]
  },
  {
   "cell_type": "code",
   "execution_count": 5,
   "id": "159e4ec0-b201-4f77-9868-05967940f03f",
   "metadata": {},
   "outputs": [],
   "source": [
    "coref = pd.DataFrame({'index':list(sample['Unnamed: 0']), 'c5_unique_id':list(sample['c5']), 'c119_text':list(sample['c119']), 'coreferences':['']*100})"
   ]
  },
  {
   "cell_type": "code",
   "execution_count": 6,
   "id": "6cd83a9c-8f28-44b2-9251-c056d3bd2263",
   "metadata": {},
   "outputs": [],
   "source": [
    "coref.to_excel('coref_gold.xlsx', index=False)"
   ]
  },
  {
   "cell_type": "markdown",
   "id": "6445896f-104e-4074-879d-e2a4103cd356",
   "metadata": {},
   "source": [
    "### 2. Named Entity Linking"
   ]
  },
  {
   "cell_type": "code",
   "execution_count": 7,
   "id": "edb5175e-216f-4f76-9fa1-b4efd9dfc570",
   "metadata": {},
   "outputs": [],
   "source": [
    "nel_dict = {'index':[], 'c5_unique_id':[], 'c119_text':[], 'spacy_ner_recd_ents':[], 'qids':[]}"
   ]
  },
  {
   "cell_type": "code",
   "execution_count": 10,
   "id": "0a84d5e5-dc07-4367-8e10-39338d3a84d6",
   "metadata": {},
   "outputs": [],
   "source": [
    "## First need to perform NER through spacy, to establish standard entities"
   ]
  },
  {
   "cell_type": "code",
   "execution_count": 8,
   "id": "15f26363-c900-449b-8c8a-edcd8ae1f0b0",
   "metadata": {},
   "outputs": [
    {
     "name": "stdout",
     "output_type": "stream",
     "text": [
      "Defaulting to user installation because normal site-packages is not writeable\n",
      "Collecting en-core-web-sm==3.7.1\n",
      "  Downloading https://github.com/explosion/spacy-models/releases/download/en_core_web_sm-3.7.1/en_core_web_sm-3.7.1-py3-none-any.whl (12.8 MB)\n",
      "\u001b[2K     \u001b[90m━━━━━━━━━━━━━━━━━━━━━━━━━━━━━━━━━━━━━━━━\u001b[0m \u001b[32m12.8/12.8 MB\u001b[0m \u001b[31m29.7 MB/s\u001b[0m eta \u001b[36m0:00:00\u001b[0m00:01\u001b[0m0:01\u001b[0m\n",
      "\u001b[?25hRequirement already satisfied: spacy<3.8.0,>=3.7.2 in /afs/crc.nd.edu/user/k/kmealey2/.local/lib/python3.11/site-packages (from en-core-web-sm==3.7.1) (3.7.2)\n",
      "Requirement already satisfied: spacy-legacy<3.1.0,>=3.0.11 in /afs/crc.nd.edu/user/k/kmealey2/.local/lib/python3.11/site-packages (from spacy<3.8.0,>=3.7.2->en-core-web-sm==3.7.1) (3.0.12)\n",
      "Requirement already satisfied: spacy-loggers<2.0.0,>=1.0.0 in /afs/crc.nd.edu/user/k/kmealey2/.local/lib/python3.11/site-packages (from spacy<3.8.0,>=3.7.2->en-core-web-sm==3.7.1) (1.0.5)\n",
      "Requirement already satisfied: murmurhash<1.1.0,>=0.28.0 in /afs/crc.nd.edu/user/k/kmealey2/.local/lib/python3.11/site-packages (from spacy<3.8.0,>=3.7.2->en-core-web-sm==3.7.1) (1.0.10)\n",
      "Requirement already satisfied: cymem<2.1.0,>=2.0.2 in /afs/crc.nd.edu/user/k/kmealey2/.local/lib/python3.11/site-packages (from spacy<3.8.0,>=3.7.2->en-core-web-sm==3.7.1) (2.0.8)\n",
      "Requirement already satisfied: preshed<3.1.0,>=3.0.2 in /afs/crc.nd.edu/user/k/kmealey2/.local/lib/python3.11/site-packages (from spacy<3.8.0,>=3.7.2->en-core-web-sm==3.7.1) (3.0.9)\n",
      "Requirement already satisfied: thinc<8.3.0,>=8.1.8 in /afs/crc.nd.edu/user/k/kmealey2/.local/lib/python3.11/site-packages (from spacy<3.8.0,>=3.7.2->en-core-web-sm==3.7.1) (8.2.3)\n",
      "Requirement already satisfied: wasabi<1.2.0,>=0.9.1 in /afs/crc.nd.edu/user/k/kmealey2/.local/lib/python3.11/site-packages (from spacy<3.8.0,>=3.7.2->en-core-web-sm==3.7.1) (1.1.2)\n",
      "Requirement already satisfied: srsly<3.0.0,>=2.4.3 in /afs/crc.nd.edu/user/k/kmealey2/.local/lib/python3.11/site-packages (from spacy<3.8.0,>=3.7.2->en-core-web-sm==3.7.1) (2.4.8)\n",
      "Requirement already satisfied: catalogue<2.1.0,>=2.0.6 in /afs/crc.nd.edu/user/k/kmealey2/.local/lib/python3.11/site-packages (from spacy<3.8.0,>=3.7.2->en-core-web-sm==3.7.1) (2.0.10)\n",
      "Requirement already satisfied: weasel<0.4.0,>=0.1.0 in /afs/crc.nd.edu/user/k/kmealey2/.local/lib/python3.11/site-packages (from spacy<3.8.0,>=3.7.2->en-core-web-sm==3.7.1) (0.3.4)\n",
      "Requirement already satisfied: typer<0.10.0,>=0.3.0 in /afs/crc.nd.edu/user/k/kmealey2/.local/lib/python3.11/site-packages (from spacy<3.8.0,>=3.7.2->en-core-web-sm==3.7.1) (0.9.0)\n",
      "Requirement already satisfied: smart-open<7.0.0,>=5.2.1 in /opt/anaconda3/lib/python3.11/site-packages (from spacy<3.8.0,>=3.7.2->en-core-web-sm==3.7.1) (5.2.1)\n",
      "Requirement already satisfied: tqdm<5.0.0,>=4.38.0 in /opt/anaconda3/lib/python3.11/site-packages (from spacy<3.8.0,>=3.7.2->en-core-web-sm==3.7.1) (4.65.0)\n",
      "Requirement already satisfied: requests<3.0.0,>=2.13.0 in /opt/anaconda3/lib/python3.11/site-packages (from spacy<3.8.0,>=3.7.2->en-core-web-sm==3.7.1) (2.31.0)\n",
      "Requirement already satisfied: pydantic!=1.8,!=1.8.1,<3.0.0,>=1.7.4 in /opt/anaconda3/lib/python3.11/site-packages (from spacy<3.8.0,>=3.7.2->en-core-web-sm==3.7.1) (1.10.8)\n",
      "Requirement already satisfied: jinja2 in /opt/anaconda3/lib/python3.11/site-packages (from spacy<3.8.0,>=3.7.2->en-core-web-sm==3.7.1) (3.1.2)\n",
      "Requirement already satisfied: setuptools in /opt/anaconda3/lib/python3.11/site-packages (from spacy<3.8.0,>=3.7.2->en-core-web-sm==3.7.1) (68.2.2)\n",
      "Requirement already satisfied: packaging>=20.0 in /opt/anaconda3/lib/python3.11/site-packages (from spacy<3.8.0,>=3.7.2->en-core-web-sm==3.7.1) (23.1)\n",
      "Requirement already satisfied: langcodes<4.0.0,>=3.2.0 in /afs/crc.nd.edu/user/k/kmealey2/.local/lib/python3.11/site-packages (from spacy<3.8.0,>=3.7.2->en-core-web-sm==3.7.1) (3.3.0)\n",
      "Requirement already satisfied: numpy>=1.19.0 in /opt/anaconda3/lib/python3.11/site-packages (from spacy<3.8.0,>=3.7.2->en-core-web-sm==3.7.1) (1.23.5)\n",
      "Requirement already satisfied: typing-extensions>=4.2.0 in /opt/anaconda3/lib/python3.11/site-packages (from pydantic!=1.8,!=1.8.1,<3.0.0,>=1.7.4->spacy<3.8.0,>=3.7.2->en-core-web-sm==3.7.1) (4.7.1)\n",
      "Requirement already satisfied: charset-normalizer<4,>=2 in /opt/anaconda3/lib/python3.11/site-packages (from requests<3.0.0,>=2.13.0->spacy<3.8.0,>=3.7.2->en-core-web-sm==3.7.1) (2.0.4)\n",
      "Requirement already satisfied: idna<4,>=2.5 in /opt/anaconda3/lib/python3.11/site-packages (from requests<3.0.0,>=2.13.0->spacy<3.8.0,>=3.7.2->en-core-web-sm==3.7.1) (3.4)\n",
      "Requirement already satisfied: urllib3<3,>=1.21.1 in /opt/anaconda3/lib/python3.11/site-packages (from requests<3.0.0,>=2.13.0->spacy<3.8.0,>=3.7.2->en-core-web-sm==3.7.1) (1.26.18)\n",
      "Requirement already satisfied: certifi>=2017.4.17 in /opt/anaconda3/lib/python3.11/site-packages (from requests<3.0.0,>=2.13.0->spacy<3.8.0,>=3.7.2->en-core-web-sm==3.7.1) (2023.11.17)\n",
      "Requirement already satisfied: blis<0.8.0,>=0.7.8 in /afs/crc.nd.edu/user/k/kmealey2/.local/lib/python3.11/site-packages (from thinc<8.3.0,>=8.1.8->spacy<3.8.0,>=3.7.2->en-core-web-sm==3.7.1) (0.7.11)\n",
      "Requirement already satisfied: confection<1.0.0,>=0.0.1 in /afs/crc.nd.edu/user/k/kmealey2/.local/lib/python3.11/site-packages (from thinc<8.3.0,>=8.1.8->spacy<3.8.0,>=3.7.2->en-core-web-sm==3.7.1) (0.1.4)\n",
      "Requirement already satisfied: click<9.0.0,>=7.1.1 in /opt/anaconda3/lib/python3.11/site-packages (from typer<0.10.0,>=0.3.0->spacy<3.8.0,>=3.7.2->en-core-web-sm==3.7.1) (8.0.4)\n",
      "Requirement already satisfied: cloudpathlib<0.17.0,>=0.7.0 in /afs/crc.nd.edu/user/k/kmealey2/.local/lib/python3.11/site-packages (from weasel<0.4.0,>=0.1.0->spacy<3.8.0,>=3.7.2->en-core-web-sm==3.7.1) (0.16.0)\n",
      "Requirement already satisfied: MarkupSafe>=2.0 in /opt/anaconda3/lib/python3.11/site-packages (from jinja2->spacy<3.8.0,>=3.7.2->en-core-web-sm==3.7.1) (2.1.1)\n",
      "\u001b[38;5;2m✔ Download and installation successful\u001b[0m\n",
      "You can now load the package via spacy.load('en_core_web_sm')\n"
     ]
    }
   ],
   "source": [
    "!python -m spacy download en_core_web_sm"
   ]
  },
  {
   "cell_type": "code",
   "execution_count": 9,
   "id": "ee6406b0-44dd-4cde-b28f-2dd38e737333",
   "metadata": {},
   "outputs": [],
   "source": [
    "import spacy\n",
    "nlp = spacy.load(\"en_core_web_sm\")"
   ]
  },
  {
   "cell_type": "code",
   "execution_count": 10,
   "id": "95e58900-5fc9-416d-bb0b-27009212ddb3",
   "metadata": {},
   "outputs": [],
   "source": [
    "for index in range(len(sample)):\n",
    "    text = sample['c119'][index]\n",
    "    ents = nlp(text).ents\n",
    "    if len(ents) == 0:\n",
    "        ents = (\"\")     # still want to create an entry in the final sheet, but leave entity column empty\n",
    "    for ent in ents:\n",
    "        nel_dict['index'].append(sample['Unnamed: 0'][index])\n",
    "        nel_dict['c5_unique_id'].append(sample['c5'][index])\n",
    "        nel_dict['c119_text'].append(sample['c119'][index])\n",
    "        nel_dict['spacy_ner_recd_ents'].append(ent.text)\n",
    "        nel_dict['qids'].append('')"
   ]
  },
  {
   "cell_type": "code",
   "execution_count": 11,
   "id": "13f62c32-0f4d-4a62-8261-5936f9e44a30",
   "metadata": {},
   "outputs": [],
   "source": [
    "pd.DataFrame(nel_dict).to_excel('nel_gold.xlsx', index=False)"
   ]
  },
  {
   "cell_type": "markdown",
   "id": "f8c104e0-c447-4f5e-9889-f92a67c36e0f",
   "metadata": {},
   "source": [
    "### 3. Relation Extraction"
   ]
  },
  {
   "cell_type": "code",
   "execution_count": 31,
   "id": "46721bb9-74e6-469b-86ab-01a581582f39",
   "metadata": {},
   "outputs": [],
   "source": [
    "# Also use spacy recd ents to guide which entities are chosen for relation extraction"
   ]
  },
  {
   "cell_type": "code",
   "execution_count": 37,
   "id": "ac5c40e0-90fc-4c9b-b985-ce9601929d2e",
   "metadata": {},
   "outputs": [],
   "source": [
    "re_dict = {'index':[], 'c5_unique_id':[], 'c119_text':[], 'spacy_ner_recd_ents':[], 'relations':[]}"
   ]
  },
  {
   "cell_type": "code",
   "execution_count": 38,
   "id": "88805376-cb86-4aaf-b352-562a0b0a0d8f",
   "metadata": {},
   "outputs": [],
   "source": [
    "for index in range(len(sample)):\n",
    "    text = sample['c119'][index]\n",
    "    ents = nlp(text).ents\n",
    "    re_dict['index'].append(sample['Unnamed: 0'][index])\n",
    "    re_dict['c5_unique_id'].append(sample['c5'][index])\n",
    "    re_dict['c119_text'].append(sample['c119'][index])\n",
    "    re_dict['spacy_ner_recd_ents'].append([ent.text for ent in ents])\n",
    "    re_dict['relations'].append('')"
   ]
  },
  {
   "cell_type": "code",
   "execution_count": 39,
   "id": "483971c9-0d6c-42c7-be38-f4e977cf05e6",
   "metadata": {},
   "outputs": [],
   "source": [
    "pd.DataFrame(re_dict).to_excel('re_gold.xlsx', index=False)"
   ]
  }
 ],
 "metadata": {
  "kernelspec": {
   "display_name": "Python 3 (ipykernel)",
   "language": "python",
   "name": "python3"
  },
  "language_info": {
   "codemirror_mode": {
    "name": "ipython",
    "version": 3
   },
   "file_extension": ".py",
   "mimetype": "text/x-python",
   "name": "python",
   "nbconvert_exporter": "python",
   "pygments_lexer": "ipython3",
   "version": "3.11.5"
  }
 },
 "nbformat": 4,
 "nbformat_minor": 5
}
