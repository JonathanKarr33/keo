{
 "cells": [
  {
   "cell_type": "code",
   "execution_count": 3,
   "id": "d2ac1574-0ed3-4180-84ea-540c0bf4656b",
   "metadata": {},
   "outputs": [],
   "source": [
    "import pandas as pd"
   ]
  },
  {
   "cell_type": "code",
   "execution_count": 5,
   "id": "2c3c3390-2523-49b8-b014-c97cec5482a7",
   "metadata": {},
   "outputs": [],
   "source": [
    "sample = pd.read_csv(\"../../data/sampling/FAA_sample_100.csv\")"
   ]
  },
  {
   "cell_type": "markdown",
   "id": "056db9b8-1965-4465-a6c0-31a32ca2487a",
   "metadata": {},
   "source": [
    "### 1. Coreference Resolution:"
   ]
  },
  {
   "cell_type": "code",
   "execution_count": 5,
   "id": "159e4ec0-b201-4f77-9868-05967940f03f",
   "metadata": {},
   "outputs": [],
   "source": [
    "coref = pd.DataFrame({'index':list(sample['Unnamed: 0']), 'c5_unique_id':list(sample['c5']), 'c119_text':list(sample['c119']), 'coreferences':['']*100})"
   ]
  },
  {
   "cell_type": "code",
   "execution_count": 6,
   "id": "6cd83a9c-8f28-44b2-9251-c056d3bd2263",
   "metadata": {},
   "outputs": [],
   "source": [
    "coref.to_excel('coref_gold.xlsx', index=False)"
   ]
  },
  {
   "cell_type": "markdown",
   "id": "6445896f-104e-4074-879d-e2a4103cd356",
   "metadata": {},
   "source": [
    "### 2. Named Entity Linking"
   ]
  },
  {
   "cell_type": "code",
   "execution_count": 6,
   "id": "edb5175e-216f-4f76-9fa1-b4efd9dfc570",
   "metadata": {},
   "outputs": [],
   "source": [
    "nel_dict = {'index':[], 'c5_unique_id':[], 'c119_text':[], 'spacy_ner_recd_ents':[], 'qids':[]}"
   ]
  },
  {
   "cell_type": "code",
   "execution_count": 12,
   "id": "e01da1c4-9c31-4805-837a-26ca09a5a596",
   "metadata": {},
   "outputs": [
    {
     "name": "stdout",
     "output_type": "stream",
     "text": [
      "['ACFT', 'DITCH', 'TREE', 'LOST CONTROL']\n"
     ]
    }
   ],
   "source": [
    "# load named entities and divide\n",
    "ner_gold = pd.read_excel(\"./ner_gold.xlsx\")\n",
    "\n",
    "for index in range(len(ner_gold)):\n",
    "    entities = [ent.strip() for ent in ner_gold[\"Entities\"].iat[index].split(';')]\n",
    "    for ent in entities:\n",
    "        nel_dict['index'].append(ner_gold['index'].iat[index])\n",
    "        nel_dict['c5_unique_id'].append(ner_gold['c5_unique_id'].iat[index])\n",
    "        nel_dict['c119_text'].append(ner_gold['c119_text'].iat[index])\n",
    "        ne"
   ]
  },
  {
   "cell_type": "code",
   "execution_count": 11,
   "id": "13f62c32-0f4d-4a62-8261-5936f9e44a30",
   "metadata": {},
   "outputs": [],
   "source": [
    "pd.DataFrame(nel_dict).to_excel('nel_gold.xlsx', index=False)"
   ]
  },
  {
   "cell_type": "markdown",
   "id": "f8c104e0-c447-4f5e-9889-f92a67c36e0f",
   "metadata": {},
   "source": [
    "### 3. Relation Extraction"
   ]
  },
  {
   "cell_type": "code",
   "execution_count": 31,
   "id": "46721bb9-74e6-469b-86ab-01a581582f39",
   "metadata": {},
   "outputs": [],
   "source": [
    "# Also use spacy recd ents to guide which entities are chosen for relation extraction"
   ]
  },
  {
   "cell_type": "code",
   "execution_count": 37,
   "id": "ac5c40e0-90fc-4c9b-b985-ce9601929d2e",
   "metadata": {},
   "outputs": [],
   "source": [
    "re_dict = {'index':[], 'c5_unique_id':[], 'c119_text':[], 'spacy_ner_recd_ents':[], 'relations':[]}"
   ]
  },
  {
   "cell_type": "code",
   "execution_count": 38,
   "id": "88805376-cb86-4aaf-b352-562a0b0a0d8f",
   "metadata": {},
   "outputs": [],
   "source": [
    "for index in range(len(sample)):\n",
    "    text = sample['c119'][index]\n",
    "    ents = nlp(text).ents\n",
    "    re_dict['index'].append(sample['Unnamed: 0'][index])\n",
    "    re_dict['c5_unique_id'].append(sample['c5'][index])\n",
    "    re_dict['c119_text'].append(sample['c119'][index])\n",
    "    re_dict['spacy_ner_recd_ents'].append([ent.text for ent in ents])\n",
    "    re_dict['relations'].append('')"
   ]
  },
  {
   "cell_type": "code",
   "execution_count": 39,
   "id": "483971c9-0d6c-42c7-be38-f4e977cf05e6",
   "metadata": {},
   "outputs": [],
   "source": [
    "pd.DataFrame(re_dict).to_excel('re_gold.xlsx', index=False)"
   ]
  }
 ],
 "metadata": {
  "kernelspec": {
   "display_name": "Python 3 (ipykernel)",
   "language": "python",
   "name": "python3"
  },
  "language_info": {
   "codemirror_mode": {
    "name": "ipython",
    "version": 3
   },
   "file_extension": ".py",
   "mimetype": "text/x-python",
   "name": "python",
   "nbconvert_exporter": "python",
   "pygments_lexer": "ipython3",
   "version": "3.11.5"
  }
 },
 "nbformat": 4,
 "nbformat_minor": 5
}
