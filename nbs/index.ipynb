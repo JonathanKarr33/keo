{
 "cells": [
  {
   "cell_type": "code",
   "execution_count": null,
   "metadata": {},
   "outputs": [],
   "source": [
    "#| hide\n",
    "import sys\n",
    "sys.path.append('..')\n",
    "from trusted_ke.core import *"
   ]
  },
  {
   "cell_type": "markdown",
   "metadata": {},
   "source": [
    "\n",
    "# Trusted Knowledge Extraction"
   ]
  },
  {
   "cell_type": "markdown",
   "metadata": {},
   "source": [
    "Welcome to the introduction page for the paper *Trusted Knowledge Extraction*. The full paper is available on [arXiv](https://arxiv.org/abs/210436.04533).\n",
    "\n",
    "In this section, we provide a brief summary of the paper and introduce the code and data used in the research. Additionally, we present the evaluation methods across the following pages:\n",
    "\n",
    "- [NEL](nel_eval.ipynb)\n",
    "- [NER](nel_eval.ipynb)\n",
    "- [RE](re_eval.ipynb)\n",
    "- [CR](#)\n",
    "  \n",
    "\n",
    "## `trusted_ke` Package\n",
    "\n",
    "We built a Python package to the Trusted knowledge Extraction paper called `trusted_ke`."
   ]
  },
  {
   "cell_type": "markdown",
   "metadata": {},
   "source": [
    "### Install"
   ]
  },
  {
   "cell_type": "markdown",
   "metadata": {},
   "source": [
    "```sh\n",
    "pip install trusted_ke\n",
    "```"
   ]
  },
  {
   "cell_type": "markdown",
   "metadata": {},
   "source": [
    "### How to use"
   ]
  },
  {
   "cell_type": "markdown",
   "metadata": {},
   "source": [
    "Add here code examples:"
   ]
  },
  {
   "cell_type": "code",
   "execution_count": null,
   "metadata": {},
   "outputs": [
    {
     "data": {
      "text/plain": [
       "2"
      ]
     },
     "execution_count": null,
     "metadata": {},
     "output_type": "execute_result"
    }
   ],
   "source": [
    "1+1"
   ]
  },
  {
   "cell_type": "code",
   "execution_count": null,
   "metadata": {},
   "outputs": [],
   "source": []
  }
 ],
 "metadata": {
  "kernelspec": {
   "display_name": "python3",
   "language": "python",
   "name": "python3"
  }
 },
 "nbformat": 4,
 "nbformat_minor": 4
}
