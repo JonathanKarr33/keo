{
 "cells": [
  {
   "cell_type": "markdown",
   "metadata": {},
   "source": [
    "# core\n",
    "\n",
    "> Fill in a module description here"
   ]
  },
  {
   "cell_type": "code",
   "execution_count": null,
   "metadata": {},
   "outputs": [],
   "source": [
    "#| default_exp core"
   ]
  },
  {
   "cell_type": "code",
   "execution_count": null,
   "metadata": {},
   "outputs": [],
   "source": [
    "#| hide\n",
    "from nbdev.showdoc import *\n",
    "import requests\n",
    "from dotenv import load_dotenv"
   ]
  },
  {
   "cell_type": "code",
   "execution_count": null,
   "metadata": {},
   "outputs": [],
   "source": [
    "#| export\n",
    "def search_wikidata_properties_by_name_and_aliases(search_term):\n",
    "    \"\"\"\n",
    "    Search Wikidata properties by their name or aliases using a SPARQL query.\n",
    "    \n",
    "    This function queries the Wikidata SPARQL endpoint to find properties that match a given search term by their name or aliases.\n",
    "    It returns a limited set of results that include the property ID, label, description, and aliases.\n",
    "    \n",
    "    Parameters:\n",
    "    - search_term: A string containing the term to search for in the property names and aliases.\n",
    "    \n",
    "    Returns:\n",
    "    A list of found properties with their ID, label, description, and aliases. If no properties are found or an error occurs, a message is printed.\n",
    "    \"\"\"\n",
    "    \n",
    "    # Define the SPARQL query. The query searches for properties matching the search term in their labels or aliases.\n",
    "    query = f'''\n",
    "    SELECT DISTINCT ?property ?propertyLabel ?propertyDescription (GROUP_CONCAT(DISTINCT ?alias;separator=\", \") AS ?aliases)\n",
    "    WHERE {{\n",
    "      ?property a wikibase:Property .\n",
    "      {{?property rdfs:label ?label FILTER (LANG(?label) = \"en\").}}\n",
    "      OPTIONAL {{?property skos:altLabel ?alias FILTER (LANG(?alias) = \"en\").}}\n",
    "      FILTER(CONTAINS(LCASE(?label), LCASE(\"{search_term}\")) || CONTAINS(LCASE(?alias), LCASE(\"{search_term}\"))).\n",
    "      SERVICE wikibase:label {{ bd:serviceParam wikibase:language \"en\". }}\n",
    "    }}\n",
    "    GROUP BY ?property ?propertyLabel ?propertyDescription\n",
    "    LIMIT 5\n",
    "    '''\n",
    "\n",
    "    # Set up the request to the Wikidata SPARQL endpoint.\n",
    "    url = 'https://query.wikidata.org/sparql'\n",
    "    headers = {'User-Agent': 'Mozilla/5.0', 'Accept': 'application/sparql-results+json'}\n",
    "    \n",
    "    # Perform the GET request with the query.\n",
    "    response = requests.get(url, headers=headers, params={'query': query, 'format': 'json'})\n",
    "    \n",
    "    # Process the response.\n",
    "    if response.status_code == 200:\n",
    "        # Parse the JSON response and extract the relevant data.\n",
    "        results = response.json().get('results', {}).get('bindings', [])\n",
    "        for result in results:\n",
    "            # Extract and print details for each property.\n",
    "            print(f\"Property ID: {result.get('property', {}).get('value', 'N/A').split('/')[-1]}\")  # Extracting ID from URI\n",
    "            print(f\"Label: {result.get('propertyLabel', {}).get('value', 'N/A')}\")\n",
    "            print(f\"Description: {result.get('propertyDescription', {}).get('value', 'N/A')}\")\n",
    "            aliases = result.get('aliases', {}).get('value', 'N/A')\n",
    "            print(f\"Aliases: {aliases if aliases else 'None'}\")\n",
    "            print('---')\n",
    "    else:\n",
    "        # Print an error message if the request was unsuccessful.\n",
    "        print(\"Failed to retrieve data\")\n"
   ]
  },
  {
   "cell_type": "markdown",
   "metadata": {},
   "source": [
    "Example usage of the `search_wikidata_properties_by_name_and_aliases` function"
   ]
  },
  {
   "cell_type": "code",
   "execution_count": null,
   "metadata": {},
   "outputs": [
    {
     "name": "stdout",
     "output_type": "stream",
     "text": [
      "Property ID: P2176\n",
      "Label: drug or therapy used for treatment\n",
      "Description: drug, procedure, or therapy that can be used to treat a medical condition\n",
      "Aliases: used for treatment, treated by, prescribed drug, cure, prescription, treatment\n",
      "---\n",
      "Property ID: P366\n",
      "Label: has use\n",
      "Description: main use of the subject (includes current and former usage)\n",
      "Aliases: can be used for, used for\n",
      "---\n",
      "Property ID: P4970\n",
      "Label: alternative name\n",
      "Description: qualifier for alternative name(s), given for a subject in a database entry, or preserved in references (even these are no longer the preferred name)\n",
      "Aliases: used for term, used for, unused form\n",
      "---\n",
      "Property ID: P642\n",
      "Label: of\n",
      "Description: (This property is being deprecated, see details at WD:P642) qualifier stating that a statement applies within the scope of a particular item\n",
      "Aliases: used for\n",
      "---\n",
      "Property ID: P6530\n",
      "Label: has role in modeling\n",
      "Description: relation between a research artefact and an entity that is used to study, in virtue of its replicating or approximating features of the studied entity\n",
      "Aliases: used for studying, used for researching, used for investigating\n",
      "---\n"
     ]
    }
   ],
   "source": [
    "search_term = \"used for\"  # Example search term, to find properties related to \"population\"\n",
    "search_wikidata_properties_by_name_and_aliases(search_term)"
   ]
  },
  {
   "cell_type": "code",
   "execution_count": null,
   "metadata": {},
   "outputs": [],
   "source": [
    "#| hide\n",
    "import nbdev; nbdev.nbdev_export()"
   ]
  }
 ],
 "metadata": {
  "kernelspec": {
   "display_name": "python3",
   "language": "python",
   "name": "python3"
  }
 },
 "nbformat": 4,
 "nbformat_minor": 4
}
