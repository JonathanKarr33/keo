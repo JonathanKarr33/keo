{
 "cells": [
  {
   "cell_type": "markdown",
   "metadata": {},
   "source": [
    "# Core Functions\n",
    "\n",
    "> This page defines all boilerplate functions for analyzing and evaluating the NLP tools in the 2K paper."
   ]
  },
  {
   "cell_type": "code",
   "execution_count": null,
   "metadata": {},
   "outputs": [],
   "source": [
    "#| default_exp core"
   ]
  },
  {
   "cell_type": "code",
   "execution_count": null,
   "metadata": {},
   "outputs": [],
   "source": [
    "#| hide\n",
    "from nbdev.showdoc import *\n",
    "import requests\n",
    "from dotenv import load_dotenv"
   ]
  },
  {
   "cell_type": "markdown",
   "metadata": {},
   "source": [
    "## Wikidata Queries\n",
    "\n",
    "\n",
    "The functions interact with Wikidata by sending SPARQL queries to the Wikidata Query Service (WDQS), and the goal is to retrieve information about items or properties based on specific search criteria (e.g., matching a search term in labels, descriptions, or aliases)."
   ]
  },
  {
   "cell_type": "code",
   "execution_count": null,
   "metadata": {},
   "outputs": [],
   "source": [
    "#| export\n",
    "import aiohttp\n",
    "import asyncio\n",
    "import pandas as pd\n",
    "import nest_asyncio\n",
    "\n",
    "async def _fetch_query(session: str, # The aiohttp client session.\n",
    "                        query: str  # The SPARQL query string.\n",
    "                        ) -> str:   # The JSON response from the Wikidata SPARQL endpoint.\n",
    "    \n",
    "    \"\"\"\n",
    "    Asynchronously fetch the query result.\n",
    "    \"\"\"\n",
    "    url = 'https://query.wikidata.org/sparql'\n",
    "    headers = {'User-Agent': 'Mozilla/5.0', 'Accept': 'application/sparql-results+json'}\n",
    "    async with session.get(url, headers=headers, params={'query': query, 'format': 'json'}) as response:\n",
    "        if response.status == 200:\n",
    "            return await response.json()\n",
    "        return None\n",
    "\n",
    "async def _search_wikidata_properties_async(search_term: str    # The term to search for in property names and aliases.\n",
    "                                            ) -> pd.DataFrame:  # A DataFrame of found properties with their ID, label, description, and aliases, sorted by Property ID.\n",
    "    \"\"\"\n",
    "    Asynchronously search Wikidata properties by name or aliases and return a sorted pandas DataFrame.\n",
    "    \"\"\"\n",
    "    query = f'''\n",
    "    SELECT DISTINCT ?property ?propertyLabel ?propertyDescription (GROUP_CONCAT(DISTINCT ?alias;separator=\", \") AS ?aliases)\n",
    "    WHERE {{\n",
    "      ?property a wikibase:Property .\n",
    "      {{?property rdfs:label ?label FILTER (LANG(?label) = \"en\").}}\n",
    "      OPTIONAL {{?property skos:altLabel ?alias FILTER (LANG(?alias) = \"en\").}}\n",
    "      FILTER(CONTAINS(LCASE(?label), LCASE(\"{search_term}\")) || CONTAINS(LCASE(?alias), LCASE(\"{search_term}\"))).\n",
    "      SERVICE wikibase:label {{ bd:serviceParam wikibase:language \"en\". }}\n",
    "    }}\n",
    "    GROUP BY ?property ?propertyLabel ?propertyDescription\n",
    "    LIMIT 5\n",
    "    '''\n",
    "\n",
    "    async with aiohttp.ClientSession() as session:\n",
    "        json_response = await _fetch_query(session, query)\n",
    "        if json_response:\n",
    "            results = json_response.get('results', {}).get('bindings', [])\n",
    "            data = [{\n",
    "                \"Property ID\": result['property']['value'].split('/')[-1][1:],\n",
    "                \"Label\": result['propertyLabel']['value'],\n",
    "                \"Description\": result['propertyDescription']['value'],\n",
    "                \"Aliases\": result.get('aliases', {}).get('value', 'N/A')\n",
    "            } for result in results]\n",
    "            \n",
    "            df = pd.DataFrame(data)\n",
    "            df['Property ID'] = pd.to_numeric(df['Property ID'], errors='coerce')\n",
    "            df = df.sort_values(by='Property ID').reset_index(drop=True)\n",
    "            return df\n",
    "        else:\n",
    "            print(\"Failed to retrieve data\")\n",
    "            return pd.DataFrame()\n",
    "\n",
    "# Running the asynchronous function\n",
    "def search_wikidata_properties(search_term: str # A string containing the term to search for in the property names and aliases.\n",
    "                            ) -> pd.DataFrame:  # A DataFrame of found properties with their ID, label, description, and aliases, sorted by Property ID.\n",
    "    \"\"\"\n",
    "    Main function to asynchronously search Wikidata properties by name or aliases and return a sorted pandas DataFrame.\n",
    "    \"\"\"\n",
    "    nest_asyncio.apply()\n",
    "    loop = asyncio.get_event_loop()\n",
    "    return loop.run_until_complete(_search_wikidata_properties_async(search_term))\n"
   ]
  },
  {
   "cell_type": "markdown",
   "metadata": {},
   "source": [
    "Example of usinng `search_wikidata_properties` function, where the search term is \"**used for**\""
   ]
  },
  {
   "cell_type": "code",
   "execution_count": null,
   "metadata": {},
   "outputs": [
    {
     "data": {
      "text/html": [
       "<div>\n",
       "<style scoped>\n",
       "    .dataframe tbody tr th:only-of-type {\n",
       "        vertical-align: middle;\n",
       "    }\n",
       "\n",
       "    .dataframe tbody tr th {\n",
       "        vertical-align: top;\n",
       "    }\n",
       "\n",
       "    .dataframe thead th {\n",
       "        text-align: right;\n",
       "    }\n",
       "</style>\n",
       "<table border=\"1\" class=\"dataframe\">\n",
       "  <thead>\n",
       "    <tr style=\"text-align: right;\">\n",
       "      <th></th>\n",
       "      <th>Property ID</th>\n",
       "      <th>Label</th>\n",
       "      <th>Description</th>\n",
       "      <th>Aliases</th>\n",
       "    </tr>\n",
       "  </thead>\n",
       "  <tbody>\n",
       "    <tr>\n",
       "      <th>0</th>\n",
       "      <td>366</td>\n",
       "      <td>has use</td>\n",
       "      <td>main use of the subject (includes current and ...</td>\n",
       "      <td>can be used for, used for</td>\n",
       "    </tr>\n",
       "    <tr>\n",
       "      <th>1</th>\n",
       "      <td>642</td>\n",
       "      <td>of</td>\n",
       "      <td>(This property is being deprecated, see detail...</td>\n",
       "      <td>used for</td>\n",
       "    </tr>\n",
       "    <tr>\n",
       "      <th>2</th>\n",
       "      <td>2176</td>\n",
       "      <td>drug or therapy used for treatment</td>\n",
       "      <td>drug, procedure, or therapy that can be used t...</td>\n",
       "      <td>used for treatment, treated by, prescribed dru...</td>\n",
       "    </tr>\n",
       "    <tr>\n",
       "      <th>3</th>\n",
       "      <td>4970</td>\n",
       "      <td>alternative name</td>\n",
       "      <td>qualifier for alternative name(s), given for a...</td>\n",
       "      <td>used for term, used for, unused form</td>\n",
       "    </tr>\n",
       "    <tr>\n",
       "      <th>4</th>\n",
       "      <td>6530</td>\n",
       "      <td>has role in modeling</td>\n",
       "      <td>relation between a research artefact and an en...</td>\n",
       "      <td>used for studying, used for researching, used ...</td>\n",
       "    </tr>\n",
       "  </tbody>\n",
       "</table>\n",
       "</div>"
      ],
      "text/plain": [
       "   Property ID                               Label  \\\n",
       "0          366                             has use   \n",
       "1          642                                  of   \n",
       "2         2176  drug or therapy used for treatment   \n",
       "3         4970                    alternative name   \n",
       "4         6530                has role in modeling   \n",
       "\n",
       "                                         Description  \\\n",
       "0  main use of the subject (includes current and ...   \n",
       "1  (This property is being deprecated, see detail...   \n",
       "2  drug, procedure, or therapy that can be used t...   \n",
       "3  qualifier for alternative name(s), given for a...   \n",
       "4  relation between a research artefact and an en...   \n",
       "\n",
       "                                             Aliases  \n",
       "0                          can be used for, used for  \n",
       "1                                           used for  \n",
       "2  used for treatment, treated by, prescribed dru...  \n",
       "3               used for term, used for, unused form  \n",
       "4  used for studying, used for researching, used ...  "
      ]
     },
     "execution_count": null,
     "metadata": {},
     "output_type": "execute_result"
    }
   ],
   "source": [
    "df_props = search_wikidata_properties(\"used for\")\n",
    "df_props"
   ]
  },
  {
   "cell_type": "code",
   "execution_count": null,
   "metadata": {},
   "outputs": [],
   "source": [
    "#| hide\n",
    "import nbdev; nbdev.nbdev_export()"
   ]
  }
 ],
 "metadata": {
  "kernelspec": {
   "display_name": "python3",
   "language": "python",
   "name": "python3"
  }
 },
 "nbformat": 4,
 "nbformat_minor": 4
}
