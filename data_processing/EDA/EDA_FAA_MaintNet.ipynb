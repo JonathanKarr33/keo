{
 "cells": [
  {
   "cell_type": "code",
   "execution_count": 2,
   "id": "f5ef6d03-61f3-4fa8-bc93-3a0ad1886207",
   "metadata": {},
   "outputs": [],
   "source": [
    "import pandas as pd\n",
    "import matplotlib.pyplot as plt"
   ]
  },
  {
   "cell_type": "code",
   "execution_count": 3,
   "id": "bfb8ccfb-0784-4c63-9e56-90f94503f323",
   "metadata": {},
   "outputs": [],
   "source": [
    "FAA_data = pd.read_csv(\"../../data/FAA_data/Maintenance_Text_data.csv\")"
   ]
  },
  {
   "cell_type": "code",
   "execution_count": 29,
   "id": "70b67e32-e0d8-4d22-9921-f8a52cf916c6",
   "metadata": {},
   "outputs": [
    {
     "data": {
      "text/html": [
       "<div>\n",
       "<style scoped>\n",
       "    .dataframe tbody tr th:only-of-type {\n",
       "        vertical-align: middle;\n",
       "    }\n",
       "\n",
       "    .dataframe tbody tr th {\n",
       "        vertical-align: top;\n",
       "    }\n",
       "\n",
       "    .dataframe thead th {\n",
       "        text-align: right;\n",
       "    }\n",
       "</style>\n",
       "<table border=\"1\" class=\"dataframe\">\n",
       "  <thead>\n",
       "    <tr style=\"text-align: right;\">\n",
       "      <th></th>\n",
       "      <th>Unnamed: 0</th>\n",
       "      <th>c5</th>\n",
       "      <th>c119</th>\n",
       "      <th>c78</th>\n",
       "      <th>c80</th>\n",
       "      <th>c86</th>\n",
       "      <th>c77</th>\n",
       "      <th>c79</th>\n",
       "      <th>c81</th>\n",
       "      <th>c85</th>\n",
       "      <th>...</th>\n",
       "      <th>c135</th>\n",
       "      <th>c137</th>\n",
       "      <th>c146</th>\n",
       "      <th>c148</th>\n",
       "      <th>c150</th>\n",
       "      <th>c154</th>\n",
       "      <th>c161</th>\n",
       "      <th>c163</th>\n",
       "      <th>c183</th>\n",
       "      <th>c191</th>\n",
       "    </tr>\n",
       "  </thead>\n",
       "  <tbody>\n",
       "    <tr>\n",
       "      <th>0</th>\n",
       "      <td>667</td>\n",
       "      <td>19750315005389A</td>\n",
       "      <td>TAILWHEEL COCKED RIGHT PRIOR TO TKOF.         ...</td>\n",
       "      <td>AU</td>\n",
       "      <td>V</td>\n",
       "      <td></td>\n",
       "      <td>Attempt Operation Wi</td>\n",
       "      <td>Other/Miscellaneous</td>\n",
       "      <td>Pilot-In-Command</td>\n",
       "      <td></td>\n",
       "      <td>...</td>\n",
       "      <td></td>\n",
       "      <td></td>\n",
       "      <td>UNDER 12501 LBS</td>\n",
       "      <td>MONOPLANE-HIGH WING/PARA WING</td>\n",
       "      <td>POWERED</td>\n",
       "      <td></td>\n",
       "      <td></td>\n",
       "      <td></td>\n",
       "      <td></td>\n",
       "      <td></td>\n",
       "    </tr>\n",
       "    <tr>\n",
       "      <th>1</th>\n",
       "      <td>1065</td>\n",
       "      <td>19750419011349A</td>\n",
       "      <td>TOW PLANE BECAME AIRBORNE THEN SETTLED.STUDENT...</td>\n",
       "      <td>ME</td>\n",
       "      <td>V</td>\n",
       "      <td></td>\n",
       "      <td>Fail/Incorrect Use M</td>\n",
       "      <td>Other/Miscellaneous</td>\n",
       "      <td>Pilot-In-Command</td>\n",
       "      <td></td>\n",
       "      <td>...</td>\n",
       "      <td></td>\n",
       "      <td></td>\n",
       "      <td>UNDER 12501 LBS</td>\n",
       "      <td>KITE/SAILWING</td>\n",
       "      <td>NONPOWERED</td>\n",
       "      <td></td>\n",
       "      <td></td>\n",
       "      <td></td>\n",
       "      <td></td>\n",
       "      <td></td>\n",
       "    </tr>\n",
       "    <tr>\n",
       "      <th>2</th>\n",
       "      <td>2721</td>\n",
       "      <td>19751029037799A</td>\n",
       "      <td>2ND ILS APCH,ACFT'S G/S INOP.LOM TUNED TO WRON...</td>\n",
       "      <td>AU</td>\n",
       "      <td>Z</td>\n",
       "      <td>IP</td>\n",
       "      <td>Attempt Operation Wi</td>\n",
       "      <td>Weather</td>\n",
       "      <td>Pilot-In-Command</td>\n",
       "      <td>Improper Inst Proc T</td>\n",
       "      <td>...</td>\n",
       "      <td></td>\n",
       "      <td></td>\n",
       "      <td>UNDER 12501 LBS</td>\n",
       "      <td>MONOPLANE-LOW WING</td>\n",
       "      <td>POWERED</td>\n",
       "      <td></td>\n",
       "      <td></td>\n",
       "      <td></td>\n",
       "      <td></td>\n",
       "      <td></td>\n",
       "    </tr>\n",
       "    <tr>\n",
       "      <th>3</th>\n",
       "      <td>3067</td>\n",
       "      <td>19751209037899A</td>\n",
       "      <td>PLT NOTED SOFT R BRAKE PEDAL DRG TAXI TO TKOF....</td>\n",
       "      <td>AU</td>\n",
       "      <td>V</td>\n",
       "      <td></td>\n",
       "      <td>Attempt Operation Wi</td>\n",
       "      <td>Other/Miscellaneous</td>\n",
       "      <td>Pilot-In-Command</td>\n",
       "      <td></td>\n",
       "      <td>...</td>\n",
       "      <td></td>\n",
       "      <td></td>\n",
       "      <td>UNDER 12501 LBS</td>\n",
       "      <td>MONOPLANE-LOW WING</td>\n",
       "      <td>POWERED</td>\n",
       "      <td></td>\n",
       "      <td></td>\n",
       "      <td></td>\n",
       "      <td></td>\n",
       "      <td></td>\n",
       "    </tr>\n",
       "    <tr>\n",
       "      <th>4</th>\n",
       "      <td>3637</td>\n",
       "      <td>19750818025579A</td>\n",
       "      <td>TAXI OFF HARD SFC DUE TFC R MAIN GR BROKE THRO...</td>\n",
       "      <td>AF</td>\n",
       "      <td>H</td>\n",
       "      <td></td>\n",
       "      <td>Improper Maintenance</td>\n",
       "      <td>Hidden Hazardous Obj</td>\n",
       "      <td>Pilot-In-Command</td>\n",
       "      <td></td>\n",
       "      <td>...</td>\n",
       "      <td></td>\n",
       "      <td></td>\n",
       "      <td>UNDER 12501 LBS</td>\n",
       "      <td>MONOPLANE-HIGH WING/PARA WING</td>\n",
       "      <td>POWERED</td>\n",
       "      <td></td>\n",
       "      <td></td>\n",
       "      <td></td>\n",
       "      <td></td>\n",
       "      <td></td>\n",
       "    </tr>\n",
       "  </tbody>\n",
       "</table>\n",
       "<p>5 rows × 34 columns</p>\n",
       "</div>"
      ],
      "text/plain": [
       "   Unnamed: 0               c5  \\\n",
       "0         667  19750315005389A   \n",
       "1        1065  19750419011349A   \n",
       "2        2721  19751029037799A   \n",
       "3        3067  19751209037899A   \n",
       "4        3637  19750818025579A   \n",
       "\n",
       "                                                c119 c78 c80 c86  \\\n",
       "0  TAILWHEEL COCKED RIGHT PRIOR TO TKOF.         ...  AU   V       \n",
       "1  TOW PLANE BECAME AIRBORNE THEN SETTLED.STUDENT...  ME   V       \n",
       "2  2ND ILS APCH,ACFT'S G/S INOP.LOM TUNED TO WRON...  AU   Z  IP   \n",
       "3  PLT NOTED SOFT R BRAKE PEDAL DRG TAXI TO TKOF....  AU   V       \n",
       "4  TAXI OFF HARD SFC DUE TFC R MAIN GR BROKE THRO...  AF   H       \n",
       "\n",
       "                    c77                   c79                   c81  \\\n",
       "0  Attempt Operation Wi  Other/Miscellaneous   Pilot-In-Command       \n",
       "1  Fail/Incorrect Use M  Other/Miscellaneous   Pilot-In-Command       \n",
       "2  Attempt Operation Wi  Weather               Pilot-In-Command       \n",
       "3  Attempt Operation Wi  Other/Miscellaneous   Pilot-In-Command       \n",
       "4  Improper Maintenance  Hidden Hazardous Obj  Pilot-In-Command       \n",
       "\n",
       "                    c85  ...                  c135                  c137  \\\n",
       "0                        ...                                               \n",
       "1                        ...                                               \n",
       "2  Improper Inst Proc T  ...                                               \n",
       "3                        ...                                               \n",
       "4                        ...                                               \n",
       "\n",
       "                             c146                            c148  \\\n",
       "0  UNDER 12501 LBS                 MONOPLANE-HIGH WING/PARA WING    \n",
       "1  UNDER 12501 LBS                 KITE/SAILWING                    \n",
       "2  UNDER 12501 LBS                 MONOPLANE-LOW WING               \n",
       "3  UNDER 12501 LBS                 MONOPLANE-LOW WING               \n",
       "4  UNDER 12501 LBS                 MONOPLANE-HIGH WING/PARA WING    \n",
       "\n",
       "                             c150                            c154  \\\n",
       "0  POWERED                                                          \n",
       "1  NONPOWERED                                                       \n",
       "2  POWERED                                                          \n",
       "3  POWERED                                                          \n",
       "4  POWERED                                                          \n",
       "\n",
       "                   c161                  c163                  c183  \\\n",
       "0                                                                     \n",
       "1                                                                     \n",
       "2                                                                     \n",
       "3                                                                     \n",
       "4                                                                     \n",
       "\n",
       "                   c191  \n",
       "0                        \n",
       "1                        \n",
       "2                        \n",
       "3                        \n",
       "4                        \n",
       "\n",
       "[5 rows x 34 columns]"
      ]
     },
     "execution_count": 29,
     "metadata": {},
     "output_type": "execute_result"
    }
   ],
   "source": [
    "FAA_data.head()"
   ]
  },
  {
   "cell_type": "code",
   "execution_count": 30,
   "id": "6ab6f03e-a873-4ae5-9017-77b4aa7326d3",
   "metadata": {},
   "outputs": [],
   "source": [
    "textcol = \"c119\"\n",
    "text_data = FAA_data[textcol]"
   ]
  },
  {
   "cell_type": "code",
   "execution_count": 31,
   "id": "5b8fd74f-2e5c-4f93-a5c8-da67080c45b1",
   "metadata": {},
   "outputs": [
    {
     "data": {
      "text/plain": [
       "0       TAILWHEEL COCKED RIGHT PRIOR TO TKOF.         ...\n",
       "1       TOW PLANE BECAME AIRBORNE THEN SETTLED.STUDENT...\n",
       "2       2ND ILS APCH,ACFT'S G/S INOP.LOM TUNED TO WRON...\n",
       "3       PLT NOTED SOFT R BRAKE PEDAL DRG TAXI TO TKOF....\n",
       "4       TAXI OFF HARD SFC DUE TFC R MAIN GR BROKE THRO...\n",
       "                              ...                        \n",
       "2758    (-23) A/C RELOCATED TO NEW HANGAR TO CHECK SIZ...\n",
       "2759    (-23) ON 2/23/08 @ APPROXIMATELY 2130 DURING T...\n",
       "2760    (-23) PILOT TOOK OFF FOR LEESBURG AIRPORT AND ...\n",
       "2761    (-23) OWNER FORGOT TO FASTEN THE LOWER LEFT 4 ...\n",
       "2762    (-23) THE AIRCRAFT EXPERIENCED SEVERE TURBULAN...\n",
       "Name: c119, Length: 2763, dtype: object"
      ]
     },
     "execution_count": 31,
     "metadata": {},
     "output_type": "execute_result"
    }
   ],
   "source": [
    "text_data"
   ]
  },
  {
   "cell_type": "markdown",
   "id": "c1ab4bd1-64ef-4308-8684-20760598cbd8",
   "metadata": {},
   "source": [
    "#### Find N/A entries, get overall idea entry makeup"
   ]
  },
  {
   "cell_type": "code",
   "execution_count": 32,
   "id": "493b273d-9966-4da2-af51-24027fd81912",
   "metadata": {},
   "outputs": [
    {
     "name": "stdout",
     "output_type": "stream",
     "text": [
      "No N/A entries\n"
     ]
    }
   ],
   "source": [
    "# N/A entries\n",
    "if len(text_data.dropna()) != len(text_data):\n",
    "    print(f'{len(text_data) - len(text_data.dropna())} N/A entries')\n",
    "else:\n",
    "    print('No N/A entries')"
   ]
  },
  {
   "cell_type": "code",
   "execution_count": 33,
   "id": "b1600df6-480a-4c72-b8ea-8904c68aeef2",
   "metadata": {},
   "outputs": [
    {
     "name": "stdout",
     "output_type": "stream",
     "text": [
      "11.                                                                                                                    \n",
      "17.                                                                                                                    \n",
      "19.                                                                                                                    \n",
      "46.                                                                                                                    \n",
      "85.                                                                                                                    \n",
      "127.                                                                                                                    \n",
      "133.                                                                                                                    \n",
      "139.                                                                                                                    \n",
      "140.                                                                                                                    \n",
      "159.                                                                                                                    \n",
      "165.                                                                                                                    \n",
      "186.                                                                                                                    \n",
      "200.                                                                                                                    \n",
      "201.                                                                                                                    \n",
      "204.                                                                                                                    \n"
     ]
    }
   ],
   "source": [
    "# Hmm let's check that\n",
    "for irow in range(len(text_data)):\n",
    "    if len(text_data[irow].split()) < 2:\n",
    "        print(f'{irow}. {text_data[irow]}')\n",
    "\n",
    "# Definitely empty!"
   ]
  },
  {
   "cell_type": "code",
   "execution_count": 10,
   "id": "6c3a1ee3-174a-4338-8759-767826ba3d61",
   "metadata": {},
   "outputs": [
    {
     "data": {
      "text/plain": [
       "Text(0, 0.5, 'Num Occurances')"
      ]
     },
     "execution_count": 10,
     "metadata": {},
     "output_type": "execute_result"
    },
    {
     "data": {
      "image/png": "[encoded data removed]",
      "text/plain": [
       "<Figure size 640x480 with 1 Axes>"
      ]
     },
     "metadata": {},
     "output_type": "display_data"
    }
   ],
   "source": [
    "# Num words in each entry\n",
    "entry_lengths = [len(entry.split()) for entry in text_data]\n",
    "fig, ax = plt.subplots(1,1)\n",
    "ax.hist(entry_lengths)\n",
    "ax.set_title(\"Occurances of Entry Lengths\")\n",
    "ax.set_xlabel(\"Words Per Entry\")\n",
    "ax.set_ylabel(\"Num Occurances\")"
   ]
  },
  {
   "cell_type": "code",
   "execution_count": 31,
   "id": "43faac20-d8a0-4887-b13b-e6699cf6c272",
   "metadata": {},
   "outputs": [
    {
     "name": "stdout",
     "output_type": "stream",
     "text": [
      "Number of low frequency words (appearing once) : 4040\n",
      "Number of mid frequency words (appearing between 1-100 times) : 2663\n",
      "Number of high frequency words (appearing 100+ times) : 63\n"
     ]
    },
    {
     "data": {
      "text/plain": [
       "Text(0, 0.5, 'Num Words with X Repetitions')"
      ]
     },
     "execution_count": 31,
     "metadata": {},
     "output_type": "execute_result"
    },
    {
     "data": {
      "image/png": "[encoded data removed]",
      "text/plain": [
       "<Figure size 640x480 with 1 Axes>"
      ]
     },
     "metadata": {},
     "output_type": "display_data"
    }
   ],
   "source": [
    "# Repeated words\n",
    "word_counts = {}\n",
    "for entry in text_data:\n",
    "    for word in entry.split():\n",
    "        word_counts[word] = word_counts.get(word, 0) + 1\n",
    "\n",
    "low_freqs = {word : word_counts[word] for word in word_counts if word_counts[word] == 1}\n",
    "middle_freqs = {word : word_counts[word] for word in word_counts if word_counts[word] > 1 and word_counts[word] < 100}\n",
    "high_freqs = {word : word_counts[word] for word in word_counts if word_counts[word] >= 100}\n",
    "\n",
    "print(f\"Number of low frequency words (appearing once) : {len(low_freqs.values())}\")\n",
    "print(f\"Number of mid frequency words (appearing between 1-100 times) : {len(middle_freqs.values())}\")\n",
    "print(f\"Number of high frequency words (appearing 100+ times) : {len(high_freqs.values())}\")\n",
    "\n",
    "fig, ax = plt.subplots(1,1)\n",
    "ax.hist([reps for reps in middle_freqs.values() if reps > 1])\n",
    "ax.set_title(\"Repetitiveness of Mid-Frequency Vocabulary (appearing between 1 and 100 times)\")\n",
    "ax.set_xlabel(\"Num Repetitions of Words\")\n",
    "ax.set_ylabel(\"Num Words with X Repetitions\")"
   ]
  },
  {
   "cell_type": "code",
   "execution_count": 32,
   "id": "64797842-2fc8-435e-ab32-04b9c9750bb3",
   "metadata": {},
   "outputs": [
    {
     "name": "stdout",
     "output_type": "stream",
     "text": [
      "{'RIGHT': 152, 'TO': 1253, 'IN': 818, 'DUE': 208, 'OFF': 419, 'OF': 519, 'A': 669, 'OUT': 124, 'ON': 1464, 'NOSE': 236, 'STRUCK': 181, 'WAS': 466, 'NOT': 385, 'FOR': 184, 'WITH': 326, 'WHEN': 118, 'LEFT': 206, 'OIL': 252, 'AFTER': 447, 'UP': 108, 'DURING': 314, 'NO': 146, 'CONTROL': 160, 'FROM': 246, 'CAP': 105, 'HAD': 242, 'FUEL.': 150, 'LANDING': 301, 'ENGINE': 657, 'WATER': 248, 'POWER': 223, 'FOUND': 263, 'FUEL': 521, 'TAKEOFF': 309, 'UNABLE': 118, 'AND': 786, 'LOST': 299, 'GEAR': 447, 'THE': 1122, 'PILOT': 721, 'FAILED': 307, 'AT': 378, 'AIRCRAFT': 459, 'TAKEOFF.': 285, 'LANDED': 316, 'CAME': 111, 'FLIGHT.': 111, 'LANDING.': 212, 'QUIT': 150, 'WHILE': 107, 'AN': 123, 'FLIGHT': 167, 'RAN': 125, 'RUNWAY': 196, 'INTO': 166, 'HIT': 148, 'DOOR': 223, 'RUNWAY.': 161, 'BY': 148, 'DEPARTED': 127, 'HE': 108, 'NARRATIVE:': 129, '(-23)': 407}\n"
     ]
    }
   ],
   "source": [
    "print(high_freqs)"
   ]
  },
  {
   "cell_type": "markdown",
   "id": "ea6aa339-b170-404e-a9ce-cc3f99acf11b",
   "metadata": {},
   "source": [
    "#### Check Non-Alpha Data"
   ]
  },
  {
   "cell_type": "code",
   "execution_count": 41,
   "id": "3b8c1ffc-2d03-4811-b9fc-7282d9deffea",
   "metadata": {},
   "outputs": [
    {
     "name": "stdout",
     "output_type": "stream",
     "text": [
      "200 : 9\n",
      "2 : 19\n",
      "4 : 12\n",
      "3 : 15\n",
      "5 : 8\n",
      "180 : 9\n",
      "1 : 6\n",
      "10 : 8\n",
      "300 : 6\n",
      "30 : 7\n",
      "NR2 : 7\n",
      "(.4)THE : 25\n",
      "1, : 7\n",
      "21, : 8\n",
      "1995, : 6\n",
      "14, : 8\n",
      "20, : 6\n",
      "(-23) : 407\n",
      "1996, : 9\n",
      "16, : 7\n",
      "1997, : 11\n",
      "6, : 6\n",
      "(.19) : 16\n",
      "22, : 6\n",
      "(.4) : 22\n",
      "(.19)ON : 9\n",
      "1998, : 16\n",
      "26, : 7\n",
      "15, : 7\n",
      "(-23)THE : 6\n",
      "(-5) : 10\n",
      "17, : 6\n",
      "19, : 7\n",
      "1999, : 12\n",
      "27, : 6\n",
      "2000, : 9\n",
      "(-23)ON : 9\n",
      "5, : 6\n",
      "2001, : 9\n",
      "2002, : 7\n",
      "2003, : 8\n",
      "2003 : 7\n",
      "2004, : 9\n",
      "2005, : 6\n"
     ]
    }
   ],
   "source": [
    "number_words = {word : word_counts[word] for word in word_counts if any(char.isdigit() for char in word)}\n",
    "for word in number_words:\n",
    "    if number_words[word] > 5:\n",
    "        print(f\"{word} : {number_words[word]}\")"
   ]
  },
  {
   "cell_type": "code",
   "execution_count": 60,
   "id": "39981b2e-a912-410f-914c-5879012e49b3",
   "metadata": {},
   "outputs": [
    {
     "name": "stdout",
     "output_type": "stream",
     "text": [
      "N42807 : 1\n",
      "N7930C : 1\n",
      "NR2 : 7\n",
      "N106DA : 1\n",
      "N184AW. : 1\n",
      "NR3 : 3\n",
      "N#92QS, : 1\n",
      "NR1 : 4\n",
      "N356QS, : 1\n",
      "N814AA : 1\n",
      "N8011Z, : 1\n",
      "N5123, : 1\n",
      "N2750F, : 1\n",
      "N7016M, : 1\n",
      "N4390F : 1\n",
      "N1549U : 1\n",
      "NR4 : 2\n",
      "N363BE : 1\n",
      "N2114J : 1\n",
      "N4517T : 1\n",
      "NARRATIVE:I96SW010017 : 1\n",
      "N2323F, : 1\n",
      "N231CS, : 1\n",
      "N2171N : 1\n",
      "N253TM, : 1\n",
      "N76737, : 1\n",
      "N1JX, : 1\n",
      "N19DG, : 1\n",
      "N7368R : 1\n",
      "N956S, : 1\n",
      "N303GV, : 1\n",
      "N83GA, : 1\n",
      "N5459R, : 1\n",
      "N9401P : 1\n",
      "N564PC, : 1\n",
      "N15428, : 1\n",
      "N1319E, : 1\n",
      "N789 : 1\n",
      "N18BZ : 1\n",
      "N307DW, : 1\n",
      "N9067G, : 1\n",
      "N3256V, : 1\n",
      "N3240U, : 1\n",
      "N21466, : 1\n",
      "N492UE, : 1\n",
      "N267TC, : 1\n",
      "N73533, : 1\n",
      "N3500X, : 1\n",
      "N8968B, : 1\n",
      "N305EC : 1\n",
      "N6370L, : 1\n",
      "N8883C, : 1\n",
      "N810EX, : 1\n",
      "N51MJ, : 1\n",
      "N244AE, : 1\n",
      "N738UA, : 1\n",
      "N8092S, : 1\n",
      "N789SL : 1\n",
      "N838MA : 1\n",
      "N7991Y : 1\n",
      "N711BN, : 1\n",
      "N153JC, : 1\n",
      "N1027N, : 1\n",
      "N26952, : 1\n",
      "N88CP : 1\n",
      "N898CB, : 1\n",
      "N9266V, : 1\n",
      "NR5 : 1\n",
      "N21837, : 1\n",
      "N9304F, : 1\n",
      "N832JS, : 1\n",
      "N41. : 1\n",
      "N4561C, : 1\n",
      "N527SS, : 1\n",
      "N2313L, : 1\n",
      "N4156Y, : 1\n",
      "N9023Q, : 1\n",
      "N1959F : 1\n",
      "N81SK, : 1\n",
      "N4754R, : 1\n",
      "N9187V. : 1\n",
      "N4628C : 1\n",
      "N467YV : 1\n",
      "N800RH : 1\n",
      "N947WP : 1\n",
      "N878R, : 1\n",
      "N2709R : 1\n",
      "N511DA, : 1\n",
      "N4105D, : 1\n",
      "N6584F, : 1\n",
      "N4737E, : 1\n",
      "N82HR, : 1\n",
      "N8084K : 1\n",
      "N3838U, : 1\n",
      "N2207J, : 1\n",
      "N388BA, : 1\n",
      "N2529L, : 1\n",
      "N5419E, : 1\n",
      "N111AM : 1\n",
      "N6597Y, : 1\n",
      "N81310, : 1\n",
      "N759TY, : 1\n",
      "N531MH : 1\n",
      "N4823L : 1\n",
      "N72KB, : 1\n",
      "N961LL : 1\n",
      "N323D, : 1\n",
      "N1276P, : 1\n",
      "N20553 : 1\n",
      "N7401P : 1\n",
      "N103S, : 1\n",
      "N452FJ : 1\n",
      "N4975B : 1\n",
      "N17655 : 1\n",
      "N1674T, : 1\n",
      "N8578U : 1\n",
      "N13375, : 1\n",
      "N8454Y : 1\n",
      "N972AN, : 1\n",
      "N158SD, : 1\n",
      "N3738B, : 1\n",
      "N971RP, : 1\n",
      "N42746, : 1\n",
      "N48TA, : 1\n",
      "N497AA, : 1\n",
      "N9474L, : 1\n",
      "N3217Q : 1\n",
      "N24007, : 1\n",
      "N90375, : 1\n",
      "N57, : 1\n",
      "N202MG, : 1\n",
      "N92848, : 1\n",
      "N74AM, : 1\n",
      "N3889B, : 1\n",
      "N1443L, : 1\n",
      "N327NW : 1\n",
      "N42WA : 1\n",
      "N1202X, : 1\n",
      "N6470H, : 1\n",
      "N160LA, : 1\n",
      "N63703, : 1\n",
      "N3042V : 1\n",
      "N2401T : 1\n",
      "N456A, : 1\n",
      "N5274M, : 1\n",
      "N357KP, : 1\n",
      "N1654T, : 1\n",
      "N5435L : 1\n",
      "N49815, : 1\n",
      "N3346X, : 1\n",
      "N181FL : 1\n",
      "N947QS, : 1\n",
      "N101WA, : 1\n",
      "N74475, : 1\n",
      "N6500V, : 1\n",
      "N961TW : 1\n",
      "N355EV, : 1\n",
      "N237JH : 1\n",
      "N175LA, : 1\n",
      "N4546Y, : 1\n",
      "N694T : 1\n",
      "N69 : 1\n",
      "N7235K, : 1\n",
      "N711RP, : 1\n",
      "N682RA, : 1\n",
      "N8402K, : 1\n",
      "N756SE, : 1\n",
      "N17960, : 1\n",
      "N97 : 1\n",
      "N6729A, : 1\n",
      "N353TW : 1\n",
      "N6457B : 1\n",
      "N48862 : 1\n",
      "N2571D : 1\n",
      "N594DM : 1\n",
      "N747JN, : 1\n",
      "N562GK, : 1\n"
     ]
    }
   ],
   "source": [
    "# There do seem to be part numbers, esp. starting with N\n",
    "\n",
    "for word in number_words:\n",
    "    if word[0] == 'N':\n",
    "        print(f\"{word} : {number_words[word]}\")"
   ]
  },
  {
   "cell_type": "markdown",
   "id": "4a859b3f-4813-471a-b06d-8f71063cabcc",
   "metadata": {},
   "source": [
    "There do seem to be part numbers in here"
   ]
  },
  {
   "cell_type": "markdown",
   "id": "c212a863-4033-4a91-a61d-b70fd5dce295",
   "metadata": {},
   "source": [
    "#### Find coreference words"
   ]
  },
  {
   "cell_type": "code",
   "execution_count": 37,
   "id": "c6db7971-b153-426e-8621-eeda09504261",
   "metadata": {},
   "outputs": [
    {
     "name": "stdout",
     "output_type": "stream",
     "text": [
      "IT : 46\n",
      "HIM : 2\n",
      "HER : 1\n",
      "THEM : 2\n",
      "HE : 108\n",
      "SHE : 2\n",
      "THEY : 3\n",
      "YOU : 1\n",
      "US : 1\n"
     ]
    }
   ],
   "source": [
    "pronouns = [\"IT\", \"HIM\", \"HER\", \"THEM\", \"HE\", \"SHE\", \"THEY\", \"YOU\", \"WE\", \"US\"]\n",
    "for pronoun in pronouns:\n",
    "    if pronoun in word_counts.keys():\n",
    "        print(f\"{pronoun} : {word_counts[pronoun]}\")"
   ]
  },
  {
   "cell_type": "markdown",
   "id": "a58c9b3f-5fe1-41cf-aae6-8941d555df83",
   "metadata": {},
   "source": [
    "#### Compare to MaintNet data"
   ]
  },
  {
   "cell_type": "code",
   "execution_count": 4,
   "id": "de43897a-d383-46bc-bcee-97ffe2c23672",
   "metadata": {},
   "outputs": [],
   "source": [
    "maintnet_data = pd.read_csv(\"../../data/MaintNet_data/Aircraft_Annotation_DataFile.csv\")\n",
    "maintnet_abbrevs = pd.read_csv(\"../../data/MaintNet_data/Aviation_Abbreviation_Dataset.csv\")\n",
    "maintnet_grammar = pd.read_csv(\"../../data/MaintNet_data/Aviation_grammar_Dataset.csv\")\n",
    "maintnet_terms = pd.read_csv(\"../../data/MaintNet_data/Aviation_TermBanks_Dataset.csv\")"
   ]
  },
  {
   "cell_type": "markdown",
   "id": "c4f67ed4-ec72-4891-9ee0-8023584dbbc1",
   "metadata": {},
   "source": [
    "#### Repeat EDA process with MaintNet Data"
   ]
  },
  {
   "cell_type": "code",
   "execution_count": 56,
   "id": "3c55bf23-6fa2-4770-a3fb-207119e27184",
   "metadata": {},
   "outputs": [
    {
     "name": "stdout",
     "output_type": "stream",
     "text": [
      "Number of low frequency words (appearing once) : 1448\n",
      "Number of mid frequency words (appearing between 1-100 times) : 1754\n",
      "Number of high frequency words (appearing 100+ times) : 105\n"
     ]
    },
    {
     "data": {
      "text/plain": [
       "Text(0, 0.5, 'Num Words with X Repetitions')"
      ]
     },
     "execution_count": 56,
     "metadata": {},
     "output_type": "execute_result"
    },
    {
     "data": {
      "image/png": "[encoded data removed]",
      "text/plain": [
       "<Figure size 640x480 with 1 Axes>"
      ]
     },
     "metadata": {},
     "output_type": "display_data"
    }
   ],
   "source": [
    "maint_text = list(maintnet_data[\"PROBLEM\"]) + list(maintnet_data[\"ACTION\"])\n",
    "\n",
    "# Repeated words\n",
    "maint_word_counts = {}\n",
    "for entry in maint_text:\n",
    "    for word in entry.split():\n",
    "        maint_word_counts[word] = maint_word_counts.get(word, 0) + 1\n",
    "        \n",
    "maint_low_freqs = {word : maint_word_counts[word] for word in maint_word_counts if maint_word_counts[word] == 1}\n",
    "maint_middle_freqs = {word : maint_word_counts[word] for word in maint_word_counts if maint_word_counts[word] > 1 and maint_word_counts[word] < 100}\n",
    "maint_high_freqs = {word : maint_word_counts[word] for word in maint_word_counts if maint_word_counts[word] >= 100}\n",
    "\n",
    "print(f\"Number of low frequency words (appearing once) : {len(maint_low_freqs.values())}\")\n",
    "print(f\"Number of mid frequency words (appearing between 1-100 times) : {len(maint_middle_freqs.values())}\")\n",
    "print(f\"Number of high frequency words (appearing 100+ times) : {len(maint_high_freqs.values())}\")\n",
    "\n",
    "fig, ax = plt.subplots(1,1)\n",
    "ax.hist([reps for reps in maint_middle_freqs.values() if reps > 1])\n",
    "ax.set_title(\"Repetitiveness of Vocabulary\")\n",
    "ax.set_xlabel(\"Num Repetitions of Words\")\n",
    "ax.set_ylabel(\"Num Words with X Repetitions\")"
   ]
  },
  {
   "cell_type": "code",
   "execution_count": 58,
   "id": "b2fa4620-96a0-42a9-84ad-7b86925f28b2",
   "metadata": {},
   "outputs": [
    {
     "name": "stdout",
     "output_type": "stream",
     "text": [
      "#2 : 1582\n",
      "4 : 914\n",
      "#3 : 1172\n",
      "#4 : 1005\n",
      "#1, : 140\n",
      "2 : 196\n",
      "3 : 546\n",
      "#1 : 647\n",
      "2, : 113\n",
      "#2, : 220\n",
      "1 : 73\n",
      "1, : 30\n",
      "#2. : 6\n",
      "4. : 16\n",
      "3, : 97\n",
      "3. : 11\n",
      "(40/80). : 7\n",
      "#4, : 12\n",
      "#3. : 8\n",
      "#3, : 41\n",
      "#4. : 10\n",
      "30 : 7\n",
      "4, : 7\n",
      "1600 : 6\n",
      "20/80. : 8\n",
      "2000 : 9\n",
      "(0/80), : 7\n",
      "2720 : 6\n",
      "1000 : 6\n",
      "8 : 9\n"
     ]
    }
   ],
   "source": [
    "maint_number_words = {word : maint_word_counts[word] for word in maint_word_counts if any(char.isdigit() for char in word)}\n",
    "for word in maint_number_words:\n",
    "    if maint_number_words[word] > 5:\n",
    "        print(f\"{word} : {maint_number_words[word]}\")"
   ]
  },
  {
   "cell_type": "code",
   "execution_count": 59,
   "id": "10e4c4aa-76e6-458f-84f7-7ca2162f17c8",
   "metadata": {},
   "outputs": [
    {
     "data": {
      "text/plain": [
       "dict_keys(['#2', '4', '#3', '#4', '#1,', '2', '3', '#1', '1200', '2,', '6', '970', '32', '33', '#2,', '3400', '1', '3200,', '24', '1,', '180', '#2.', '1700', '34', '4.', '4TH', '3,', '5500', '+7,', '#1/3', '1150', '100', '150', '300', '3.', '(40/80).', '3300', '#4,', '2640', '2600', '4).', '1450.', '#3.', '1800', '2720,', '2800.', '1300.', '30/80.', '2760', '#3,', '(20/80', '#1.', '#6', '#4.', '200', '250', '1225', '1/2', '(54/80).', 'N1', '4%', '350', '90', '35/80.', '800', '1700.', '2730', '2770', '30', '2720.', '4,', '7', '10', '1600', '20\"', '15/80.', '#7', '2710', '2700', '35.', '1560,', '2840', '3275', \"2',\", '(50/80).', 'N2', '720.', '2750', '3-4', '1400', '300+', '(30/80).', '17L', '2450', \"2000'\", '#2/4', '(55', '2740.', '780', '15/80', '#12', 'D37', '25LBS.', '5/80.', '20/80.', '2000', '(0/80),', '55', '(50', '#3/2', '2720', '(30', '(2', '(58/80).', '150*F.', '1000,', '.031\".', '.032\".', '.033\".', '.035\".', '3+', '1000', '1ST', '.033\").', '.035\").', '.034\").', '1300', '3350', '26', '40', '26,', '#2-4', '20/80;', '#1-3', '18/80.', '(#2', '>200*F', '3500.', '(16/80).', '5', '280', '6\"', '400*.', '503*.', '2-3', '2700,', '2600.', '400', '2630.', '8', '1650', '(40/80)', '2740', '1/8\"', '200-300', '2850', '(2720', '20', '1-3', '60', '22', '4-5', '90*', '(#3', '2720-2730.', '(48/80).', '45/80.', '100-105', '40/80.', '59/80.', '530,', '(55).', '200+.', '650', '388C', '2.', '-28', '.032', '78/80', '51', '(#1-76,', '#2-75,', '2ND', '76/80', '40/', '#1-79,', '#2-74,', '#3-77,', '#4-73.', '2340', '12.1', '690', '2300', '2330', '65/80', '3961.3', '65/80.', '75/80).', '5.', '79/80.', '45', '4-53', '(1', '5%', '76/80.', '18MM', '2778.', '2733.7,', '#1-75,', '#2-70,', '#3-70,', '#4-', '28', '5%.', '14/80', '70/80.', '(72).', '70/80', '2739.8;', '.001', '78/80.', '68/80,', '51-40-0', '#29', '-29', '#1-78,', '#2-79,', '#3-79,', '#4-78;', '#3-', '2702', '75/80.', '10%', '2723.', '2772.5,', '204', '#31', '51-71-', '8%', '2703.4,', '2722', '#4;', '2667.8;', '7/31/17', '72/80.', '74', '40*F', '#12.', '2015-19-07,', '369M;', '2733.2', '48', '89', 'P3', '0/80.', '1492D,', '2024', 'T3', '.040', '#3-78,', '#4-7', '40/80', '2617', '57/80', '4;', '2740.3'])"
      ]
     },
     "execution_count": 59,
     "metadata": {},
     "output_type": "execute_result"
    }
   ],
   "source": [
    "maint_number_words.keys()"
   ]
  },
  {
   "cell_type": "code",
   "execution_count": 61,
   "id": "54ef21f0-7007-450c-8fc9-6bd406bf1d0a",
   "metadata": {},
   "outputs": [
    {
     "name": "stdout",
     "output_type": "stream",
     "text": [
      "IT : 11\n"
     ]
    }
   ],
   "source": [
    "pronouns = [\"IT\", \"HIM\", \"HER\", \"THEM\", \"HE\", \"SHE\", \"THEY\", \"YOU\", \"WE\", \"US\"]\n",
    "for pronoun in pronouns:\n",
    "    if pronoun in maint_word_counts.keys():\n",
    "        print(f\"{pronoun} : {maint_word_counts[pronoun]}\")"
   ]
  },
  {
   "cell_type": "markdown",
   "id": "8ea3d577-d069-46ed-824c-3570a45e6be4",
   "metadata": {},
   "source": [
    "#### Find Word Commonality Between FAA Data and MaintNet Data"
   ]
  },
  {
   "cell_type": "code",
   "execution_count": 77,
   "id": "280dc806-30a7-45fa-a0f8-a0506c57d841",
   "metadata": {},
   "outputs": [
    {
     "data": {
      "text/plain": [
       "Text(0.5, 1.0, 'Common Words Between FAA and MaintNet,\\n(excluding words appearing under 5 times in either set)')"
      ]
     },
     "execution_count": 77,
     "metadata": {},
     "output_type": "execute_result"
    },
    {
     "data": {
      "image/png": "[encoded data removed]",
      "text/plain": [
       "<Figure size 640x480 with 1 Axes>"
      ]
     },
     "metadata": {},
     "output_type": "display_data"
    }
   ],
   "source": [
    "thresh = 5\n",
    "just_FAA = [word for word in word_counts if word not in maint_word_counts and word_counts[word] >= thresh]\n",
    "just_maint = [word for word in maint_word_counts if word not in word_counts and maint_word_counts[word] >= thresh]\n",
    "overlap = [word for word in maint_word_counts if word in word_counts]\n",
    "\n",
    "fig, ax = plt.subplots(1,1)\n",
    "ax.pie([len(just_FAA), len(overlap), len(just_maint)], labels=[\"FAA\", \"Both\", \"MaintNet\"])\n",
    "ax.set_title(f\"Common Words Between FAA and MaintNet,\\n(excluding words appearing under {thresh} times in either set)\")\n",
    "\n",
    "### You can see by playing around with the threshhold value that 'Both' goes up when you heighten the threshhold. this is not very informative"
   ]
  },
  {
   "cell_type": "markdown",
   "id": "8f426efa-79a0-41ca-9dd5-107a971404b2",
   "metadata": {},
   "source": [
    "#### Check Other Files: abbrevs, grammar, and termbanks"
   ]
  },
  {
   "cell_type": "code",
   "execution_count": 85,
   "id": "f4da1579-ee01-4566-897d-ad92b5bfb7b2",
   "metadata": {},
   "outputs": [
    {
     "name": "stdout",
     "output_type": "stream",
     "text": [
      "AGL : 8\n",
      "AF : 3\n",
      "BATT : 1\n",
      "CO : 1\n",
      "CARB : 28\n",
      "CH : 1\n",
      "CK : 2\n",
      "CO : 1\n",
      "CYL : 3\n",
      "DMG : 1\n",
      "ENG : 4\n",
      "FAA : 2\n",
      "FLT : 4\n",
      "FL : 2\n",
      "HYD : 1\n",
      "ID : 1\n",
      "INOP : 7\n",
      "LDG : 4\n",
      "MI : 2\n",
      "MAG : 5\n",
      "MAN : 3\n",
      "EWR : 1\n",
      "ND : 1\n",
      "OPS : 2\n",
      "PN : 1\n",
      "Q : 1\n",
      "RES : 2\n",
      "TEMP : 3\n"
     ]
    }
   ],
   "source": [
    "abbrevs = maintnet_abbrevs[\"Abbreviated\"]\n",
    "\n",
    "for abbrev in abbrevs:\n",
    "    if abbrev.upper() in word_counts:\n",
    "        print(f\"{abbrev.upper()} : {word_counts[abbrev.upper()]}\")"
   ]
  },
  {
   "cell_type": "code",
   "execution_count": 87,
   "id": "67379fb4-f9ad-47c5-b40a-5d1fbef1826a",
   "metadata": {},
   "outputs": [
    {
     "name": "stdout",
     "output_type": "stream",
     "text": [
      "ENGINE : 657\n",
      "CYLINDER : 3\n",
      "GASKET : 1\n",
      "HYDRAULIC : 27\n",
      "MAGNETOS : 1\n",
      "PRESSURE : 36\n",
      "IGNITION : 3\n",
      "FORWARD : 21\n",
      "EXTERNAL : 9\n",
      "LOWER : 11\n",
      "MAINTENANCE : 41\n",
      "BATTERY : 28\n",
      "BROKE : 32\n",
      "CONTROL : 160\n",
      "QUIT : 150\n",
      "CHECK : 57\n",
      "ALTERNATOR : 15\n",
      "TURN : 35\n",
      "CYLINDER : 3\n",
      "OPEN : 93\n",
      "UPPER : 13\n",
      "TIGHTEN : 1\n",
      "CHANNEL : 1\n",
      "LOW : 59\n",
      "EXTERNAL : 9\n",
      "SERVICE : 7\n",
      "FAILED : 307\n",
      "SUDDENLY : 1\n",
      "LOSS : 59\n",
      "EDGE : 5\n",
      "NORMAL : 14\n",
      "WEIGHT : 3\n",
      "FLIGHT : 167\n",
      "AIRCRAFT : 459\n",
      "VIBRATION : 16\n"
     ]
    }
   ],
   "source": [
    "grammar_words = maintnet_grammar[\"Word\"]\n",
    "\n",
    "for word in grammar_words:\n",
    "    if word.upper() in word_counts:\n",
    "        print(f\"{word.upper()} : {word_counts[word.upper()]}\")"
   ]
  },
  {
   "cell_type": "code",
   "execution_count": 89,
   "id": "984de107-56e0-47b4-a51e-a5754c18131d",
   "metadata": {},
   "outputs": [
    {
     "ename": "NameError",
     "evalue": "name 'maintnet_termbank' is not defined",
     "output_type": "error",
     "traceback": [
      "\u001b[0;31m---------------------------------------------------------------------------\u001b[0m",
      "\u001b[0;31mNameError\u001b[0m                                 Traceback (most recent call last)",
      "\u001b[0;32m/tmp/ipykernel_1402901/1973618841.py\u001b[0m in \u001b[0;36m<module>\u001b[0;34m\u001b[0m\n\u001b[0;32m----> 1\u001b[0;31m \u001b[0mtb_words\u001b[0m \u001b[0;34m=\u001b[0m \u001b[0mmaintnet_termbank\u001b[0m\u001b[0;34m[\u001b[0m\u001b[0;34m\"Word\"\u001b[0m\u001b[0;34m]\u001b[0m\u001b[0;34m\u001b[0m\u001b[0;34m\u001b[0m\u001b[0m\n\u001b[0m\u001b[1;32m      2\u001b[0m \u001b[0;34m\u001b[0m\u001b[0m\n\u001b[1;32m      3\u001b[0m \u001b[0;32mfor\u001b[0m \u001b[0mword\u001b[0m \u001b[0;32min\u001b[0m \u001b[0mtb_words\u001b[0m\u001b[0;34m:\u001b[0m\u001b[0;34m\u001b[0m\u001b[0;34m\u001b[0m\u001b[0m\n\u001b[1;32m      4\u001b[0m     \u001b[0;32mif\u001b[0m \u001b[0mword\u001b[0m\u001b[0;34m.\u001b[0m\u001b[0mupper\u001b[0m\u001b[0;34m(\u001b[0m\u001b[0;34m)\u001b[0m \u001b[0;32min\u001b[0m \u001b[0mword_counts\u001b[0m\u001b[0;34m:\u001b[0m\u001b[0;34m\u001b[0m\u001b[0;34m\u001b[0m\u001b[0m\n\u001b[1;32m      5\u001b[0m         \u001b[0mprint\u001b[0m\u001b[0;34m(\u001b[0m\u001b[0;34mf\"{word.upper()} : {word_counts[word.upper()]}\"\u001b[0m\u001b[0;34m)\u001b[0m\u001b[0;34m\u001b[0m\u001b[0;34m\u001b[0m\u001b[0m\n",
      "\u001b[0;31mNameError\u001b[0m: name 'maintnet_termbank' is not defined"
     ]
    }
   ],
   "source": [
    "tb_words = maintnet_termbank[\"Word\"]\n",
    "\n",
    "for word in tb_words:\n",
    "    if word.upper() in word_counts:\n",
    "        print(f\"{word.upper()} : {word_counts[word.upper()]}\")"
   ]
  },
  {
   "cell_type": "code",
   "execution_count": null,
   "id": "e1a59294-95d1-4e98-afef-b15a1fd1c10a",
   "metadata": {},
   "outputs": [],
   "source": []
  }
 ],
 "metadata": {
  "kernelspec": {
   "display_name": "Python 3 (ipykernel)",
   "language": "python",
   "name": "python3"
  },
  "language_info": {
   "codemirror_mode": {
    "name": "ipython",
    "version": 3
   },
   "file_extension": ".py",
   "mimetype": "text/x-python",
   "name": "python",
   "nbconvert_exporter": "python",
   "pygments_lexer": "ipython3",
   "version": "3.11.5"
  }
 },
 "nbformat": 4,
 "nbformat_minor": 5
}
