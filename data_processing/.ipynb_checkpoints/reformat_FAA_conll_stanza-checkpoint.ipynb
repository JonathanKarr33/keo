{
 "cells": [
  {
   "cell_type": "code",
   "execution_count": 1,
   "id": "8c35aff1-7cb0-4cd5-9e03-22d83b46721d",
   "metadata": {},
   "outputs": [
    {
     "name": "stderr",
     "output_type": "stream",
     "text": [
      "/afs/crc.nd.edu/user/k/kmealey2/mambaforge/envs/conllformat/lib/python3.11/site-packages/tqdm/auto.py:21: TqdmWarning: IProgress not found. Please update jupyter and ipywidgets. See https://ipywidgets.readthedocs.io/en/stable/user_install.html\n",
      "  from .autonotebook import tqdm as notebook_tqdm\n"
     ]
    }
   ],
   "source": [
    "import pandas as pd\n",
    "import stanza"
   ]
  },
  {
   "cell_type": "code",
   "execution_count": 5,
   "id": "6f277c5b-fdd7-4169-a13a-04d32c1ff7b6",
   "metadata": {},
   "outputs": [],
   "source": [
    "data = pd.read_csv(\"../data/FAA_data/Maintenance_Text_data_nona.csv\")[\"c119\"]"
   ]
  },
  {
   "cell_type": "code",
   "execution_count": 6,
   "id": "a9f85ad3-be8c-40ef-9e57-95d298fac99e",
   "metadata": {},
   "outputs": [
    {
     "name": "stderr",
     "output_type": "stream",
     "text": [
      "Downloading https://raw.githubusercontent.com/stanfordnlp/stanza-resources/main/resources_1.5.1.json: 365kB [00:00, 25.3MB/s]                    \n",
      "2023-09-25 10:39:18 INFO: Downloading default packages for language: en (English) ...\n",
      "2023-09-25 10:39:19 INFO: File exists: /afs/crc.nd.edu/user/k/kmealey2/stanza_resources/en/default.zip\n",
      "2023-09-25 10:39:28 INFO: Finished downloading models and saved to /afs/crc.nd.edu/user/k/kmealey2/stanza_resources.\n",
      "2023-09-25 10:39:28 INFO: Checking for updates to resources.json in case models have been updated.  Note: this behavior can be turned off with download_method=None or download_method=DownloadMethod.REUSE_RESOURCES\n",
      "Downloading https://raw.githubusercontent.com/stanfordnlp/stanza-resources/main/resources_1.5.1.json: 365kB [00:00, 15.4MB/s]                    \n",
      "2023-09-25 10:39:31 INFO: Loading these models for language: en (English):\n",
      "======================================\n",
      "| Processor    | Package             |\n",
      "--------------------------------------\n",
      "| tokenize     | combined            |\n",
      "| pos          | combined_charlm     |\n",
      "| lemma        | combined_nocharlm   |\n",
      "| constituency | ptb3-revised_charlm |\n",
      "| depparse     | combined_charlm     |\n",
      "| sentiment    | sstplus             |\n",
      "| ner          | ontonotes           |\n",
      "======================================\n",
      "\n",
      "2023-09-25 10:39:31 INFO: Using device: cuda\n",
      "2023-09-25 10:39:31 INFO: Loading: tokenize\n",
      "2023-09-25 10:39:31 INFO: Loading: pos\n",
      "2023-09-25 10:39:32 INFO: Loading: lemma\n",
      "2023-09-25 10:39:32 INFO: Loading: constituency\n",
      "2023-09-25 10:39:33 INFO: Loading: depparse\n",
      "2023-09-25 10:39:33 INFO: Loading: sentiment\n",
      "2023-09-25 10:39:34 INFO: Loading: ner\n",
      "2023-09-25 10:39:35 INFO: Done loading processors!\n"
     ]
    }
   ],
   "source": [
    "stanza.download('en')\n",
    "nlp = stanza.Pipeline('en') # initialize English neural pipeline\n",
    "doc = nlp(\"Barack Obama was born in Hawaii.\") # run annotation over a sentence"
   ]
  },
  {
   "cell_type": "code",
   "execution_count": 7,
   "id": "dbd52aa2-2629-42d8-a117-33d2a15313a2",
   "metadata": {},
   "outputs": [
    {
     "data": {
      "text/plain": [
       "[\n",
       "  [\n",
       "    {\n",
       "      \"id\": 1,\n",
       "      \"text\": \"Barack\",\n",
       "      \"lemma\": \"Barack\",\n",
       "      \"upos\": \"PROPN\",\n",
       "      \"xpos\": \"NNP\",\n",
       "      \"feats\": \"Number=Sing\",\n",
       "      \"head\": 4,\n",
       "      \"deprel\": \"nsubj:pass\",\n",
       "      \"start_char\": 0,\n",
       "      \"end_char\": 6,\n",
       "      \"ner\": \"B-PERSON\",\n",
       "      \"multi_ner\": [\n",
       "        \"B-PERSON\"\n",
       "      ]\n",
       "    },\n",
       "    {\n",
       "      \"id\": 2,\n",
       "      \"text\": \"Obama\",\n",
       "      \"lemma\": \"Obama\",\n",
       "      \"upos\": \"PROPN\",\n",
       "      \"xpos\": \"NNP\",\n",
       "      \"feats\": \"Number=Sing\",\n",
       "      \"head\": 1,\n",
       "      \"deprel\": \"flat\",\n",
       "      \"start_char\": 7,\n",
       "      \"end_char\": 12,\n",
       "      \"ner\": \"E-PERSON\",\n",
       "      \"multi_ner\": [\n",
       "        \"E-PERSON\"\n",
       "      ]\n",
       "    },\n",
       "    {\n",
       "      \"id\": 3,\n",
       "      \"text\": \"was\",\n",
       "      \"lemma\": \"be\",\n",
       "      \"upos\": \"AUX\",\n",
       "      \"xpos\": \"VBD\",\n",
       "      \"feats\": \"Mood=Ind|Number=Sing|Person=3|Tense=Past|VerbForm=Fin\",\n",
       "      \"head\": 4,\n",
       "      \"deprel\": \"aux:pass\",\n",
       "      \"start_char\": 13,\n",
       "      \"end_char\": 16,\n",
       "      \"ner\": \"O\",\n",
       "      \"multi_ner\": [\n",
       "        \"O\"\n",
       "      ]\n",
       "    },\n",
       "    {\n",
       "      \"id\": 4,\n",
       "      \"text\": \"born\",\n",
       "      \"lemma\": \"bear\",\n",
       "      \"upos\": \"VERB\",\n",
       "      \"xpos\": \"VBN\",\n",
       "      \"feats\": \"Tense=Past|VerbForm=Part|Voice=Pass\",\n",
       "      \"head\": 0,\n",
       "      \"deprel\": \"root\",\n",
       "      \"start_char\": 17,\n",
       "      \"end_char\": 21,\n",
       "      \"ner\": \"O\",\n",
       "      \"multi_ner\": [\n",
       "        \"O\"\n",
       "      ]\n",
       "    },\n",
       "    {\n",
       "      \"id\": 5,\n",
       "      \"text\": \"in\",\n",
       "      \"lemma\": \"in\",\n",
       "      \"upos\": \"ADP\",\n",
       "      \"xpos\": \"IN\",\n",
       "      \"head\": 6,\n",
       "      \"deprel\": \"case\",\n",
       "      \"start_char\": 22,\n",
       "      \"end_char\": 24,\n",
       "      \"ner\": \"O\",\n",
       "      \"multi_ner\": [\n",
       "        \"O\"\n",
       "      ]\n",
       "    },\n",
       "    {\n",
       "      \"id\": 6,\n",
       "      \"text\": \"Hawaii\",\n",
       "      \"lemma\": \"Hawaii\",\n",
       "      \"upos\": \"PROPN\",\n",
       "      \"xpos\": \"NNP\",\n",
       "      \"feats\": \"Number=Sing\",\n",
       "      \"head\": 4,\n",
       "      \"deprel\": \"obl\",\n",
       "      \"start_char\": 25,\n",
       "      \"end_char\": 31,\n",
       "      \"ner\": \"S-GPE\",\n",
       "      \"multi_ner\": [\n",
       "        \"S-GPE\"\n",
       "      ]\n",
       "    },\n",
       "    {\n",
       "      \"id\": 7,\n",
       "      \"text\": \".\",\n",
       "      \"lemma\": \".\",\n",
       "      \"upos\": \"PUNCT\",\n",
       "      \"xpos\": \".\",\n",
       "      \"head\": 4,\n",
       "      \"deprel\": \"punct\",\n",
       "      \"start_char\": 31,\n",
       "      \"end_char\": 32,\n",
       "      \"ner\": \"O\",\n",
       "      \"multi_ner\": [\n",
       "        \"O\"\n",
       "      ]\n",
       "    }\n",
       "  ]\n",
       "]"
      ]
     },
     "execution_count": 7,
     "metadata": {},
     "output_type": "execute_result"
    }
   ],
   "source": [
    "doc"
   ]
  },
  {
   "cell_type": "code",
   "execution_count": 50,
   "id": "a831fdd1-d98c-49f8-915e-a111e481c22b",
   "metadata": {},
   "outputs": [],
   "source": [
    "## Run on FAA data\n",
    "docs = []\n",
    "for irow in range(len(data)):\n",
    "    doc = nlp(data[irow])\n",
    "    #print(f\"Doc: {doc}\")\n",
    "    docs.append(doc)\n",
    "    #print(f\"Docs: {docs}\")"
   ]
  },
  {
   "cell_type": "code",
   "execution_count": 63,
   "id": "e0235a30-0bde-472a-9f65-e0a895bef37f",
   "metadata": {},
   "outputs": [],
   "source": [
    "with open(\"../data/FAA_data/Maintenance_Text_data_conll.txt\", \"a\") as f:\n",
    "    for entrynum, doc in enumerate(docs):\n",
    "        print(f\"# entry id: {entrynum}\", file=f)\n",
    "        print(f\"# text : {data[entrynum]}\", file=f)\n",
    "        for sentence in doc.sentences:\n",
    "            for word in sentence.words:\n",
    "                print(f\"{word.id}\\t{word.text}\\t{word.lemma}\\t{word.upos}\\t{word.xpos}\\t{word.feats}\\t{word.head}\\t{word.deprel}\\t{word.start_char}\\t{word.end_char}\", file=f)\n",
    "            print(\"\", file=f)"
   ]
  },
  {
   "cell_type": "code",
   "execution_count": null,
   "id": "95f031b5-74a2-4cfb-95a7-7dd036aae3f5",
   "metadata": {},
   "outputs": [],
   "source": []
  },
  {
   "cell_type": "code",
   "execution_count": null,
   "id": "3077ce57-28ed-4379-8838-0201dafb5316",
   "metadata": {},
   "outputs": [],
   "source": []
  }
 ],
 "metadata": {
  "kernelspec": {
   "display_name": "conllformat",
   "language": "python",
   "name": "conllformat"
  },
  "language_info": {
   "codemirror_mode": {
    "name": "ipython",
    "version": 3
   },
   "file_extension": ".py",
   "mimetype": "text/x-python",
   "name": "python",
   "nbconvert_exporter": "python",
   "pygments_lexer": "ipython3",
   "version": "3.11.5"
  }
 },
 "nbformat": 4,
 "nbformat_minor": 5
}
