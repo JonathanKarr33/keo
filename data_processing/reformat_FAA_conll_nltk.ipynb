{
 "cells": [
  {
   "cell_type": "code",
   "execution_count": 5,
   "id": "170a6596-c112-4205-bcea-533e62d552f4",
   "metadata": {},
   "outputs": [],
   "source": [
    "import pandas as pd\n",
    "import spacy\n",
    "import nltk\n",
    "from nltk import pos_tag, word_tokenize"
   ]
  },
  {
   "cell_type": "code",
   "execution_count": 2,
   "id": "6e78000a-ab55-4db9-8fc0-5361f1d61f33",
   "metadata": {},
   "outputs": [],
   "source": [
    "data = pd.read_csv(\"../data/FAA_data/Maintenance_Text_data_nona.csv\")[\"c119\"]"
   ]
  },
  {
   "cell_type": "code",
   "execution_count": 9,
   "id": "02c9f055-6da5-469b-9fcb-523cb44926ff",
   "metadata": {},
   "outputs": [
    {
     "name": "stderr",
     "output_type": "stream",
     "text": [
      "[nltk_data] Downloading package punkt to\n",
      "[nltk_data]     /afs/crc.nd.edu/user/k/kmealey2/nltk_data...\n",
      "[nltk_data]   Package punkt is already up-to-date!\n",
      "[nltk_data] Downloading package averaged_perceptron_tagger to\n",
      "[nltk_data]     /afs/crc.nd.edu/user/k/kmealey2/nltk_data...\n",
      "[nltk_data]   Package averaged_perceptron_tagger is already up-to-\n",
      "[nltk_data]       date!\n"
     ]
    },
    {
     "data": {
      "text/plain": [
       "True"
      ]
     },
     "execution_count": 9,
     "metadata": {},
     "output_type": "execute_result"
    }
   ],
   "source": [
    "nltk.download('punkt')\n",
    "nltk.download('averaged_perceptron_tagger')"
   ]
  },
  {
   "cell_type": "code",
   "execution_count": 10,
   "id": "74f44ecc-b402-456f-ac4e-243bad738dff",
   "metadata": {},
   "outputs": [
    {
     "name": "stdout",
     "output_type": "stream",
     "text": [
      "# Document ID\tPart number\tWord number\tWord itself\tPart-of-Speech\tParse bit\tPredicate lemma\tPredicate Frameset ID\tWord sense\tSpeaker/Author\tNamed Entities\tPredicate Arguments\tCoreference\n",
      "1\t0\t1\tThis\tDT\t(DT This)\t-\t-\t-\t-\t-\t-\t-\n",
      "2\t0\t2\tis\tVBZ\t(VBZ is)\t-\t-\t-\t-\t-\t-\t-\n",
      "3\t0\t3\tan\tDT\t(DT an)\t-\t-\t-\t-\t-\t-\t-\n",
      "4\t0\t4\texample\tNN\t(NN example)\t-\t-\t-\t-\t-\t-\t-\n",
      "5\t0\t5\tsentence\tNN\t(NN sentence)\t-\t-\t-\t-\t-\t-\t-\n",
      "6\t0\t6\t.\t.\t(. .)\t-\t-\t-\t-\t-\t-\t-\n",
      "7\t0\t7\tAnother\tDT\t(DT Another)\t-\t-\t-\t-\t-\t-\t-\n",
      "8\t0\t8\tsentence\tNN\t(NN sentence)\t-\t-\t-\t-\t-\t-\t-\n",
      "9\t0\t9\tfollows\tVBZ\t(VBZ follows)\t-\t-\t-\t-\t-\t-\t-\n",
      "10\t0\t10\t.\t.\t(. .)\t-\t-\t-\t-\t-\t-\t-\n"
     ]
    }
   ],
   "source": [
    "# Example text\n",
    "text = \"This is an example sentence. Another sentence follows.\"\n",
    "\n",
    "# NLTK for part-of-speech tagging\n",
    "tokens = word_tokenize(text)\n",
    "pos_tags = pos_tag(tokens)\n",
    "\n",
    "# spaCy for dependency parsing\n",
    "nlp = spacy.load(\"en_core_web_sm\")\n",
    "doc = nlp(text)\n",
    "\n",
    "# Function to convert spaCy dependency parse to parse bit\n",
    "def get_parse_bit_spacy(token):\n",
    "    if token.dep_ == 'punct':\n",
    "        return token.text\n",
    "    elif token.children:\n",
    "        return f\"({token.pos_} {token.text} {' '.join(get_parse_bit_spacy(child) for child in token.children)})\"\n",
    "    else:\n",
    "        return f\"({token.pos_} {token.text})\"\n",
    "\n",
    "# Print header\n",
    "print(\"\\t\".join([\"# Document ID\", \"Part number\", \"Word number\", \"Word itself\", \"Part-of-Speech\", \"Parse bit\",\n",
    "                 \"Predicate lemma\", \"Predicate Frameset ID\", \"Word sense\", \"Speaker/Author\", \"Named Entities\",\n",
    "                 \"Predicate Arguments\", \"Coreference\"]))\n",
    "\n",
    "# Print token information with parse bit\n",
    "for i, (word, pos) in enumerate(pos_tags):\n",
    "    token = doc[i]\n",
    "    parse_bit_nltk = f\"({pos} {word})\"\n",
    "    parse_bit_spacy = get_parse_bit_spacy(token)\n",
    "    row = [str(i + 1), \"0\", str(i + 1), word, pos, parse_bit_nltk, \"-\", \"-\", \"-\", \"-\", \"-\", \"-\", \"-\"]\n",
    "    print(\"\\t\".join(row))"
   ]
  },
  {
   "cell_type": "code",
   "execution_count": null,
   "id": "f806be4b-1850-4251-9184-fa328add053e",
   "metadata": {},
   "outputs": [],
   "source": []
  }
 ],
 "metadata": {
  "kernelspec": {
   "display_name": "reformat_conll2",
   "language": "python",
   "name": "reformat_conll2"
  },
  "language_info": {
   "codemirror_mode": {
    "name": "ipython",
    "version": 3
   },
   "file_extension": ".py",
   "mimetype": "text/x-python",
   "name": "python",
   "nbconvert_exporter": "python",
   "pygments_lexer": "ipython3",
   "version": "3.11.5"
  }
 },
 "nbformat": 4,
 "nbformat_minor": 5
}
