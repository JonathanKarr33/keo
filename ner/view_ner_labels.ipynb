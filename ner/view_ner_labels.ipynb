{
 "cells": [
  {
   "cell_type": "markdown",
   "id": "95fecf5b-8f2c-46b0-9d98-b6523691c88a",
   "metadata": {},
   "source": [
    "### View NER Labels\n",
    "\n",
    "This notebook loads the results for all NER tools and verifies the set of labels each tool uses."
   ]
  },
  {
   "cell_type": "code",
   "execution_count": 1,
   "id": "1ae4a739-e1c7-44f0-8ec4-365afa07e814",
   "metadata": {},
   "outputs": [],
   "source": [
    "import pandas as pd"
   ]
  },
  {
   "cell_type": "code",
   "execution_count": 2,
   "id": "3f6da5d9-b3c0-4b63-b7f0-a1c9d986bb48",
   "metadata": {},
   "outputs": [],
   "source": [
    "flair = pd.read_csv(f'../data/results/flair/flair_ner.csv')\n",
    "spacy = pd.read_csv(f'../data/results/spacy_entityrecognizer/spacy_ner_sm.csv')\n",
    "nltk = pd.read_csv(f'../data/results/nltk/nltk_ner_uppercased.csv')\n",
    "stanza = pd.read_csv(f'../data/results/stanza/stanza_ner.csv')"
   ]
  },
  {
   "cell_type": "markdown",
   "id": "780c480d-743f-4759-8f1b-3c668c14be77",
   "metadata": {},
   "source": [
    "**Get list of all labels that occur in the output data**"
   ]
  },
  {
   "cell_type": "code",
   "execution_count": 52,
   "id": "73970dec-8351-4596-a9ec-2e85c5e5a3fa",
   "metadata": {},
   "outputs": [],
   "source": [
    "all_labels_found = set(pd.concat([flair['labels'], spacy['labels'], nltk['labels'], stanza['labels']]))"
   ]
  },
  {
   "cell_type": "code",
   "execution_count": 53,
   "id": "370e8b01-70b0-4343-bc9d-f1cc67b8a12a",
   "metadata": {},
   "outputs": [
    {
     "name": "stdout",
     "output_type": "stream",
     "text": [
      "{'LOC', 'NORP', 'CARDINAL', 'MISC', 'PERSON', 'ORGANIZATION', 'QUANTITY', 'FAC', 'PER', 'DATE', 'ORG', 'GPE', 'PRODUCT', 'TIME'}\n"
     ]
    }
   ],
   "source": [
    "print(all_labels_found)"
   ]
  },
  {
   "cell_type": "markdown",
   "id": "d653baac-fb3f-43de-b928-3f152d1e3da5",
   "metadata": {},
   "source": [
    "**See which labels occur for which tool**\n",
    "\n",
    "We know that:\n",
    "- spacy and stanza recognize the 18 labels in OntoNotes\n",
    "- flair recognizes the 4 labels in CoNLL-03\n",
    "- nltk recognizes the 7 labels in ACE-2005\n",
    "\n",
    "K |"
   ]
  },
  {
   "cell_type": "code",
   "execution_count": 44,
   "id": "9e00e221-c806-4208-a523-ad41f60b35b8",
   "metadata": {},
   "outputs": [],
   "source": [
    "# sets of labels (obtained at each benchmarks release notes)\n",
    "conll03_labels = ['PER','ORG','LOC','MISC']\n",
    "ace05_labels = ['PERSON','ORGANIZATION','LOCATION','GPE','FACILITY','WEAPON','VEHICLE']\n",
    "ontonotes_labels = ['PERSON', 'ORG', 'LOC', 'GPE', 'FAC', 'CARDINAL', 'DATE', 'EVENT', 'LANGUAGE', 'LAW', 'MONEY', 'NORP', 'ORDINAL', 'PERCENT', 'PRODUCT', 'QUANTITY', 'TIME', 'WORK_OF_ART']"
   ]
  },
  {
   "cell_type": "code",
   "execution_count": 37,
   "id": "5645137d-f646-4a43-9636-193939b41ed3",
   "metadata": {},
   "outputs": [
    {
     "name": "stdout",
     "output_type": "stream",
     "text": [
      "labels\n",
      "LOC     327\n",
      "ORG     267\n",
      "PER     164\n",
      "MISC     83\n",
      "Name: count, dtype: int64\n"
     ]
    }
   ],
   "source": [
    "# Flair\n",
    "print(flair['labels'].value_counts())"
   ]
  },
  {
   "cell_type": "code",
   "execution_count": 42,
   "id": "bb81356f-41fe-4362-9d6e-00e3c4f196c8",
   "metadata": {},
   "outputs": [
    {
     "name": "stdout",
     "output_type": "stream",
     "text": [
      "labels\n",
      "ORG         72\n",
      "PERSON      22\n",
      "CARDINAL     6\n",
      "DATE         6\n",
      "TIME         4\n",
      "QUANTITY     3\n",
      "GPE          3\n",
      "PRODUCT      2\n",
      "NORP         1\n",
      "FAC          1\n",
      "Name: count, dtype: int64\n",
      "Labels unused: ['LOC', 'EVENT', 'LANGUAGE', 'LAW', 'MONEY', 'ORDINAL', 'PERCENT', 'WORK_OF_ART']\n"
     ]
    }
   ],
   "source": [
    "# spacy\n",
    "print(spacy['labels'].value_counts())\n",
    "print(f\"Labels unused: {[label for label in ontonotes_labels if label not in list(spacy['labels'])]}\")"
   ]
  },
  {
   "cell_type": "code",
   "execution_count": 43,
   "id": "d50edc55-21c7-4a88-9556-d33254eff258",
   "metadata": {},
   "outputs": [
    {
     "name": "stdout",
     "output_type": "stream",
     "text": [
      "labels\n",
      "ORGANIZATION    450\n",
      "PERSON            6\n",
      "GPE               2\n",
      "Name: count, dtype: int64\n",
      "Labels unused: ['LOCATION', 'FACILITY', 'WEAPON', 'VEHICLE']\n"
     ]
    }
   ],
   "source": [
    "# NLTK\n",
    "print(nltk['labels'].value_counts())\n",
    "print(f\"Labels unused: {[label for label in ace05_labels if label not in list(nltk['labels'])]}\")"
   ]
  },
  {
   "cell_type": "code",
   "execution_count": 45,
   "id": "e2cd6551-7208-4361-90ef-227265ab6d63",
   "metadata": {},
   "outputs": [
    {
     "name": "stdout",
     "output_type": "stream",
     "text": [
      "labels\n",
      "CARDINAL    10\n",
      "GPE         10\n",
      "ORG          5\n",
      "DATE         4\n",
      "PERSON       3\n",
      "PRODUCT      3\n",
      "TIME         1\n",
      "Name: count, dtype: int64\n",
      "Labels unused: ['LOC', 'FAC', 'EVENT', 'LANGUAGE', 'LAW', 'MONEY', 'NORP', 'ORDINAL', 'PERCENT', 'QUANTITY', 'WORK_OF_ART']\n"
     ]
    }
   ],
   "source": [
    "# Stanza\n",
    "print(stanza['labels'].value_counts())\n",
    "print(f\"Labels unused: {[label for label in ontonotes_labels if label not in list(stanza['labels'])]}\")"
   ]
  },
  {
   "cell_type": "markdown",
   "id": "7da11e1b-0e20-4dc7-ad9b-a31f65443470",
   "metadata": {},
   "source": [
    "**Union of labels**\n",
    "\n",
    "Below is the full set of labels for which any of the NER tools may recognize entities."
   ]
  },
  {
   "cell_type": "code",
   "execution_count": 55,
   "id": "188243e3-03a9-4a97-bf40-e3eda4e026c5",
   "metadata": {},
   "outputs": [
    {
     "name": "stdout",
     "output_type": "stream",
     "text": [
      "{'LOCATION', 'NORP', 'ORGANIZATION', 'QUANTITY', 'FACILITY', 'GPE', 'CARDINAL', 'ORDINAL', 'PERCENT', 'WEAPON', 'PERSON', 'WORK_OF_ART', 'DATE', 'PRODUCT', 'MONEY', 'MISC', 'LANGUAGE', 'EVENT', 'VEHICLE', 'LAW', 'TIME'}\n"
     ]
    }
   ],
   "source": [
    "# Consolidate and remove duplicate abbreviations\n",
    "all_labels = set(conll03_labels + ace05_labels + ontonotes_labels)\n",
    "all_labels.remove('PER')\n",
    "all_labels.remove('ORG')\n",
    "all_labels.remove('LOC')\n",
    "all_labels.remove('FAC')\n",
    "print(all_labels)"
   ]
  },
  {
   "cell_type": "code",
   "execution_count": 54,
   "id": "73849976-c9d9-46bb-ae16-1eba1c32c0c7",
   "metadata": {},
   "outputs": [
    {
     "name": "stdout",
     "output_type": "stream",
     "text": [
      "{'LOC', 'NORP', 'CARDINAL', 'MISC', 'PERSON', 'ORGANIZATION', 'QUANTITY', 'FAC', 'DATE', 'GPE', 'PRODUCT', 'TIME'}\n"
     ]
    }
   ],
   "source": [
    "# (It's larger than the union of unique labels produced in output)\n",
    "all_labels_found.remove('ORG')\n",
    "all_labels_found.remove('PER')\n",
    "print(all_labels_found)"
   ]
  },
  {
   "cell_type": "code",
   "execution_count": null,
   "id": "cc9ad926-ffef-4c9b-a8c8-3e8b928aeffc",
   "metadata": {},
   "outputs": [],
   "source": []
  }
 ],
 "metadata": {
  "kernelspec": {
   "display_name": "Python 3 (ipykernel)",
   "language": "python",
   "name": "python3"
  },
  "language_info": {
   "codemirror_mode": {
    "name": "ipython",
    "version": 3
   },
   "file_extension": ".py",
   "mimetype": "text/x-python",
   "name": "python",
   "nbconvert_exporter": "python",
   "pygments_lexer": "ipython3",
   "version": "3.11.5"
  }
 },
 "nbformat": 4,
 "nbformat_minor": 5
}
